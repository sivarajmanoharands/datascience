{
 "cells": [
  {
   "cell_type": "code",
   "execution_count": 19,
   "id": "73b2f1ab-3bce-4f3b-8899-8c89654d2296",
   "metadata": {
    "editable": true,
    "execution": {
     "iopub.execute_input": "2024-07-09T08:18:59.662480Z",
     "iopub.status.busy": "2024-07-09T08:18:59.661463Z",
     "iopub.status.idle": "2024-07-09T08:18:59.673688Z",
     "shell.execute_reply": "2024-07-09T08:18:59.670633Z",
     "shell.execute_reply.started": "2024-07-09T08:18:59.662480Z"
    },
    "slideshow": {
     "slide_type": ""
    },
    "tags": []
   },
   "outputs": [],
   "source": [
    "def display_welcome_message():\n",
    "    print(\"Welcome to the Demo Marketplace\")\n"
   ]
  },
  {
   "cell_type": "code",
   "execution_count": 20,
   "id": "7043ea49-9677-4c61-ab57-9cb672c76d11",
   "metadata": {
    "execution": {
     "iopub.execute_input": "2024-07-09T08:18:59.680705Z",
     "iopub.status.busy": "2024-07-09T08:18:59.679707Z",
     "iopub.status.idle": "2024-07-09T08:18:59.698623Z",
     "shell.execute_reply": "2024-07-09T08:18:59.696607Z",
     "shell.execute_reply.started": "2024-07-09T08:18:59.680705Z"
    }
   },
   "outputs": [],
   "source": [
    "# Demo databases\n",
    "users_db = {'user1': 'password1', 'user2': 'password2'}\n",
    "admins_db = {'admin': 'adminpassword'}\n",
    "\n",
    "# Session management\n",
    "sessions = {}\n",
    "\n",
    "def login(username, password, role):\n",
    "    if role == 'user' and username in users_db and users_db[username] == password:\n",
    "        sessions[username] = 'user'\n",
    "        return f\"User {username} logged in successfully.\"\n",
    "    elif role == 'admin' and username in admins_db and admins_db[username] == password:\n",
    "        sessions[username] = 'admin'\n",
    "        return f\"Admin {username} logged in successfully.\"\n",
    "    else:\n",
    "        return \"Invalid credentials.\"\n"
   ]
  },
  {
   "cell_type": "code",
   "execution_count": 21,
   "id": "9990c302-1dfa-4612-b0c6-a3d781f4a743",
   "metadata": {
    "execution": {
     "iopub.execute_input": "2024-07-09T08:18:59.703202Z",
     "iopub.status.busy": "2024-07-09T08:18:59.701621Z",
     "iopub.status.idle": "2024-07-09T08:18:59.725563Z",
     "shell.execute_reply": "2024-07-09T08:18:59.723029Z",
     "shell.execute_reply.started": "2024-07-09T08:18:59.703202Z"
    }
   },
   "outputs": [],
   "source": [
    "product_catalog = {\n",
    "    1: {'name': 'Boots', 'category': 'Footwear', 'price': 100},\n",
    "    2: {'name': 'Coats', 'category': 'Clothing', 'price': 150},\n",
    "    3: {'name': 'Jackets', 'category': 'Clothing', 'price': 200},\n",
    "    4: {'name': 'Caps', 'category': 'Accessories', 'price': 50}\n",
    "}\n",
    "\n",
    "categories = {'Footwear': 1, 'Clothing': 2, 'Accessories': 3}\n",
    "\n",
    "def display_catalog():\n",
    "    for product_id, details in product_catalog.items():\n",
    "        print(f\"ID: {product_id}, Name: {details['name']}, Category: {details['category']}, Price: {details['price']}\")\n"
   ]
  },
  {
   "cell_type": "code",
   "execution_count": 22,
   "id": "904211b0-bce6-4ce0-99c4-0d2fdeb27269",
   "metadata": {
    "execution": {
     "iopub.execute_input": "2024-07-09T08:18:59.732093Z",
     "iopub.status.busy": "2024-07-09T08:18:59.731093Z",
     "iopub.status.idle": "2024-07-09T08:18:59.765284Z",
     "shell.execute_reply": "2024-07-09T08:18:59.762266Z",
     "shell.execute_reply.started": "2024-07-09T08:18:59.732093Z"
    }
   },
   "outputs": [],
   "source": [
    "carts = {}\n",
    "\n",
    "def add_to_cart(username, product_id, quantity):\n",
    "    if username not in sessions or sessions[username] != 'user':\n",
    "        return \"Unauthorized action.\"\n",
    "    \n",
    "    if username not in carts:\n",
    "        carts[username] = {}\n",
    "    \n",
    "    if product_id in product_catalog:\n",
    "        if product_id in carts[username]:\n",
    "            carts[username][product_id] += quantity\n",
    "        else:\n",
    "            carts[username][product_id] = quantity\n",
    "        return \"Item added to cart.\"\n",
    "    else:\n",
    "        return \"Invalid product ID.\"\n",
    "\n",
    "def view_cart(username):\n",
    "    if username not in sessions or sessions[username] != 'user':\n",
    "        return \"Unauthorized action.\"\n",
    "    \n",
    "    if username in carts and carts[username]:\n",
    "        for product_id, quantity in carts[username].items():\n",
    "            product = product_catalog[product_id]\n",
    "            print(f\"Product: {product['name']}, Quantity: {quantity}, Total Price: {product['price'] * quantity}\")\n",
    "    else:\n",
    "        return \"Cart is empty.\"\n",
    "\n",
    "def remove_from_cart(username, product_id):\n",
    "    if username not in sessions or sessions[username] != 'user':\n",
    "        return \"Unauthorized action.\"\n",
    "    \n",
    "    if username in carts and product_id in carts[username]:\n",
    "        del carts[username][product_id]\n",
    "        return \"Item removed from cart.\"\n",
    "    else:\n",
    "        return \"Item not found in cart.\"\n"
   ]
  },
  {
   "cell_type": "code",
   "execution_count": 23,
   "id": "d33885ab-7d02-4c1f-8575-2ec9ff6695b0",
   "metadata": {
    "execution": {
     "iopub.execute_input": "2024-07-09T08:18:59.774358Z",
     "iopub.status.busy": "2024-07-09T08:18:59.772359Z",
     "iopub.status.idle": "2024-07-09T08:18:59.794729Z",
     "shell.execute_reply": "2024-07-09T08:18:59.791710Z",
     "shell.execute_reply.started": "2024-07-09T08:18:59.774358Z"
    }
   },
   "outputs": [],
   "source": [
    "def checkout(username, payment_method):\n",
    "    if username not in sessions or sessions[username] != 'user':\n",
    "        return \"Unauthorized action.\"\n",
    "    \n",
    "    if username not in carts or not carts[username]:\n",
    "        return \"Cart is empty.\"\n",
    "    \n",
    "    total_amount = sum(product_catalog[product_id]['price'] * quantity for product_id, quantity in carts[username].items())\n",
    "    print(f\"Proceeding to payment with {payment_method} for a total amount of Rs. {total_amount}.\")\n",
    "    return \"Your order is successfully placed.\"\n"
   ]
  },
  {
   "cell_type": "code",
   "execution_count": 24,
   "id": "558a6e84-aadc-49af-ac82-15ed328bb49b",
   "metadata": {
    "execution": {
     "iopub.execute_input": "2024-07-09T08:18:59.800801Z",
     "iopub.status.busy": "2024-07-09T08:18:59.798242Z",
     "iopub.status.idle": "2024-07-09T08:18:59.834953Z",
     "shell.execute_reply": "2024-07-09T08:18:59.832028Z",
     "shell.execute_reply.started": "2024-07-09T08:18:59.800801Z"
    }
   },
   "outputs": [],
   "source": [
    "def admin_add_product(admin_username, product_id, name, category, price):\n",
    "    if admin_username not in sessions or sessions[admin_username] != 'admin':\n",
    "        return \"Unauthorized action.\"\n",
    "    \n",
    "    if category not in categories:\n",
    "        return \"Invalid category.\"\n",
    "    \n",
    "    product_catalog[product_id] = {'name': name, 'category': category, 'price': price}\n",
    "    return \"Product added successfully.\"\n",
    "\n",
    "def admin_update_product(admin_username, product_id, name=None, category=None, price=None):\n",
    "    if admin_username not in sessions or sessions[admin_username] != 'admin':\n",
    "        return \"Unauthorized action.\"\n",
    "    \n",
    "    if product_id in product_catalog:\n",
    "        if name:\n",
    "            product_catalog[product_id]['name'] = name\n",
    "        if category:\n",
    "            if category not in categories:\n",
    "                return \"Invalid category.\"\n",
    "            product_catalog[product_id]['category'] = category\n",
    "        if price:\n",
    "            product_catalog[product_id]['price'] = price\n",
    "        return \"Product updated successfully.\"\n",
    "    else:\n",
    "        return \"Product not found.\"\n",
    "\n",
    "def admin_remove_product(admin_username, product_id):\n",
    "    if admin_username not in sessions or sessions[admin_username] != 'admin':\n",
    "        return \"Unauthorized action.\"\n",
    "    \n",
    "    if product_id in product_catalog:\n",
    "        del product_catalog[product_id]\n",
    "        return \"Product removed successfully.\"\n",
    "    else:\n",
    "        return \"Product not found.\"\n",
    "\n",
    "def admin_add_category(admin_username, category_name):\n",
    "    if admin_username not in sessions or sessions[admin_username] != 'admin':\n",
    "        return \"Unauthorized action.\"\n",
    "    \n",
    "    category_id = len(categories) + 1\n",
    "    categories[category_name] = category_id\n",
    "    return \"Category added successfully.\"\n",
    "\n",
    "def admin_remove_category(admin_username, category_name):\n",
    "    if admin_username not in sessions or sessions[admin_username] != 'admin':\n",
    "        return \"Unauthorized action.\"\n",
    "    \n",
    "    if category_name in categories:\n",
    "        del categories[category_name]\n",
    "        return \"Category removed successfully.\"\n",
    "    else:\n",
    "        return \"Category not found.\"\n"
   ]
  },
  {
   "cell_type": "code",
   "execution_count": 25,
   "id": "d6735fa3-ee8b-4078-aeb8-2e1ba08d248e",
   "metadata": {
    "execution": {
     "iopub.execute_input": "2024-07-09T08:18:59.840468Z",
     "iopub.status.busy": "2024-07-09T08:18:59.838955Z",
     "iopub.status.idle": "2024-07-09T08:18:59.893090Z",
     "shell.execute_reply": "2024-07-09T08:18:59.890073Z",
     "shell.execute_reply.started": "2024-07-09T08:18:59.838955Z"
    }
   },
   "outputs": [],
   "source": [
    "def main():\n",
    "    display_welcome_message()\n",
    "    \n",
    "    while True:\n",
    "        print(\"\\n1. User Login\\n2. Admin Login\\n3. View Catalog\\n4. Exit\")\n",
    "        choice = input(\"Enter your choice: \")\n",
    "        \n",
    "        if choice == '1':\n",
    "            username = input(\"Enter username: \")\n",
    "            password = input(\"Enter password: \")\n",
    "            print(login(username, password, 'user'))\n",
    "            \n",
    "            while sessions.get(username) == 'user':\n",
    "                print(\"\\n1. View Catalog\\n2. View Cart\\n3. Add to Cart\\n4. Remove from Cart\\n5. Checkout\\n6. Logout\")\n",
    "                user_choice = input(\"Enter your choice: \")\n",
    "                \n",
    "                if user_choice == '1':\n",
    "                    display_catalog()\n",
    "                elif user_choice == '2':\n",
    "                    print(view_cart(username))\n",
    "                elif user_choice == '3':\n",
    "                    product_id = int(input(\"Enter product ID: \"))\n",
    "                    quantity = int(input(\"Enter quantity: \"))\n",
    "                    print(add_to_cart(username, product_id, quantity))\n",
    "                elif user_choice == '4':\n",
    "                    product_id = int(input(\"Enter product ID to remove: \"))\n",
    "                    print(remove_from_cart(username, product_id))\n",
    "                elif user_choice == '5':\n",
    "                    payment_method = input(\"Enter payment method (Net banking/PayPal/UPI): \")\n",
    "                    print(checkout(username, payment_method))\n",
    "                elif user_choice == '6':\n",
    "                    del sessions[username]\n",
    "                    print(\"Logged out successfully.\")\n",
    "                    break\n",
    "                else:\n",
    "                    print(\"Invalid choice. Please try again.\")\n",
    "        \n",
    "        elif choice == '2':\n",
    "            username = input(\"Enter admin username: \")\n",
    "            password = input(\"Enter admin password: \")\n",
    "            print(login(username, password, 'admin'))\n",
    "            \n",
    "            while sessions.get(username) == 'admin':\n",
    "                print(\"\\n1. View Catalog\\n2. Add Product\\n3. Update Product\\n4. Remove Product\\n5. Add Category\\n6. Remove Category\\n7. Logout\")\n",
    "                admin_choice = input(\"Enter your choice: \")\n",
    "                \n",
    "                if admin_choice == '1':\n",
    "                    display_catalog()\n",
    "                elif admin_choice == '2':\n",
    "                    product_id = int(input(\"Enter product ID: \"))\n",
    "                    name = input(\"Enter product name: \")\n",
    "                    category = input(\"Enter product category: \")\n",
    "                    price = float(input(\"Enter product price: \"))\n",
    "                    print(admin_add_product(username, product_id, name, category, price))\n",
    "                elif admin_choice == '3':\n",
    "                    product_id = int(input(\"Enter product ID: \"))\n",
    "                    name = input(\"Enter new product name (or press enter to skip): \")\n",
    "                    category = input(\"Enter new product category (or press enter to skip): \")\n",
    "                    price = input(\"Enter new product price (or press enter to skip): \")\n",
    "                    price = float(price) if price else None\n",
    "                    print(admin_update_product(username, product_id, name, category, price))\n",
    "                elif admin_choice == '4':\n",
    "                    product_id = int(input(\"Enter product ID to remove: \"))\n",
    "                    print(admin_remove_product(username, product_id))\n",
    "                elif admin_choice == '5':\n",
    "                    category_name = input(\"Enter new category name: \")\n",
    "                    print(admin_add_category(username, category_name))\n",
    "                elif admin_choice == '6':\n",
    "                    category_name = input(\"Enter category name to remove: \")\n",
    "                    print(admin_remove_category(username, category_name))\n",
    "                elif admin_choice == '7':\n",
    "                    del sessions[username]\n",
    "                    print(\"Logged out successfully.\")\n",
    "                    break\n",
    "                else:\n",
    "                    print(\"Invalid choice. Please try again.\")\n",
    "        \n",
    "        elif choice == '3':\n",
    "            display_catalog()\n",
    "        \n",
    "        elif choice == '4':\n",
    "            print(\"Exiting the application.\")\n",
    "            break\n",
    "        \n",
    "        else:\n",
    "            print(\"Invalid choice. Please try again.\")\n",
    "\n"
   ]
  },
  {
   "cell_type": "code",
   "execution_count": 26,
   "id": "9c814a08-6ffe-496c-884f-f38273c78195",
   "metadata": {
    "editable": true,
    "execution": {
     "iopub.execute_input": "2024-07-09T08:18:59.898624Z",
     "iopub.status.busy": "2024-07-09T08:18:59.897621Z",
     "iopub.status.idle": "2024-07-09T08:21:34.755811Z",
     "shell.execute_reply": "2024-07-09T08:21:34.750268Z",
     "shell.execute_reply.started": "2024-07-09T08:18:59.898624Z"
    },
    "slideshow": {
     "slide_type": ""
    },
    "tags": []
   },
   "outputs": [
    {
     "name": "stdout",
     "output_type": "stream",
     "text": [
      "Welcome to the Demo Marketplace\n",
      "\n",
      "1. User Login\n",
      "2. Admin Login\n",
      "3. View Catalog\n",
      "4. Exit\n"
     ]
    },
    {
     "name": "stdin",
     "output_type": "stream",
     "text": [
      "Enter your choice:  1\n",
      "Enter username:  user1\n",
      "Enter password:  password1\n"
     ]
    },
    {
     "name": "stdout",
     "output_type": "stream",
     "text": [
      "User user1 logged in successfully.\n",
      "\n",
      "1. View Catalog\n",
      "2. View Cart\n",
      "3. Add to Cart\n",
      "4. Remove from Cart\n",
      "5. Checkout\n",
      "6. Logout\n"
     ]
    },
    {
     "name": "stdin",
     "output_type": "stream",
     "text": [
      "Enter your choice:  1\n"
     ]
    },
    {
     "name": "stdout",
     "output_type": "stream",
     "text": [
      "ID: 1, Name: Boots, Category: Footwear, Price: 100\n",
      "ID: 2, Name: Coats, Category: Clothing, Price: 150\n",
      "ID: 3, Name: Jackets, Category: Clothing, Price: 200\n",
      "ID: 4, Name: Caps, Category: Accessories, Price: 50\n",
      "\n",
      "1. View Catalog\n",
      "2. View Cart\n",
      "3. Add to Cart\n",
      "4. Remove from Cart\n",
      "5. Checkout\n",
      "6. Logout\n"
     ]
    },
    {
     "name": "stdin",
     "output_type": "stream",
     "text": [
      "Enter your choice:  2\n"
     ]
    },
    {
     "name": "stdout",
     "output_type": "stream",
     "text": [
      "Cart is empty.\n",
      "\n",
      "1. View Catalog\n",
      "2. View Cart\n",
      "3. Add to Cart\n",
      "4. Remove from Cart\n",
      "5. Checkout\n",
      "6. Logout\n"
     ]
    },
    {
     "name": "stdin",
     "output_type": "stream",
     "text": [
      "Enter your choice:  3\n",
      "Enter product ID:  1\n",
      "Enter quantity:  1\n"
     ]
    },
    {
     "name": "stdout",
     "output_type": "stream",
     "text": [
      "Item added to cart.\n",
      "\n",
      "1. View Catalog\n",
      "2. View Cart\n",
      "3. Add to Cart\n",
      "4. Remove from Cart\n",
      "5. Checkout\n",
      "6. Logout\n"
     ]
    },
    {
     "name": "stdin",
     "output_type": "stream",
     "text": [
      "Enter your choice:  2\n"
     ]
    },
    {
     "name": "stdout",
     "output_type": "stream",
     "text": [
      "Product: Boots, Quantity: 1, Total Price: 100\n",
      "None\n",
      "\n",
      "1. View Catalog\n",
      "2. View Cart\n",
      "3. Add to Cart\n",
      "4. Remove from Cart\n",
      "5. Checkout\n",
      "6. Logout\n"
     ]
    },
    {
     "name": "stdin",
     "output_type": "stream",
     "text": [
      "Enter your choice:  5\n",
      "Enter payment method (Net banking/PayPal/UPI):  UPI\n"
     ]
    },
    {
     "name": "stdout",
     "output_type": "stream",
     "text": [
      "Proceeding to payment with UPI for a total amount of Rs. 100.\n",
      "Your order is successfully placed.\n",
      "\n",
      "1. View Catalog\n",
      "2. View Cart\n",
      "3. Add to Cart\n",
      "4. Remove from Cart\n",
      "5. Checkout\n",
      "6. Logout\n"
     ]
    },
    {
     "name": "stdin",
     "output_type": "stream",
     "text": [
      "Enter your choice:  4\n",
      "Enter product ID to remove:  1\n"
     ]
    },
    {
     "name": "stdout",
     "output_type": "stream",
     "text": [
      "Item removed from cart.\n",
      "\n",
      "1. View Catalog\n",
      "2. View Cart\n",
      "3. Add to Cart\n",
      "4. Remove from Cart\n",
      "5. Checkout\n",
      "6. Logout\n"
     ]
    },
    {
     "name": "stdin",
     "output_type": "stream",
     "text": [
      "Enter your choice:  6\n"
     ]
    },
    {
     "name": "stdout",
     "output_type": "stream",
     "text": [
      "Logged out successfully.\n",
      "\n",
      "1. User Login\n",
      "2. Admin Login\n",
      "3. View Catalog\n",
      "4. Exit\n"
     ]
    },
    {
     "name": "stdin",
     "output_type": "stream",
     "text": [
      "Enter your choice:  2\n",
      "Enter admin username:  admin\n",
      "Enter admin password:  adminpassword\n"
     ]
    },
    {
     "name": "stdout",
     "output_type": "stream",
     "text": [
      "Admin admin logged in successfully.\n",
      "\n",
      "1. View Catalog\n",
      "2. Add Product\n",
      "3. Update Product\n",
      "4. Remove Product\n",
      "5. Add Category\n",
      "6. Remove Category\n",
      "7. Logout\n"
     ]
    },
    {
     "name": "stdin",
     "output_type": "stream",
     "text": [
      "Enter your choice:  1\n"
     ]
    },
    {
     "name": "stdout",
     "output_type": "stream",
     "text": [
      "ID: 1, Name: Boots, Category: Footwear, Price: 100\n",
      "ID: 2, Name: Coats, Category: Clothing, Price: 150\n",
      "ID: 3, Name: Jackets, Category: Clothing, Price: 200\n",
      "ID: 4, Name: Caps, Category: Accessories, Price: 50\n",
      "\n",
      "1. View Catalog\n",
      "2. Add Product\n",
      "3. Update Product\n",
      "4. Remove Product\n",
      "5. Add Category\n",
      "6. Remove Category\n",
      "7. Logout\n"
     ]
    },
    {
     "name": "stdin",
     "output_type": "stream",
     "text": [
      "Enter your choice:  2\n",
      "Enter product ID:  5\n",
      "Enter product name:  \n",
      "Enter product category:  Shirts\n",
      "Enter product price:  Clothing\n"
     ]
    },
    {
     "ename": "ValueError",
     "evalue": "could not convert string to float: 'Clothing'",
     "output_type": "error",
     "traceback": [
      "\u001b[1;31m---------------------------------------------------------------------------\u001b[0m",
      "\u001b[1;31mValueError\u001b[0m                                Traceback (most recent call last)",
      "Cell \u001b[1;32mIn[26], line 2\u001b[0m\n\u001b[0;32m      1\u001b[0m \u001b[38;5;28;01mif\u001b[39;00m \u001b[38;5;18m__name__\u001b[39m \u001b[38;5;241m==\u001b[39m \u001b[38;5;124m\"\u001b[39m\u001b[38;5;124m__main__\u001b[39m\u001b[38;5;124m\"\u001b[39m:\n\u001b[1;32m----> 2\u001b[0m     main()\n",
      "Cell \u001b[1;32mIn[25], line 53\u001b[0m, in \u001b[0;36mmain\u001b[1;34m()\u001b[0m\n\u001b[0;32m     51\u001b[0m     name \u001b[38;5;241m=\u001b[39m \u001b[38;5;28minput\u001b[39m(\u001b[38;5;124m\"\u001b[39m\u001b[38;5;124mEnter product name: \u001b[39m\u001b[38;5;124m\"\u001b[39m)\n\u001b[0;32m     52\u001b[0m     category \u001b[38;5;241m=\u001b[39m \u001b[38;5;28minput\u001b[39m(\u001b[38;5;124m\"\u001b[39m\u001b[38;5;124mEnter product category: \u001b[39m\u001b[38;5;124m\"\u001b[39m)\n\u001b[1;32m---> 53\u001b[0m     price \u001b[38;5;241m=\u001b[39m \u001b[38;5;28mfloat\u001b[39m(\u001b[38;5;28minput\u001b[39m(\u001b[38;5;124m\"\u001b[39m\u001b[38;5;124mEnter product price: \u001b[39m\u001b[38;5;124m\"\u001b[39m))\n\u001b[0;32m     54\u001b[0m     \u001b[38;5;28mprint\u001b[39m(admin_add_product(username, product_id, name, category, price))\n\u001b[0;32m     55\u001b[0m \u001b[38;5;28;01melif\u001b[39;00m admin_choice \u001b[38;5;241m==\u001b[39m \u001b[38;5;124m'\u001b[39m\u001b[38;5;124m3\u001b[39m\u001b[38;5;124m'\u001b[39m:\n",
      "\u001b[1;31mValueError\u001b[0m: could not convert string to float: 'Clothing'"
     ]
    }
   ],
   "source": [
    "if __name__ == \"__main__\":\n",
    "    main()\n"
   ]
  },
  {
   "cell_type": "code",
   "execution_count": null,
   "id": "cd54ef49-2be1-462e-b576-0a9375cdb383",
   "metadata": {},
   "outputs": [],
   "source": []
  }
 ],
 "metadata": {
  "kernelspec": {
   "display_name": "Python 3 (ipykernel)",
   "language": "python",
   "name": "python3"
  },
  "language_info": {
   "codemirror_mode": {
    "name": "ipython",
    "version": 3
   },
   "file_extension": ".py",
   "mimetype": "text/x-python",
   "name": "python",
   "nbconvert_exporter": "python",
   "pygments_lexer": "ipython3",
   "version": "3.11.5"
  }
 },
 "nbformat": 4,
 "nbformat_minor": 5
}
