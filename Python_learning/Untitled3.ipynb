{
 "cells": [
  {
   "cell_type": "code",
   "execution_count": 25,
   "id": "63ef3f6b-6c38-4929-894b-7e82cd971375",
   "metadata": {
    "editable": true,
    "execution": {
     "iopub.execute_input": "2024-06-29T17:05:08.477016Z",
     "iopub.status.busy": "2024-06-29T17:05:08.476014Z",
     "iopub.status.idle": "2024-06-29T17:05:10.507577Z",
     "shell.execute_reply": "2024-06-29T17:05:10.505039Z",
     "shell.execute_reply.started": "2024-06-29T17:05:08.477016Z"
    },
    "slideshow": {
     "slide_type": ""
    },
    "tags": []
   },
   "outputs": [
    {
     "name": "stdin",
     "output_type": "stream",
     "text": [
      "Enter the Year of birth 1983\n"
     ]
    },
    {
     "ename": "NameError",
     "evalue": "name 'now' is not defined",
     "output_type": "error",
     "traceback": [
      "\u001b[1;31m---------------------------------------------------------------------------\u001b[0m",
      "\u001b[1;31mNameError\u001b[0m                                 Traceback (most recent call last)",
      "Cell \u001b[1;32mIn[25], line 2\u001b[0m\n\u001b[0;32m      1\u001b[0m yearofbirth \u001b[38;5;241m=\u001b[39m \u001b[38;5;28minput\u001b[39m(\u001b[38;5;124m\"\u001b[39m\u001b[38;5;124mEnter the Year of birth\u001b[39m\u001b[38;5;124m\"\u001b[39m)\n\u001b[1;32m----> 2\u001b[0m \u001b[38;5;28mprint\u001b[39m(\u001b[38;5;124m\"\u001b[39m\u001b[38;5;124mYear of Birth is : \u001b[39m\u001b[38;5;124m\"\u001b[39m,yearofbirth \u001b[38;5;241m-\u001b[39m now())\n",
      "\u001b[1;31mNameError\u001b[0m: name 'now' is not defined"
     ]
    }
   ],
   "source": [
    "yearofbirth = input(\"Enter the Year of birth\")\n",
    "print(\"Year of Birth is : \",yearofbirth - now())"
   ]
  },
  {
   "cell_type": "code",
   "execution_count": 21,
   "id": "3fa0b0f1-8624-4bae-a790-fe864ab07b23",
   "metadata": {
    "execution": {
     "iopub.execute_input": "2024-06-29T17:02:12.078984Z",
     "iopub.status.busy": "2024-06-29T17:02:12.077982Z",
     "iopub.status.idle": "2024-06-29T17:02:14.737127Z",
     "shell.execute_reply": "2024-06-29T17:02:14.735113Z",
     "shell.execute_reply.started": "2024-06-29T17:02:12.078984Z"
    }
   },
   "outputs": [
    {
     "name": "stdin",
     "output_type": "stream",
     "text": [
      "Enter the Year of birth:  1983\n"
     ]
    },
    {
     "name": "stdout",
     "output_type": "stream",
     "text": [
      "Age is:  41\n"
     ]
    }
   ],
   "source": [
    "from datetime import datetime \n",
    "year_of_birth = int(input(\"Enter the Year of birth: \"))\n",
    "current_year = datetime.now().year\n",
    "age = current_year - year_of_birth\n",
    "print(\"Age is: \", age)"
   ]
  },
  {
   "cell_type": "code",
   "execution_count": 29,
   "id": "f09ed796-88bc-488d-a3ea-e1301d73d247",
   "metadata": {
    "execution": {
     "iopub.execute_input": "2024-06-29T17:22:54.635654Z",
     "iopub.status.busy": "2024-06-29T17:22:54.634653Z",
     "iopub.status.idle": "2024-06-29T17:22:54.648581Z",
     "shell.execute_reply": "2024-06-29T17:22:54.646566Z",
     "shell.execute_reply.started": "2024-06-29T17:22:54.635654Z"
    }
   },
   "outputs": [
    {
     "data": {
      "text/plain": [
       "True"
      ]
     },
     "execution_count": 29,
     "metadata": {},
     "output_type": "execute_result"
    }
   ],
   "source": [
    "10<=13"
   ]
  },
  {
   "cell_type": "code",
   "execution_count": 31,
   "id": "55096425-da3c-4c48-982f-96cfee599d9c",
   "metadata": {
    "execution": {
     "iopub.execute_input": "2024-06-29T17:23:34.580649Z",
     "iopub.status.busy": "2024-06-29T17:23:34.578637Z",
     "iopub.status.idle": "2024-06-29T17:23:34.597137Z",
     "shell.execute_reply": "2024-06-29T17:23:34.595207Z",
     "shell.execute_reply.started": "2024-06-29T17:23:34.580649Z"
    }
   },
   "outputs": [
    {
     "name": "stderr",
     "output_type": "stream",
     "text": [
      "<>:1: SyntaxWarning: \"is not\" with a literal. Did you mean \"!=\"?\n",
      "<>:1: SyntaxWarning: \"is not\" with a literal. Did you mean \"!=\"?\n",
      "C:\\Users\\user\\AppData\\Local\\Temp\\ipykernel_26164\\131585463.py:1: SyntaxWarning: \"is not\" with a literal. Did you mean \"!=\"?\n",
      "  10 is not 13\n"
     ]
    },
    {
     "data": {
      "text/plain": [
       "True"
      ]
     },
     "execution_count": 31,
     "metadata": {},
     "output_type": "execute_result"
    }
   ],
   "source": [
    "10 is not 13"
   ]
  },
  {
   "cell_type": "code",
   "execution_count": 15,
   "id": "c322a47b-c3c5-4afb-a82b-7fb3c63acc26",
   "metadata": {
    "execution": {
     "iopub.execute_input": "2024-06-30T14:09:58.124901Z",
     "iopub.status.busy": "2024-06-30T14:09:58.123896Z",
     "iopub.status.idle": "2024-06-30T14:09:58.139901Z",
     "shell.execute_reply": "2024-06-30T14:09:58.137353Z",
     "shell.execute_reply.started": "2024-06-30T14:09:58.124901Z"
    }
   },
   "outputs": [
    {
     "data": {
      "text/plain": [
       "3"
      ]
     },
     "execution_count": 15,
     "metadata": {},
     "output_type": "execute_result"
    }
   ],
   "source": [
    "x=2\n",
    "x+=1\n",
    "x"
   ]
  },
  {
   "cell_type": "code",
   "execution_count": 1,
   "id": "3dd7f4b7-d632-449f-b984-a3113940d9e3",
   "metadata": {
    "execution": {
     "iopub.execute_input": "2024-06-30T15:01:04.561360Z",
     "iopub.status.busy": "2024-06-30T15:01:04.560358Z",
     "iopub.status.idle": "2024-06-30T15:01:06.429179Z",
     "shell.execute_reply": "2024-06-30T15:01:06.427155Z",
     "shell.execute_reply.started": "2024-06-30T15:01:04.561360Z"
    }
   },
   "outputs": [],
   "source": [
    "import pandas as pd"
   ]
  },
  {
   "cell_type": "code",
   "execution_count": 1,
   "id": "82c3838b-2851-49a9-bed5-9361b14ac4ab",
   "metadata": {
    "execution": {
     "iopub.execute_input": "2024-06-30T15:07:20.507270Z",
     "iopub.status.busy": "2024-06-30T15:07:20.506271Z",
     "iopub.status.idle": "2024-06-30T15:07:30.475680Z",
     "shell.execute_reply": "2024-06-30T15:07:30.471273Z",
     "shell.execute_reply.started": "2024-06-30T15:07:20.507270Z"
    }
   },
   "outputs": [
    {
     "name": "stdin",
     "output_type": "stream",
     "text": [
      "Please enter a new value Hello\n"
     ]
    },
    {
     "name": "stdout",
     "output_type": "stream",
     "text": [
      "['Hello']\n"
     ]
    }
   ],
   "source": [
    "a=[]\n",
    "y=input(\"Please enter a new value\")\n",
    "a.append(y)\n",
    "print(a)"
   ]
  },
  {
   "cell_type": "code",
   "execution_count": 7,
   "id": "dacb8545-1613-44ca-9926-895b4a19c372",
   "metadata": {
    "execution": {
     "iopub.execute_input": "2024-06-30T15:24:37.674869Z",
     "iopub.status.busy": "2024-06-30T15:24:37.673869Z",
     "iopub.status.idle": "2024-06-30T15:24:37.689674Z",
     "shell.execute_reply": "2024-06-30T15:24:37.687661Z",
     "shell.execute_reply.started": "2024-06-30T15:24:37.674869Z"
    }
   },
   "outputs": [
    {
     "data": {
      "text/plain": [
       "200"
      ]
     },
     "execution_count": 7,
     "metadata": {},
     "output_type": "execute_result"
    }
   ],
   "source": [
    "Dict={\"Key1\":100,\"Key2\":200}\n",
    "Dict.get(\"Key2\")"
   ]
  },
  {
   "cell_type": "code",
   "execution_count": null,
   "id": "3c892bda-512a-4e66-a03d-642433850f06",
   "metadata": {},
   "outputs": [],
   "source": []
  },
  {
   "cell_type": "code",
   "execution_count": 15,
   "id": "25d39716-1ac4-4d06-bd94-68efdd63cf41",
   "metadata": {
    "execution": {
     "iopub.execute_input": "2024-06-30T15:30:44.482166Z",
     "iopub.status.busy": "2024-06-30T15:30:44.481180Z",
     "iopub.status.idle": "2024-06-30T15:30:44.496515Z",
     "shell.execute_reply": "2024-06-30T15:30:44.493963Z",
     "shell.execute_reply.started": "2024-06-30T15:30:44.482166Z"
    }
   },
   "outputs": [
    {
     "name": "stdout",
     "output_type": "stream",
     "text": [
      "{'class': '10A', 'marks': {'English': 90, 'Maths': 88, 'Science': 92, 'Social': 85}}\n"
     ]
    }
   ],
   "source": [
    "# Create a dictionary with students, classes, and marks for subjects\n",
    "student_marks = {\n",
    "    'John': {\n",
    "        'class': '10A',\n",
    "        'marks': {\n",
    "            'English': 85,\n",
    "            'Maths': 90,\n",
    "            'Science': 88,\n",
    "            'Social': 78\n",
    "        }\n",
    "    },\n",
    "    'Emma': {\n",
    "        'class': '10B',\n",
    "        'marks': {\n",
    "            'English': 78,\n",
    "            'Maths': 92,\n",
    "            'Science': 85,\n",
    "            'Social': 80\n",
    "        }\n",
    "    },\n",
    "    'Michael': {\n",
    "        'class': '10A',\n",
    "        'marks': {\n",
    "            'English': 90,\n",
    "            'Maths': 88,\n",
    "            'Science': 92,\n",
    "            'Social': 85\n",
    "        }\n",
    "    }\n",
    "}\n",
    "\n",
    "# Print the dictionary\n",
    "print(student_marks['Michael'])"
   ]
  },
  {
   "cell_type": "code",
   "execution_count": 17,
   "id": "ed510173-c487-42fe-82ec-46baa9956972",
   "metadata": {
    "execution": {
     "iopub.execute_input": "2024-06-30T15:34:47.674995Z",
     "iopub.status.busy": "2024-06-30T15:34:47.673446Z",
     "iopub.status.idle": "2024-06-30T15:35:24.105336Z",
     "shell.execute_reply": "2024-06-30T15:35:24.103269Z",
     "shell.execute_reply.started": "2024-06-30T15:34:47.674995Z"
    }
   },
   "outputs": [
    {
     "name": "stdin",
     "output_type": "stream",
     "text": [
      "Enter the new student's name:  Sivaraj\n",
      "Enter the new student's class:  12A\n",
      "Enter the English mark for the new student:  73\n",
      "Enter the Maths mark for the new student:  84\n",
      "Enter the Science mark for the new student:  95\n",
      "Enter the Social mark for the new student:  90\n"
     ]
    },
    {
     "name": "stdout",
     "output_type": "stream",
     "text": [
      "{'John': {'class': '10A', 'marks': {'English': 85, 'Maths': 90, 'Science': 88, 'Social': 78}}, 'Emma': {'class': '10B', 'marks': {'English': 78, 'Maths': 92, 'Science': 85, 'Social': 80}}, 'Michael': {'class': '10A', 'marks': {'English': 90, 'Maths': 88, 'Science': 92, 'Social': 85}}, 'Sivaraj': {'class': '12A', 'marks': {'English': 73, 'Maths': 84, 'Science': 95, 'Social': 90}}}\n"
     ]
    }
   ],
   "source": [
    "# Get input from the user\n",
    "new_student_name = input(\"Enter the new student's name: \")\n",
    "new_student_class = input(\"Enter the new student's class: \")\n",
    "new_student_english_mark = int(input(\"Enter the English mark for the new student: \"))\n",
    "new_student_maths_mark = int(input(\"Enter the Maths mark for the new student: \"))\n",
    "new_student_science_mark = int(input(\"Enter the Science mark for the new student: \"))\n",
    "new_student_social_mark = int(input(\"Enter the Social mark for the new student: \"))\n",
    "\n",
    "# Add new student details to the dictionary\n",
    "student_marks[new_student_name] = {\n",
    "    'class': new_student_class,\n",
    "    'marks': {\n",
    "        'English': new_student_english_mark,\n",
    "        'Maths': new_student_maths_mark,\n",
    "        'Science': new_student_science_mark,\n",
    "        'Social': new_student_social_mark\n",
    "    }\n",
    "}\n",
    "\n",
    "# Print the updated dictionary\n",
    "print(student_marks)"
   ]
  },
  {
   "cell_type": "code",
   "execution_count": 19,
   "id": "18f4f37d-95b8-4abe-9379-1c4da3accf9c",
   "metadata": {
    "execution": {
     "iopub.execute_input": "2024-06-30T15:36:07.177937Z",
     "iopub.status.busy": "2024-06-30T15:36:07.176923Z",
     "iopub.status.idle": "2024-06-30T15:36:07.190159Z",
     "shell.execute_reply": "2024-06-30T15:36:07.187067Z",
     "shell.execute_reply.started": "2024-06-30T15:36:07.177937Z"
    }
   },
   "outputs": [
    {
     "name": "stdout",
     "output_type": "stream",
     "text": [
      "{'class': '12A', 'marks': {'English': 73, 'Maths': 84, 'Science': 95, 'Social': 90}}\n"
     ]
    }
   ],
   "source": [
    "print(student_marks[\"Sivaraj\"])"
   ]
  },
  {
   "cell_type": "code",
   "execution_count": 29,
   "id": "bc56dd4e-1271-4c4a-9a63-f589fb8a42a8",
   "metadata": {
    "execution": {
     "iopub.execute_input": "2024-06-30T16:07:59.866790Z",
     "iopub.status.busy": "2024-06-30T16:07:59.865782Z",
     "iopub.status.idle": "2024-06-30T16:08:01.848880Z",
     "shell.execute_reply": "2024-06-30T16:08:01.846805Z",
     "shell.execute_reply.started": "2024-06-30T16:07:59.866790Z"
    }
   },
   "outputs": [
    {
     "name": "stdin",
     "output_type": "stream",
     "text": [
      "Please enter the value :  10\n"
     ]
    },
    {
     "name": "stdout",
     "output_type": "stream",
     "text": [
      "Value is less than 15\n"
     ]
    }
   ],
   "source": [
    "x=int(input(\"Please enter the value : \"))\n",
    "if x >= 20:\n",
    "    print(\"Value is grater than or equal to 20\")\n",
    "elif x>= 15 and x<20:\n",
    "    print(\"Value is greater than or equal to 15 and less than 20\")\n",
    "else:\n",
    "    print(\"Value is less than 15\")\n"
   ]
  },
  {
   "cell_type": "code",
   "execution_count": 31,
   "id": "d5892719-f6a7-42a8-a478-c2158b9922cf",
   "metadata": {
    "execution": {
     "iopub.execute_input": "2024-06-30T16:12:00.068861Z",
     "iopub.status.busy": "2024-06-30T16:12:00.067775Z",
     "iopub.status.idle": "2024-06-30T16:12:03.234272Z",
     "shell.execute_reply": "2024-06-30T16:12:03.232258Z",
     "shell.execute_reply.started": "2024-06-30T16:12:00.068861Z"
    }
   },
   "outputs": [
    {
     "name": "stdin",
     "output_type": "stream",
     "text": [
      "Enter the Temperature :  15\n"
     ]
    },
    {
     "name": "stdout",
     "output_type": "stream",
     "text": [
      "very cold\n"
     ]
    }
   ],
   "source": [
    "temp = float(input(\"Enter the Temperature : \"))\n",
    "if temp > 40:\n",
    "    print(\"Hot\")\n",
    "elif temp > 30:\n",
    "    print(\"Manageable\")\n",
    "elif temp > 20:\n",
    "    print(\"cold\")\n",
    "else:\n",
    "    print(\"very cold\")"
   ]
  },
  {
   "cell_type": "code",
   "execution_count": 39,
   "id": "6d72c05b-ace0-481a-9d16-8c128465a65c",
   "metadata": {
    "execution": {
     "iopub.execute_input": "2024-06-30T16:18:36.870962Z",
     "iopub.status.busy": "2024-06-30T16:18:36.869452Z",
     "iopub.status.idle": "2024-06-30T16:18:39.901065Z",
     "shell.execute_reply": "2024-06-30T16:18:39.899000Z",
     "shell.execute_reply.started": "2024-06-30T16:18:36.870962Z"
    }
   },
   "outputs": [
    {
     "name": "stdin",
     "output_type": "stream",
     "text": [
      "Please enter the value :  13\n"
     ]
    },
    {
     "name": "stdout",
     "output_type": "stream",
     "text": [
      "odd\n"
     ]
    }
   ],
   "source": [
    "input_value = int(input(\"Please enter the value : \"))\n",
    "if input_value%2==0:\n",
    "    print(\"even\")\n",
    "else:\n",
    "    print(\"odd\")\n",
    "    "
   ]
  },
  {
   "cell_type": "code",
   "execution_count": 63,
   "id": "bc0e1376-5bbd-4392-8211-0a0150d051d2",
   "metadata": {
    "execution": {
     "iopub.execute_input": "2024-06-30T16:50:02.295319Z",
     "iopub.status.busy": "2024-06-30T16:50:02.293775Z",
     "iopub.status.idle": "2024-06-30T16:50:02.307293Z",
     "shell.execute_reply": "2024-06-30T16:50:02.304526Z",
     "shell.execute_reply.started": "2024-06-30T16:50:02.295319Z"
    }
   },
   "outputs": [
    {
     "name": "stdout",
     "output_type": "stream",
     "text": [
      "P - 1\n",
      "y - 2\n",
      "t - 3\n",
      "h - 4\n",
      "o - 5\n",
      "n - 6\n"
     ]
    }
   ],
   "source": [
    "x = 'Python'\n",
    "for i in range(len(x)):\n",
    "    print(x[i] ,\"-\",i+1)"
   ]
  },
  {
   "cell_type": "code",
   "execution_count": 65,
   "id": "d0628a3a-83dc-4a7c-a0a0-e8a7b8f747a0",
   "metadata": {
    "execution": {
     "iopub.execute_input": "2024-06-30T17:06:38.781418Z",
     "iopub.status.busy": "2024-06-30T17:06:38.780415Z",
     "iopub.status.idle": "2024-06-30T17:06:38.841375Z",
     "shell.execute_reply": "2024-06-30T17:06:38.839361Z",
     "shell.execute_reply.started": "2024-06-30T17:06:38.781418Z"
    }
   },
   "outputs": [
    {
     "ename": "NameError",
     "evalue": "name 'sqr' is not defined",
     "output_type": "error",
     "traceback": [
      "\u001b[1;31m---------------------------------------------------------------------------\u001b[0m",
      "\u001b[1;31mNameError\u001b[0m                                 Traceback (most recent call last)",
      "Cell \u001b[1;32mIn[65], line 1\u001b[0m\n\u001b[1;32m----> 1\u001b[0m sqr(\u001b[38;5;241m2\u001b[39m)\n",
      "\u001b[1;31mNameError\u001b[0m: name 'sqr' is not defined"
     ]
    }
   ],
   "source": [
    "sqr(2)"
   ]
  },
  {
   "cell_type": "code",
   "execution_count": 71,
   "id": "59ea20ce-7f1e-443f-97d9-658025900251",
   "metadata": {
    "execution": {
     "iopub.execute_input": "2024-06-30T17:28:28.586006Z",
     "iopub.status.busy": "2024-06-30T17:28:28.584460Z",
     "iopub.status.idle": "2024-06-30T17:28:30.836649Z",
     "shell.execute_reply": "2024-06-30T17:28:30.835115Z",
     "shell.execute_reply.started": "2024-06-30T17:28:28.586006Z"
    }
   },
   "outputs": [
    {
     "name": "stdin",
     "output_type": "stream",
     "text": [
      "No of Rows  3\n",
      "No of Cols  3\n"
     ]
    },
    {
     "name": "stdout",
     "output_type": "stream",
     "text": [
      "0 1 2 \n",
      "1 2 3 \n",
      "2 3 4 \n"
     ]
    }
   ],
   "source": [
    "rows = int(input(\"No of Rows \"))\n",
    "cols = int(input(\"No of Cols \"))\n",
    "for i in range(rows):\n",
    "    for j in range(cols):\n",
    "        print(i+j,end=\" \")\n",
    "    print()"
   ]
  },
  {
   "cell_type": "code",
   "execution_count": null,
   "id": "536368b6-43fc-4afe-9c1e-4876cbf11301",
   "metadata": {},
   "outputs": [],
   "source": []
  }
 ],
 "metadata": {
  "kernelspec": {
   "display_name": "Python 3 (ipykernel)",
   "language": "python",
   "name": "python3"
  },
  "language_info": {
   "codemirror_mode": {
    "name": "ipython",
    "version": 3
   },
   "file_extension": ".py",
   "mimetype": "text/x-python",
   "name": "python",
   "nbconvert_exporter": "python",
   "pygments_lexer": "ipython3",
   "version": "3.11.5"
  }
 },
 "nbformat": 4,
 "nbformat_minor": 5
}
