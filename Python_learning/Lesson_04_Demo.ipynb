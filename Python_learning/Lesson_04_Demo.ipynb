{
 "cells": [
  {
   "cell_type": "markdown",
   "id": "f91f4e60",
   "metadata": {},
   "source": [
    "# Data Types"
   ]
  },
  {
   "cell_type": "code",
   "execution_count": null,
   "id": "e9d3ff6f",
   "metadata": {},
   "outputs": [],
   "source": [
    "x = 34 ; y = 67.89 ; z = True\n",
    "print('x = ', x, '\\ty = ', y, '\\tz = ', z)"
   ]
  },
  {
   "cell_type": "code",
   "execution_count": null,
   "id": "e218eebd",
   "metadata": {},
   "outputs": [],
   "source": [
    "print('Type of \\nx = ', type(x), '\\ty = ', type(y), '\\tz = ', type(z))"
   ]
  },
  {
   "cell_type": "code",
   "execution_count": null,
   "id": "4b0a9f8b",
   "metadata": {},
   "outputs": [],
   "source": [
    "var = 'abc'\n",
    "print('var = ', var)\n",
    "print('type of var ', type(var))"
   ]
  },
  {
   "cell_type": "markdown",
   "id": "a04cee18",
   "metadata": {},
   "source": [
    "## Data Type Conversion"
   ]
  },
  {
   "cell_type": "code",
   "execution_count": null,
   "id": "5cc2c7f0",
   "metadata": {},
   "outputs": [],
   "source": [
    "x = 45.77\n",
    "int(x)"
   ]
  },
  {
   "cell_type": "code",
   "execution_count": null,
   "id": "200c9712",
   "metadata": {},
   "outputs": [],
   "source": [
    "str(x)"
   ]
  },
  {
   "cell_type": "code",
   "execution_count": null,
   "id": "464613d8",
   "metadata": {},
   "outputs": [],
   "source": [
    "bool(x)"
   ]
  },
  {
   "cell_type": "code",
   "execution_count": null,
   "id": "cb8abab7",
   "metadata": {},
   "outputs": [],
   "source": [
    "y = '45.88'"
   ]
  },
  {
   "cell_type": "code",
   "execution_count": null,
   "id": "e6835a32",
   "metadata": {},
   "outputs": [],
   "source": [
    "float(y)"
   ]
  },
  {
   "cell_type": "code",
   "execution_count": null,
   "id": "4806293f",
   "metadata": {},
   "outputs": [],
   "source": [
    "int(y)"
   ]
  },
  {
   "cell_type": "markdown",
   "id": "f48ea0bc",
   "metadata": {},
   "source": [
    "## Checking Refrences "
   ]
  },
  {
   "cell_type": "code",
   "execution_count": null,
   "id": "ed6538e6",
   "metadata": {},
   "outputs": [],
   "source": [
    "x = 34 \n",
    "y = x\n",
    "print('x = ', x, ';  id of x = ', id(x))\n",
    "print('y = ', y, ';  id of y = ', id(y))"
   ]
  },
  {
   "cell_type": "code",
   "execution_count": null,
   "id": "1521bca3",
   "metadata": {},
   "outputs": [],
   "source": [
    "x = 65\n",
    "print('x = ', x, ';  id of x = ', id(x))\n",
    "print('y = ', y, ';  id of y = ', id(y))"
   ]
  },
  {
   "cell_type": "code",
   "execution_count": null,
   "id": "1fd386aa",
   "metadata": {},
   "outputs": [],
   "source": [
    "y = 78\n",
    "print('x = ', x, ';  id of x = ', id(x))\n",
    "print('y = ', y, ';  id of y = ', id(y))"
   ]
  },
  {
   "cell_type": "markdown",
   "id": "5d2aa031",
   "metadata": {},
   "source": [
    "# "
   ]
  },
  {
   "cell_type": "markdown",
   "id": "41bef852",
   "metadata": {},
   "source": [
    "# \n",
    "# \n",
    "# \n",
    "# \n"
   ]
  },
  {
   "cell_type": "markdown",
   "id": "67f5db2a",
   "metadata": {},
   "source": [
    "# Arithmetic Operators"
   ]
  },
  {
   "cell_type": "code",
   "execution_count": null,
   "id": "5a4b4400",
   "metadata": {},
   "outputs": [],
   "source": [
    "x = 50\n",
    "y = 4"
   ]
  },
  {
   "cell_type": "code",
   "execution_count": null,
   "id": "6071f969",
   "metadata": {},
   "outputs": [],
   "source": [
    "print('Sum of x & y                   : ', x + y)\n",
    "print('Difference between x & y       : ', x - y)\n",
    "print('Product of x & y               : ', x * y)\n",
    "print('Division of x by y             : ', x / y)"
   ]
  },
  {
   "cell_type": "code",
   "execution_count": null,
   "id": "600c5b3b",
   "metadata": {},
   "outputs": [],
   "source": [
    "print('Remainder of x divided by y    : ', x % y)\n",
    "print('Floor Division x divided by y  : ', x // y)\n",
    "print('Exponential value for x raised to power y : ', x ** y)"
   ]
  },
  {
   "cell_type": "markdown",
   "id": "59307f7d",
   "metadata": {},
   "source": [
    "# \n",
    "# \n",
    "# \n",
    "# "
   ]
  },
  {
   "cell_type": "markdown",
   "id": "dd03e7df",
   "metadata": {},
   "source": [
    "# Arithmetic Assignment Operators"
   ]
  },
  {
   "cell_type": "code",
   "execution_count": null,
   "id": "fa13a511",
   "metadata": {},
   "outputs": [],
   "source": [
    "a = 10\n",
    "print('Present value of a = ', a )"
   ]
  },
  {
   "cell_type": "code",
   "execution_count": null,
   "id": "fc4f2639",
   "metadata": {},
   "outputs": [],
   "source": [
    "a += 5\n",
    "print('Updated value of a = ', a )"
   ]
  },
  {
   "cell_type": "code",
   "execution_count": null,
   "id": "58db728f",
   "metadata": {},
   "outputs": [],
   "source": [
    "a = 10\n",
    "print('Present value of a = ', a )\n",
    "print('Present id of a = ', id(a))"
   ]
  },
  {
   "cell_type": "code",
   "execution_count": null,
   "id": "8ad4d299",
   "metadata": {},
   "outputs": [],
   "source": [
    "a += 15\n",
    "print('Updated value of a = ', a )\n",
    "print('Updated id of a = ', id(a))"
   ]
  },
  {
   "cell_type": "markdown",
   "id": "77e0b06a",
   "metadata": {},
   "source": [
    "# \n",
    "# \n",
    "# \n",
    "# \n"
   ]
  },
  {
   "cell_type": "markdown",
   "id": "f199c09d",
   "metadata": {},
   "source": [
    "# Comparison Operator"
   ]
  },
  {
   "cell_type": "code",
   "execution_count": null,
   "id": "3c6bd866",
   "metadata": {},
   "outputs": [],
   "source": [
    "a = 20\n",
    "b = 20\n",
    "print('a = ', a, '  b = ', b)\n",
    "print('a == b  : ', a == b)"
   ]
  },
  {
   "cell_type": "code",
   "execution_count": null,
   "id": "61dc587d",
   "metadata": {},
   "outputs": [],
   "source": [
    "a = 20\n",
    "b = 30\n",
    "print('a = ', a, '  b = ', b)\n",
    "print('a != b  : ', a != b)"
   ]
  },
  {
   "cell_type": "code",
   "execution_count": null,
   "id": "55e87480",
   "metadata": {},
   "outputs": [],
   "source": [
    "a = 40\n",
    "b = 30\n",
    "print('a = ', a, '  b = ', b)\n",
    "print('a <= b  : ', a <= b)"
   ]
  },
  {
   "cell_type": "code",
   "execution_count": null,
   "id": "5b1acff0",
   "metadata": {},
   "outputs": [],
   "source": [
    "a = 30\n",
    "b = 30\n",
    "print('a = ', a, '  b = ', b)\n",
    "print('a >= b  : ', a >= b)"
   ]
  },
  {
   "cell_type": "markdown",
   "id": "14324fe0",
   "metadata": {},
   "source": [
    "# \n",
    "# \n",
    "# \n",
    "# \n"
   ]
  },
  {
   "cell_type": "markdown",
   "id": "cc886eac",
   "metadata": {},
   "source": [
    "# Logical Operators"
   ]
  },
  {
   "cell_type": "code",
   "execution_count": null,
   "id": "790016cd",
   "metadata": {},
   "outputs": [],
   "source": [
    "a = 30\n",
    "b = 30\n",
    "print('a = ', a, '  b = ', b)\n",
    "print('a < b            : ', a < b)\n",
    "print('a == b           : ', a == b)"
   ]
  },
  {
   "cell_type": "code",
   "execution_count": null,
   "id": "157bee4c",
   "metadata": {},
   "outputs": [],
   "source": [
    "print('a < b and a == b : ', a < b and a == b)"
   ]
  },
  {
   "cell_type": "code",
   "execution_count": null,
   "id": "8b18a477",
   "metadata": {},
   "outputs": [],
   "source": [
    "a = 30\n",
    "b = 30\n",
    "print('a = ', a, '  b = ', b)\n",
    "print('a < b           : ', a < b)\n",
    "print('a == b          : ', a == b)"
   ]
  },
  {
   "cell_type": "code",
   "execution_count": null,
   "id": "b2401652",
   "metadata": {},
   "outputs": [],
   "source": [
    "print('a < b or a == b : ', a < b or a == b)"
   ]
  },
  {
   "cell_type": "code",
   "execution_count": null,
   "id": "45e09a42",
   "metadata": {},
   "outputs": [],
   "source": [
    "a = 40\n",
    "print('a = ', a)\n",
    "print('a < 50      : ' , a < 50 )"
   ]
  },
  {
   "cell_type": "code",
   "execution_count": null,
   "id": "1ec6f9d3",
   "metadata": {},
   "outputs": [],
   "source": [
    "print('not a < 50  : ' , not(a < 50))"
   ]
  },
  {
   "cell_type": "markdown",
   "id": "e37554d3",
   "metadata": {},
   "source": [
    "# \n",
    "# \n",
    "# \n",
    "# \n",
    "# "
   ]
  },
  {
   "cell_type": "markdown",
   "id": "b4269c94",
   "metadata": {
    "tags": []
   },
   "source": [
    "# Miscellaneous Operators"
   ]
  },
  {
   "cell_type": "markdown",
   "id": "4c822c3b",
   "metadata": {},
   "source": [
    "### Identity Operators"
   ]
  },
  {
   "cell_type": "code",
   "execution_count": null,
   "id": "f6474bb2",
   "metadata": {},
   "outputs": [],
   "source": [
    "a = ['a', 'b', 'c']\n",
    "b = ['a', 'b', 'c']\n",
    "print('a is b' , a is b)"
   ]
  },
  {
   "cell_type": "code",
   "execution_count": null,
   "id": "6285ba77",
   "metadata": {},
   "outputs": [],
   "source": [
    "a = ['a', 'b', 'c']\n",
    "b =  a\n",
    "print('a is b' , a is b)"
   ]
  },
  {
   "cell_type": "code",
   "execution_count": null,
   "id": "9d722c58",
   "metadata": {},
   "outputs": [],
   "source": [
    "id(a) == id(b)"
   ]
  },
  {
   "cell_type": "code",
   "execution_count": null,
   "id": "f273a5a8",
   "metadata": {},
   "outputs": [],
   "source": [
    "a = ['a', 'b', 'c']\n",
    "b = ['a', 'b', 'c']\n",
    "print('a is not b' , a is not b)"
   ]
  },
  {
   "cell_type": "markdown",
   "id": "3effe721",
   "metadata": {},
   "source": [
    "### Membership Operators"
   ]
  },
  {
   "cell_type": "code",
   "execution_count": null,
   "id": "277423a0",
   "metadata": {},
   "outputs": [],
   "source": [
    "x = 'a'\n",
    "y = 'Dictionary'\n",
    "print(x , ' in \"', y, '\"')\n",
    "print( x in y)"
   ]
  },
  {
   "cell_type": "code",
   "execution_count": null,
   "id": "47959f42",
   "metadata": {},
   "outputs": [],
   "source": [
    "x = 'a'\n",
    "y = 'Dictionary'\n",
    "print(x , ' in \"', y, '\"')\n",
    "print( x not in y)"
   ]
  },
  {
   "cell_type": "code",
   "execution_count": null,
   "id": "b75805d8",
   "metadata": {},
   "outputs": [],
   "source": [
    "a = [20, 45, 10]\n",
    "10 in a"
   ]
  },
  {
   "cell_type": "code",
   "execution_count": null,
   "id": "6cc2a263",
   "metadata": {},
   "outputs": [],
   "source": [
    "a = [20, 45, 10]\n",
    "10 not in a"
   ]
  },
  {
   "cell_type": "markdown",
   "id": "300821cf",
   "metadata": {},
   "source": [
    "# \n",
    "#  \n",
    "# \n",
    "# \n",
    "# \n",
    "# "
   ]
  },
  {
   "cell_type": "markdown",
   "id": "b2954627",
   "metadata": {},
   "source": [
    "# Strings in Python"
   ]
  },
  {
   "cell_type": "code",
   "execution_count": null,
   "id": "61d0c988",
   "metadata": {},
   "outputs": [],
   "source": [
    "message_1 = 'Hi! Welcome to Python Programming!!'\n",
    "message_2 = \"Hi! Welcome to Python Programming!!\"\n",
    "print(message_1)\n",
    "print(message_2)"
   ]
  },
  {
   "cell_type": "code",
   "execution_count": null,
   "id": "db7cadca",
   "metadata": {},
   "outputs": [],
   "source": [
    "message_1 = 'Hi! Welcome to \"Python Programming\"!!'\n",
    "message_2 = \"Hi! Welcome to 'Python Programming'!!\"\n",
    "print(message_1)\n",
    "print(message_2)"
   ]
  },
  {
   "cell_type": "markdown",
   "id": "071fa064",
   "metadata": {},
   "source": [
    "# String methods"
   ]
  },
  {
   "cell_type": "code",
   "execution_count": 1,
   "id": "8c39dc51",
   "metadata": {},
   "outputs": [],
   "source": [
    "string = 'She seLLs sEa SHELLS oN tHe SeA sHoRe.'"
   ]
  },
  {
   "cell_type": "code",
   "execution_count": 2,
   "id": "6128be76",
   "metadata": {},
   "outputs": [
    {
     "name": "stdout",
     "output_type": "stream",
     "text": [
      "SHE SELLS SEA SHELLS ON THE SEA SHORE.\n"
     ]
    }
   ],
   "source": [
    "upper_case = string.upper()\n",
    "print(upper_case)"
   ]
  },
  {
   "cell_type": "code",
   "execution_count": 3,
   "id": "57518abd",
   "metadata": {},
   "outputs": [
    {
     "name": "stdout",
     "output_type": "stream",
     "text": [
      "she sells sea shells on the sea shore.\n"
     ]
    }
   ],
   "source": [
    "lower_case = string.lower()\n",
    "print(lower_case)"
   ]
  },
  {
   "cell_type": "code",
   "execution_count": 4,
   "id": "b6354a96",
   "metadata": {},
   "outputs": [
    {
     "name": "stdout",
     "output_type": "stream",
     "text": [
      "She sells sea shells on the sea shore.\n"
     ]
    }
   ],
   "source": [
    "sentence = string.capitalize()\n",
    "print(sentence)"
   ]
  },
  {
   "cell_type": "code",
   "execution_count": 5,
   "id": "9bfa4ccd",
   "metadata": {},
   "outputs": [
    {
     "data": {
      "text/plain": [
       "'She Sells Sea Shells On The Sea Shore.'"
      ]
     },
     "execution_count": 5,
     "metadata": {},
     "output_type": "execute_result"
    }
   ],
   "source": [
    "word_upper = string.title()\n",
    "word_upper"
   ]
  },
  {
   "cell_type": "code",
   "execution_count": null,
   "id": "de924162",
   "metadata": {},
   "outputs": [],
   "source": []
  }
 ],
 "metadata": {
  "kernelspec": {
   "display_name": "Python 3 (ipykernel)",
   "language": "python",
   "name": "python3"
  },
  "language_info": {
   "codemirror_mode": {
    "name": "ipython",
    "version": 3
   },
   "file_extension": ".py",
   "mimetype": "text/x-python",
   "name": "python",
   "nbconvert_exporter": "python",
   "pygments_lexer": "ipython3",
   "version": "3.11.5"
  }
 },
 "nbformat": 4,
 "nbformat_minor": 5
}
