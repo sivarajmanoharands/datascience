{
 "cells": [
  {
   "cell_type": "code",
   "execution_count": 1,
   "id": "135ca82c",
   "metadata": {},
   "outputs": [
    {
     "data": {
      "text/plain": [
       "float"
      ]
     },
     "execution_count": 1,
     "metadata": {},
     "output_type": "execute_result"
    }
   ],
   "source": [
    "x=4.5\n",
    "type(x)"
   ]
  },
  {
   "cell_type": "code",
   "execution_count": 2,
   "id": "eed29b56",
   "metadata": {},
   "outputs": [
    {
     "data": {
      "text/plain": [
       "int"
      ]
     },
     "execution_count": 2,
     "metadata": {},
     "output_type": "execute_result"
    }
   ],
   "source": [
    "x=3\n",
    "type(x)"
   ]
  },
  {
   "cell_type": "code",
   "execution_count": 9,
   "id": "691c4596",
   "metadata": {},
   "outputs": [
    {
     "data": {
      "text/plain": [
       "4"
      ]
     },
     "execution_count": 9,
     "metadata": {},
     "output_type": "execute_result"
    }
   ],
   "source": [
    "x=[1,2,3,4]\n",
    "x[3]"
   ]
  },
  {
   "cell_type": "code",
   "execution_count": 4,
   "id": "9d7d72da",
   "metadata": {},
   "outputs": [
    {
     "data": {
      "text/plain": [
       "list"
      ]
     },
     "execution_count": 4,
     "metadata": {},
     "output_type": "execute_result"
    }
   ],
   "source": [
    "type(x)"
   ]
  },
  {
   "cell_type": "code",
   "execution_count": 10,
   "id": "b6d0c324",
   "metadata": {},
   "outputs": [
    {
     "name": "stdout",
     "output_type": "stream",
     "text": [
      "[1, 2, 3, 4, 5]\n"
     ]
    }
   ],
   "source": [
    "y=x\n",
    "y.append(5)\n",
    "print(y)"
   ]
  },
  {
   "cell_type": "code",
   "execution_count": 11,
   "id": "311f0dbc",
   "metadata": {},
   "outputs": [
    {
     "name": "stdout",
     "output_type": "stream",
     "text": [
      "[1, 2, 3, 4, 5]\n"
     ]
    }
   ],
   "source": [
    "print(x)"
   ]
  },
  {
   "cell_type": "code",
   "execution_count": 12,
   "id": "0b582815",
   "metadata": {},
   "outputs": [
    {
     "name": "stdout",
     "output_type": "stream",
     "text": [
      "[1, 2, 'Hey', 4, 5]\n"
     ]
    }
   ],
   "source": [
    "x[2]=\"Hey\"\n",
    "print(x)"
   ]
  },
  {
   "cell_type": "code",
   "execution_count": 13,
   "id": "7f9a89eb",
   "metadata": {},
   "outputs": [],
   "source": [
    "x.append(\"Yes\")"
   ]
  },
  {
   "cell_type": "code",
   "execution_count": 14,
   "id": "97d7c8bd",
   "metadata": {},
   "outputs": [
    {
     "name": "stdout",
     "output_type": "stream",
     "text": [
      "[1, 2, 'Hey', 4, 5, 'Yes']\n"
     ]
    }
   ],
   "source": [
    "print(x)"
   ]
  },
  {
   "cell_type": "code",
   "execution_count": 17,
   "id": "7fb0a044",
   "metadata": {},
   "outputs": [],
   "source": [
    "x.insert(2,1.5)"
   ]
  },
  {
   "cell_type": "code",
   "execution_count": 18,
   "id": "1509a64b",
   "metadata": {},
   "outputs": [
    {
     "name": "stdout",
     "output_type": "stream",
     "text": [
      "[1, 2, 1.5, 'Hey', 4, 5, 'Yes']\n"
     ]
    }
   ],
   "source": [
    "print(x)"
   ]
  },
  {
   "cell_type": "code",
   "execution_count": 20,
   "id": "c380ac68",
   "metadata": {},
   "outputs": [],
   "source": [
    "\n",
    "x.remove(2)\n"
   ]
  },
  {
   "cell_type": "code",
   "execution_count": 21,
   "id": "ddae4738",
   "metadata": {},
   "outputs": [
    {
     "name": "stdout",
     "output_type": "stream",
     "text": [
      "[1, 1.5, 'Hey', 4, 5, 'Yes']\n"
     ]
    }
   ],
   "source": [
    "print(x)"
   ]
  },
  {
   "cell_type": "code",
   "execution_count": 27,
   "id": "420fd822",
   "metadata": {},
   "outputs": [
    {
     "data": {
      "text/plain": [
       "6"
      ]
     },
     "execution_count": 27,
     "metadata": {},
     "output_type": "execute_result"
    }
   ],
   "source": [
    "len(x)"
   ]
  },
  {
   "cell_type": "code",
   "execution_count": 28,
   "id": "3776f7b5",
   "metadata": {},
   "outputs": [
    {
     "data": {
      "text/plain": [
       "1"
      ]
     },
     "execution_count": 28,
     "metadata": {},
     "output_type": "execute_result"
    }
   ],
   "source": [
    "x.count(4)"
   ]
  },
  {
   "cell_type": "code",
   "execution_count": 29,
   "id": "4bb6b19c",
   "metadata": {},
   "outputs": [],
   "source": [
    "y=[\"Hey\",\"Hey\",1,1,1,1]"
   ]
  },
  {
   "cell_type": "code",
   "execution_count": 30,
   "id": "17e5597f",
   "metadata": {},
   "outputs": [
    {
     "data": {
      "text/plain": [
       "2"
      ]
     },
     "execution_count": 30,
     "metadata": {},
     "output_type": "execute_result"
    }
   ],
   "source": [
    "y.count(\"Hey\")"
   ]
  },
  {
   "cell_type": "code",
   "execution_count": 31,
   "id": "2e8f5b9b",
   "metadata": {},
   "outputs": [
    {
     "data": {
      "text/plain": [
       "4"
      ]
     },
     "execution_count": 31,
     "metadata": {},
     "output_type": "execute_result"
    }
   ],
   "source": [
    "y.count(1)"
   ]
  },
  {
   "cell_type": "code",
   "execution_count": 44,
   "id": "ad08af2b",
   "metadata": {},
   "outputs": [],
   "source": [
    "y=[1,3,7,8,9]"
   ]
  },
  {
   "cell_type": "code",
   "execution_count": 35,
   "id": "8f12f8da",
   "metadata": {},
   "outputs": [
    {
     "name": "stdout",
     "output_type": "stream",
     "text": [
      "[1, 3, 7, 8, 9]\n"
     ]
    }
   ],
   "source": [
    "\n",
    "print(y)"
   ]
  },
  {
   "cell_type": "code",
   "execution_count": 37,
   "id": "caf397cd",
   "metadata": {},
   "outputs": [
    {
     "name": "stdout",
     "output_type": "stream",
     "text": [
      "[1, '', 7, 8, 9]\n"
     ]
    }
   ],
   "source": [
    "y[1]=''\n",
    "print(y)"
   ]
  },
  {
   "cell_type": "code",
   "execution_count": 45,
   "id": "1f021e84",
   "metadata": {},
   "outputs": [
    {
     "data": {
      "text/plain": [
       "7"
      ]
     },
     "execution_count": 45,
     "metadata": {},
     "output_type": "execute_result"
    }
   ],
   "source": [
    "y.pop(2)"
   ]
  },
  {
   "cell_type": "code",
   "execution_count": 40,
   "id": "a3eb20bb",
   "metadata": {},
   "outputs": [],
   "source": [
    "y.clear()"
   ]
  },
  {
   "cell_type": "code",
   "execution_count": 41,
   "id": "1766797f",
   "metadata": {},
   "outputs": [
    {
     "name": "stdout",
     "output_type": "stream",
     "text": [
      "[]\n"
     ]
    }
   ],
   "source": [
    "print(y)"
   ]
  },
  {
   "cell_type": "code",
   "execution_count": 43,
   "id": "5b6aeaa2",
   "metadata": {},
   "outputs": [
    {
     "data": {
      "text/plain": [
       "3"
      ]
     },
     "execution_count": 43,
     "metadata": {},
     "output_type": "execute_result"
    }
   ],
   "source": [
    "x.index(4)"
   ]
  },
  {
   "cell_type": "code",
   "execution_count": 46,
   "id": "41bebcd4",
   "metadata": {},
   "outputs": [
    {
     "name": "stdout",
     "output_type": "stream",
     "text": [
      "[1, 3, 8, 9]\n"
     ]
    }
   ],
   "source": [
    "print(y)"
   ]
  },
  {
   "cell_type": "code",
   "execution_count": 47,
   "id": "61beef8f",
   "metadata": {},
   "outputs": [
    {
     "name": "stdout",
     "output_type": "stream",
     "text": [
      "(1, 2, 3, 4)\n"
     ]
    }
   ],
   "source": [
    "a=(1,2,3,4)\n",
    "print(a)"
   ]
  },
  {
   "cell_type": "code",
   "execution_count": 49,
   "id": "3ea26b70",
   "metadata": {},
   "outputs": [
    {
     "data": {
      "text/plain": [
       "3"
      ]
     },
     "execution_count": 49,
     "metadata": {},
     "output_type": "execute_result"
    }
   ],
   "source": [
    "a[2]"
   ]
  },
  {
   "cell_type": "code",
   "execution_count": 50,
   "id": "e63c86f1",
   "metadata": {},
   "outputs": [
    {
     "data": {
      "text/plain": [
       "2"
      ]
     },
     "execution_count": 50,
     "metadata": {},
     "output_type": "execute_result"
    }
   ],
   "source": [
    "a[1]"
   ]
  },
  {
   "cell_type": "code",
   "execution_count": 51,
   "id": "c4389994",
   "metadata": {},
   "outputs": [
    {
     "data": {
      "text/plain": [
       "1"
      ]
     },
     "execution_count": 51,
     "metadata": {},
     "output_type": "execute_result"
    }
   ],
   "source": [
    "a[0]"
   ]
  },
  {
   "cell_type": "code",
   "execution_count": 52,
   "id": "44723997",
   "metadata": {},
   "outputs": [
    {
     "data": {
      "text/plain": [
       "4"
      ]
     },
     "execution_count": 52,
     "metadata": {},
     "output_type": "execute_result"
    }
   ],
   "source": [
    "a[-1]"
   ]
  },
  {
   "cell_type": "code",
   "execution_count": 53,
   "id": "6f81519e",
   "metadata": {},
   "outputs": [
    {
     "data": {
      "text/plain": [
       "3"
      ]
     },
     "execution_count": 53,
     "metadata": {},
     "output_type": "execute_result"
    }
   ],
   "source": [
    "a[-2]"
   ]
  },
  {
   "cell_type": "code",
   "execution_count": 54,
   "id": "510458ad",
   "metadata": {},
   "outputs": [
    {
     "name": "stdout",
     "output_type": "stream",
     "text": [
      "{1, 2, 3, 4}\n"
     ]
    }
   ],
   "source": [
    "set={1,2,3,4}\n",
    "print(set)"
   ]
  },
  {
   "cell_type": "code",
   "execution_count": 55,
   "id": "ee6fcaf8",
   "metadata": {},
   "outputs": [
    {
     "name": "stdout",
     "output_type": "stream",
     "text": [
      "{1, 2, 3, 4, 5}\n"
     ]
    }
   ],
   "source": [
    "set={1,2,3,4,5,4,4,4,4}\n",
    "print(set)"
   ]
  },
  {
   "cell_type": "code",
   "execution_count": 57,
   "id": "226f5a3d",
   "metadata": {},
   "outputs": [],
   "source": [
    "set.add(10)"
   ]
  },
  {
   "cell_type": "code",
   "execution_count": 58,
   "id": "a862aa2d",
   "metadata": {},
   "outputs": [
    {
     "name": "stdout",
     "output_type": "stream",
     "text": [
      "{1, 2, 3, 4, 5, 10}\n"
     ]
    }
   ],
   "source": [
    "print(set)"
   ]
  },
  {
   "cell_type": "code",
   "execution_count": 59,
   "id": "2af58f8f",
   "metadata": {},
   "outputs": [
    {
     "name": "stdout",
     "output_type": "stream",
     "text": [
      "{1, 2, 3, 4, 5, 10}\n"
     ]
    }
   ],
   "source": [
    "set.add(3)\n",
    "print(set)"
   ]
  },
  {
   "cell_type": "code",
   "execution_count": 60,
   "id": "59126bf3",
   "metadata": {},
   "outputs": [
    {
     "name": "stdout",
     "output_type": "stream",
     "text": [
      "{1, 2, 3, 4, 5, 'Hey', 10}\n"
     ]
    }
   ],
   "source": [
    "set.add(\"Hey\")\n",
    "print(set)"
   ]
  },
  {
   "cell_type": "code",
   "execution_count": 61,
   "id": "128b9979",
   "metadata": {},
   "outputs": [
    {
     "name": "stdout",
     "output_type": "stream",
     "text": [
      "{1, 2, 3, 4, 'Yes'}\n"
     ]
    }
   ],
   "source": [
    "Hariprasad={1,2,3,4,\"Yes\"}\n",
    "print(Hariprasad)"
   ]
  },
  {
   "cell_type": "code",
   "execution_count": 62,
   "id": "626e71a7",
   "metadata": {},
   "outputs": [
    {
     "name": "stdout",
     "output_type": "stream",
     "text": [
      "{1, 2, 3, 4, 'Yes', 10}\n"
     ]
    }
   ],
   "source": [
    "Hariprasad.add(10)\n",
    "print(Hariprasad)"
   ]
  },
  {
   "cell_type": "code",
   "execution_count": 63,
   "id": "81cfbc01",
   "metadata": {},
   "outputs": [
    {
     "data": {
      "text/plain": [
       "range(0, 6)"
      ]
     },
     "execution_count": 63,
     "metadata": {},
     "output_type": "execute_result"
    }
   ],
   "source": [
    "range(6)"
   ]
  },
  {
   "cell_type": "code",
   "execution_count": 64,
   "id": "f80a32aa",
   "metadata": {},
   "outputs": [
    {
     "data": {
      "text/plain": [
       "[0, 1, 2, 3, 4, 5]"
      ]
     },
     "execution_count": 64,
     "metadata": {},
     "output_type": "execute_result"
    }
   ],
   "source": [
    "list(range(6))"
   ]
  },
  {
   "cell_type": "code",
   "execution_count": 65,
   "id": "2bfe8562",
   "metadata": {},
   "outputs": [
    {
     "data": {
      "text/plain": [
       "range(1, 6)"
      ]
     },
     "execution_count": 65,
     "metadata": {},
     "output_type": "execute_result"
    }
   ],
   "source": [
    "range(1,6)"
   ]
  },
  {
   "cell_type": "code",
   "execution_count": 66,
   "id": "9bc6d3b7",
   "metadata": {},
   "outputs": [
    {
     "data": {
      "text/plain": [
       "[1, 2, 3, 4, 5]"
      ]
     },
     "execution_count": 66,
     "metadata": {},
     "output_type": "execute_result"
    }
   ],
   "source": [
    "list(range(1,6))"
   ]
  },
  {
   "cell_type": "code",
   "execution_count": 67,
   "id": "0353ff81",
   "metadata": {},
   "outputs": [],
   "source": [
    "Dict={\"Key1\":100,\"Key2\":200}"
   ]
  },
  {
   "cell_type": "code",
   "execution_count": 68,
   "id": "54cd3716",
   "metadata": {},
   "outputs": [
    {
     "data": {
      "text/plain": [
       "200"
      ]
     },
     "execution_count": 68,
     "metadata": {},
     "output_type": "execute_result"
    }
   ],
   "source": [
    "Dict.get(\"Key2\")"
   ]
  },
  {
   "cell_type": "code",
   "execution_count": 69,
   "id": "8efc61ef",
   "metadata": {},
   "outputs": [],
   "source": [
    "Grade={\"Grade A\":\"The student is excellent\",\"Grade B\":\"The student is good\",\"Grade C\":\"There is room for improvement\"}"
   ]
  },
  {
   "cell_type": "code",
   "execution_count": 71,
   "id": "61f96b39",
   "metadata": {},
   "outputs": [
    {
     "name": "stdout",
     "output_type": "stream",
     "text": [
      "Please mention the grade.Grade C\n"
     ]
    },
    {
     "data": {
      "text/plain": [
       "'There is room for improvement'"
      ]
     },
     "execution_count": 71,
     "metadata": {},
     "output_type": "execute_result"
    }
   ],
   "source": [
    "Grade.get(input(\"Please mention the grade.\"))"
   ]
  },
  {
   "cell_type": "code",
   "execution_count": 74,
   "id": "848040a3",
   "metadata": {},
   "outputs": [
    {
     "name": "stdout",
     "output_type": "stream",
     "text": [
      "Please enter the first integer value12\n",
      "Please enter the second integer value15\n",
      "[12, 15]\n"
     ]
    }
   ],
   "source": [
    "First=int(input(\"Please enter the first integer value\"))\n",
    "Second=int(input(\"Please enter the second integer value\"))\n",
    "x=[First,Second]\n",
    "print(x)"
   ]
  },
  {
   "cell_type": "code",
   "execution_count": 77,
   "id": "7f69e651",
   "metadata": {},
   "outputs": [
    {
     "name": "stdout",
     "output_type": "stream",
     "text": [
      "x is lesser than or equal to 20\n"
     ]
    }
   ],
   "source": [
    "x=20\n",
    "if x>20:\n",
    "    print(\"x is greater than 20\")\n",
    "else:\n",
    "    print(\"x is lesser than or equal to 20\")"
   ]
  },
  {
   "cell_type": "code",
   "execution_count": 84,
   "id": "83d0a433",
   "metadata": {},
   "outputs": [
    {
     "name": "stdout",
     "output_type": "stream",
     "text": [
      "Please enter the temperature 15.5\n",
      "It's pleasant\n"
     ]
    }
   ],
   "source": [
    "x=float(input(\"Please enter the temperature \"))\n",
    "if x>30:\n",
    "    print(\"It's hot\")\n",
    "elif x>20:\n",
    "    print(\"It's moderately hot\")\n",
    "elif x>10:\n",
    "    print(\"It's pleasant\")\n",
    "else:\n",
    "    print(\"It's cold\")"
   ]
  },
  {
   "cell_type": "code",
   "execution_count": 89,
   "id": "405b0205",
   "metadata": {},
   "outputs": [
    {
     "name": "stdout",
     "output_type": "stream",
     "text": [
      "x is a negative number\n"
     ]
    }
   ],
   "source": [
    "x=-67\n",
    "if x>0:\n",
    "    print(\"x is a positive number\")\n",
    "elif x<0:\n",
    "    print(\"x is a negative number\")\n",
    "else:\n",
    "    print(\"x is neither positive nor negative\")"
   ]
  },
  {
   "cell_type": "code",
   "execution_count": 90,
   "id": "b6a49c1a",
   "metadata": {},
   "outputs": [
    {
     "name": "stdout",
     "output_type": "stream",
     "text": [
      "John is a good man\n"
     ]
    }
   ],
   "source": [
    "x=\"John is a good man\"\n",
    "print(x)"
   ]
  },
  {
   "cell_type": "code",
   "execution_count": 91,
   "id": "d62a8538",
   "metadata": {},
   "outputs": [
    {
     "data": {
      "text/plain": [
       "'JOHN IS A GOOD MAN'"
      ]
     },
     "execution_count": 91,
     "metadata": {},
     "output_type": "execute_result"
    }
   ],
   "source": [
    "x.upper()"
   ]
  },
  {
   "cell_type": "code",
   "execution_count": 92,
   "id": "d2fd47e7",
   "metadata": {},
   "outputs": [
    {
     "data": {
      "text/plain": [
       "'john is a good man'"
      ]
     },
     "execution_count": 92,
     "metadata": {},
     "output_type": "execute_result"
    }
   ],
   "source": [
    "x.lower()"
   ]
  },
  {
   "cell_type": "code",
   "execution_count": 93,
   "id": "7c43d185",
   "metadata": {},
   "outputs": [
    {
     "data": {
      "text/plain": [
       "'John is a good man'"
      ]
     },
     "execution_count": 93,
     "metadata": {},
     "output_type": "execute_result"
    }
   ],
   "source": [
    "x.capitalize()"
   ]
  },
  {
   "cell_type": "code",
   "execution_count": 94,
   "id": "4be2d38d",
   "metadata": {},
   "outputs": [
    {
     "data": {
      "text/plain": [
       "'John Is A Good Man'"
      ]
     },
     "execution_count": 94,
     "metadata": {},
     "output_type": "execute_result"
    }
   ],
   "source": [
    "x.title()"
   ]
  },
  {
   "cell_type": "markdown",
   "id": "532ebe9d",
   "metadata": {},
   "source": [
    "# Loops"
   ]
  },
  {
   "cell_type": "code",
   "execution_count": 95,
   "id": "d5f4dd7b",
   "metadata": {},
   "outputs": [],
   "source": [
    "#Loop is a block of code that iterates/repeats an action based on a certain condition/ or until a certain condition is met"
   ]
  },
  {
   "cell_type": "code",
   "execution_count": 107,
   "id": "89f08079",
   "metadata": {},
   "outputs": [
    {
     "name": "stdout",
     "output_type": "stream",
     "text": [
      "2 4 6 8 10 "
     ]
    }
   ],
   "source": [
    "list=[1,2,3,4,5]\n",
    "for L in list:\n",
    "    print(L*2,end=\" \")"
   ]
  },
  {
   "cell_type": "code",
   "execution_count": 98,
   "id": "b97a1819",
   "metadata": {},
   "outputs": [
    {
     "name": "stdout",
     "output_type": "stream",
     "text": [
      "P\n",
      "y\n",
      "t\n",
      "h\n",
      "o\n",
      "n\n"
     ]
    }
   ],
   "source": [
    "x=\"Python\"\n",
    "for i in x:\n",
    "    print(i)"
   ]
  },
  {
   "cell_type": "code",
   "execution_count": 119,
   "id": "1411b365",
   "metadata": {},
   "outputs": [
    {
     "name": "stdout",
     "output_type": "stream",
     "text": [
      "S  i  m  p  l  i  l  e  a  r  n  "
     ]
    }
   ],
   "source": [
    "x=\"Simplilearn\"\n",
    "for i in x:\n",
    "    print(i,end=\"  \")"
   ]
  },
  {
   "cell_type": "code",
   "execution_count": null,
   "id": "c6d2ea52",
   "metadata": {},
   "outputs": [],
   "source": [
    "x=\"Python\"\n",
    "#Output needed is as follows -\n",
    "P - 1\n",
    "y - 2\n",
    "t - 3\n",
    "h - 4\n",
    "o - 5\n",
    "n - 6"
   ]
  },
  {
   "cell_type": "code",
   "execution_count": 132,
   "id": "e615214b",
   "metadata": {},
   "outputs": [
    {
     "name": "stdout",
     "output_type": "stream",
     "text": [
      "P - 1\n",
      "y - 2\n",
      "t - 3\n",
      "h - 4\n",
      "o - 5\n",
      "n - 6\n"
     ]
    }
   ],
   "source": [
    "x=\"Python\"\n",
    "for i in range(len(x)):\n",
    "    print(x[i],\"-\",i+1)"
   ]
  },
  {
   "cell_type": "code",
   "execution_count": 121,
   "id": "79538d1f",
   "metadata": {},
   "outputs": [
    {
     "data": {
      "text/plain": [
       "6"
      ]
     },
     "execution_count": 121,
     "metadata": {},
     "output_type": "execute_result"
    }
   ],
   "source": [
    "len(x)"
   ]
  },
  {
   "cell_type": "code",
   "execution_count": 122,
   "id": "c9b94c87",
   "metadata": {},
   "outputs": [
    {
     "data": {
      "text/plain": [
       "range(0, 6)"
      ]
     },
     "execution_count": 122,
     "metadata": {},
     "output_type": "execute_result"
    }
   ],
   "source": [
    "range(len(x))"
   ]
  },
  {
   "cell_type": "code",
   "execution_count": 130,
   "id": "d987d4e4",
   "metadata": {},
   "outputs": [
    {
     "ename": "TypeError",
     "evalue": "'list' object is not callable",
     "output_type": "error",
     "traceback": [
      "\u001b[1;31m---------------------------------------------------------------------------\u001b[0m",
      "\u001b[1;31mTypeError\u001b[0m                                 Traceback (most recent call last)",
      "Input \u001b[1;32mIn [130]\u001b[0m, in \u001b[0;36m<cell line: 1>\u001b[1;34m()\u001b[0m\n\u001b[1;32m----> 1\u001b[0m \u001b[38;5;28;43mlist\u001b[39;49m\u001b[43m(\u001b[49m\u001b[38;5;28;43mrange\u001b[39;49m\u001b[43m(\u001b[49m\u001b[38;5;241;43m0\u001b[39;49m\u001b[43m,\u001b[49m\u001b[38;5;241;43m6\u001b[39;49m\u001b[43m)\u001b[49m\u001b[43m)\u001b[49m\n",
      "\u001b[1;31mTypeError\u001b[0m: 'list' object is not callable"
     ]
    }
   ],
   "source": [
    "0,1,2,3,4,5"
   ]
  },
  {
   "cell_type": "code",
   "execution_count": null,
   "id": "cb67d8f5",
   "metadata": {},
   "outputs": [],
   "source": []
  },
  {
   "cell_type": "code",
   "execution_count": 142,
   "id": "1917f1f1",
   "metadata": {},
   "outputs": [
    {
     "name": "stdout",
     "output_type": "stream",
     "text": [
      "25\n",
      "36\n",
      "49\n",
      "64\n",
      "81\n",
      "100\n"
     ]
    }
   ],
   "source": [
    "s=5\n",
    "while s <= 10:\n",
    "    print(s**2)\n",
    "    s+=1"
   ]
  },
  {
   "cell_type": "code",
   "execution_count": 173,
   "id": "2e4dfec5",
   "metadata": {},
   "outputs": [
    {
     "name": "stdout",
     "output_type": "stream",
     "text": [
      "Please enter the number of rows3\n",
      "Please enter the number of columns5\n",
      "$ $ $ $ $ \n",
      "$ $ $ $ $ \n",
      "$ $ $ $ $ \n"
     ]
    }
   ],
   "source": [
    "rows=int(input(\"Please enter the number of rows\"))\n",
    "columns=int(input(\"Please enter the number of columns\"))\n",
    "symbol=\"$\"\n",
    "\n",
    "for s in range(rows):    \n",
    "    for i in range(columns):\n",
    "        print(symbol,end=\" \")\n",
    "    print()"
   ]
  },
  {
   "cell_type": "code",
   "execution_count": 172,
   "id": "eb7497d2",
   "metadata": {},
   "outputs": [
    {
     "name": "stdout",
     "output_type": "stream",
     "text": [
      "Please enter the number of columns4\n",
      "$ $ $ $ "
     ]
    }
   ],
   "source": [
    "columns=int(input(\"Please enter the number of columns\"))\n",
    "symbol=\"$\"\n",
    "for i in range(columns):\n",
    "    print(symbol,end=\" \")\n",
    "        "
   ]
  },
  {
   "cell_type": "code",
   "execution_count": 157,
   "id": "5b445fe7",
   "metadata": {},
   "outputs": [
    {
     "name": "stdout",
     "output_type": "stream",
     "text": [
      "P\n",
      "y\n",
      "t\n"
     ]
    }
   ],
   "source": [
    "y=\"Python\"\n",
    "for i in y:\n",
    "    if i==\"h\":\n",
    "        break\n",
    "    print(i)"
   ]
  },
  {
   "cell_type": "code",
   "execution_count": 160,
   "id": "e4effbba",
   "metadata": {},
   "outputs": [],
   "source": [
    "def greetings(name,greeting):\n",
    "    print(greeting + \"! \" + name)"
   ]
  },
  {
   "cell_type": "code",
   "execution_count": 174,
   "id": "7b5b4e29",
   "metadata": {},
   "outputs": [
    {
     "name": "stdout",
     "output_type": "stream",
     "text": [
      "Please enter the nameNasiba\n",
      "Please enter the greetingGood night\n",
      "Good night! Nasiba\n"
     ]
    }
   ],
   "source": [
    "x=input(\"Please enter the name\")\n",
    "y=input(\"Please enter the greeting\")\n",
    "greetings(x,y)"
   ]
  },
  {
   "cell_type": "code",
   "execution_count": 163,
   "id": "7bbafbc3",
   "metadata": {},
   "outputs": [
    {
     "name": "stdout",
     "output_type": "stream",
     "text": [
      "Good Day! Simplilearn Students\n"
     ]
    }
   ],
   "source": [
    "greetings(\"Simplilearn Students\",\"Good Day\")"
   ]
  },
  {
   "cell_type": "code",
   "execution_count": 168,
   "id": "cc497e20",
   "metadata": {},
   "outputs": [],
   "source": [
    "#Simplilearn"
   ]
  },
  {
   "cell_type": "code",
   "execution_count": 170,
   "id": "4a050410",
   "metadata": {},
   "outputs": [
    {
     "name": "stdout",
     "output_type": "stream",
     "text": [
      "p\n",
      "y\n",
      "t\n",
      "h\n",
      "o\n",
      "n\n",
      "\n",
      "p\n",
      "y\n",
      "t\n",
      "h\n",
      "o\n",
      "n\n",
      "\n",
      "p\n",
      "y\n",
      "t\n",
      "h\n",
      "o\n",
      "n\n",
      "\n"
     ]
    }
   ],
   "source": [
    "x=\"python\"\n",
    "for s in range(0,3):\n",
    "    for i in x:\n",
    "        print(i)\n",
    "    print()"
   ]
  },
  {
   "cell_type": "code",
   "execution_count": null,
   "id": "6c7b3161",
   "metadata": {},
   "outputs": [],
   "source": []
  }
 ],
 "metadata": {
  "kernelspec": {
   "display_name": "Python 3 (ipykernel)",
   "language": "python",
   "name": "python3"
  },
  "language_info": {
   "codemirror_mode": {
    "name": "ipython",
    "version": 3
   },
   "file_extension": ".py",
   "mimetype": "text/x-python",
   "name": "python",
   "nbconvert_exporter": "python",
   "pygments_lexer": "ipython3",
   "version": "3.9.12"
  }
 },
 "nbformat": 4,
 "nbformat_minor": 5
}
