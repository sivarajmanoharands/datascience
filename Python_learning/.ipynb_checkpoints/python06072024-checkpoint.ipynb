{
 "cells": [
  {
   "cell_type": "code",
   "execution_count": 1,
   "id": "4f612809-a346-415a-834d-39ceba928766",
   "metadata": {
    "collapsed": true,
    "execution": {
     "iopub.execute_input": "2024-07-06T14:00:08.610929Z",
     "iopub.status.busy": "2024-07-06T14:00:08.608362Z",
     "iopub.status.idle": "2024-07-06T14:00:08.633559Z",
     "shell.execute_reply": "2024-07-06T14:00:08.631548Z",
     "shell.execute_reply.started": "2024-07-06T14:00:08.610929Z"
    },
    "jupyter": {
     "outputs_hidden": true
    }
   },
   "outputs": [],
   "source": [
    "x = [1,2,3,4,5,6]"
   ]
  },
  {
   "cell_type": "code",
   "execution_count": 3,
   "id": "2bfb422c-39ba-445b-a4cc-636c1a7bb996",
   "metadata": {
    "collapsed": true,
    "execution": {
     "iopub.execute_input": "2024-07-06T14:00:20.607776Z",
     "iopub.status.busy": "2024-07-06T14:00:20.606261Z",
     "iopub.status.idle": "2024-07-06T14:00:20.622170Z",
     "shell.execute_reply": "2024-07-06T14:00:20.619154Z",
     "shell.execute_reply.started": "2024-07-06T14:00:20.607776Z"
    },
    "jupyter": {
     "outputs_hidden": true
    }
   },
   "outputs": [
    {
     "data": {
      "text/plain": [
       "6"
      ]
     },
     "execution_count": 3,
     "metadata": {},
     "output_type": "execute_result"
    }
   ],
   "source": [
    "max(x)"
   ]
  },
  {
   "cell_type": "code",
   "execution_count": 5,
   "id": "765898ac-b5fc-4ad5-adac-fc2ee1201059",
   "metadata": {
    "collapsed": true,
    "execution": {
     "iopub.execute_input": "2024-07-06T14:00:25.569744Z",
     "iopub.status.busy": "2024-07-06T14:00:25.569100Z",
     "iopub.status.idle": "2024-07-06T14:00:25.583473Z",
     "shell.execute_reply": "2024-07-06T14:00:25.581450Z",
     "shell.execute_reply.started": "2024-07-06T14:00:25.569744Z"
    },
    "jupyter": {
     "outputs_hidden": true
    }
   },
   "outputs": [
    {
     "data": {
      "text/plain": [
       "1"
      ]
     },
     "execution_count": 5,
     "metadata": {},
     "output_type": "execute_result"
    }
   ],
   "source": [
    "min(x)"
   ]
  },
  {
   "cell_type": "code",
   "execution_count": 11,
   "id": "e9b67d05-d187-4335-a3b7-98c8e466ee06",
   "metadata": {
    "collapsed": true,
    "execution": {
     "iopub.execute_input": "2024-07-06T14:01:24.379679Z",
     "iopub.status.busy": "2024-07-06T14:01:24.378668Z",
     "iopub.status.idle": "2024-07-06T14:01:24.388874Z",
     "shell.execute_reply": "2024-07-06T14:01:24.386773Z",
     "shell.execute_reply.started": "2024-07-06T14:01:24.379679Z"
    },
    "jupyter": {
     "outputs_hidden": true
    }
   },
   "outputs": [],
   "source": [
    "def sum1(x,y,z):\n",
    "    print(x+y+z)"
   ]
  },
  {
   "cell_type": "code",
   "execution_count": 13,
   "id": "4ec4356b-30d9-4d2a-b0fb-6b9ca563311a",
   "metadata": {
    "collapsed": true,
    "execution": {
     "iopub.execute_input": "2024-07-06T14:01:26.697949Z",
     "iopub.status.busy": "2024-07-06T14:01:26.696930Z",
     "iopub.status.idle": "2024-07-06T14:01:26.707160Z",
     "shell.execute_reply": "2024-07-06T14:01:26.704620Z",
     "shell.execute_reply.started": "2024-07-06T14:01:26.697949Z"
    },
    "jupyter": {
     "outputs_hidden": true
    }
   },
   "outputs": [
    {
     "name": "stdout",
     "output_type": "stream",
     "text": [
      "60\n"
     ]
    }
   ],
   "source": [
    "sum1(10,20,30)"
   ]
  },
  {
   "cell_type": "code",
   "execution_count": 5,
   "id": "682eb314-5867-44e5-9b56-3d75f16f8c3e",
   "metadata": {
    "collapsed": true,
    "execution": {
     "iopub.execute_input": "2024-07-06T14:07:40.624000Z",
     "iopub.status.busy": "2024-07-06T14:07:40.623000Z",
     "iopub.status.idle": "2024-07-06T14:07:40.633247Z",
     "shell.execute_reply": "2024-07-06T14:07:40.631220Z",
     "shell.execute_reply.started": "2024-07-06T14:07:40.624000Z"
    },
    "jupyter": {
     "outputs_hidden": true
    }
   },
   "outputs": [],
   "source": [
    "def even(x):\n",
    "    if x%2==0:\n",
    "        print(\"even\")\n",
    "    else:\n",
    "        print(\"odd\")"
   ]
  },
  {
   "cell_type": "code",
   "execution_count": 7,
   "id": "c49e7033-0da9-4f10-b6c3-b88fe645f5d0",
   "metadata": {
    "collapsed": true,
    "execution": {
     "iopub.execute_input": "2024-07-06T14:07:49.515450Z",
     "iopub.status.busy": "2024-07-06T14:07:49.514449Z",
     "iopub.status.idle": "2024-07-06T14:07:49.526846Z",
     "shell.execute_reply": "2024-07-06T14:07:49.523790Z",
     "shell.execute_reply.started": "2024-07-06T14:07:49.515450Z"
    },
    "jupyter": {
     "outputs_hidden": true
    }
   },
   "outputs": [
    {
     "name": "stdout",
     "output_type": "stream",
     "text": [
      "even\n"
     ]
    }
   ],
   "source": [
    "even(124)"
   ]
  },
  {
   "cell_type": "code",
   "execution_count": 18,
   "id": "793e81f7-e544-44d4-b1c5-5eb8ca30ed79",
   "metadata": {
    "collapsed": true,
    "execution": {
     "iopub.execute_input": "2024-07-06T14:19:48.230779Z",
     "iopub.status.busy": "2024-07-06T14:19:48.229781Z",
     "iopub.status.idle": "2024-07-06T14:19:48.240721Z",
     "shell.execute_reply": "2024-07-06T14:19:48.238762Z",
     "shell.execute_reply.started": "2024-07-06T14:19:48.230779Z"
    },
    "jupyter": {
     "outputs_hidden": true
    }
   },
   "outputs": [],
   "source": [
    "def sum2(*args):\n",
    "    total = 0\n",
    "    for i in args:\n",
    "        total+=i\n",
    "    print(total)\n",
    "    \n",
    "    "
   ]
  },
  {
   "cell_type": "code",
   "execution_count": 22,
   "id": "aef0199c-5bec-4612-9948-26a3debf997a",
   "metadata": {
    "collapsed": true,
    "execution": {
     "iopub.execute_input": "2024-07-06T14:20:08.367899Z",
     "iopub.status.busy": "2024-07-06T14:20:08.366885Z",
     "iopub.status.idle": "2024-07-06T14:20:08.380230Z",
     "shell.execute_reply": "2024-07-06T14:20:08.377677Z",
     "shell.execute_reply.started": "2024-07-06T14:20:08.367899Z"
    },
    "jupyter": {
     "outputs_hidden": true
    }
   },
   "outputs": [
    {
     "name": "stdout",
     "output_type": "stream",
     "text": [
      "108\n"
     ]
    }
   ],
   "source": [
    "sum2(12,15,24,57)"
   ]
  },
  {
   "cell_type": "code",
   "execution_count": 2,
   "id": "af51a534-9fc8-4237-a5f3-5c55f8223a5e",
   "metadata": {
    "collapsed": true,
    "execution": {
     "iopub.execute_input": "2024-07-06T14:21:48.322777Z",
     "iopub.status.busy": "2024-07-06T14:21:48.321776Z",
     "iopub.status.idle": "2024-07-06T14:21:48.333165Z",
     "shell.execute_reply": "2024-07-06T14:21:48.331146Z",
     "shell.execute_reply.started": "2024-07-06T14:21:48.322777Z"
    },
    "jupyter": {
     "outputs_hidden": true
    }
   },
   "outputs": [],
   "source": [
    "def simple(*data):\n",
    "    print(data)"
   ]
  },
  {
   "cell_type": "code",
   "execution_count": 4,
   "id": "c05db565-e085-4614-88a9-21578579826a",
   "metadata": {
    "collapsed": true,
    "execution": {
     "iopub.execute_input": "2024-07-06T14:22:25.970932Z",
     "iopub.status.busy": "2024-07-06T14:22:25.969418Z",
     "iopub.status.idle": "2024-07-06T14:22:25.982798Z",
     "shell.execute_reply": "2024-07-06T14:22:25.980243Z",
     "shell.execute_reply.started": "2024-07-06T14:22:25.970932Z"
    },
    "jupyter": {
     "outputs_hidden": true
    }
   },
   "outputs": [
    {
     "name": "stdout",
     "output_type": "stream",
     "text": [
      "('I', 'am', 'a', 'good', 'boy')\n"
     ]
    }
   ],
   "source": [
    "simple(\"I\",\"am\",\"a\",\"good\",\"boy\")"
   ]
  },
  {
   "cell_type": "code",
   "execution_count": 6,
   "id": "28dc6996-f3ac-4cdf-a899-8395b9f3ec69",
   "metadata": {
    "collapsed": true,
    "execution": {
     "iopub.execute_input": "2024-07-06T14:22:46.788718Z",
     "iopub.status.busy": "2024-07-06T14:22:46.787165Z",
     "iopub.status.idle": "2024-07-06T14:22:46.797008Z",
     "shell.execute_reply": "2024-07-06T14:22:46.795486Z",
     "shell.execute_reply.started": "2024-07-06T14:22:46.788718Z"
    },
    "jupyter": {
     "outputs_hidden": true
    }
   },
   "outputs": [
    {
     "name": "stdout",
     "output_type": "stream",
     "text": [
      "('I am a good boy',)\n"
     ]
    }
   ],
   "source": [
    "simple(\"I am a good boy\")"
   ]
  },
  {
   "cell_type": "code",
   "execution_count": 15,
   "id": "5910bcf2-d953-4159-8743-6addf15998c6",
   "metadata": {
    "collapsed": true,
    "execution": {
     "iopub.execute_input": "2024-07-06T14:29:55.927688Z",
     "iopub.status.busy": "2024-07-06T14:29:55.927177Z",
     "iopub.status.idle": "2024-07-06T14:29:55.935658Z",
     "shell.execute_reply": "2024-07-06T14:29:55.934643Z",
     "shell.execute_reply.started": "2024-07-06T14:29:55.927688Z"
    },
    "jupyter": {
     "outputs_hidden": true
    }
   },
   "outputs": [],
   "source": [
    "def simple2(*data):\n",
    "    for i in data:\n",
    "        print(i)\n",
    "        "
   ]
  },
  {
   "cell_type": "code",
   "execution_count": 19,
   "id": "aab19c28-056d-40e3-a248-0aaac56031b9",
   "metadata": {
    "collapsed": true,
    "execution": {
     "iopub.execute_input": "2024-07-06T14:30:05.806994Z",
     "iopub.status.busy": "2024-07-06T14:30:05.805968Z",
     "iopub.status.idle": "2024-07-06T14:30:05.818809Z",
     "shell.execute_reply": "2024-07-06T14:30:05.817151Z",
     "shell.execute_reply.started": "2024-07-06T14:30:05.806994Z"
    },
    "jupyter": {
     "outputs_hidden": true
    }
   },
   "outputs": [
    {
     "name": "stdout",
     "output_type": "stream",
     "text": [
      "I\n",
      "am\n",
      "a\n",
      "good\n",
      "boy\n"
     ]
    }
   ],
   "source": [
    "simple2(\"I\",\"am\",\"a\",\"good\",\"boy\")"
   ]
  },
  {
   "cell_type": "code",
   "execution_count": 17,
   "id": "c23cb4e4-b79a-4eea-9c7a-20b129e40360",
   "metadata": {
    "collapsed": true,
    "execution": {
     "iopub.execute_input": "2024-07-06T14:30:00.271489Z",
     "iopub.status.busy": "2024-07-06T14:30:00.270489Z",
     "iopub.status.idle": "2024-07-06T14:30:00.281705Z",
     "shell.execute_reply": "2024-07-06T14:30:00.279142Z",
     "shell.execute_reply.started": "2024-07-06T14:30:00.271489Z"
    },
    "jupyter": {
     "outputs_hidden": true
    }
   },
   "outputs": [],
   "source": [
    "def simple3(*data):\n",
    "    for i in data:\n",
    "        for j in i:\n",
    "            print(j)\n",
    "        "
   ]
  },
  {
   "cell_type": "code",
   "execution_count": 26,
   "id": "2527c64d-7bbd-4c85-8d93-b9b6d690a8ec",
   "metadata": {
    "collapsed": true,
    "execution": {
     "iopub.execute_input": "2024-07-06T14:30:55.842808Z",
     "iopub.status.busy": "2024-07-06T14:30:55.842808Z",
     "iopub.status.idle": "2024-07-06T14:30:55.852775Z",
     "shell.execute_reply": "2024-07-06T14:30:55.850765Z",
     "shell.execute_reply.started": "2024-07-06T14:30:55.842808Z"
    },
    "jupyter": {
     "outputs_hidden": true
    }
   },
   "outputs": [
    {
     "name": "stdout",
     "output_type": "stream",
     "text": [
      "I\n",
      "a\n",
      "m\n",
      "a\n",
      "g\n",
      "o\n",
      "o\n",
      "d\n",
      "b\n",
      "o\n",
      "y\n"
     ]
    }
   ],
   "source": [
    "simple3(\"I\",\"am\",\"a\",\"good\",\"boy\")"
   ]
  },
  {
   "cell_type": "code",
   "execution_count": 28,
   "id": "2019722e-2f20-428b-8095-4f964ffbf521",
   "metadata": {
    "collapsed": true,
    "execution": {
     "iopub.execute_input": "2024-07-06T14:31:21.022884Z",
     "iopub.status.busy": "2024-07-06T14:31:21.021374Z",
     "iopub.status.idle": "2024-07-06T14:31:21.034270Z",
     "shell.execute_reply": "2024-07-06T14:31:21.031712Z",
     "shell.execute_reply.started": "2024-07-06T14:31:21.022884Z"
    },
    "jupyter": {
     "outputs_hidden": true
    }
   },
   "outputs": [
    {
     "name": "stdout",
     "output_type": "stream",
     "text": [
      "a\n",
      "b\n",
      "c\n",
      "d\n",
      "e\n"
     ]
    }
   ],
   "source": [
    "simple3(\"a\",\"b\",\"c\",\"d\",\"e\")"
   ]
  },
  {
   "cell_type": "code",
   "execution_count": 30,
   "id": "3528ee09-1a6e-487d-b4ee-520f0981111d",
   "metadata": {
    "execution": {
     "iopub.execute_input": "2024-07-06T14:41:49.369501Z",
     "iopub.status.busy": "2024-07-06T14:41:49.369501Z",
     "iopub.status.idle": "2024-07-06T14:41:49.380135Z",
     "shell.execute_reply": "2024-07-06T14:41:49.377568Z",
     "shell.execute_reply.started": "2024-07-06T14:41:49.369501Z"
    }
   },
   "outputs": [],
   "source": [
    "def sum3(**args):\n",
    "    print(args)"
   ]
  },
  {
   "cell_type": "code",
   "execution_count": 34,
   "id": "72f42ec7-7d30-4879-8ab2-22e7d6dcda63",
   "metadata": {
    "execution": {
     "iopub.execute_input": "2024-07-06T14:43:52.203615Z",
     "iopub.status.busy": "2024-07-06T14:43:52.203615Z",
     "iopub.status.idle": "2024-07-06T14:43:52.214370Z",
     "shell.execute_reply": "2024-07-06T14:43:52.212360Z",
     "shell.execute_reply.started": "2024-07-06T14:43:52.203615Z"
    }
   },
   "outputs": [
    {
     "name": "stdout",
     "output_type": "stream",
     "text": [
      "{'name': 'sivaraj', 'age': '40', 'qualification': 'BE CSE', 'Experience': '17 Years', 'city': 'Chennai'}\n"
     ]
    }
   ],
   "source": [
    "sum3(name='sivaraj',age='40',qualification='BE CSE',Experience = '17 Years',city = 'Chennai')"
   ]
  },
  {
   "cell_type": "code",
   "execution_count": 36,
   "id": "ce7c883f-69d1-472b-afd7-ff8d97055197",
   "metadata": {
    "editable": true,
    "execution": {
     "iopub.execute_input": "2024-07-06T14:48:37.967914Z",
     "iopub.status.busy": "2024-07-06T14:48:37.967914Z",
     "iopub.status.idle": "2024-07-06T14:48:37.980788Z",
     "shell.execute_reply": "2024-07-06T14:48:37.977587Z",
     "shell.execute_reply.started": "2024-07-06T14:48:37.967914Z"
    },
    "slideshow": {
     "slide_type": ""
    },
    "tags": []
   },
   "outputs": [],
   "source": [
    "def sum4(*data,**args):\n",
    "    print(data)\n",
    "    print(args)"
   ]
  },
  {
   "cell_type": "code",
   "execution_count": 38,
   "id": "c300736e-78f2-4cba-a3ed-bffb2fdada03",
   "metadata": {
    "execution": {
     "iopub.execute_input": "2024-07-06T14:49:15.875838Z",
     "iopub.status.busy": "2024-07-06T14:49:15.874332Z",
     "iopub.status.idle": "2024-07-06T14:49:15.888007Z",
     "shell.execute_reply": "2024-07-06T14:49:15.885445Z",
     "shell.execute_reply.started": "2024-07-06T14:49:15.875838Z"
    }
   },
   "outputs": [
    {
     "name": "stdout",
     "output_type": "stream",
     "text": [
      "(1, 'Personal Info')\n",
      "{'name': 'sivaraj', 'age': '40', 'qualification': 'BE CSE', 'Experience': '17 Years', 'city': 'Chennai'}\n"
     ]
    }
   ],
   "source": [
    "sum4(1,'Personal Info',name='sivaraj',age='40',qualification='BE CSE',Experience = '17 Years',city = 'Chennai')"
   ]
  },
  {
   "cell_type": "code",
   "execution_count": 40,
   "id": "a9ed3b24-dc4f-428b-b1ed-fc2de5351bb3",
   "metadata": {
    "execution": {
     "iopub.execute_input": "2024-07-06T14:52:19.125458Z",
     "iopub.status.busy": "2024-07-06T14:52:19.124459Z",
     "iopub.status.idle": "2024-07-06T14:52:19.138103Z",
     "shell.execute_reply": "2024-07-06T14:52:19.134010Z",
     "shell.execute_reply.started": "2024-07-06T14:52:19.125458Z"
    }
   },
   "outputs": [],
   "source": [
    "def yup():\n",
    "    lv = 10\n",
    "    print(lv)"
   ]
  },
  {
   "cell_type": "code",
   "execution_count": 42,
   "id": "5e204a2b-e570-461d-b86b-e05676389be3",
   "metadata": {
    "execution": {
     "iopub.execute_input": "2024-07-06T14:52:34.361168Z",
     "iopub.status.busy": "2024-07-06T14:52:34.360165Z",
     "iopub.status.idle": "2024-07-06T14:52:34.375353Z",
     "shell.execute_reply": "2024-07-06T14:52:34.372799Z",
     "shell.execute_reply.started": "2024-07-06T14:52:34.361168Z"
    }
   },
   "outputs": [
    {
     "name": "stdout",
     "output_type": "stream",
     "text": [
      "10\n"
     ]
    }
   ],
   "source": [
    "yup()"
   ]
  },
  {
   "cell_type": "code",
   "execution_count": 46,
   "id": "4300a51c-700f-4799-931e-3d756e24cabd",
   "metadata": {
    "execution": {
     "iopub.execute_input": "2024-07-06T14:53:48.487320Z",
     "iopub.status.busy": "2024-07-06T14:53:48.485778Z",
     "iopub.status.idle": "2024-07-06T14:53:48.501225Z",
     "shell.execute_reply": "2024-07-06T14:53:48.497644Z",
     "shell.execute_reply.started": "2024-07-06T14:53:48.487320Z"
    }
   },
   "outputs": [],
   "source": [
    "def yup():\n",
    "    global lv1\n",
    "    lv1 = 10\n",
    "    print(lv1)"
   ]
  },
  {
   "cell_type": "code",
   "execution_count": 52,
   "id": "7a0d8286-6c0d-44dd-b4cc-a81472d0c45c",
   "metadata": {
    "execution": {
     "iopub.execute_input": "2024-07-06T14:54:23.583763Z",
     "iopub.status.busy": "2024-07-06T14:54:23.582760Z",
     "iopub.status.idle": "2024-07-06T14:54:23.599116Z",
     "shell.execute_reply": "2024-07-06T14:54:23.595927Z",
     "shell.execute_reply.started": "2024-07-06T14:54:23.583763Z"
    }
   },
   "outputs": [
    {
     "name": "stdout",
     "output_type": "stream",
     "text": [
      "10\n"
     ]
    }
   ],
   "source": [
    "yup()"
   ]
  },
  {
   "cell_type": "code",
   "execution_count": 54,
   "id": "5003598f-8c11-46dd-8120-a25627aa6dd4",
   "metadata": {
    "execution": {
     "iopub.execute_input": "2024-07-06T14:54:31.500927Z",
     "iopub.status.busy": "2024-07-06T14:54:31.498382Z",
     "iopub.status.idle": "2024-07-06T14:54:31.513733Z",
     "shell.execute_reply": "2024-07-06T14:54:31.511199Z",
     "shell.execute_reply.started": "2024-07-06T14:54:31.500927Z"
    }
   },
   "outputs": [
    {
     "name": "stdout",
     "output_type": "stream",
     "text": [
      "10\n"
     ]
    }
   ],
   "source": [
    "print(lv1)"
   ]
  },
  {
   "cell_type": "code",
   "execution_count": 58,
   "id": "fc4b97bc-83d0-45bf-9926-a6adcbcd98c4",
   "metadata": {
    "execution": {
     "iopub.execute_input": "2024-07-06T15:02:28.867814Z",
     "iopub.status.busy": "2024-07-06T15:02:28.865696Z",
     "iopub.status.idle": "2024-07-06T15:02:28.885512Z",
     "shell.execute_reply": "2024-07-06T15:02:28.883493Z",
     "shell.execute_reply.started": "2024-07-06T15:02:28.867814Z"
    }
   },
   "outputs": [
    {
     "data": {
      "text/plain": [
       "1024"
      ]
     },
     "execution_count": 58,
     "metadata": {},
     "output_type": "execute_result"
    }
   ],
   "source": [
    "(lambda x,y:x**y)(4,5)"
   ]
  },
  {
   "cell_type": "code",
   "execution_count": 60,
   "id": "48b34f30-30f6-4a01-b3be-76ddc004832f",
   "metadata": {
    "execution": {
     "iopub.execute_input": "2024-07-06T15:02:57.265239Z",
     "iopub.status.busy": "2024-07-06T15:02:57.264230Z",
     "iopub.status.idle": "2024-07-06T15:02:57.282462Z",
     "shell.execute_reply": "2024-07-06T15:02:57.279442Z",
     "shell.execute_reply.started": "2024-07-06T15:02:57.265239Z"
    }
   },
   "outputs": [
    {
     "data": {
      "text/plain": [
       "'sivaraj'"
      ]
     },
     "execution_count": 60,
     "metadata": {},
     "output_type": "execute_result"
    }
   ],
   "source": [
    "(lambda x,y:x+y)('siva','raj')"
   ]
  },
  {
   "cell_type": "code",
   "execution_count": 70,
   "id": "5d546275-1552-44dd-aa9c-0cdf40af9977",
   "metadata": {
    "execution": {
     "iopub.execute_input": "2024-07-06T15:10:49.976825Z",
     "iopub.status.busy": "2024-07-06T15:10:49.975313Z",
     "iopub.status.idle": "2024-07-06T15:10:49.986899Z",
     "shell.execute_reply": "2024-07-06T15:10:49.984884Z",
     "shell.execute_reply.started": "2024-07-06T15:10:49.976825Z"
    }
   },
   "outputs": [],
   "source": [
    "x=[15,12,14,19,24,25,27,37,59,44,66]"
   ]
  },
  {
   "cell_type": "code",
   "execution_count": 72,
   "id": "27b92146-d56e-41ca-a95e-b881eb6dbe72",
   "metadata": {
    "execution": {
     "iopub.execute_input": "2024-07-06T15:11:57.325591Z",
     "iopub.status.busy": "2024-07-06T15:11:57.324590Z",
     "iopub.status.idle": "2024-07-06T15:11:57.333980Z",
     "shell.execute_reply": "2024-07-06T15:11:57.332036Z",
     "shell.execute_reply.started": "2024-07-06T15:11:57.325591Z"
    }
   },
   "outputs": [],
   "source": [
    "even=list(filter(lambda n:n%2==0,x))"
   ]
  },
  {
   "cell_type": "code",
   "execution_count": 74,
   "id": "275361be-dd41-4492-8c9c-822d06ac87a5",
   "metadata": {
    "execution": {
     "iopub.execute_input": "2024-07-06T15:12:04.828774Z",
     "iopub.status.busy": "2024-07-06T15:12:04.827752Z",
     "iopub.status.idle": "2024-07-06T15:12:04.842486Z",
     "shell.execute_reply": "2024-07-06T15:12:04.840472Z",
     "shell.execute_reply.started": "2024-07-06T15:12:04.828774Z"
    }
   },
   "outputs": [
    {
     "data": {
      "text/plain": [
       "[12, 14, 24, 44, 66]"
      ]
     },
     "execution_count": 74,
     "metadata": {},
     "output_type": "execute_result"
    }
   ],
   "source": [
    "even"
   ]
  },
  {
   "cell_type": "code",
   "execution_count": 76,
   "id": "609abd44-d3a5-4044-8db7-7e6c57198450",
   "metadata": {
    "execution": {
     "iopub.execute_input": "2024-07-06T15:13:45.752044Z",
     "iopub.status.busy": "2024-07-06T15:13:45.751046Z",
     "iopub.status.idle": "2024-07-06T15:13:45.760740Z",
     "shell.execute_reply": "2024-07-06T15:13:45.758724Z",
     "shell.execute_reply.started": "2024-07-06T15:13:45.752044Z"
    }
   },
   "outputs": [],
   "source": [
    "odd=list(filter(lambda n:n%2!=0,x))"
   ]
  },
  {
   "cell_type": "code",
   "execution_count": 78,
   "id": "7ccf3465-0422-4172-9e97-130e4d850930",
   "metadata": {
    "execution": {
     "iopub.execute_input": "2024-07-06T15:13:48.727885Z",
     "iopub.status.busy": "2024-07-06T15:13:48.725211Z",
     "iopub.status.idle": "2024-07-06T15:13:48.744848Z",
     "shell.execute_reply": "2024-07-06T15:13:48.741832Z",
     "shell.execute_reply.started": "2024-07-06T15:13:48.727885Z"
    }
   },
   "outputs": [
    {
     "data": {
      "text/plain": [
       "[15, 19, 25, 27, 37, 59]"
      ]
     },
     "execution_count": 78,
     "metadata": {},
     "output_type": "execute_result"
    }
   ],
   "source": [
    "odd"
   ]
  },
  {
   "cell_type": "code",
   "execution_count": 86,
   "id": "21d04636-e996-4b0d-88c1-3dfd96546ff6",
   "metadata": {
    "execution": {
     "iopub.execute_input": "2024-07-06T15:21:47.110673Z",
     "iopub.status.busy": "2024-07-06T15:21:47.109673Z",
     "iopub.status.idle": "2024-07-06T15:21:47.122067Z",
     "shell.execute_reply": "2024-07-06T15:21:47.119165Z",
     "shell.execute_reply.started": "2024-07-06T15:21:47.110673Z"
    }
   },
   "outputs": [],
   "source": [
    "double=list(map(lambda a:a*2,odd))"
   ]
  },
  {
   "cell_type": "code",
   "execution_count": 88,
   "id": "99951d8e-884a-4b28-b487-c413c50cc192",
   "metadata": {
    "execution": {
     "iopub.execute_input": "2024-07-06T15:21:48.196828Z",
     "iopub.status.busy": "2024-07-06T15:21:48.195829Z",
     "iopub.status.idle": "2024-07-06T15:21:48.212227Z",
     "shell.execute_reply": "2024-07-06T15:21:48.209212Z",
     "shell.execute_reply.started": "2024-07-06T15:21:48.195829Z"
    }
   },
   "outputs": [
    {
     "data": {
      "text/plain": [
       "[30, 38, 50, 54, 74, 118]"
      ]
     },
     "execution_count": 88,
     "metadata": {},
     "output_type": "execute_result"
    }
   ],
   "source": [
    "double"
   ]
  },
  {
   "cell_type": "code",
   "execution_count": 98,
   "id": "b0bf96d0-864a-4008-a75a-cb28a6fb64ba",
   "metadata": {
    "execution": {
     "iopub.execute_input": "2024-07-06T15:32:44.099296Z",
     "iopub.status.busy": "2024-07-06T15:32:44.097759Z",
     "iopub.status.idle": "2024-07-06T15:32:44.109503Z",
     "shell.execute_reply": "2024-07-06T15:32:44.107366Z",
     "shell.execute_reply.started": "2024-07-06T15:32:44.099296Z"
    }
   },
   "outputs": [],
   "source": [
    "from functools import reduce\n",
    "tot=reduce(lambda x,y:x+y,double)"
   ]
  },
  {
   "cell_type": "code",
   "execution_count": 100,
   "id": "4b2e1118-6595-4f6e-9e48-845899c638fe",
   "metadata": {
    "execution": {
     "iopub.execute_input": "2024-07-06T15:32:44.652767Z",
     "iopub.status.busy": "2024-07-06T15:32:44.652767Z",
     "iopub.status.idle": "2024-07-06T15:32:44.665413Z",
     "shell.execute_reply": "2024-07-06T15:32:44.663399Z",
     "shell.execute_reply.started": "2024-07-06T15:32:44.652767Z"
    }
   },
   "outputs": [
    {
     "data": {
      "text/plain": [
       "364"
      ]
     },
     "execution_count": 100,
     "metadata": {},
     "output_type": "execute_result"
    }
   ],
   "source": [
    "tot"
   ]
  },
  {
   "cell_type": "code",
   "execution_count": 108,
   "id": "5f1bf9a7-9534-4387-935b-4f9c924659c6",
   "metadata": {
    "execution": {
     "iopub.execute_input": "2024-07-06T16:16:16.935234Z",
     "iopub.status.busy": "2024-07-06T16:16:16.934226Z",
     "iopub.status.idle": "2024-07-06T16:16:16.944474Z",
     "shell.execute_reply": "2024-07-06T16:16:16.941891Z",
     "shell.execute_reply.started": "2024-07-06T16:16:16.935234Z"
    }
   },
   "outputs": [],
   "source": [
    "class computer:\n",
    "    def features(self):\n",
    "        print('i5,32GB')"
   ]
  },
  {
   "cell_type": "code",
   "execution_count": 110,
   "id": "c95f7f89-7901-4797-ad6a-7a92c1548069",
   "metadata": {
    "execution": {
     "iopub.execute_input": "2024-07-06T16:16:18.439528Z",
     "iopub.status.busy": "2024-07-06T16:16:18.439528Z",
     "iopub.status.idle": "2024-07-06T16:16:18.448645Z",
     "shell.execute_reply": "2024-07-06T16:16:18.447117Z",
     "shell.execute_reply.started": "2024-07-06T16:16:18.439528Z"
    }
   },
   "outputs": [],
   "source": [
    "laptop= computer()"
   ]
  },
  {
   "cell_type": "code",
   "execution_count": 111,
   "id": "ea11ff5c-e271-43de-ab30-0d2078dcb6df",
   "metadata": {
    "execution": {
     "iopub.execute_input": "2024-07-06T16:16:18.454907Z",
     "iopub.status.busy": "2024-07-06T16:16:18.453393Z",
     "iopub.status.idle": "2024-07-06T16:16:18.466088Z",
     "shell.execute_reply": "2024-07-06T16:16:18.464532Z",
     "shell.execute_reply.started": "2024-07-06T16:16:18.454907Z"
    }
   },
   "outputs": [
    {
     "name": "stdout",
     "output_type": "stream",
     "text": [
      "i5,32GB\n"
     ]
    }
   ],
   "source": [
    "laptop.features()"
   ]
  },
  {
   "cell_type": "code",
   "execution_count": null,
   "id": "cc595c6f-6abb-470e-aba7-1355124b82f1",
   "metadata": {},
   "outputs": [],
   "source": []
  }
 ],
 "metadata": {
  "kernelspec": {
   "display_name": "Python 3 (ipykernel)",
   "language": "python",
   "name": "python3"
  },
  "language_info": {
   "codemirror_mode": {
    "name": "ipython",
    "version": 3
   },
   "file_extension": ".py",
   "mimetype": "text/x-python",
   "name": "python",
   "nbconvert_exporter": "python",
   "pygments_lexer": "ipython3",
   "version": "3.11.5"
  }
 },
 "nbformat": 4,
 "nbformat_minor": 5
}
