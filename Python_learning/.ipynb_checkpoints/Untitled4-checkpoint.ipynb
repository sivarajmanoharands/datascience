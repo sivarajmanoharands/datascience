{
 "cells": [
  {
   "cell_type": "code",
   "execution_count": 1,
   "id": "4f612809-a346-415a-834d-39ceba928766",
   "metadata": {
    "execution": {
     "iopub.execute_input": "2024-07-06T14:00:08.610929Z",
     "iopub.status.busy": "2024-07-06T14:00:08.608362Z",
     "iopub.status.idle": "2024-07-06T14:00:08.633559Z",
     "shell.execute_reply": "2024-07-06T14:00:08.631548Z",
     "shell.execute_reply.started": "2024-07-06T14:00:08.610929Z"
    }
   },
   "outputs": [],
   "source": [
    "x = [1,2,3,4,5,6]"
   ]
  },
  {
   "cell_type": "code",
   "execution_count": 3,
   "id": "2bfb422c-39ba-445b-a4cc-636c1a7bb996",
   "metadata": {
    "execution": {
     "iopub.execute_input": "2024-07-06T14:00:20.607776Z",
     "iopub.status.busy": "2024-07-06T14:00:20.606261Z",
     "iopub.status.idle": "2024-07-06T14:00:20.622170Z",
     "shell.execute_reply": "2024-07-06T14:00:20.619154Z",
     "shell.execute_reply.started": "2024-07-06T14:00:20.607776Z"
    }
   },
   "outputs": [
    {
     "data": {
      "text/plain": [
       "6"
      ]
     },
     "execution_count": 3,
     "metadata": {},
     "output_type": "execute_result"
    }
   ],
   "source": [
    "max(x)"
   ]
  },
  {
   "cell_type": "code",
   "execution_count": 5,
   "id": "765898ac-b5fc-4ad5-adac-fc2ee1201059",
   "metadata": {
    "execution": {
     "iopub.execute_input": "2024-07-06T14:00:25.569744Z",
     "iopub.status.busy": "2024-07-06T14:00:25.569100Z",
     "iopub.status.idle": "2024-07-06T14:00:25.583473Z",
     "shell.execute_reply": "2024-07-06T14:00:25.581450Z",
     "shell.execute_reply.started": "2024-07-06T14:00:25.569744Z"
    }
   },
   "outputs": [
    {
     "data": {
      "text/plain": [
       "1"
      ]
     },
     "execution_count": 5,
     "metadata": {},
     "output_type": "execute_result"
    }
   ],
   "source": [
    "min(x)"
   ]
  },
  {
   "cell_type": "code",
   "execution_count": 11,
   "id": "e9b67d05-d187-4335-a3b7-98c8e466ee06",
   "metadata": {
    "execution": {
     "iopub.execute_input": "2024-07-06T14:01:24.379679Z",
     "iopub.status.busy": "2024-07-06T14:01:24.378668Z",
     "iopub.status.idle": "2024-07-06T14:01:24.388874Z",
     "shell.execute_reply": "2024-07-06T14:01:24.386773Z",
     "shell.execute_reply.started": "2024-07-06T14:01:24.379679Z"
    }
   },
   "outputs": [],
   "source": [
    "def sum1(x,y,z):\n",
    "    print(x+y+z)"
   ]
  },
  {
   "cell_type": "code",
   "execution_count": 13,
   "id": "4ec4356b-30d9-4d2a-b0fb-6b9ca563311a",
   "metadata": {
    "execution": {
     "iopub.execute_input": "2024-07-06T14:01:26.697949Z",
     "iopub.status.busy": "2024-07-06T14:01:26.696930Z",
     "iopub.status.idle": "2024-07-06T14:01:26.707160Z",
     "shell.execute_reply": "2024-07-06T14:01:26.704620Z",
     "shell.execute_reply.started": "2024-07-06T14:01:26.697949Z"
    }
   },
   "outputs": [
    {
     "name": "stdout",
     "output_type": "stream",
     "text": [
      "60\n"
     ]
    }
   ],
   "source": [
    "sum1(10,20,30)"
   ]
  },
  {
   "cell_type": "code",
   "execution_count": 5,
   "id": "682eb314-5867-44e5-9b56-3d75f16f8c3e",
   "metadata": {
    "execution": {
     "iopub.execute_input": "2024-07-06T14:07:40.624000Z",
     "iopub.status.busy": "2024-07-06T14:07:40.623000Z",
     "iopub.status.idle": "2024-07-06T14:07:40.633247Z",
     "shell.execute_reply": "2024-07-06T14:07:40.631220Z",
     "shell.execute_reply.started": "2024-07-06T14:07:40.624000Z"
    }
   },
   "outputs": [],
   "source": [
    "def even(x):\n",
    "    if x%2==0:\n",
    "        print(\"even\")\n",
    "    else:\n",
    "        print(\"odd\")"
   ]
  },
  {
   "cell_type": "code",
   "execution_count": 7,
   "id": "c49e7033-0da9-4f10-b6c3-b88fe645f5d0",
   "metadata": {
    "execution": {
     "iopub.execute_input": "2024-07-06T14:07:49.515450Z",
     "iopub.status.busy": "2024-07-06T14:07:49.514449Z",
     "iopub.status.idle": "2024-07-06T14:07:49.526846Z",
     "shell.execute_reply": "2024-07-06T14:07:49.523790Z",
     "shell.execute_reply.started": "2024-07-06T14:07:49.515450Z"
    }
   },
   "outputs": [
    {
     "name": "stdout",
     "output_type": "stream",
     "text": [
      "even\n"
     ]
    }
   ],
   "source": [
    "even(124)"
   ]
  },
  {
   "cell_type": "code",
   "execution_count": null,
   "id": "793e81f7-e544-44d4-b1c5-5eb8ca30ed79",
   "metadata": {},
   "outputs": [],
   "source": [
    "def sum2(*args):\n",
    "    total = 0\n",
    "    for i in data:\n",
    "        total+=i\n",
    "        print(total)\n",
    "    \n",
    "    "
   ]
  }
 ],
 "metadata": {
  "kernelspec": {
   "display_name": "Python 3 (ipykernel)",
   "language": "python",
   "name": "python3"
  },
  "language_info": {
   "codemirror_mode": {
    "name": "ipython",
    "version": 3
   },
   "file_extension": ".py",
   "mimetype": "text/x-python",
   "name": "python",
   "nbconvert_exporter": "python",
   "pygments_lexer": "ipython3",
   "version": "3.11.5"
  }
 },
 "nbformat": 4,
 "nbformat_minor": 5
}
