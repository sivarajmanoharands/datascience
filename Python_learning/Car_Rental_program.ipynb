{
 "cells": [
  {
   "cell_type": "code",
   "execution_count": 1,
   "id": "07356727-64e3-4b11-b0af-f00beec226ca",
   "metadata": {
    "editable": true,
    "execution": {
     "iopub.execute_input": "2024-07-09T08:03:26.640980Z",
     "iopub.status.busy": "2024-07-09T08:03:26.640980Z",
     "iopub.status.idle": "2024-07-09T08:03:26.678233Z",
     "shell.execute_reply": "2024-07-09T08:03:26.677222Z",
     "shell.execute_reply.started": "2024-07-09T08:03:26.640980Z"
    },
    "slideshow": {
     "slide_type": ""
    },
    "tags": []
   },
   "outputs": [],
   "source": [
    "import datetime\n",
    "\n",
    "class CarRental:\n",
    "    def __init__(self, total_cars):\n",
    "        self.total_cars = total_cars\n",
    "        self.available_cars = total_cars\n",
    "        self.rental_history = []\n",
    "\n",
    "    def display_available_cars(self):\n",
    "        print(f\"Available cars: {self.available_cars}\")\n",
    "\n",
    "    def rent_car_hourly(self, num_cars):\n",
    "        if num_cars > 0 and num_cars <= self.available_cars:\n",
    "            self.available_cars -= num_cars\n",
    "            rental_time = datetime.datetime.now()\n",
    "            self.rental_history.append({\"rental_time\": rental_time, \"num_cars\": num_cars, \"rental_mode\": \"hourly\"})\n",
    "            print(f\"Rented {num_cars} cars on an hourly basis at {rental_time}\")\n",
    "        else:\n",
    "            print(\"Invalid request. Please try again.\")\n",
    "\n",
    "    def rent_car_daily(self, num_cars):\n",
    "        if num_cars > 0 and num_cars <= self.available_cars:\n",
    "            self.available_cars -= num_cars\n",
    "            rental_time = datetime.datetime.now()\n",
    "            self.rental_history.append({\"rental_time\": rental_time, \"num_cars\": num_cars, \"rental_mode\": \"daily\"})\n",
    "            print(f\"Rented {num_cars} cars on a daily basis at {rental_time}\")\n",
    "        else:\n",
    "            print(\"Invalid request. Please try again.\")\n",
    "\n",
    "    def rent_car_weekly(self, num_cars):\n",
    "        if num_cars > 0 and num_cars <= self.available_cars:\n",
    "            self.available_cars -= num_cars\n",
    "            rental_time = datetime.datetime.now()\n",
    "            self.rental_history.append({\"rental_time\": rental_time, \"num_cars\": num_cars, \"rental_mode\": \"weekly\"})\n",
    "            print(f\"Rented {num_cars} cars on a weekly basis at {rental_time}\")\n",
    "        else:\n",
    "            print(\"Invalid request. Please try again.\")\n",
    "\n",
    "    def return_car(self, rental_time, rental_mode, num_cars):\n",
    "        if num_cars > 0:\n",
    "            rental_period = datetime.datetime.now() - rental_time\n",
    "            if rental_mode == \"hourly\":\n",
    "                bill = num_cars * rental_period.seconds / 3600 * 10  # assume $10 per hour\n",
    "            elif rental_mode == \"daily\":\n",
    "                bill = num_cars * rental_period.days * 50  # assume $50 per day\n",
    "            elif rental_mode == \"weekly\":\n",
    "                bill = num_cars * rental_period.days / 7 * 200  # assume $200 per week\n",
    "            self.available_cars += num_cars\n",
    "            print(f\"Returned {num_cars} cars. Bill: ${bill:.2f}\")\n",
    "        else:\n",
    "            print(\"Invalid request. Please try again.\")\n",
    "\n",
    "\n",
    "class Customer:\n",
    "    def __init__(self, name):\n",
    "        self.name = name\n",
    "\n",
    "    def request_car(self, car_rental, num_cars, rental_mode):\n",
    "        if rental_mode == \"hourly\":\n",
    "            car_rental.rent_car_hourly(num_cars)\n",
    "        elif rental_mode == \"daily\":\n",
    "            car_rental.rent_car_daily(num_cars)\n",
    "        elif rental_mode == \"weekly\":\n",
    "            car_rental.rent_car_weekly(num_cars)\n",
    "\n",
    "    def return_car(self, car_rental, rental_time, rental_mode, num_cars):\n",
    "        car_rental.return_car(rental_time, rental_mode, num_cars)"
   ]
  },
  {
   "cell_type": "code",
   "execution_count": 9,
   "id": "de6287b2-9021-41df-9d59-be03c2166b85",
   "metadata": {
    "execution": {
     "iopub.execute_input": "2024-07-09T08:05:39.347981Z",
     "iopub.status.busy": "2024-07-09T08:05:39.346965Z",
     "iopub.status.idle": "2024-07-09T08:05:39.370082Z",
     "shell.execute_reply": "2024-07-09T08:05:39.368061Z",
     "shell.execute_reply.started": "2024-07-09T08:05:39.347981Z"
    }
   },
   "outputs": [],
   "source": [
    "def main():\n",
    "    car_rental_system = CarRental(10)  # 10 cars available\n",
    "    customer = Customer(\"John Doe\")\n",
    "\n",
    "    while True:\n",
    "        print(\"1. Display available cars\")\n",
    "        print(\"2. Rent a car\")\n",
    "        print(\"3. Return a car\")\n",
    "        print(\"4. Exit\")\n",
    "        choice = input(\"Enter your choice: \")\n",
    "\n",
    "        if choice == \"1\":\n",
    "            car_rental_system.display_available_cars()\n",
    "        elif choice == \"2\":\n",
    "            num_cars = int(input(\"Enter the number of cars to rent: \"))\n",
    "            rental_mode = input(\"Enter the rental mode (hourly, daily, weekly): \")\n",
    "            customer.request_car(car_rental_system, num_cars, rental_mode)\n",
    "        elif choice == \"3\":\n",
    "            rental_time = datetime.datetime.now()\n",
    "            rental_mode = input(\"Enter the rental mode (hourly, daily, weekly): \")\n",
    "            num_cars = int(input(\"Enter the number of cars to return: \"))\n",
    "            customer.return_car(car_rental_system, rental_time, rental_mode, num_cars)\n",
    "        elif choice == \"4\":\n",
    "            break\n",
    "        else:\n",
    "            print(\"Invalid choice. Please try again.\")\n"
   ]
  },
  {
   "cell_type": "code",
   "execution_count": 11,
   "id": "ce9eb811-177e-4295-b24b-fab454c569c5",
   "metadata": {
    "execution": {
     "iopub.execute_input": "2024-07-09T08:05:42.591761Z",
     "iopub.status.busy": "2024-07-09T08:05:42.590781Z",
     "iopub.status.idle": "2024-07-09T08:06:15.892401Z",
     "shell.execute_reply": "2024-07-09T08:06:15.889386Z",
     "shell.execute_reply.started": "2024-07-09T08:05:42.591761Z"
    }
   },
   "outputs": [
    {
     "name": "stdout",
     "output_type": "stream",
     "text": [
      "1. Display available cars\n",
      "2. Rent a car\n",
      "3. Return a car\n",
      "4. Exit\n"
     ]
    },
    {
     "name": "stdin",
     "output_type": "stream",
     "text": [
      "Enter your choice:  1\n"
     ]
    },
    {
     "name": "stdout",
     "output_type": "stream",
     "text": [
      "Available cars: 10\n",
      "1. Display available cars\n",
      "2. Rent a car\n",
      "3. Return a car\n",
      "4. Exit\n"
     ]
    },
    {
     "name": "stdin",
     "output_type": "stream",
     "text": [
      "Enter your choice:  2\n",
      "Enter the number of cars to rent:  1\n",
      "Enter the rental mode (hourly, daily, weekly):  hourly\n"
     ]
    },
    {
     "name": "stdout",
     "output_type": "stream",
     "text": [
      "Rented 1 cars on an hourly basis at 2024-07-09 12:05:54.708674\n",
      "1. Display available cars\n",
      "2. Rent a car\n",
      "3. Return a car\n",
      "4. Exit\n"
     ]
    },
    {
     "name": "stdin",
     "output_type": "stream",
     "text": [
      "Enter your choice:  3\n",
      "Enter the rental mode (hourly, daily, weekly):  hourly\n",
      "Enter the number of cars to return:  1\n"
     ]
    },
    {
     "name": "stdout",
     "output_type": "stream",
     "text": [
      "Returned 1 cars. Bill: $0.03\n",
      "1. Display available cars\n",
      "2. Rent a car\n",
      "3. Return a car\n",
      "4. Exit\n"
     ]
    },
    {
     "name": "stdin",
     "output_type": "stream",
     "text": [
      "Enter your choice:  4\n"
     ]
    }
   ],
   "source": [
    "\n",
    "if __name__ == \"__main__\":\n",
    "    main()"
   ]
  }
 ],
 "metadata": {
  "kernelspec": {
   "display_name": "Python 3 (ipykernel)",
   "language": "python",
   "name": "python3"
  },
  "language_info": {
   "codemirror_mode": {
    "name": "ipython",
    "version": 3
   },
   "file_extension": ".py",
   "mimetype": "text/x-python",
   "name": "python",
   "nbconvert_exporter": "python",
   "pygments_lexer": "ipython3",
   "version": "3.11.5"
  }
 },
 "nbformat": 4,
 "nbformat_minor": 5
}
