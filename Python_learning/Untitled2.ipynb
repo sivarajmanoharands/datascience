{
 "cells": [
  {
   "cell_type": "code",
   "execution_count": 1,
   "id": "627f3323-86ec-41fb-a57e-2c0a33b25a56",
   "metadata": {},
   "outputs": [
    {
     "data": {
      "text/html": [
       "Unable to connect to Mysql server. Check that the server is running."
      ]
     },
     "metadata": {},
     "output_type": "display_data",
     "source": "kernel"
    }
   ],
   "source": [
    "%load SQL"
   ]
  }
 ],
 "metadata": {
  "kernelspec": {
   "display_name": "Mysql",
   "language": "sql",
   "name": "mysql"
  },
  "language_info": {
   "file_extension": ".sql",
   "mimetype": "text/x-sh",
   "name": "sql"
  }
 },
 "nbformat": 4,
 "nbformat_minor": 5
}
