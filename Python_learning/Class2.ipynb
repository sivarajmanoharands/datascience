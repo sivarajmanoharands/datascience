{
 "cells": [
  {
   "cell_type": "code",
   "execution_count": 1,
   "id": "63ef3f6b-6c38-4929-894b-7e82cd971375",
   "metadata": {
    "editable": true,
    "execution": {
     "iopub.execute_input": "2024-07-04T10:39:43.589003Z",
     "iopub.status.busy": "2024-07-04T10:39:43.586988Z",
     "iopub.status.idle": "2024-07-04T10:39:57.903885Z",
     "shell.execute_reply": "2024-07-04T10:39:57.898299Z",
     "shell.execute_reply.started": "2024-07-04T10:39:43.589003Z"
    },
    "slideshow": {
     "slide_type": ""
    },
    "tags": []
   },
   "outputs": [
    {
     "name": "stdin",
     "output_type": "stream",
     "text": [
      "Enter the Year of birth 1983\n"
     ]
    },
    {
     "ename": "NameError",
     "evalue": "name 'now' is not defined",
     "output_type": "error",
     "traceback": [
      "\u001b[1;31m---------------------------------------------------------------------------\u001b[0m",
      "\u001b[1;31mNameError\u001b[0m                                 Traceback (most recent call last)",
      "Cell \u001b[1;32mIn[1], line 2\u001b[0m\n\u001b[0;32m      1\u001b[0m yearofbirth \u001b[38;5;241m=\u001b[39m \u001b[38;5;28minput\u001b[39m(\u001b[38;5;124m\"\u001b[39m\u001b[38;5;124mEnter the Year of birth\u001b[39m\u001b[38;5;124m\"\u001b[39m)\n\u001b[1;32m----> 2\u001b[0m \u001b[38;5;28mprint\u001b[39m(\u001b[38;5;124m\"\u001b[39m\u001b[38;5;124mYear of Birth is : \u001b[39m\u001b[38;5;124m\"\u001b[39m,yearofbirth \u001b[38;5;241m-\u001b[39m now())\n",
      "\u001b[1;31mNameError\u001b[0m: name 'now' is not defined"
     ]
    }
   ],
   "source": [
    "yearofbirth = input(\"Enter the Year of birth\")\n",
    "print(\"Year of Birth is : \",yearofbirth - now())"
   ]
  },
  {
   "cell_type": "code",
   "execution_count": null,
   "id": "3fa0b0f1-8624-4bae-a790-fe864ab07b23",
   "metadata": {
    "execution": {
     "iopub.status.busy": "2024-07-04T10:39:57.911491Z",
     "iopub.status.idle": "2024-07-04T10:39:57.911491Z",
     "shell.execute_reply": "2024-07-04T10:39:57.911491Z",
     "shell.execute_reply.started": "2024-07-04T10:39:57.911491Z"
    }
   },
   "outputs": [],
   "source": [
    "from datetime import datetime \n",
    "year_of_birth = int(input(\"Enter the Year of birth: \"))\n",
    "current_year = datetime.now().year\n",
    "age = current_year - year_of_birth\n",
    "print(\"Age is: \", age)"
   ]
  },
  {
   "cell_type": "code",
   "execution_count": null,
   "id": "f09ed796-88bc-488d-a3ea-e1301d73d247",
   "metadata": {
    "execution": {
     "iopub.status.busy": "2024-07-04T10:39:57.920414Z",
     "iopub.status.idle": "2024-07-04T10:39:57.922056Z",
     "shell.execute_reply": "2024-07-04T10:39:57.921927Z",
     "shell.execute_reply.started": "2024-07-04T10:39:57.920414Z"
    }
   },
   "outputs": [],
   "source": [
    "10<=13"
   ]
  },
  {
   "cell_type": "code",
   "execution_count": null,
   "id": "55096425-da3c-4c48-982f-96cfee599d9c",
   "metadata": {
    "execution": {
     "iopub.status.busy": "2024-07-04T10:39:57.924943Z",
     "iopub.status.idle": "2024-07-04T10:39:57.925943Z",
     "shell.execute_reply": "2024-07-04T10:39:57.925943Z",
     "shell.execute_reply.started": "2024-07-04T10:39:57.925943Z"
    }
   },
   "outputs": [],
   "source": [
    "10 is not 13"
   ]
  },
  {
   "cell_type": "code",
   "execution_count": null,
   "id": "c322a47b-c3c5-4afb-a82b-7fb3c63acc26",
   "metadata": {
    "execution": {
     "iopub.status.busy": "2024-07-04T10:39:57.929946Z",
     "iopub.status.idle": "2024-07-04T10:39:57.930949Z",
     "shell.execute_reply": "2024-07-04T10:39:57.930949Z",
     "shell.execute_reply.started": "2024-07-04T10:39:57.930949Z"
    }
   },
   "outputs": [],
   "source": [
    "x=2\n",
    "x+=1\n",
    "x"
   ]
  },
  {
   "cell_type": "code",
   "execution_count": null,
   "id": "3dd7f4b7-d632-449f-b984-a3113940d9e3",
   "metadata": {
    "execution": {
     "iopub.status.busy": "2024-07-04T10:39:57.936481Z",
     "iopub.status.idle": "2024-07-04T10:39:57.937484Z",
     "shell.execute_reply": "2024-07-04T10:39:57.937484Z",
     "shell.execute_reply.started": "2024-07-04T10:39:57.937484Z"
    }
   },
   "outputs": [],
   "source": [
    "import pandas as pd"
   ]
  },
  {
   "cell_type": "code",
   "execution_count": null,
   "id": "82c3838b-2851-49a9-bed5-9361b14ac4ab",
   "metadata": {
    "execution": {
     "iopub.status.busy": "2024-07-04T10:39:57.941484Z",
     "iopub.status.idle": "2024-07-04T10:39:57.941484Z",
     "shell.execute_reply": "2024-07-04T10:39:57.941484Z",
     "shell.execute_reply.started": "2024-07-04T10:39:57.941484Z"
    }
   },
   "outputs": [],
   "source": [
    "a=[]\n",
    "y=input(\"Please enter a new value\")\n",
    "a.append(y)\n",
    "print(a)"
   ]
  },
  {
   "cell_type": "code",
   "execution_count": null,
   "id": "dacb8545-1613-44ca-9926-895b4a19c372",
   "metadata": {
    "execution": {
     "iopub.status.busy": "2024-07-04T10:39:57.945011Z",
     "iopub.status.idle": "2024-07-04T10:39:57.945011Z",
     "shell.execute_reply": "2024-07-04T10:39:57.945011Z",
     "shell.execute_reply.started": "2024-07-04T10:39:57.945011Z"
    }
   },
   "outputs": [],
   "source": [
    "Dict={\"Key1\":100,\"Key2\":200}\n",
    "Dict.get(\"Key2\")"
   ]
  },
  {
   "cell_type": "code",
   "execution_count": null,
   "id": "3c892bda-512a-4e66-a03d-642433850f06",
   "metadata": {},
   "outputs": [],
   "source": []
  },
  {
   "cell_type": "code",
   "execution_count": null,
   "id": "25d39716-1ac4-4d06-bd94-68efdd63cf41",
   "metadata": {
    "execution": {
     "iopub.status.busy": "2024-07-04T10:39:57.949016Z",
     "iopub.status.idle": "2024-07-04T10:39:57.950015Z",
     "shell.execute_reply": "2024-07-04T10:39:57.949016Z",
     "shell.execute_reply.started": "2024-07-04T10:39:57.949016Z"
    }
   },
   "outputs": [],
   "source": [
    "# Create a dictionary with students, classes, and marks for subjects\n",
    "student_marks = {\n",
    "    'John': {\n",
    "        'class': '10A',\n",
    "        'marks': {\n",
    "            'English': 85,\n",
    "            'Maths': 90,\n",
    "            'Science': 88,\n",
    "            'Social': 78\n",
    "        }\n",
    "    },\n",
    "    'Emma': {\n",
    "        'class': '10B',\n",
    "        'marks': {\n",
    "            'English': 78,\n",
    "            'Maths': 92,\n",
    "            'Science': 85,\n",
    "            'Social': 80\n",
    "        }\n",
    "    },\n",
    "    'Michael': {\n",
    "        'class': '10A',\n",
    "        'marks': {\n",
    "            'English': 90,\n",
    "            'Maths': 88,\n",
    "            'Science': 92,\n",
    "            'Social': 85\n",
    "        }\n",
    "    }\n",
    "}\n",
    "\n",
    "# Print the dictionary\n",
    "print(student_marks['Michael'])"
   ]
  },
  {
   "cell_type": "code",
   "execution_count": null,
   "id": "ed510173-c487-42fe-82ec-46baa9956972",
   "metadata": {
    "execution": {
     "iopub.status.busy": "2024-07-04T10:39:57.952799Z",
     "iopub.status.idle": "2024-07-04T10:39:57.953814Z",
     "shell.execute_reply": "2024-07-04T10:39:57.952799Z",
     "shell.execute_reply.started": "2024-07-04T10:39:57.952799Z"
    }
   },
   "outputs": [],
   "source": [
    "# Get input from the user\n",
    "new_student_name = input(\"Enter the new student's name: \")\n",
    "new_student_class = input(\"Enter the new student's class: \")\n",
    "new_student_english_mark = int(input(\"Enter the English mark for the new student: \"))\n",
    "new_student_maths_mark = int(input(\"Enter the Maths mark for the new student: \"))\n",
    "new_student_science_mark = int(input(\"Enter the Science mark for the new student: \"))\n",
    "new_student_social_mark = int(input(\"Enter the Social mark for the new student: \"))\n",
    "\n",
    "# Add new student details to the dictionary\n",
    "student_marks[new_student_name] = {\n",
    "    'class': new_student_class,\n",
    "    'marks': {\n",
    "        'English': new_student_english_mark,\n",
    "        'Maths': new_student_maths_mark,\n",
    "        'Science': new_student_science_mark,\n",
    "        'Social': new_student_social_mark\n",
    "    }\n",
    "}\n",
    "\n",
    "# Print the updated dictionary\n",
    "print(student_marks)"
   ]
  },
  {
   "cell_type": "code",
   "execution_count": null,
   "id": "18f4f37d-95b8-4abe-9379-1c4da3accf9c",
   "metadata": {
    "execution": {
     "iopub.status.busy": "2024-07-04T10:39:57.956814Z",
     "iopub.status.idle": "2024-07-04T10:39:57.957814Z",
     "shell.execute_reply": "2024-07-04T10:39:57.956814Z",
     "shell.execute_reply.started": "2024-07-04T10:39:57.956814Z"
    }
   },
   "outputs": [],
   "source": [
    "print(student_marks[\"Sivaraj\"])"
   ]
  },
  {
   "cell_type": "code",
   "execution_count": null,
   "id": "bc56dd4e-1271-4c4a-9a63-f589fb8a42a8",
   "metadata": {
    "execution": {
     "iopub.status.busy": "2024-07-04T10:39:57.960813Z",
     "iopub.status.idle": "2024-07-04T10:39:57.961813Z",
     "shell.execute_reply": "2024-07-04T10:39:57.960813Z",
     "shell.execute_reply.started": "2024-07-04T10:39:57.960813Z"
    }
   },
   "outputs": [],
   "source": [
    "x=int(input(\"Please enter the value : \"))\n",
    "if x >= 20:\n",
    "    print(\"Value is grater than or equal to 20\")\n",
    "elif x>= 15 and x<20:\n",
    "    print(\"Value is greater than or equal to 15 and less than 20\")\n",
    "else:\n",
    "    print(\"Value is less than 15\")\n"
   ]
  },
  {
   "cell_type": "code",
   "execution_count": null,
   "id": "d5892719-f6a7-42a8-a478-c2158b9922cf",
   "metadata": {
    "execution": {
     "iopub.status.busy": "2024-07-04T10:39:57.968340Z",
     "iopub.status.idle": "2024-07-04T10:39:57.969339Z",
     "shell.execute_reply": "2024-07-04T10:39:57.969339Z",
     "shell.execute_reply.started": "2024-07-04T10:39:57.969339Z"
    }
   },
   "outputs": [],
   "source": [
    "temp = float(input(\"Enter the Temperature : \"))\n",
    "if temp > 40:\n",
    "    print(\"Hot\")\n",
    "elif temp > 30:\n",
    "    print(\"Manageable\")\n",
    "elif temp > 20:\n",
    "    print(\"cold\")\n",
    "else:\n",
    "    print(\"very cold\")"
   ]
  },
  {
   "cell_type": "code",
   "execution_count": null,
   "id": "6d72c05b-ace0-481a-9d16-8c128465a65c",
   "metadata": {
    "execution": {
     "iopub.status.busy": "2024-07-04T10:39:57.973352Z",
     "iopub.status.idle": "2024-07-04T10:39:57.975213Z",
     "shell.execute_reply": "2024-07-04T10:39:57.974876Z",
     "shell.execute_reply.started": "2024-07-04T10:39:57.974876Z"
    }
   },
   "outputs": [],
   "source": [
    "input_value = int(input(\"Please enter the value : \"))\n",
    "if input_value%2==0:\n",
    "    print(\"even\")\n",
    "else:\n",
    "    print(\"odd\")\n",
    "    "
   ]
  },
  {
   "cell_type": "code",
   "execution_count": null,
   "id": "bc0e1376-5bbd-4392-8211-0a0150d051d2",
   "metadata": {
    "execution": {
     "iopub.status.busy": "2024-07-04T10:39:57.978890Z",
     "iopub.status.idle": "2024-07-04T10:39:57.980893Z",
     "shell.execute_reply": "2024-07-04T10:39:57.980893Z",
     "shell.execute_reply.started": "2024-07-04T10:39:57.980893Z"
    }
   },
   "outputs": [],
   "source": [
    "x = 'Python'\n",
    "for i in range(len(x)):\n",
    "    print(x[i] ,\"-\",i+1)"
   ]
  },
  {
   "cell_type": "code",
   "execution_count": null,
   "id": "d0628a3a-83dc-4a7c-a0a0-e8a7b8f747a0",
   "metadata": {
    "execution": {
     "iopub.status.busy": "2024-07-04T10:39:57.982889Z",
     "iopub.status.idle": "2024-07-04T10:39:57.985400Z",
     "shell.execute_reply": "2024-07-04T10:39:57.983890Z",
     "shell.execute_reply.started": "2024-07-04T10:39:57.983890Z"
    }
   },
   "outputs": [],
   "source": [
    "sqr(2)"
   ]
  },
  {
   "cell_type": "code",
   "execution_count": null,
   "id": "59ea20ce-7f1e-443f-97d9-658025900251",
   "metadata": {
    "execution": {
     "iopub.status.busy": "2024-07-04T10:39:57.987415Z",
     "iopub.status.idle": "2024-07-04T10:39:57.987415Z",
     "shell.execute_reply": "2024-07-04T10:39:57.987415Z",
     "shell.execute_reply.started": "2024-07-04T10:39:57.987415Z"
    }
   },
   "outputs": [],
   "source": [
    "rows = int(input(\"No of Rows \"))\n",
    "cols = int(input(\"No of Cols \"))\n",
    "for i in range(rows):\n",
    "    for j in range(cols):\n",
    "        print(i+j,end=\" \")\n",
    "    print()"
   ]
  },
  {
   "cell_type": "code",
   "execution_count": null,
   "id": "536368b6-43fc-4afe-9c1e-4876cbf11301",
   "metadata": {},
   "outputs": [],
   "source": []
  }
 ],
 "metadata": {
  "kernelspec": {
   "display_name": "Python 3 (ipykernel)",
   "language": "python",
   "name": "python3"
  },
  "language_info": {
   "codemirror_mode": {
    "name": "ipython",
    "version": 3
   },
   "file_extension": ".py",
   "mimetype": "text/x-python",
   "name": "python",
   "nbconvert_exporter": "python",
   "pygments_lexer": "ipython3",
   "version": "3.11.5"
  }
 },
 "nbformat": 4,
 "nbformat_minor": 5
}
