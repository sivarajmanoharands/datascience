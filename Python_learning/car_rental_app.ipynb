{
 "cells": [
  {
   "cell_type": "code",
   "execution_count": 46,
   "id": "9daddf7e-f7ba-459a-a467-5604ce346132",
   "metadata": {
    "execution": {
     "iopub.execute_input": "2024-07-09T08:01:30.916624Z",
     "iopub.status.busy": "2024-07-09T08:01:30.915616Z",
     "iopub.status.idle": "2024-07-09T08:01:30.942179Z",
     "shell.execute_reply": "2024-07-09T08:01:30.940612Z",
     "shell.execute_reply.started": "2024-07-09T08:01:30.915616Z"
    }
   },
   "outputs": [],
   "source": [
    "import datetime\n",
    "\n",
    "class CarRental:\n",
    "    def __init__(self, stock=0):\n",
    "        self.stock = stock\n",
    "    \n",
    "    def display_cars(self):\n",
    "        return f\"Available cars: {self.stock}\"\n",
    "    \n",
    "    def rent_car_hourly(self, n):\n",
    "        if n <= 0:\n",
    "            return \"Number of cars should be positive!\"\n",
    "        elif n > self.stock:\n",
    "            return f\"Only {self.stock} cars available!\"\n",
    "        else:\n",
    "            self.stock -= n\n",
    "            now = datetime.datetime.now()\n",
    "            return f\"{n} cars Rented!\" + str(now)\n",
    "    \n",
    "    def rent_car_daily(self, n):\n",
    "        if n <= 0:\n",
    "            return \"Number of cars should be positive!\"\n",
    "        elif n > self.stock:\n",
    "            return f\"Only {self.stock} cars available!\"\n",
    "        else:\n",
    "            self.stock -= n\n",
    "            now = datetime.datetime.now()\n",
    "            return f\"{n} cars Rented!\" + str(now)\n",
    "    \n",
    "    def rent_car_weekly(self, n):\n",
    "        if n <= 0:\n",
    "            return \"Number of cars should be positive!\"\n",
    "        elif n > self.stock:\n",
    "            return f\"Only {self.stock} cars available!\"\n",
    "        else:\n",
    "            self.stock -= n\n",
    "            now = datetime.datetime.now()\n",
    "            return f\"{n} cars Rented!\" + str(now)\n",
    "    \n",
    "    def return_car(self, request):\n",
    "        rental_time, rental_basis, num_of_cars = request\n",
    "        bill = 0\n",
    "        \n",
    "        if rental_time and rental_basis and num_of_cars:\n",
    "            self.stock += num_of_cars\n",
    "            now = datetime.datetime.now()\n",
    "            rental_period = now - rental_time\n",
    "\n",
    "            if rental_basis == 1:  # hourly\n",
    "                bill = round(rental_period.seconds / 3600) * 5 * num_of_cars\n",
    "            elif rental_basis == 2:  # daily\n",
    "                bill = round(rental_period.days) * 20 * num_of_cars\n",
    "            elif rental_basis == 3:  # weekly\n",
    "                bill = round(rental_period.days / 7) * 60 * num_of_cars\n",
    "\n",
    "            if 3 <= num_of_cars <= 5:\n",
    "                bill *= 0.9  # 10% discount\n",
    "            elif num_of_cars >= 6:\n",
    "                bill *= 0.8  # 20% discount\n",
    "\n",
    "            return f\"Total bill: ${bill}\"\n",
    "        else:\n",
    "            return \"Invalid return request!\"\n"
   ]
  },
  {
   "cell_type": "code",
   "execution_count": 47,
   "id": "091e7c54-cc76-4b49-b8c3-3cf03a8a1284",
   "metadata": {
    "execution": {
     "iopub.execute_input": "2024-07-09T08:01:30.946201Z",
     "iopub.status.busy": "2024-07-09T08:01:30.945199Z",
     "iopub.status.idle": "2024-07-09T08:01:30.960439Z",
     "shell.execute_reply": "2024-07-09T08:01:30.958427Z",
     "shell.execute_reply.started": "2024-07-09T08:01:30.946201Z"
    }
   },
   "outputs": [],
   "source": [
    "class Customer:\n",
    "    def __init__(self):\n",
    "        self.cars = 0\n",
    "        self.rental_basis = 0\n",
    "        self.rental_time = 0\n",
    "\n",
    "    def request_car(self):\n",
    "        cars = int(input(\"How many cars would you like to rent? \"))\n",
    "        self.cars = cars\n",
    "        return self.cars\n",
    "    \n",
    "    def return_car(self):\n",
    "        if self.rental_time and self.rental_basis and self.cars:\n",
    "            return self.rental_time, self.rental_basis, self.cars\n",
    "        else:\n",
    "            return 0, 0, 0\n"
   ]
  },
  {
   "cell_type": "code",
   "execution_count": 48,
   "id": "18f093d9-83fa-4925-89a5-bca128b1c516",
   "metadata": {
    "execution": {
     "iopub.execute_input": "2024-07-09T08:01:30.962955Z",
     "iopub.status.busy": "2024-07-09T08:01:30.962444Z",
     "iopub.status.idle": "2024-07-09T08:01:30.981465Z",
     "shell.execute_reply": "2024-07-09T08:01:30.979453Z",
     "shell.execute_reply.started": "2024-07-09T08:01:30.962444Z"
    }
   },
   "outputs": [],
   "source": [
    "def main():\n",
    "    rental_service = CarRental(100)\n",
    "    customer = Customer()\n",
    "    \n",
    "    while True:\n",
    "        print(\"\"\"\n",
    "        ====== Car Rental Shop ======\n",
    "        1. Display available cars\n",
    "        2. Request a car on hourly basis $5\n",
    "        3. Request a car on daily basis $20\n",
    "        4. Request a car on weekly basis $60\n",
    "        5. Return a car\n",
    "        6. Exit\n",
    "        \"\"\")\n",
    "        \n",
    "        choice = int(input(\"Enter choice: \"))\n",
    "        \n",
    "        if choice == 1:\n",
    "            print(rental_service.display_cars())\n",
    "        \n",
    "        elif choice == 2:\n",
    "            customer.rental_time = rental_service.rent_car_hourly(customer.request_car())\n",
    "            customer.rental_basis = 1\n",
    "        \n",
    "        elif choice == 3:\n",
    "            customer.rental_time = rental_service.rent_car_daily(customer.request_car())\n",
    "            customer.rental_basis = 2\n",
    "        \n",
    "        elif choice == 4:\n",
    "            customer.rental_time = rental_service.rent_car_weekly(customer.request_car())\n",
    "            customer.rental_basis = 3\n",
    "        \n",
    "        elif choice == 5:\n",
    "            request = customer.return_car()\n",
    "            print(rental_service.return_car(request))\n",
    "            customer.rental_basis, customer.rental_time, customer.cars = 0, 0, 0\n",
    "        \n",
    "        elif choice == 6:\n",
    "            break\n",
    "        \n",
    "        else:\n",
    "            print(\"Invalid input. Please enter a number between 1 and 6.\")\n"
   ]
  },
  {
   "cell_type": "code",
   "execution_count": null,
   "id": "242d02b3-df5b-4c9a-94a2-4a0e9d09bb0a",
   "metadata": {
    "execution": {
     "iopub.execute_input": "2024-07-09T08:01:30.988004Z",
     "iopub.status.busy": "2024-07-09T08:01:30.987004Z"
    }
   },
   "outputs": [
    {
     "name": "stdout",
     "output_type": "stream",
     "text": [
      "\n",
      "        ====== Car Rental Shop ======\n",
      "        1. Display available cars\n",
      "        2. Request a car on hourly basis $5\n",
      "        3. Request a car on daily basis $20\n",
      "        4. Request a car on weekly basis $60\n",
      "        5. Return a car\n",
      "        6. Exit\n",
      "        \n"
     ]
    },
    {
     "name": "stdin",
     "output_type": "stream",
     "text": [
      "Enter choice:  2\n",
      "How many cars would you like to rent?  1\n"
     ]
    },
    {
     "name": "stdout",
     "output_type": "stream",
     "text": [
      "\n",
      "        ====== Car Rental Shop ======\n",
      "        1. Display available cars\n",
      "        2. Request a car on hourly basis $5\n",
      "        3. Request a car on daily basis $20\n",
      "        4. Request a car on weekly basis $60\n",
      "        5. Return a car\n",
      "        6. Exit\n",
      "        \n"
     ]
    }
   ],
   "source": [
    "if __name__ == \"__main__\":\n",
    "    main()"
   ]
  },
  {
   "cell_type": "code",
   "execution_count": null,
   "id": "bf7bd93f-9e7a-44f2-b082-5e799ffc2f29",
   "metadata": {},
   "outputs": [],
   "source": [
    "\n"
   ]
  }
 ],
 "metadata": {
  "kernelspec": {
   "display_name": "Python 3 (ipykernel)",
   "language": "python",
   "name": "python3"
  },
  "language_info": {
   "codemirror_mode": {
    "name": "ipython",
    "version": 3
   },
   "file_extension": ".py",
   "mimetype": "text/x-python",
   "name": "python",
   "nbconvert_exporter": "python",
   "pygments_lexer": "ipython3",
   "version": "3.11.5"
  }
 },
 "nbformat": 4,
 "nbformat_minor": 5
}
