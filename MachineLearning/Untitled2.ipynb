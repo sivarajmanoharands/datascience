{
 "cells": [
  {
   "cell_type": "code",
   "execution_count": null,
   "id": "4d48dc87-5596-43cf-8e3c-b1915da7d8e1",
   "metadata": {
    "execution": {
     "iopub.execute_input": "2024-07-12T08:45:31.014177Z",
     "iopub.status.busy": "2024-07-12T08:45:31.013178Z"
    }
   },
   "outputs": [],
   "source": [
    "import numpy as np\n",
    "\n",
    "gamma = 0.75\n",
    "alpha = 0.9\n",
    "\n",
    "location_to_state = {\n",
    "    'L1': 0,\n",
    "    'L2': 1,\n",
    "    'L3': 2,\n",
    "    'L4': 3,\n",
    "    'L5': 4,\n",
    "    'L6': 5,\n",
    "    'L7': 6,\n",
    "    'L8': 7,\n",
    "    'L9': 8\n",
    "}\n",
    "\n",
    "# Define the Actions\n",
    "actions = [0, 1, 2, 3, 4, 5, 6, 7, 8]\n",
    "\n",
    "rewards = np.array([\n",
    "    [0, 1, 0, 0, 0, 0, 0, 0, 0],\n",
    "    [1, 0, 1, 0, 0, 0, 0, 0, 0],\n",
    "    [0, 1, 0, 0, 1, 0, 0, 0, 0],\n",
    "    [0, 0, 0, 0, 0, 1, 0, 0, 0],\n",
    "    [0, 1, 0, 0, 0, 0, 1, 0, 0],\n",
    "    [0, 0, 1, 0, 0, 0, 0, 0, 0],\n",
    "    [0, 0, 0, 1, 0, 0, 1, 0, 0],\n",
    "    [0, 0, 0, 0, 1, 0, 1, 0, 1],\n",
    "    [0, 0, 0, 0, 0, 0, 0, 1, 0]\n",
    "])\n",
    "\n",
    "# Maps indices to locations\n",
    "state_to_location = {state: location for location, state in location_to_state.items()}\n",
    "\n",
    "def get_optimal_route(start_location, end_location):\n",
    "    # Copy the rewards to new matrix\n",
    "    rewards_new = np.copy(rewards)\n",
    "    # Get the ending state corresponding to the ending location as given\n",
    "    ending_state = location_to_state[end_location]\n",
    "    # With the above information automatically set the priority of the given ending state to the highest one\n",
    "    rewards_new[ending_state, ending_state] = 999\n",
    "    Q = np.zeros([9, 9])\n",
    "    # Q-Learning process\n",
    "    for i in range(1000):\n",
    "        # Pick up a state randomly\n",
    "        current_state = np.random.randint(0, 9)  # Python excludes the upper bound\n",
    "        # For traversing through the neighbour Locations in the maze\n",
    "        playable_actions = []\n",
    "        # Iterate through the new rewards matrix and get the action > 0\n",
    "        for j in range(9):\n",
    "            if rewards_new[current_state, j] > 0:\n",
    "                playable_actions.append(j)\n",
    "        # Pick an action randomly from the list of playable actions leading us to the next stage\n",
    "        next_state = np.random.choice(playable_actions)\n",
    "        TD = rewards_new[current_state, next_state] + gamma * Q[next_state, np.argmax(Q[next_state,])] - Q[current_state, next_state]\n",
    "        # Update the Q-value using the Bellman equation\n",
    "        Q[current_state, next_state] += alpha * TD\n",
    "    # Initialize the optimal route with the starting location\n",
    "    route = [start_location]\n",
    "    next_location = start_location\n",
    "    # We do not know about the exact number of iterations needed to reach the final location\n",
    "    while next_location != end_location:\n",
    "        # Fetch the starting state\n",
    "        starting_state = location_to_state[next_location]\n",
    "        next_state = np.argmax(Q[starting_state,])\n",
    "        # We got the index of the next state, but we need the corresponding letter\n",
    "        next_location = state_to_location[next_state]\n",
    "        route.append(next_location)\n",
    "    return route\n",
    "\n",
    "print(get_optimal_route('L1', 'L9'))\n"
   ]
  },
  {
   "cell_type": "code",
   "execution_count": null,
   "id": "26c77f2a-17ee-4d4e-b5bc-daaef9249f72",
   "metadata": {},
   "outputs": [],
   "source": []
  }
 ],
 "metadata": {
  "kernelspec": {
   "display_name": "Python 3 (ipykernel)",
   "language": "python",
   "name": "python3"
  },
  "language_info": {
   "codemirror_mode": {
    "name": "ipython",
    "version": 3
   },
   "file_extension": ".py",
   "mimetype": "text/x-python",
   "name": "python",
   "nbconvert_exporter": "python",
   "pygments_lexer": "ipython3",
   "version": "3.11.5"
  }
 },
 "nbformat": 4,
 "nbformat_minor": 5
}
