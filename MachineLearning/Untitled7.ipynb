{
 "cells": [
  {
   "cell_type": "code",
   "execution_count": 1,
   "id": "bce48d9b-2da0-469e-8fc2-05e5a63d7124",
   "metadata": {
    "execution": {
     "iopub.execute_input": "2024-07-12T10:00:34.942042Z",
     "iopub.status.busy": "2024-07-12T10:00:34.941047Z",
     "iopub.status.idle": "2024-07-12T10:00:36.054481Z",
     "shell.execute_reply": "2024-07-12T10:00:36.045917Z",
     "shell.execute_reply.started": "2024-07-12T10:00:34.942042Z"
    }
   },
   "outputs": [
    {
     "name": "stdout",
     "output_type": "stream",
     "text": [
      "[[1. 1.]\n",
      " [1. 1.]]\n"
     ]
    }
   ],
   "source": [
    "import numpy as np\n",
    "\n",
    "def covariance_matrix(vectors):\n",
    "    \"\"\"\n",
    "    Calculate the covariance matrix from a list of vectors.\n",
    "\n",
    "    Parameters:\n",
    "    vectors (list of lists): A list of vectors, where each vector is a feature.\n",
    "\n",
    "    Returns:\n",
    "    cov_matrix (numpy array): The covariance matrix.\n",
    "    \"\"\"\n",
    "    # Convert the list of vectors to a numpy array\n",
    "    vectors_array = np.array(vectors)\n",
    "\n",
    "    # Calculate the mean of each feature (vector)\n",
    "    means = np.mean(vectors_array, axis=1)\n",
    "\n",
    "    # Subtract the mean from each feature to center the data\n",
    "    centered_vectors = vectors_array - means[:, np.newaxis]\n",
    "\n",
    "    # Calculate the covariance matrix\n",
    "    cov_matrix = np.dot(centered_vectors, centered_vectors.T) / (centered_vectors.shape[1] - 1)\n",
    "\n",
    "    return cov_matrix\n",
    "\n",
    "# Example usage\n",
    "vectors = [[1, 2, 3], [4, 5, 6]]\n",
    "cov_matrix = covariance_matrix(vectors)\n",
    "print(cov_matrix)"
   ]
  },
  {
   "cell_type": "code",
   "execution_count": 3,
   "id": "342a89c4-8d8f-4d78-af13-ef265c73bef8",
   "metadata": {
    "execution": {
     "iopub.execute_input": "2024-07-12T10:02:14.942830Z",
     "iopub.status.busy": "2024-07-12T10:02:14.940826Z",
     "iopub.status.idle": "2024-07-12T10:02:14.966485Z",
     "shell.execute_reply": "2024-07-12T10:02:14.964469Z",
     "shell.execute_reply.started": "2024-07-12T10:02:14.941826Z"
    }
   },
   "outputs": [
    {
     "name": "stdout",
     "output_type": "stream",
     "text": [
      "[[1. 1.]\n",
      " [1. 1.]]\n",
      "[[7.  2.5 2.5]\n",
      " [2.5 1.  1. ]\n",
      " [2.5 1.  1. ]]\n"
     ]
    }
   ],
   "source": [
    "import numpy as np\n",
    "\n",
    "def calculate_covariance_matrix(vectors):\n",
    "    \"\"\"\n",
    "    Calculate the covariance matrix from a list of vectors.\n",
    "\n",
    "    Parameters:\n",
    "    vectors (list of lists): A list of vectors, where each vector is a feature.\n",
    "\n",
    "    Returns:\n",
    "    cov_matrix (numpy array): The covariance matrix.\n",
    "    \"\"\"\n",
    "    # Convert the list of vectors to a numpy array\n",
    "    vectors_array = np.array(vectors)\n",
    "\n",
    "    # Calculate the mean of each feature (vector)\n",
    "    means = np.mean(vectors_array, axis=1)\n",
    "\n",
    "    # Subtract the mean from each feature to center the data\n",
    "    centered_vectors = vectors_array - means[:, np.newaxis]\n",
    "\n",
    "    # Calculate the covariance matrix\n",
    "    cov_matrix = np.dot(centered_vectors, centered_vectors.T) / (centered_vectors.shape[1] - 1)\n",
    "\n",
    "    return cov_matrix\n",
    "\n",
    "# Test Case 1\n",
    "print(calculate_covariance_matrix([[1, 2, 3], [4, 5, 6]]))\n",
    "# Output: [[1.0, 1.0], [1.0, 1.0]]\n",
    "\n",
    "# Test Case 2\n",
    "print(calculate_covariance_matrix([[1, 5, 6], [2, 3, 4], [7, 8, 9]]))\n",
    "# Output: [[7.0, 2.5, 2.5], [2.5, 1.0, 1.0], [2.5, 1.0, 1.0]]"
   ]
  },
  {
   "cell_type": "code",
   "execution_count": null,
   "id": "3a315727-4591-4647-9bdd-f6266482b973",
   "metadata": {},
   "outputs": [],
   "source": []
  }
 ],
 "metadata": {
  "kernelspec": {
   "display_name": "Python 3 (ipykernel)",
   "language": "python",
   "name": "python3"
  },
  "language_info": {
   "codemirror_mode": {
    "name": "ipython",
    "version": 3
   },
   "file_extension": ".py",
   "mimetype": "text/x-python",
   "name": "python",
   "nbconvert_exporter": "python",
   "pygments_lexer": "ipython3",
   "version": "3.11.5"
  }
 },
 "nbformat": 4,
 "nbformat_minor": 5
}
