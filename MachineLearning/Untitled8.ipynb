{
 "cells": [
  {
   "cell_type": "code",
   "execution_count": 17,
   "id": "47b239a6-f01f-435d-8f95-a51c8b7fd28d",
   "metadata": {
    "execution": {
     "iopub.execute_input": "2024-07-12T10:31:21.586581Z",
     "iopub.status.busy": "2024-07-12T10:31:21.586581Z",
     "iopub.status.idle": "2024-07-12T10:31:21.597357Z",
     "shell.execute_reply": "2024-07-12T10:31:21.595342Z",
     "shell.execute_reply.started": "2024-07-12T10:31:21.586581Z"
    }
   },
   "outputs": [],
   "source": [
    "import tensorflow as tf"
   ]
  },
  {
   "cell_type": "code",
   "execution_count": 19,
   "id": "dd53ab7c-d35b-40f7-8b44-71069ea231c3",
   "metadata": {
    "execution": {
     "iopub.execute_input": "2024-07-12T10:31:22.085565Z",
     "iopub.status.busy": "2024-07-12T10:31:22.084564Z",
     "iopub.status.idle": "2024-07-12T10:31:22.094612Z",
     "shell.execute_reply": "2024-07-12T10:31:22.093089Z",
     "shell.execute_reply.started": "2024-07-12T10:31:22.085565Z"
    }
   },
   "outputs": [],
   "source": [
    "nodel = tf.constant(3.0,tf.float32)"
   ]
  },
  {
   "cell_type": "code",
   "execution_count": 21,
   "id": "dd653eee-283f-4f4a-96e9-ddcf08ed136a",
   "metadata": {
    "execution": {
     "iopub.execute_input": "2024-07-12T10:31:22.563317Z",
     "iopub.status.busy": "2024-07-12T10:31:22.561316Z",
     "iopub.status.idle": "2024-07-12T10:31:22.572370Z",
     "shell.execute_reply": "2024-07-12T10:31:22.569827Z",
     "shell.execute_reply.started": "2024-07-12T10:31:22.563317Z"
    }
   },
   "outputs": [],
   "source": [
    "node2 = tf.constant(4.0)"
   ]
  },
  {
   "cell_type": "code",
   "execution_count": 25,
   "id": "b266bff1-4069-4b92-8f4b-3e9b68809136",
   "metadata": {
    "execution": {
     "iopub.execute_input": "2024-07-12T10:31:36.280131Z",
     "iopub.status.busy": "2024-07-12T10:31:36.279130Z",
     "iopub.status.idle": "2024-07-12T10:31:37.059092Z",
     "shell.execute_reply": "2024-07-12T10:31:37.053551Z",
     "shell.execute_reply.started": "2024-07-12T10:31:36.280131Z"
    }
   },
   "outputs": [
    {
     "ename": "RuntimeError",
     "evalue": "The Session graph is empty. Add operations to the graph before calling run().",
     "output_type": "error",
     "traceback": [
      "\u001b[1;31m---------------------------------------------------------------------------\u001b[0m",
      "\u001b[1;31mRuntimeError\u001b[0m                              Traceback (most recent call last)",
      "Cell \u001b[1;32mIn[25], line 2\u001b[0m\n\u001b[0;32m      1\u001b[0m sess \u001b[38;5;241m=\u001b[39m tf\u001b[38;5;241m.\u001b[39mcompat\u001b[38;5;241m.\u001b[39mv1\u001b[38;5;241m.\u001b[39mSession()\n\u001b[1;32m----> 2\u001b[0m \u001b[38;5;28mprint\u001b[39m(sess\u001b[38;5;241m.\u001b[39mrun([nodel,node2]))\n",
      "File \u001b[1;32m~\\AppData\\Roaming\\Python\\Python311\\site-packages\\tensorflow\\python\\client\\session.py:971\u001b[0m, in \u001b[0;36mBaseSession.run\u001b[1;34m(self, fetches, feed_dict, options, run_metadata)\u001b[0m\n\u001b[0;32m    968\u001b[0m run_metadata_ptr \u001b[38;5;241m=\u001b[39m tf_session\u001b[38;5;241m.\u001b[39mTF_NewBuffer() \u001b[38;5;28;01mif\u001b[39;00m run_metadata \u001b[38;5;28;01melse\u001b[39;00m \u001b[38;5;28;01mNone\u001b[39;00m\n\u001b[0;32m    970\u001b[0m \u001b[38;5;28;01mtry\u001b[39;00m:\n\u001b[1;32m--> 971\u001b[0m   result \u001b[38;5;241m=\u001b[39m \u001b[38;5;28mself\u001b[39m\u001b[38;5;241m.\u001b[39m_run(\u001b[38;5;28;01mNone\u001b[39;00m, fetches, feed_dict, options_ptr,\n\u001b[0;32m    972\u001b[0m                      run_metadata_ptr)\n\u001b[0;32m    973\u001b[0m   \u001b[38;5;28;01mif\u001b[39;00m run_metadata:\n\u001b[0;32m    974\u001b[0m     proto_data \u001b[38;5;241m=\u001b[39m tf_session\u001b[38;5;241m.\u001b[39mTF_GetBuffer(run_metadata_ptr)\n",
      "File \u001b[1;32m~\\AppData\\Roaming\\Python\\Python311\\site-packages\\tensorflow\\python\\client\\session.py:1141\u001b[0m, in \u001b[0;36mBaseSession._run\u001b[1;34m(self, handle, fetches, feed_dict, options, run_metadata)\u001b[0m\n\u001b[0;32m   1139\u001b[0m   \u001b[38;5;28;01mraise\u001b[39;00m \u001b[38;5;167;01mRuntimeError\u001b[39;00m(\u001b[38;5;124m'\u001b[39m\u001b[38;5;124mAttempted to use a closed Session.\u001b[39m\u001b[38;5;124m'\u001b[39m)\n\u001b[0;32m   1140\u001b[0m \u001b[38;5;28;01mif\u001b[39;00m \u001b[38;5;28mself\u001b[39m\u001b[38;5;241m.\u001b[39mgraph\u001b[38;5;241m.\u001b[39mversion \u001b[38;5;241m==\u001b[39m \u001b[38;5;241m0\u001b[39m:\n\u001b[1;32m-> 1141\u001b[0m   \u001b[38;5;28;01mraise\u001b[39;00m \u001b[38;5;167;01mRuntimeError\u001b[39;00m(\u001b[38;5;124m'\u001b[39m\u001b[38;5;124mThe Session graph is empty. Add operations to the \u001b[39m\u001b[38;5;124m'\u001b[39m\n\u001b[0;32m   1142\u001b[0m                      \u001b[38;5;124m'\u001b[39m\u001b[38;5;124mgraph before calling run().\u001b[39m\u001b[38;5;124m'\u001b[39m)\n\u001b[0;32m   1144\u001b[0m \u001b[38;5;66;03m# Create request.\u001b[39;00m\n\u001b[0;32m   1145\u001b[0m feed_dict_tensor \u001b[38;5;241m=\u001b[39m {}\n",
      "\u001b[1;31mRuntimeError\u001b[0m: The Session graph is empty. Add operations to the graph before calling run()."
     ]
    }
   ],
   "source": [
    "sess = tf.compat.v1.Session()\n",
    "print(sess.run([nodel,node2]))"
   ]
  },
  {
   "cell_type": "code",
   "execution_count": 27,
   "id": "77e9b2e0-e803-474e-a71d-5482e188ad12",
   "metadata": {
    "execution": {
     "iopub.execute_input": "2024-07-12T10:32:15.589001Z",
     "iopub.status.busy": "2024-07-12T10:32:15.588000Z",
     "iopub.status.idle": "2024-07-12T10:32:15.695921Z",
     "shell.execute_reply": "2024-07-12T10:32:15.693964Z",
     "shell.execute_reply.started": "2024-07-12T10:32:15.589001Z"
    }
   },
   "outputs": [
    {
     "name": "stdout",
     "output_type": "stream",
     "text": [
      "[7.0, 4.0]\n"
     ]
    }
   ],
   "source": [
    "import tensorflow as tf\n",
    "\n",
    "# Create a graph\n",
    "graph = tf.Graph()\n",
    "\n",
    "# Add operations to the graph\n",
    "with graph.as_default():\n",
    "    node1 = tf.constant(3.0)\n",
    "    node2 = tf.constant(4.0)\n",
    "    nodel = tf.add(node1, node2)\n",
    "\n",
    "# Create a session with the graph\n",
    "with tf.compat.v1.Session(graph=graph) as sess:\n",
    "    print(sess.run([nodel, node2]))"
   ]
  },
  {
   "cell_type": "code",
   "execution_count": 44,
   "id": "618a4a43-f981-43aa-9e0b-1a12b71d08f8",
   "metadata": {
    "execution": {
     "iopub.execute_input": "2024-07-12T10:40:14.140180Z",
     "iopub.status.busy": "2024-07-12T10:40:14.139181Z",
     "iopub.status.idle": "2024-07-12T10:40:14.422769Z",
     "shell.execute_reply": "2024-07-12T10:40:14.419753Z",
     "shell.execute_reply.started": "2024-07-12T10:40:14.140180Z"
    }
   },
   "outputs": [
    {
     "name": "stdout",
     "output_type": "stream",
     "text": [
      "5\n"
     ]
    }
   ],
   "source": [
    "graph = tf.Graph()\n",
    "with graph.as_default():\n",
    "    a = tf.constant(5)\n",
    "    b = tf.constant(2)\n",
    "    c = tf.constant(3)\n",
    "    d = tf.multiply(a, b)\n",
    "    e = tf.add(c, b)\n",
    "    f = tf.subtract(d, e)\n",
    "\n",
    "    with tf.compat.v1.Session() as sess:\n",
    "        outs = sess.run(f)\n",
    "        print(outs)"
   ]
  },
  {
   "cell_type": "code",
   "execution_count": 48,
   "id": "2f365e61-aed3-4952-8ef4-b057032f61b6",
   "metadata": {
    "execution": {
     "iopub.execute_input": "2024-07-12T10:44:30.371366Z",
     "iopub.status.busy": "2024-07-12T10:44:30.370362Z",
     "iopub.status.idle": "2024-07-12T10:44:30.650727Z",
     "shell.execute_reply": "2024-07-12T10:44:30.648715Z",
     "shell.execute_reply.started": "2024-07-12T10:44:30.371366Z"
    }
   },
   "outputs": [
    {
     "name": "stdout",
     "output_type": "stream",
     "text": [
      "[3. 7.]\n"
     ]
    }
   ],
   "source": [
    "graph = tf.Graph()\n",
    "with graph.as_default():\n",
    "    a = tf.compat.v1.placeholder(tf.float32)\n",
    "    b = tf.compat.v1.placeholder(tf.float32)\n",
    "    adder_node = a + b\n",
    "    with tf.compat.v1.Session() as sess:\n",
    "        outs = sess.run(adder_node,{a:[1,3],b:[2,4]})\n",
    "        print(outs)"
   ]
  },
  {
   "cell_type": "code",
   "execution_count": 78,
   "id": "c9296725-b471-438f-950c-cdea6e2592fb",
   "metadata": {
    "execution": {
     "iopub.execute_input": "2024-07-12T16:32:39.138908Z",
     "iopub.status.busy": "2024-07-12T16:32:39.137907Z",
     "iopub.status.idle": "2024-07-12T16:32:40.230530Z",
     "shell.execute_reply": "2024-07-12T16:32:40.228517Z",
     "shell.execute_reply.started": "2024-07-12T16:32:39.138908Z"
    }
   },
   "outputs": [
    {
     "name": "stdout",
     "output_type": "stream",
     "text": [
      "[array([-0.9999969], dtype=float32), array([0.9999908], dtype=float32)]\n"
     ]
    }
   ],
   "source": [
    "tf.compat.v1.disable_eager_execution()  # Disable eager execution\n",
    "graph = tf.Graph()\n",
    "with graph.as_default():\n",
    "    w = tf.Variable([.3], tf.float32)\n",
    "    b = tf.Variable([-.3], tf.float32)\n",
    "    x = tf.compat.v1.placeholder(tf.float32)\n",
    "    y = tf.compat.v1.placeholder(tf.float32)\n",
    "    linear_model = w * x + b\n",
    "    init = tf.compat.v1.global_variables_initializer()\n",
    "    with tf.compat.v1.Session() as sess:\n",
    "        # sess.run(init)\n",
    "        # print(sess.run(linear_model,{x:[1,2,3,4]}))\n",
    "        squared_deltas = tf.square(linear_model - y)\n",
    "        loss = tf.reduce_sum(squared_deltas)\n",
    "        optimizer = tf.compat.v1.train.GradientDescentOptimizer(0.01)\n",
    "        train = optimizer.minimize(loss)\n",
    "        sess.run(init)\n",
    "        for i in range(1000):\n",
    "            sess.run(train,{x:[1,2,3,4],y:[0,-1,-2,-3]})\n",
    "        print(sess.run([w,b]))\n",
    "        "
   ]
  },
  {
   "cell_type": "code",
   "execution_count": 80,
   "id": "79aba04f-b79c-4556-a5ff-06800e271a76",
   "metadata": {
    "execution": {
     "iopub.execute_input": "2024-07-12T16:34:38.301787Z",
     "iopub.status.busy": "2024-07-12T16:34:38.300417Z",
     "iopub.status.idle": "2024-07-12T16:34:38.319762Z",
     "shell.execute_reply": "2024-07-12T16:34:38.317703Z",
     "shell.execute_reply.started": "2024-07-12T16:34:38.300787Z"
    }
   },
   "outputs": [],
   "source": [
    "T,F = 1.,-1.\n",
    "bias = 1.\n",
    "train_in = [[T,T,bias],\n",
    "           [T,F,bias],\n",
    "           [F,T,bias],\n",
    "           [F,F,bias],]\n",
    "train_out = [[T],[F],[F],[F],]"
   ]
  },
  {
   "cell_type": "code",
   "execution_count": 84,
   "id": "d1df4043-a813-4d3f-9043-605894006a2c",
   "metadata": {
    "execution": {
     "iopub.execute_input": "2024-07-12T16:35:47.793821Z",
     "iopub.status.busy": "2024-07-12T16:35:47.790806Z",
     "iopub.status.idle": "2024-07-12T16:35:47.852317Z",
     "shell.execute_reply": "2024-07-12T16:35:47.849788Z",
     "shell.execute_reply.started": "2024-07-12T16:35:47.793821Z"
    }
   },
   "outputs": [],
   "source": [
    "w = tf.Variable(tf.compat.v1.random_normal([3,1]))"
   ]
  },
  {
   "cell_type": "code",
   "execution_count": null,
   "id": "c4723023-29ca-4db5-87c8-48e20afb897c",
   "metadata": {},
   "outputs": [],
   "source": []
  }
 ],
 "metadata": {
  "kernelspec": {
   "display_name": "Python 3 (ipykernel)",
   "language": "python",
   "name": "python3"
  },
  "language_info": {
   "codemirror_mode": {
    "name": "ipython",
    "version": 3
   },
   "file_extension": ".py",
   "mimetype": "text/x-python",
   "name": "python",
   "nbconvert_exporter": "python",
   "pygments_lexer": "ipython3",
   "version": "3.11.5"
  }
 },
 "nbformat": 4,
 "nbformat_minor": 5
}
