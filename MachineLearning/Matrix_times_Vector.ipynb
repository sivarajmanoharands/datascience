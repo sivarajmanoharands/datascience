{
 "cells": [
  {
   "cell_type": "code",
   "execution_count": 1,
   "id": "c0388e8e-ef4e-4c68-9c94-e07ea98c9bfa",
   "metadata": {
    "execution": {
     "iopub.execute_input": "2024-07-12T09:53:23.657449Z",
     "iopub.status.busy": "2024-07-12T09:53:23.641382Z",
     "iopub.status.idle": "2024-07-12T09:53:24.549725Z",
     "shell.execute_reply": "2024-07-12T09:53:24.547188Z",
     "shell.execute_reply.started": "2024-07-12T09:53:23.656449Z"
    }
   },
   "outputs": [
    {
     "name": "stdout",
     "output_type": "stream",
     "text": [
      "[4, 10, 16]\n"
     ]
    }
   ],
   "source": [
    "import numpy as np\n",
    "\n",
    "def dot_product(matrix, vector):\n",
    "    \"\"\"\n",
    "    Computes the dot product of a matrix and a vector.\n",
    "    \n",
    "    Args:\n",
    "        matrix (list of lists of float): The matrix.\n",
    "        vector (list of float): The vector.\n",
    "        \n",
    "    Returns:\n",
    "        list of float: The result of the dot product.\n",
    "        -1: If the matrix could not be dotted with the vector.\n",
    "    \"\"\"\n",
    "    try:\n",
    "        # Convert matrix and vector to numpy arrays\n",
    "        matrix_np = np.array(matrix)\n",
    "        vector_np = np.array(vector)\n",
    "        \n",
    "        # Check if the dimensions are compatible\n",
    "        if matrix_np.shape[1] != vector_np.shape[0]:\n",
    "            return -1\n",
    "        \n",
    "        # Compute the dot product\n",
    "        result = matrix_np.dot(vector_np)\n",
    "        \n",
    "        # Convert the result back to a list and return\n",
    "        return result.tolist()\n",
    "    \n",
    "    except Exception as e:\n",
    "        # Return -1 if any exception occurs\n",
    "        return -1\n",
    "\n",
    "# Example usage\n",
    "matrix = [\n",
    "    [1, 2, 3],\n",
    "    [4, 5, 6],\n",
    "    [7, 8, 9]\n",
    "]\n",
    "vector = [1, 0, 1]\n",
    "\n",
    "result = dot_product(matrix, vector)\n",
    "print(result)  # Output: [4, 10, 16]\n"
   ]
  },
  {
   "cell_type": "code",
   "execution_count": 3,
   "id": "2ad63c1a-76fa-461c-b837-ecf258b44a50",
   "metadata": {
    "execution": {
     "iopub.execute_input": "2024-07-12T09:54:40.105771Z",
     "iopub.status.busy": "2024-07-12T09:54:40.104768Z",
     "iopub.status.idle": "2024-07-12T09:54:40.126536Z",
     "shell.execute_reply": "2024-07-12T09:54:40.124521Z",
     "shell.execute_reply.started": "2024-07-12T09:54:40.105771Z"
    }
   },
   "outputs": [
    {
     "name": "stdout",
     "output_type": "stream",
     "text": [
      "[5, 10]\n"
     ]
    }
   ],
   "source": [
    "import numpy as np\n",
    "\n",
    "def dot_product(matrix, vector):\n",
    "    \"\"\"\n",
    "    Computes the dot product of a matrix and a vector.\n",
    "    \n",
    "    Args:\n",
    "        matrix (list of lists of float): The matrix.\n",
    "        vector (list of float): The vector.\n",
    "        \n",
    "    Returns:\n",
    "        list of float: The result of the dot product.\n",
    "        -1: If the matrix could not be dotted with the vector.\n",
    "    \"\"\"\n",
    "    try:\n",
    "        # Convert matrix and vector to numpy arrays\n",
    "        matrix_np = np.array(matrix)\n",
    "        vector_np = np.array(vector)\n",
    "        \n",
    "        # Check if the dimensions are compatible\n",
    "        if matrix_np.shape[1] != vector_np.shape[0]:\n",
    "            return -1\n",
    "        \n",
    "        # Compute the dot product\n",
    "        result = matrix_np.dot(vector_np)\n",
    "        \n",
    "        # Convert the result back to a list and return\n",
    "        return result.tolist()\n",
    "    \n",
    "    except Exception as e:\n",
    "        # Return -1 if any exception occurs\n",
    "        return -1\n",
    "\n",
    "# Example usage\n",
    "a = [[1, 2], [2, 4]]\n",
    "b = [1, 2]\n",
    "\n",
    "result = dot_product(a, b)\n",
    "print(result)  # Output: [5, 10]\n"
   ]
  },
  {
   "cell_type": "code",
   "execution_count": 5,
   "id": "a169d1a8-8152-4cdd-a8dc-390c24e02f47",
   "metadata": {
    "execution": {
     "iopub.execute_input": "2024-07-12T09:56:36.987632Z",
     "iopub.status.busy": "2024-07-12T09:56:36.986634Z",
     "iopub.status.idle": "2024-07-12T09:56:37.011113Z",
     "shell.execute_reply": "2024-07-12T09:56:37.009099Z",
     "shell.execute_reply.started": "2024-07-12T09:56:36.987632Z"
    }
   },
   "outputs": [
    {
     "name": "stdout",
     "output_type": "stream",
     "text": [
      "[14, 25, 49]\n",
      "-1\n"
     ]
    }
   ],
   "source": [
    "import numpy as np\n",
    "\n",
    "def matrix_dot_vector(matrix, vector):\n",
    "    \"\"\"\n",
    "    Computes the dot product of a matrix and a vector.\n",
    "    \n",
    "    Args:\n",
    "        matrix (list of lists of float): The matrix.\n",
    "        vector (list of float): The vector.\n",
    "        \n",
    "    Returns:\n",
    "        list of float: The result of the dot product.\n",
    "        -1: If the matrix could not be dotted with the vector.\n",
    "    \"\"\"\n",
    "    try:\n",
    "        # Convert matrix and vector to numpy arrays\n",
    "        matrix_np = np.array(matrix)\n",
    "        vector_np = np.array(vector)\n",
    "        \n",
    "        # Check if the dimensions are compatible\n",
    "        if matrix_np.shape[1] != vector_np.shape[0]:\n",
    "            return -1\n",
    "        \n",
    "        # Compute the dot product\n",
    "        result = matrix_np.dot(vector_np)\n",
    "        \n",
    "        # Convert the result back to a list and return\n",
    "        return result.tolist()\n",
    "    \n",
    "    except Exception as e:\n",
    "        # Return -1 if any exception occurs\n",
    "        return -1\n",
    "\n",
    "# Example usage\n",
    "print(matrix_dot_vector([[1, 2, 3], [2, 4, 5], [6, 8, 9]], [1, 2, 3]))  # Expected: [14, 25, 49]\n",
    "print(matrix_dot_vector([[1, 2], [2, 4], [6, 8], [12, 4]], [1, 2, 3]))  # Expected: -1\n"
   ]
  },
  {
   "cell_type": "code",
   "execution_count": 7,
   "id": "aec484a8-44ed-4b1a-aa48-7fff31f55de7",
   "metadata": {
    "execution": {
     "iopub.execute_input": "2024-07-12T09:58:22.859666Z",
     "iopub.status.busy": "2024-07-12T09:58:22.858667Z",
     "iopub.status.idle": "2024-07-12T09:58:22.874952Z",
     "shell.execute_reply": "2024-07-12T09:58:22.872938Z",
     "shell.execute_reply.started": "2024-07-12T09:58:22.859666Z"
    }
   },
   "outputs": [],
   "source": [
    "import numpy as np\n",
    "\n",
    "def matrix_dot_vector(matrix, vector):\n",
    "    \"\"\"\n",
    "    Computes the dot product of a matrix and a vector.\n",
    "    \n",
    "    Args:\n",
    "        matrix (list of lists of float): The matrix.\n",
    "        vector (list of float): The vector.\n",
    "        \n",
    "    Returns:\n",
    "        list of float: The result of the dot product.\n",
    "        -1: If the matrix could not be dotted with the vector.\n",
    "    \"\"\"\n",
    "    try:\n",
    "        # Convert matrix and vector to numpy arrays\n",
    "        matrix_np = np.array(matrix)\n",
    "        vector_np = np.array(vector)\n",
    "        \n",
    "        # Check if the dimensions are compatible\n",
    "        if matrix_np.shape[1] != vector_np.shape[0]:\n",
    "            return -1\n",
    "        \n",
    "        # Compute the dot product\n",
    "        result = matrix_np.dot(vector_np)\n",
    "        \n",
    "        # Convert the result back to a list and return\n",
    "        return result.tolist()\n",
    "    \n",
    "    except Exception as e:\n",
    "        # Return -1 if any exception occurs\n",
    "        return -1"
   ]
  },
  {
   "cell_type": "code",
   "execution_count": 9,
   "id": "4d81e5eb-30ec-4ec0-aa68-2ced0ed0ea85",
   "metadata": {
    "execution": {
     "iopub.execute_input": "2024-07-12T09:58:39.407753Z",
     "iopub.status.busy": "2024-07-12T09:58:39.406239Z",
     "iopub.status.idle": "2024-07-12T09:58:39.426879Z",
     "shell.execute_reply": "2024-07-12T09:58:39.424863Z",
     "shell.execute_reply.started": "2024-07-12T09:58:39.407753Z"
    }
   },
   "outputs": [
    {
     "name": "stdout",
     "output_type": "stream",
     "text": [
      "[14, 25, 49]\n",
      "-1\n"
     ]
    }
   ],
   "source": [
    "# Test cases\n",
    "print(matrix_dot_vector([[1, 2, 3], [2, 4, 5], [6, 8, 9]], [1, 2, 3]))  # Expected: [14, 25, 49]\n",
    "print(matrix_dot_vector([[1, 2], [2, 4], [6, 8], [12, 4]], [1, 2, 3]))  # Expected: -1"
   ]
  },
  {
   "cell_type": "code",
   "execution_count": null,
   "id": "64142acb-25bf-4789-9897-9493690e4fa2",
   "metadata": {},
   "outputs": [],
   "source": []
  }
 ],
 "metadata": {
  "kernelspec": {
   "display_name": "Python 3 (ipykernel)",
   "language": "python",
   "name": "python3"
  },
  "language_info": {
   "codemirror_mode": {
    "name": "ipython",
    "version": 3
   },
   "file_extension": ".py",
   "mimetype": "text/x-python",
   "name": "python",
   "nbconvert_exporter": "python",
   "pygments_lexer": "ipython3",
   "version": "3.11.5"
  }
 },
 "nbformat": 4,
 "nbformat_minor": 5
}
