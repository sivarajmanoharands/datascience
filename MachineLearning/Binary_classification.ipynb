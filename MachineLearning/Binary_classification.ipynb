{
 "cells": [
  {
   "cell_type": "code",
   "execution_count": 100,
   "id": "de97c31f-3190-4249-be1e-f22c4bd38c6e",
   "metadata": {
    "execution": {
     "iopub.execute_input": "2024-07-16T04:50:11.626833Z",
     "iopub.status.busy": "2024-07-16T04:50:11.625838Z",
     "iopub.status.idle": "2024-07-16T04:50:11.641898Z",
     "shell.execute_reply": "2024-07-16T04:50:11.639884Z",
     "shell.execute_reply.started": "2024-07-16T04:50:11.626833Z"
    }
   },
   "outputs": [],
   "source": [
    "import numpy as np\n",
    "import tensorflow as tf\n",
    "from tensorflow import keras\n",
    "from sklearn.metrics import precision_score, recall_score, f1_score, accuracy_score, classification_report, confusion_matrix\n",
    "from sklearn.model_selection import train_test_split\n",
    "import matplotlib.pyplot as plt\n",
    "from tensorflow.keras.models import Sequential\n",
    "from tensorflow.keras.layers import Dense\n",
    "import seaborn as sns\n",
    "\n",
    "# Generate synthetic binary classification data\n",
    "from sklearn.datasets import make_classification\n"
   ]
  },
  {
   "cell_type": "code",
   "execution_count": 101,
   "id": "3f8b7eef-13f7-4af4-b2d1-7de0f1d3affe",
   "metadata": {
    "execution": {
     "iopub.execute_input": "2024-07-16T04:50:11.647427Z",
     "iopub.status.busy": "2024-07-16T04:50:11.646425Z",
     "iopub.status.idle": "2024-07-16T04:50:11.664695Z",
     "shell.execute_reply": "2024-07-16T04:50:11.662070Z",
     "shell.execute_reply.started": "2024-07-16T04:50:11.647427Z"
    }
   },
   "outputs": [],
   "source": [
    "\n",
    "X, y = make_classification(n_samples=1000, n_features=20, n_informative=15, n_redundant=5, random_state=42)\n"
   ]
  },
  {
   "cell_type": "code",
   "execution_count": 102,
   "id": "67306f27-ea4f-4db6-a45d-6b86fad0ba22",
   "metadata": {
    "execution": {
     "iopub.execute_input": "2024-07-16T04:50:11.668608Z",
     "iopub.status.busy": "2024-07-16T04:50:11.667608Z",
     "iopub.status.idle": "2024-07-16T04:50:11.725996Z",
     "shell.execute_reply": "2024-07-16T04:50:11.724443Z",
     "shell.execute_reply.started": "2024-07-16T04:50:11.668608Z"
    }
   },
   "outputs": [],
   "source": [
    "# Convert to DataFrame for easier manipulation\n",
    "df = pd.DataFrame(X, columns=[f'feature_{i}' for i in range(X.shape[1])])\n",
    "df['target'] = y\n",
    "\n",
    "# Introduce some missing values for demonstration purposes\n",
    "df.loc[0:10, 'feature_0'] = np.nan\n",
    "df.loc[20:30, 'feature_1'] = np.nan\n",
    "\n",
    "# Data Preprocessing and Cleansing\n",
    "# 1. Handle missing values\n",
    "df.fillna(df.mean(), inplace=True)\n",
    "\n",
    "# 2. Normalize the data\n",
    "scaler = StandardScaler()\n",
    "X = scaler.fit_transform(df.drop('target', axis=1))\n"
   ]
  },
  {
   "cell_type": "code",
   "execution_count": 103,
   "id": "c751a5d1-7a96-4ea0-9103-7ca874b25f40",
   "metadata": {
    "execution": {
     "iopub.execute_input": "2024-07-16T04:50:11.729532Z",
     "iopub.status.busy": "2024-07-16T04:50:11.728533Z",
     "iopub.status.idle": "2024-07-16T04:50:11.743870Z",
     "shell.execute_reply": "2024-07-16T04:50:11.740857Z",
     "shell.execute_reply.started": "2024-07-16T04:50:11.729532Z"
    }
   },
   "outputs": [],
   "source": [
    "X_train, X_test, y_train, y_test = train_test_split(X, y, test_size=0.2, random_state=42)\n"
   ]
  },
  {
   "cell_type": "code",
   "execution_count": 104,
   "id": "99b1df71-83f8-44a2-9bf5-a4fe4a607777",
   "metadata": {
    "execution": {
     "iopub.execute_input": "2024-07-16T04:50:11.751392Z",
     "iopub.status.busy": "2024-07-16T04:50:11.750390Z",
     "iopub.status.idle": "2024-07-16T04:50:11.825281Z",
     "shell.execute_reply": "2024-07-16T04:50:11.822745Z",
     "shell.execute_reply.started": "2024-07-16T04:50:11.751392Z"
    }
   },
   "outputs": [
    {
     "name": "stderr",
     "output_type": "stream",
     "text": [
      "C:\\Users\\user\\AppData\\Roaming\\Python\\Python311\\site-packages\\keras\\src\\layers\\core\\dense.py:87: UserWarning: Do not pass an `input_shape`/`input_dim` argument to a layer. When using Sequential models, prefer using an `Input(shape)` object as the first layer in the model instead.\n",
      "  super().__init__(activity_regularizer=activity_regularizer, **kwargs)\n"
     ]
    }
   ],
   "source": [
    "\n",
    "# Create a simple neural network model for binary classification\n",
    "model = Sequential([\n",
    "    Dense(64, activation='relu', input_shape=(X_train.shape[1],)),\n",
    "    Dense(32, activation='relu'),\n",
    "    Dense(1, activation='sigmoid')\n",
    "])\n"
   ]
  },
  {
   "cell_type": "code",
   "execution_count": 105,
   "id": "3a4303a2-a6dd-441e-9230-7451570a9639",
   "metadata": {
    "execution": {
     "iopub.execute_input": "2024-07-16T04:50:11.829306Z",
     "iopub.status.busy": "2024-07-16T04:50:11.827296Z",
     "iopub.status.idle": "2024-07-16T04:50:11.847318Z",
     "shell.execute_reply": "2024-07-16T04:50:11.845305Z",
     "shell.execute_reply.started": "2024-07-16T04:50:11.829306Z"
    }
   },
   "outputs": [],
   "source": [
    "\n",
    "# Compile the model\n",
    "model.compile(optimizer='adam', loss='binary_crossentropy', metrics=['accuracy'])\n"
   ]
  },
  {
   "cell_type": "code",
   "execution_count": 106,
   "id": "954f6a88-67b5-4cc3-85d2-59d2c50ec336",
   "metadata": {
    "execution": {
     "iopub.execute_input": "2024-07-16T04:50:11.852318Z",
     "iopub.status.busy": "2024-07-16T04:50:11.851322Z",
     "iopub.status.idle": "2024-07-16T04:50:17.247252Z",
     "shell.execute_reply": "2024-07-16T04:50:17.245237Z",
     "shell.execute_reply.started": "2024-07-16T04:50:11.852318Z"
    }
   },
   "outputs": [
    {
     "name": "stdout",
     "output_type": "stream",
     "text": [
      "Epoch 1/10\n",
      "\u001b[1m20/20\u001b[0m \u001b[32m━━━━━━━━━━━━━━━━━━━━\u001b[0m\u001b[37m\u001b[0m \u001b[1m4s\u001b[0m 28ms/step - accuracy: 0.5081 - loss: 0.7605 - val_accuracy: 0.6812 - val_loss: 0.6043\n",
      "Epoch 2/10\n",
      "\u001b[1m20/20\u001b[0m \u001b[32m━━━━━━━━━━━━━━━━━━━━\u001b[0m\u001b[37m\u001b[0m \u001b[1m0s\u001b[0m 7ms/step - accuracy: 0.7586 - loss: 0.5799 - val_accuracy: 0.7500 - val_loss: 0.5097\n",
      "Epoch 3/10\n",
      "\u001b[1m20/20\u001b[0m \u001b[32m━━━━━━━━━━━━━━━━━━━━\u001b[0m\u001b[37m\u001b[0m \u001b[1m0s\u001b[0m 5ms/step - accuracy: 0.7711 - loss: 0.4902 - val_accuracy: 0.8062 - val_loss: 0.4447\n",
      "Epoch 4/10\n",
      "\u001b[1m20/20\u001b[0m \u001b[32m━━━━━━━━━━━━━━━━━━━━\u001b[0m\u001b[37m\u001b[0m \u001b[1m0s\u001b[0m 6ms/step - accuracy: 0.8153 - loss: 0.4183 - val_accuracy: 0.8438 - val_loss: 0.3955\n",
      "Epoch 5/10\n",
      "\u001b[1m20/20\u001b[0m \u001b[32m━━━━━━━━━━━━━━━━━━━━\u001b[0m\u001b[37m\u001b[0m \u001b[1m0s\u001b[0m 6ms/step - accuracy: 0.8640 - loss: 0.3498 - val_accuracy: 0.8687 - val_loss: 0.3548\n",
      "Epoch 6/10\n",
      "\u001b[1m20/20\u001b[0m \u001b[32m━━━━━━━━━━━━━━━━━━━━\u001b[0m\u001b[37m\u001b[0m \u001b[1m0s\u001b[0m 5ms/step - accuracy: 0.8953 - loss: 0.2947 - val_accuracy: 0.8687 - val_loss: 0.3336\n",
      "Epoch 7/10\n",
      "\u001b[1m20/20\u001b[0m \u001b[32m━━━━━━━━━━━━━━━━━━━━\u001b[0m\u001b[37m\u001b[0m \u001b[1m0s\u001b[0m 6ms/step - accuracy: 0.9058 - loss: 0.2680 - val_accuracy: 0.8813 - val_loss: 0.3054\n",
      "Epoch 8/10\n",
      "\u001b[1m20/20\u001b[0m \u001b[32m━━━━━━━━━━━━━━━━━━━━\u001b[0m\u001b[37m\u001b[0m \u001b[1m0s\u001b[0m 7ms/step - accuracy: 0.9195 - loss: 0.2362 - val_accuracy: 0.9000 - val_loss: 0.2833\n",
      "Epoch 9/10\n",
      "\u001b[1m20/20\u001b[0m \u001b[32m━━━━━━━━━━━━━━━━━━━━\u001b[0m\u001b[37m\u001b[0m \u001b[1m0s\u001b[0m 7ms/step - accuracy: 0.9293 - loss: 0.2153 - val_accuracy: 0.9000 - val_loss: 0.2648\n",
      "Epoch 10/10\n",
      "\u001b[1m20/20\u001b[0m \u001b[32m━━━━━━━━━━━━━━━━━━━━\u001b[0m\u001b[37m\u001b[0m \u001b[1m0s\u001b[0m 7ms/step - accuracy: 0.9401 - loss: 0.1839 - val_accuracy: 0.9062 - val_loss: 0.2514\n"
     ]
    }
   ],
   "source": [
    "\n",
    "# Train the model\n",
    "history = model.fit(X_train, y_train, epochs=10, batch_size=32, validation_split=0.2)\n"
   ]
  },
  {
   "cell_type": "code",
   "execution_count": 107,
   "id": "068169be-1ac7-4dcc-a75a-d42c9f064bd1",
   "metadata": {
    "execution": {
     "iopub.execute_input": "2024-07-16T04:50:17.251770Z",
     "iopub.status.busy": "2024-07-16T04:50:17.250769Z",
     "iopub.status.idle": "2024-07-16T04:50:17.588492Z",
     "shell.execute_reply": "2024-07-16T04:50:17.587479Z",
     "shell.execute_reply.started": "2024-07-16T04:50:17.251770Z"
    }
   },
   "outputs": [
    {
     "name": "stdout",
     "output_type": "stream",
     "text": [
      "\u001b[1m25/25\u001b[0m \u001b[32m━━━━━━━━━━━━━━━━━━━━\u001b[0m\u001b[37m\u001b[0m \u001b[1m0s\u001b[0m 3ms/step\n",
      "Anomalies detected: 40\n"
     ]
    }
   ],
   "source": [
    "# Example anomaly detection based on residuals\n",
    "predictions = model.predict(X_train)\n",
    "residuals = np.abs(predictions - y_train.reshape(-1, 1))\n",
    "\n",
    "# Set a threshold for residuals to detect anomalies (e.g., top 5% residuals as anomalies)\n",
    "threshold = np.percentile(residuals, 95)\n",
    "anomalies = residuals > threshold\n",
    "print(f\"Anomalies detected: {np.sum(anomalies)}\")"
   ]
  },
  {
   "cell_type": "code",
   "execution_count": 108,
   "id": "23095bce-b4e2-4fc5-9200-8f5bf2299fb3",
   "metadata": {
    "execution": {
     "iopub.execute_input": "2024-07-16T04:50:17.592490Z",
     "iopub.status.busy": "2024-07-16T04:50:17.591502Z",
     "iopub.status.idle": "2024-07-16T04:50:17.884688Z",
     "shell.execute_reply": "2024-07-16T04:50:17.881670Z",
     "shell.execute_reply.started": "2024-07-16T04:50:17.592490Z"
    }
   },
   "outputs": [
    {
     "name": "stdout",
     "output_type": "stream",
     "text": [
      "\u001b[1m7/7\u001b[0m \u001b[32m━━━━━━━━━━━━━━━━━━━━\u001b[0m\u001b[37m\u001b[0m \u001b[1m0s\u001b[0m 16ms/step\n"
     ]
    }
   ],
   "source": [
    "\n",
    "# Make predictions\n",
    "y_pred_prob = model.predict(X_test)\n",
    "y_pred = (y_pred_prob > 0.5).astype(int)\n",
    "\n",
    "# Calculate accuracy, precision, recall, and F1 score\n",
    "accuracy = accuracy_score(y_test, y_pred)\n",
    "precision = precision_score(y_test, y_pred)\n",
    "recall = recall_score(y_test, y_pred)\n",
    "f1 = f1_score(y_test, y_pred)\n"
   ]
  },
  {
   "cell_type": "code",
   "execution_count": 109,
   "id": "ebea869c-7090-4971-9734-c5372b86a9e6",
   "metadata": {
    "execution": {
     "iopub.execute_input": "2024-07-16T04:50:17.889540Z",
     "iopub.status.busy": "2024-07-16T04:50:17.887685Z",
     "iopub.status.idle": "2024-07-16T04:50:17.904679Z",
     "shell.execute_reply": "2024-07-16T04:50:17.901667Z",
     "shell.execute_reply.started": "2024-07-16T04:50:17.889198Z"
    }
   },
   "outputs": [
    {
     "name": "stdout",
     "output_type": "stream",
     "text": [
      "Accuracy: 0.905\n",
      "Precision: 0.895\n",
      "Recall: 0.904\n",
      "F1 Score: 0.899\n"
     ]
    }
   ],
   "source": [
    "\n",
    "print(f\"Accuracy: {accuracy:.3f}\")\n",
    "print(f\"Precision: {precision:.3f}\")\n",
    "print(f\"Recall: {recall:.3f}\")\n",
    "print(f\"F1 Score: {f1:.3f}\")\n"
   ]
  },
  {
   "cell_type": "code",
   "execution_count": 110,
   "id": "16d6c881-cf03-4907-a7a3-ba4e2ac93e4d",
   "metadata": {
    "execution": {
     "iopub.execute_input": "2024-07-16T04:50:17.906680Z",
     "iopub.status.busy": "2024-07-16T04:50:17.906680Z",
     "iopub.status.idle": "2024-07-16T04:50:17.919069Z",
     "shell.execute_reply": "2024-07-16T04:50:17.916052Z",
     "shell.execute_reply.started": "2024-07-16T04:50:17.906680Z"
    }
   },
   "outputs": [],
   "source": [
    "\n",
    "# Calculate entropy\n",
    "def calculate_entropy(labels):\n",
    "    _, counts = np.unique(labels, return_counts=True)\n",
    "    probabilities = counts / len(labels)\n",
    "    entropy = -np.sum(probabilities * np.log2(probabilities))\n",
    "    return entropy\n"
   ]
  },
  {
   "cell_type": "code",
   "execution_count": 111,
   "id": "f8b42298-48d5-499b-b309-efb01d0f7508",
   "metadata": {
    "execution": {
     "iopub.execute_input": "2024-07-16T04:50:17.925611Z",
     "iopub.status.busy": "2024-07-16T04:50:17.923620Z",
     "iopub.status.idle": "2024-07-16T04:50:17.937933Z",
     "shell.execute_reply": "2024-07-16T04:50:17.935921Z",
     "shell.execute_reply.started": "2024-07-16T04:50:17.925611Z"
    }
   },
   "outputs": [],
   "source": [
    "\n",
    "# Calculate entropy and information gain\n",
    "entropy_before = calculate_entropy(y_test)\n",
    "entropy_after = calculate_entropy(y_pred)\n",
    "information_gain = entropy_before - entropy_after\n"
   ]
  },
  {
   "cell_type": "code",
   "execution_count": 112,
   "id": "fd99e8ac-cf17-42fb-87ed-d6a90ee14c59",
   "metadata": {
    "execution": {
     "iopub.execute_input": "2024-07-16T04:50:17.942936Z",
     "iopub.status.busy": "2024-07-16T04:50:17.940938Z",
     "iopub.status.idle": "2024-07-16T04:50:17.958044Z",
     "shell.execute_reply": "2024-07-16T04:50:17.955022Z",
     "shell.execute_reply.started": "2024-07-16T04:50:17.942936Z"
    }
   },
   "outputs": [
    {
     "name": "stdout",
     "output_type": "stream",
     "text": [
      "Entropy before: 0.997\n",
      "Entropy after: 0.998\n",
      "Information Gain: -0.001\n"
     ]
    }
   ],
   "source": [
    "\n",
    "print(f'Entropy before: {entropy_before:.3f}')\n",
    "print(f'Entropy after: {entropy_after:.3f}')\n",
    "print(f'Information Gain: {information_gain:.3f}')\n"
   ]
  },
  {
   "cell_type": "code",
   "execution_count": 113,
   "id": "dc7974f4-b60d-4e49-b1de-5f54cde46960",
   "metadata": {
    "execution": {
     "iopub.execute_input": "2024-07-16T04:50:17.974564Z",
     "iopub.status.busy": "2024-07-16T04:50:17.973055Z",
     "iopub.status.idle": "2024-07-16T04:50:18.032505Z",
     "shell.execute_reply": "2024-07-16T04:50:18.030474Z",
     "shell.execute_reply.started": "2024-07-16T04:50:17.974564Z"
    }
   },
   "outputs": [
    {
     "name": "stdout",
     "output_type": "stream",
     "text": [
      "              precision    recall  f1-score   support\n",
      "\n",
      "           0       0.91      0.91      0.91       106\n",
      "           1       0.89      0.90      0.90        94\n",
      "\n",
      "    accuracy                           0.91       200\n",
      "   macro avg       0.90      0.90      0.90       200\n",
      "weighted avg       0.91      0.91      0.91       200\n",
      "\n"
     ]
    }
   ],
   "source": [
    "\n",
    "# Classification report and confusion matrix\n",
    "print(classification_report(y_test, y_pred))\n",
    "conf_matrix = confusion_matrix(y_test, y_pred)\n",
    "\n"
   ]
  },
  {
   "cell_type": "code",
   "execution_count": 114,
   "id": "317c07df-0f43-4f55-bd7e-cb9daf2b653e",
   "metadata": {
    "execution": {
     "iopub.execute_input": "2024-07-16T04:50:18.037488Z",
     "iopub.status.busy": "2024-07-16T04:50:18.036489Z",
     "iopub.status.idle": "2024-07-16T04:50:18.450683Z",
     "shell.execute_reply": "2024-07-16T04:50:18.448143Z",
     "shell.execute_reply.started": "2024-07-16T04:50:18.037488Z"
    }
   },
   "outputs": [
    {
     "data": {
      "image/png": "[encoded data removed]",
      "text/plain": [
       "<Figure size 800x600 with 2 Axes>"
      ]
     },
     "metadata": {},
     "output_type": "display_data"
    }
   ],
   "source": [
    "\n",
    "# Plot confusion matrix\n",
    "plt.figure(figsize=(8, 6))\n",
    "sns.heatmap(conf_matrix, annot=True, fmt='d', cmap='Blues', xticklabels=['False', 'True'], yticklabels=['False', 'True'])\n",
    "plt.xlabel('Predicted')\n",
    "plt.ylabel('Actual')\n",
    "plt.title('Confusion Matrix')\n",
    "plt.show()\n"
   ]
  },
  {
   "cell_type": "code",
   "execution_count": 115,
   "id": "e792f08e-4b4d-41b4-a8eb-af7250e6f9bd",
   "metadata": {
    "execution": {
     "iopub.execute_input": "2024-07-16T04:50:18.454685Z",
     "iopub.status.busy": "2024-07-16T04:50:18.453685Z",
     "iopub.status.idle": "2024-07-16T04:50:19.171253Z",
     "shell.execute_reply": "2024-07-16T04:50:19.169626Z",
     "shell.execute_reply.started": "2024-07-16T04:50:18.454685Z"
    }
   },
   "outputs": [
    {
     "data": {
      "image/png": "[encoded data removed]",
      "text/plain": [
       "<Figure size 1000x600 with 1 Axes>"
      ]
     },
     "metadata": {},
     "output_type": "display_data"
    }
   ],
   "source": [
    "# Visualize residuals\n",
    "plt.figure(figsize=(10, 6))\n",
    "sns.histplot(residuals, bins=50, kde=True)\n",
    "plt.axvline(threshold, color='red', linestyle='--', label='Threshold')\n",
    "plt.xlabel('Residuals')\n",
    "plt.ylabel('Frequency')\n",
    "plt.title('Residuals Distribution with Anomaly Threshold')\n",
    "plt.legend()\n",
    "plt.show()"
   ]
  },
  {
   "cell_type": "code",
   "execution_count": null,
   "id": "a779d025-bf66-43d1-a846-88f34b568751",
   "metadata": {},
   "outputs": [],
   "source": []
  }
 ],
 "metadata": {
  "kernelspec": {
   "display_name": "Python 3 (ipykernel)",
   "language": "python",
   "name": "python3"
  },
  "language_info": {
   "codemirror_mode": {
    "name": "ipython",
    "version": 3
   },
   "file_extension": ".py",
   "mimetype": "text/x-python",
   "name": "python",
   "nbconvert_exporter": "python",
   "pygments_lexer": "ipython3",
   "version": "3.11.5"
  }
 },
 "nbformat": 4,
 "nbformat_minor": 5
}
