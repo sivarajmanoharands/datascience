{
 "cells": [
  {
   "cell_type": "code",
   "execution_count": 72,
   "id": "fc360e0a-a1a8-41fb-9562-ab0e0265e5aa",
   "metadata": {
    "execution": {
     "iopub.execute_input": "2024-07-15T05:03:44.777735Z",
     "iopub.status.busy": "2024-07-15T05:03:44.776833Z",
     "iopub.status.idle": "2024-07-15T05:03:44.787161Z",
     "shell.execute_reply": "2024-07-15T05:03:44.785134Z",
     "shell.execute_reply.started": "2024-07-15T05:03:44.777735Z"
    }
   },
   "outputs": [],
   "source": [
    "import tensorflow as tf\n",
    "tf.compat.v1.disable_eager_execution()"
   ]
  },
  {
   "cell_type": "code",
   "execution_count": 74,
   "id": "a7cde641-9af5-43a8-bc7f-d40f99a7ebab",
   "metadata": {
    "execution": {
     "iopub.execute_input": "2024-07-15T05:03:45.008624Z",
     "iopub.status.busy": "2024-07-15T05:03:45.007625Z",
     "iopub.status.idle": "2024-07-15T05:03:45.017682Z",
     "shell.execute_reply": "2024-07-15T05:03:45.015654Z",
     "shell.execute_reply.started": "2024-07-15T05:03:45.008624Z"
    }
   },
   "outputs": [],
   "source": [
    "T,F = 1.,-1."
   ]
  },
  {
   "cell_type": "code",
   "execution_count": 76,
   "id": "9017736c-d255-481e-b579-bbbaa6623f71",
   "metadata": {
    "execution": {
     "iopub.execute_input": "2024-07-15T05:03:45.189969Z",
     "iopub.status.busy": "2024-07-15T05:03:45.189969Z",
     "iopub.status.idle": "2024-07-15T05:03:45.198857Z",
     "shell.execute_reply": "2024-07-15T05:03:45.196836Z",
     "shell.execute_reply.started": "2024-07-15T05:03:45.189969Z"
    }
   },
   "outputs": [],
   "source": [
    "bias =1"
   ]
  },
  {
   "cell_type": "code",
   "execution_count": 78,
   "id": "6f901836-8f40-4bf7-a1f7-938c1bdbfe3a",
   "metadata": {
    "execution": {
     "iopub.execute_input": "2024-07-15T05:03:45.395493Z",
     "iopub.status.busy": "2024-07-15T05:03:45.394496Z",
     "iopub.status.idle": "2024-07-15T05:03:45.405348Z",
     "shell.execute_reply": "2024-07-15T05:03:45.402788Z",
     "shell.execute_reply.started": "2024-07-15T05:03:45.395493Z"
    }
   },
   "outputs": [],
   "source": [
    "train_in = [[T,T,bias],\n",
    "           [T,F,bias],\n",
    "           [F,T,bias],\n",
    "           [F,F,bias],]"
   ]
  },
  {
   "cell_type": "code",
   "execution_count": 80,
   "id": "62993bd9-0335-4f75-8c4c-5aeefdae6653",
   "metadata": {
    "execution": {
     "iopub.execute_input": "2024-07-15T05:03:45.557695Z",
     "iopub.status.busy": "2024-07-15T05:03:45.556693Z",
     "iopub.status.idle": "2024-07-15T05:03:45.566918Z",
     "shell.execute_reply": "2024-07-15T05:03:45.564901Z",
     "shell.execute_reply.started": "2024-07-15T05:03:45.557695Z"
    }
   },
   "outputs": [],
   "source": [
    "train_out = [[T],\n",
    "             [F],\n",
    "            [F],\n",
    "            [F],]"
   ]
  },
  {
   "cell_type": "code",
   "execution_count": 82,
   "id": "d9474e84-0fa5-40d5-89d8-546e11c916c3",
   "metadata": {
    "execution": {
     "iopub.execute_input": "2024-07-15T05:03:45.738097Z",
     "iopub.status.busy": "2024-07-15T05:03:45.738097Z",
     "iopub.status.idle": "2024-07-15T05:03:45.763309Z",
     "shell.execute_reply": "2024-07-15T05:03:45.760773Z",
     "shell.execute_reply.started": "2024-07-15T05:03:45.738097Z"
    }
   },
   "outputs": [],
   "source": [
    "w = tf.Variable(tf.random.normal([3,1]))"
   ]
  },
  {
   "cell_type": "code",
   "execution_count": 84,
   "id": "2198e4e6-54f3-4bb7-bdf0-9eeca1a38809",
   "metadata": {
    "execution": {
     "iopub.execute_input": "2024-07-15T05:03:45.915295Z",
     "iopub.status.busy": "2024-07-15T05:03:45.914296Z",
     "iopub.status.idle": "2024-07-15T05:03:45.924437Z",
     "shell.execute_reply": "2024-07-15T05:03:45.922426Z",
     "shell.execute_reply.started": "2024-07-15T05:03:45.915295Z"
    }
   },
   "outputs": [],
   "source": [
    "def step(x):\n",
    "    is_greater = tf.greater(x,0)\n",
    "    as_float = tf.compat.v1.to_float(is_greater)\n",
    "    doubled = tf.multiply(as_float,2)\n",
    "    return tf.subtract(doubled,1)"
   ]
  },
  {
   "cell_type": "code",
   "execution_count": 86,
   "id": "69c60e2f-f9ef-4784-a9d3-a8a76cf4bfee",
   "metadata": {
    "execution": {
     "iopub.execute_input": "2024-07-15T05:03:46.118661Z",
     "iopub.status.busy": "2024-07-15T05:03:46.117663Z",
     "iopub.status.idle": "2024-07-15T05:03:46.141673Z",
     "shell.execute_reply": "2024-07-15T05:03:46.139662Z",
     "shell.execute_reply.started": "2024-07-15T05:03:46.118661Z"
    }
   },
   "outputs": [],
   "source": [
    "output = step(tf.matmul(train_in,w))"
   ]
  },
  {
   "cell_type": "code",
   "execution_count": 88,
   "id": "a390e00c-bb26-4e8e-8353-4759158b3ce5",
   "metadata": {
    "execution": {
     "iopub.execute_input": "2024-07-15T05:03:46.620972Z",
     "iopub.status.busy": "2024-07-15T05:03:46.620972Z",
     "iopub.status.idle": "2024-07-15T05:03:46.633616Z",
     "shell.execute_reply": "2024-07-15T05:03:46.631608Z",
     "shell.execute_reply.started": "2024-07-15T05:03:46.620972Z"
    }
   },
   "outputs": [],
   "source": [
    "error = tf.subtract(train_out,output)"
   ]
  },
  {
   "cell_type": "code",
   "execution_count": 90,
   "id": "d25a9b32-eed4-49bb-8e87-94932aafa9de",
   "metadata": {
    "execution": {
     "iopub.execute_input": "2024-07-15T05:03:46.988745Z",
     "iopub.status.busy": "2024-07-15T05:03:46.987745Z",
     "iopub.status.idle": "2024-07-15T05:03:47.002835Z",
     "shell.execute_reply": "2024-07-15T05:03:47.000823Z",
     "shell.execute_reply.started": "2024-07-15T05:03:46.988745Z"
    }
   },
   "outputs": [],
   "source": [
    "mse = tf.reduce_mean(tf.square(error))"
   ]
  },
  {
   "cell_type": "code",
   "execution_count": 92,
   "id": "12802976-5b00-425d-aefc-80c5c85515a0",
   "metadata": {
    "execution": {
     "iopub.execute_input": "2024-07-15T05:03:47.300302Z",
     "iopub.status.busy": "2024-07-15T05:03:47.299305Z",
     "iopub.status.idle": "2024-07-15T05:03:47.318373Z",
     "shell.execute_reply": "2024-07-15T05:03:47.316361Z",
     "shell.execute_reply.started": "2024-07-15T05:03:47.300302Z"
    }
   },
   "outputs": [],
   "source": [
    "delta = tf.matmul(train_in,error,transpose_a = True)\n",
    "train = tf.compat.v1.assign(w,tf.add(w,delta))"
   ]
  },
  {
   "cell_type": "code",
   "execution_count": 94,
   "id": "665109d7-1d31-4bce-94c2-9ad517f27735",
   "metadata": {
    "execution": {
     "iopub.execute_input": "2024-07-15T05:03:47.666222Z",
     "iopub.status.busy": "2024-07-15T05:03:47.665221Z",
     "iopub.status.idle": "2024-07-15T05:03:47.755872Z",
     "shell.execute_reply": "2024-07-15T05:03:47.753853Z",
     "shell.execute_reply.started": "2024-07-15T05:03:47.666222Z"
    }
   },
   "outputs": [
    {
     "name": "stdout",
     "output_type": "stream",
     "text": [
      "epoch :  1 mse : 1.0\n",
      "epoch :  2 mse : 2.0\n",
      "epoch :  3 mse : 0.0\n"
     ]
    }
   ],
   "source": [
    "with tf.compat.v1.Session() as sess:\n",
    "    sess.run(tf.compat.v1.initialize_all_variables())\n",
    "    err,target = 1,0\n",
    "    epoch,max_epoch = 0,10\n",
    "    while err>target and epoch<max_epoch:\n",
    "        epoch += 1\n",
    "        err, _=sess.run([mse,train])\n",
    "        print('epoch : ' , epoch, 'mse :' ,err)"
   ]
  },
  {
   "cell_type": "code",
   "execution_count": null,
   "id": "f1b2ec49-5f5a-482e-b6bc-c95cfbfb57ed",
   "metadata": {},
   "outputs": [],
   "source": []
  },
  {
   "cell_type": "code",
   "execution_count": null,
   "id": "bd5336e9-e0f2-422d-b5da-71dede3f74d1",
   "metadata": {},
   "outputs": [],
   "source": []
  }
 ],
 "metadata": {
  "kernelspec": {
   "display_name": "Python 3 (ipykernel)",
   "language": "python",
   "name": "python3"
  },
  "language_info": {
   "codemirror_mode": {
    "name": "ipython",
    "version": 3
   },
   "file_extension": ".py",
   "mimetype": "text/x-python",
   "name": "python",
   "nbconvert_exporter": "python",
   "pygments_lexer": "ipython3",
   "version": "3.11.5"
  }
 },
 "nbformat": 4,
 "nbformat_minor": 5
}
