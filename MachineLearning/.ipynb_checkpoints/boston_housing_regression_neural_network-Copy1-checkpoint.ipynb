{
 "cells": [
  {
   "cell_type": "code",
   "execution_count": 4,
   "id": "d2cc788a-d307-4999-b782-8f6f475d0886",
   "metadata": {
    "execution": {
     "iopub.execute_input": "2024-07-16T04:53:29.068263Z",
     "iopub.status.busy": "2024-07-16T04:53:29.067260Z",
     "iopub.status.idle": "2024-07-16T04:53:48.327113Z",
     "shell.execute_reply": "2024-07-16T04:53:48.325083Z",
     "shell.execute_reply.started": "2024-07-16T04:53:29.068263Z"
    }
   },
   "outputs": [],
   "source": [
    "import numpy as np\n",
    "import tensorflow as tf\n",
    "from tensorflow import keras\n",
    "from sklearn.metrics import mean_squared_error, mean_absolute_error, r2_score\n",
    "from sklearn.model_selection import train_test_split\n",
    "from sklearn.preprocessing import StandardScaler\n",
    "import matplotlib.pyplot as plt\n",
    "from tensorflow.keras.models import Sequential\n",
    "from tensorflow.keras.layers import Dense\n",
    "import seaborn as sns"
   ]
  },
  {
   "cell_type": "code",
   "execution_count": 8,
   "id": "251120bc-99a6-467f-b1cf-ce406f7ddc55",
   "metadata": {
    "execution": {
     "iopub.execute_input": "2024-07-16T04:54:02.249616Z",
     "iopub.status.busy": "2024-07-16T04:54:02.248613Z",
     "iopub.status.idle": "2024-07-16T04:54:02.273229Z",
     "shell.execute_reply": "2024-07-16T04:54:02.269685Z",
     "shell.execute_reply.started": "2024-07-16T04:54:02.249616Z"
    }
   },
   "outputs": [],
   "source": [
    "\n",
    "# Load the Boston Housing dataset\n",
    "(X_train, y_train), (X_test, y_test) = keras.datasets.boston_housing.load_data()\n"
   ]
  },
  {
   "cell_type": "code",
   "execution_count": 10,
   "id": "ab4a644a-1b57-4555-a5b9-3be8d233b347",
   "metadata": {
    "execution": {
     "iopub.execute_input": "2024-07-16T04:54:09.292388Z",
     "iopub.status.busy": "2024-07-16T04:54:09.291379Z",
     "iopub.status.idle": "2024-07-16T04:54:09.310254Z",
     "shell.execute_reply": "2024-07-16T04:54:09.306498Z",
     "shell.execute_reply.started": "2024-07-16T04:54:09.292388Z"
    }
   },
   "outputs": [],
   "source": [
    "# Data Preprocessing and Cleansing\n",
    "# 1. Normalize the data\n",
    "scaler = StandardScaler()\n",
    "X_train = scaler.fit_transform(X_train)\n",
    "X_test = scaler.transform(X_test)\n"
   ]
  },
  {
   "cell_type": "code",
   "execution_count": 12,
   "id": "aa38dbd0-6035-4014-8406-346cdeb26c30",
   "metadata": {
    "execution": {
     "iopub.execute_input": "2024-07-16T04:54:17.113839Z",
     "iopub.status.busy": "2024-07-16T04:54:17.112839Z",
     "iopub.status.idle": "2024-07-16T04:54:17.368365Z",
     "shell.execute_reply": "2024-07-16T04:54:17.365354Z",
     "shell.execute_reply.started": "2024-07-16T04:54:17.113839Z"
    }
   },
   "outputs": [
    {
     "name": "stderr",
     "output_type": "stream",
     "text": [
      "C:\\Users\\user\\AppData\\Roaming\\Python\\Python311\\site-packages\\keras\\src\\layers\\core\\dense.py:87: UserWarning: Do not pass an `input_shape`/`input_dim` argument to a layer. When using Sequential models, prefer using an `Input(shape)` object as the first layer in the model instead.\n",
      "  super().__init__(activity_regularizer=activity_regularizer, **kwargs)\n"
     ]
    }
   ],
   "source": [
    "# Create a neural network model for regression\n",
    "model = Sequential([\n",
    "    Dense(64, activation='relu', input_shape=(X_train.shape[1],)),\n",
    "    Dense(32, activation='relu'),\n",
    "    Dense(1)\n",
    "])"
   ]
  },
  {
   "cell_type": "code",
   "execution_count": 14,
   "id": "ff54e58c-f04a-44a1-8df4-57d51f047d13",
   "metadata": {
    "execution": {
     "iopub.execute_input": "2024-07-16T04:54:24.114509Z",
     "iopub.status.busy": "2024-07-16T04:54:24.113496Z",
     "iopub.status.idle": "2024-07-16T04:54:24.150678Z",
     "shell.execute_reply": "2024-07-16T04:54:24.149668Z",
     "shell.execute_reply.started": "2024-07-16T04:54:24.114509Z"
    }
   },
   "outputs": [],
   "source": [
    "# Compile the model\n",
    "model.compile(optimizer='adam', loss='mean_squared_error', metrics=['mae'])\n"
   ]
  },
  {
   "cell_type": "code",
   "execution_count": 16,
   "id": "1b476bf9-ed0e-4dee-b49c-17a37e17adf7",
   "metadata": {
    "execution": {
     "iopub.execute_input": "2024-07-16T04:54:30.060278Z",
     "iopub.status.busy": "2024-07-16T04:54:30.059279Z",
     "iopub.status.idle": "2024-07-16T04:54:58.137704Z",
     "shell.execute_reply": "2024-07-16T04:54:58.133157Z",
     "shell.execute_reply.started": "2024-07-16T04:54:30.060278Z"
    }
   },
   "outputs": [
    {
     "name": "stdout",
     "output_type": "stream",
     "text": [
      "Epoch 1/100\n",
      "\u001b[1m11/11\u001b[0m \u001b[32m━━━━━━━━━━━━━━━━━━━━\u001b[0m\u001b[37m\u001b[0m \u001b[1m3s\u001b[0m 46ms/step - loss: 591.1889 - mae: 22.2244 - val_loss: 603.9940 - val_mae: 22.8119\n",
      "Epoch 2/100\n",
      "\u001b[1m11/11\u001b[0m \u001b[32m━━━━━━━━━━━━━━━━━━━━\u001b[0m\u001b[37m\u001b[0m \u001b[1m0s\u001b[0m 10ms/step - loss: 539.7598 - mae: 21.2906 - val_loss: 570.3735 - val_mae: 22.1183\n",
      "Epoch 3/100\n",
      "\u001b[1m11/11\u001b[0m \u001b[32m━━━━━━━━━━━━━━━━━━━━\u001b[0m\u001b[37m\u001b[0m \u001b[1m0s\u001b[0m 11ms/step - loss: 483.9863 - mae: 20.1955 - val_loss: 530.3278 - val_mae: 21.2480\n",
      "Epoch 4/100\n",
      "\u001b[1m11/11\u001b[0m \u001b[32m━━━━━━━━━━━━━━━━━━━━\u001b[0m\u001b[37m\u001b[0m \u001b[1m0s\u001b[0m 12ms/step - loss: 429.7601 - mae: 18.9531 - val_loss: 476.0531 - val_mae: 20.0055\n",
      "Epoch 5/100\n",
      "\u001b[1m11/11\u001b[0m \u001b[32m━━━━━━━━━━━━━━━━━━━━\u001b[0m\u001b[37m\u001b[0m \u001b[1m0s\u001b[0m 10ms/step - loss: 377.7527 - mae: 17.5746 - val_loss: 406.1317 - val_mae: 18.2763\n",
      "Epoch 6/100\n",
      "\u001b[1m11/11\u001b[0m \u001b[32m━━━━━━━━━━━━━━━━━━━━\u001b[0m\u001b[37m\u001b[0m \u001b[1m0s\u001b[0m 10ms/step - loss: 330.0594 - mae: 16.3090 - val_loss: 324.6647 - val_mae: 16.0258\n",
      "Epoch 7/100\n",
      "\u001b[1m11/11\u001b[0m \u001b[32m━━━━━━━━━━━━━━━━━━━━\u001b[0m\u001b[37m\u001b[0m \u001b[1m0s\u001b[0m 12ms/step - loss: 250.4689 - mae: 13.7669 - val_loss: 243.2145 - val_mae: 13.3296\n",
      "Epoch 8/100\n",
      "\u001b[1m11/11\u001b[0m \u001b[32m━━━━━━━━━━━━━━━━━━━━\u001b[0m\u001b[37m\u001b[0m \u001b[1m0s\u001b[0m 12ms/step - loss: 159.2144 - mae: 10.5995 - val_loss: 169.6841 - val_mae: 10.3429\n",
      "Epoch 9/100\n",
      "\u001b[1m11/11\u001b[0m \u001b[32m━━━━━━━━━━━━━━━━━━━━\u001b[0m\u001b[37m\u001b[0m \u001b[1m0s\u001b[0m 21ms/step - loss: 107.0527 - mae: 8.2478 - val_loss: 116.7057 - val_mae: 8.1677\n",
      "Epoch 10/100\n",
      "\u001b[1m11/11\u001b[0m \u001b[32m━━━━━━━━━━━━━━━━━━━━\u001b[0m\u001b[37m\u001b[0m \u001b[1m0s\u001b[0m 13ms/step - loss: 62.5972 - mae: 6.1536 - val_loss: 88.6548 - val_mae: 6.9798\n",
      "Epoch 11/100\n",
      "\u001b[1m11/11\u001b[0m \u001b[32m━━━━━━━━━━━━━━━━━━━━\u001b[0m\u001b[37m\u001b[0m \u001b[1m0s\u001b[0m 13ms/step - loss: 65.7063 - mae: 5.9375 - val_loss: 69.9939 - val_mae: 6.2009\n",
      "Epoch 12/100\n",
      "\u001b[1m11/11\u001b[0m \u001b[32m━━━━━━━━━━━━━━━━━━━━\u001b[0m\u001b[37m\u001b[0m \u001b[1m0s\u001b[0m 11ms/step - loss: 47.9060 - mae: 5.1399 - val_loss: 56.9505 - val_mae: 5.5181\n",
      "Epoch 13/100\n",
      "\u001b[1m11/11\u001b[0m \u001b[32m━━━━━━━━━━━━━━━━━━━━\u001b[0m\u001b[37m\u001b[0m \u001b[1m0s\u001b[0m 13ms/step - loss: 49.2247 - mae: 4.8240 - val_loss: 47.4142 - val_mae: 4.9095\n",
      "Epoch 14/100\n",
      "\u001b[1m11/11\u001b[0m \u001b[32m━━━━━━━━━━━━━━━━━━━━\u001b[0m\u001b[37m\u001b[0m \u001b[1m0s\u001b[0m 13ms/step - loss: 38.1692 - mae: 4.2156 - val_loss: 40.9719 - val_mae: 4.5227\n",
      "Epoch 15/100\n",
      "\u001b[1m11/11\u001b[0m \u001b[32m━━━━━━━━━━━━━━━━━━━━\u001b[0m\u001b[37m\u001b[0m \u001b[1m0s\u001b[0m 12ms/step - loss: 30.5417 - mae: 3.8957 - val_loss: 35.8719 - val_mae: 4.2039\n",
      "Epoch 16/100\n",
      "\u001b[1m11/11\u001b[0m \u001b[32m━━━━━━━━━━━━━━━━━━━━\u001b[0m\u001b[37m\u001b[0m \u001b[1m0s\u001b[0m 11ms/step - loss: 23.7921 - mae: 3.3970 - val_loss: 31.5568 - val_mae: 3.9248\n",
      "Epoch 17/100\n",
      "\u001b[1m11/11\u001b[0m \u001b[32m━━━━━━━━━━━━━━━━━━━━\u001b[0m\u001b[37m\u001b[0m \u001b[1m0s\u001b[0m 11ms/step - loss: 33.3412 - mae: 3.7801 - val_loss: 28.8632 - val_mae: 3.7642\n",
      "Epoch 18/100\n",
      "\u001b[1m11/11\u001b[0m \u001b[32m━━━━━━━━━━━━━━━━━━━━\u001b[0m\u001b[37m\u001b[0m \u001b[1m0s\u001b[0m 11ms/step - loss: 36.1737 - mae: 3.7292 - val_loss: 26.6969 - val_mae: 3.6444\n",
      "Epoch 19/100\n",
      "\u001b[1m11/11\u001b[0m \u001b[32m━━━━━━━━━━━━━━━━━━━━\u001b[0m\u001b[37m\u001b[0m \u001b[1m0s\u001b[0m 10ms/step - loss: 26.5442 - mae: 3.4633 - val_loss: 25.6022 - val_mae: 3.5753\n",
      "Epoch 20/100\n",
      "\u001b[1m11/11\u001b[0m \u001b[32m━━━━━━━━━━━━━━━━━━━━\u001b[0m\u001b[37m\u001b[0m \u001b[1m0s\u001b[0m 15ms/step - loss: 23.2795 - mae: 3.2759 - val_loss: 24.1779 - val_mae: 3.4793\n",
      "Epoch 21/100\n",
      "\u001b[1m11/11\u001b[0m \u001b[32m━━━━━━━━━━━━━━━━━━━━\u001b[0m\u001b[37m\u001b[0m \u001b[1m0s\u001b[0m 12ms/step - loss: 21.6746 - mae: 3.1341 - val_loss: 22.6905 - val_mae: 3.3856\n",
      "Epoch 22/100\n",
      "\u001b[1m11/11\u001b[0m \u001b[32m━━━━━━━━━━━━━━━━━━━━\u001b[0m\u001b[37m\u001b[0m \u001b[1m0s\u001b[0m 14ms/step - loss: 21.3332 - mae: 3.2213 - val_loss: 21.4641 - val_mae: 3.2767\n",
      "Epoch 23/100\n",
      "\u001b[1m11/11\u001b[0m \u001b[32m━━━━━━━━━━━━━━━━━━━━\u001b[0m\u001b[37m\u001b[0m \u001b[1m0s\u001b[0m 13ms/step - loss: 16.4609 - mae: 2.8373 - val_loss: 20.6737 - val_mae: 3.2106\n",
      "Epoch 24/100\n",
      "\u001b[1m11/11\u001b[0m \u001b[32m━━━━━━━━━━━━━━━━━━━━\u001b[0m\u001b[37m\u001b[0m \u001b[1m0s\u001b[0m 12ms/step - loss: 25.4783 - mae: 3.2422 - val_loss: 19.6745 - val_mae: 3.1684\n",
      "Epoch 25/100\n",
      "\u001b[1m11/11\u001b[0m \u001b[32m━━━━━━━━━━━━━━━━━━━━\u001b[0m\u001b[37m\u001b[0m \u001b[1m0s\u001b[0m 11ms/step - loss: 15.7879 - mae: 2.8890 - val_loss: 19.2746 - val_mae: 3.1479\n",
      "Epoch 26/100\n",
      "\u001b[1m11/11\u001b[0m \u001b[32m━━━━━━━━━━━━━━━━━━━━\u001b[0m\u001b[37m\u001b[0m \u001b[1m0s\u001b[0m 10ms/step - loss: 18.3707 - mae: 2.8966 - val_loss: 18.4708 - val_mae: 3.1375\n",
      "Epoch 27/100\n",
      "\u001b[1m11/11\u001b[0m \u001b[32m━━━━━━━━━━━━━━━━━━━━\u001b[0m\u001b[37m\u001b[0m \u001b[1m0s\u001b[0m 23ms/step - loss: 16.6698 - mae: 2.8188 - val_loss: 17.7467 - val_mae: 3.0901\n",
      "Epoch 28/100\n",
      "\u001b[1m11/11\u001b[0m \u001b[32m━━━━━━━━━━━━━━━━━━━━\u001b[0m\u001b[37m\u001b[0m \u001b[1m1s\u001b[0m 17ms/step - loss: 21.3581 - mae: 3.1562 - val_loss: 17.3653 - val_mae: 3.0844\n",
      "Epoch 29/100\n",
      "\u001b[1m11/11\u001b[0m \u001b[32m━━━━━━━━━━━━━━━━━━━━\u001b[0m\u001b[37m\u001b[0m \u001b[1m0s\u001b[0m 10ms/step - loss: 13.5905 - mae: 2.6891 - val_loss: 16.9125 - val_mae: 3.0571\n",
      "Epoch 30/100\n",
      "\u001b[1m11/11\u001b[0m \u001b[32m━━━━━━━━━━━━━━━━━━━━\u001b[0m\u001b[37m\u001b[0m \u001b[1m0s\u001b[0m 11ms/step - loss: 15.4174 - mae: 2.7824 - val_loss: 16.3532 - val_mae: 2.9925\n",
      "Epoch 31/100\n",
      "\u001b[1m11/11\u001b[0m \u001b[32m━━━━━━━━━━━━━━━━━━━━\u001b[0m\u001b[37m\u001b[0m \u001b[1m0s\u001b[0m 11ms/step - loss: 15.4411 - mae: 2.7203 - val_loss: 16.1224 - val_mae: 2.9770\n",
      "Epoch 32/100\n",
      "\u001b[1m11/11\u001b[0m \u001b[32m━━━━━━━━━━━━━━━━━━━━\u001b[0m\u001b[37m\u001b[0m \u001b[1m0s\u001b[0m 13ms/step - loss: 17.1323 - mae: 2.7547 - val_loss: 15.7588 - val_mae: 2.9844\n",
      "Epoch 33/100\n",
      "\u001b[1m11/11\u001b[0m \u001b[32m━━━━━━━━━━━━━━━━━━━━\u001b[0m\u001b[37m\u001b[0m \u001b[1m0s\u001b[0m 14ms/step - loss: 17.3004 - mae: 2.7278 - val_loss: 15.2508 - val_mae: 2.9166\n",
      "Epoch 34/100\n",
      "\u001b[1m11/11\u001b[0m \u001b[32m━━━━━━━━━━━━━━━━━━━━\u001b[0m\u001b[37m\u001b[0m \u001b[1m0s\u001b[0m 14ms/step - loss: 18.9131 - mae: 2.8476 - val_loss: 14.8465 - val_mae: 2.8872\n",
      "Epoch 35/100\n",
      "\u001b[1m11/11\u001b[0m \u001b[32m━━━━━━━━━━━━━━━━━━━━\u001b[0m\u001b[37m\u001b[0m \u001b[1m0s\u001b[0m 13ms/step - loss: 14.3618 - mae: 2.6002 - val_loss: 14.7299 - val_mae: 2.8833\n",
      "Epoch 36/100\n",
      "\u001b[1m11/11\u001b[0m \u001b[32m━━━━━━━━━━━━━━━━━━━━\u001b[0m\u001b[37m\u001b[0m \u001b[1m0s\u001b[0m 11ms/step - loss: 12.4950 - mae: 2.4246 - val_loss: 14.7203 - val_mae: 2.9071\n",
      "Epoch 37/100\n",
      "\u001b[1m11/11\u001b[0m \u001b[32m━━━━━━━━━━━━━━━━━━━━\u001b[0m\u001b[37m\u001b[0m \u001b[1m0s\u001b[0m 10ms/step - loss: 11.5478 - mae: 2.4639 - val_loss: 14.4395 - val_mae: 2.8917\n",
      "Epoch 38/100\n",
      "\u001b[1m11/11\u001b[0m \u001b[32m━━━━━━━━━━━━━━━━━━━━\u001b[0m\u001b[37m\u001b[0m \u001b[1m0s\u001b[0m 11ms/step - loss: 13.8983 - mae: 2.5812 - val_loss: 14.0449 - val_mae: 2.8408\n",
      "Epoch 39/100\n",
      "\u001b[1m11/11\u001b[0m \u001b[32m━━━━━━━━━━━━━━━━━━━━\u001b[0m\u001b[37m\u001b[0m \u001b[1m0s\u001b[0m 12ms/step - loss: 13.4779 - mae: 2.6246 - val_loss: 13.7220 - val_mae: 2.8036\n",
      "Epoch 40/100\n",
      "\u001b[1m11/11\u001b[0m \u001b[32m━━━━━━━━━━━━━━━━━━━━\u001b[0m\u001b[37m\u001b[0m \u001b[1m0s\u001b[0m 13ms/step - loss: 13.1529 - mae: 2.6131 - val_loss: 13.4220 - val_mae: 2.7618\n",
      "Epoch 41/100\n",
      "\u001b[1m11/11\u001b[0m \u001b[32m━━━━━━━━━━━━━━━━━━━━\u001b[0m\u001b[37m\u001b[0m \u001b[1m0s\u001b[0m 11ms/step - loss: 16.7071 - mae: 2.6556 - val_loss: 13.3700 - val_mae: 2.7738\n",
      "Epoch 42/100\n",
      "\u001b[1m11/11\u001b[0m \u001b[32m━━━━━━━━━━━━━━━━━━━━\u001b[0m\u001b[37m\u001b[0m \u001b[1m0s\u001b[0m 19ms/step - loss: 11.2014 - mae: 2.5126 - val_loss: 13.2088 - val_mae: 2.7313\n",
      "Epoch 43/100\n",
      "\u001b[1m11/11\u001b[0m \u001b[32m━━━━━━━━━━━━━━━━━━━━\u001b[0m\u001b[37m\u001b[0m \u001b[1m0s\u001b[0m 20ms/step - loss: 12.8171 - mae: 2.4817 - val_loss: 13.1798 - val_mae: 2.7370\n",
      "Epoch 44/100\n",
      "\u001b[1m11/11\u001b[0m \u001b[32m━━━━━━━━━━━━━━━━━━━━\u001b[0m\u001b[37m\u001b[0m \u001b[1m0s\u001b[0m 18ms/step - loss: 15.1860 - mae: 2.5675 - val_loss: 13.2833 - val_mae: 2.7648\n",
      "Epoch 45/100\n",
      "\u001b[1m11/11\u001b[0m \u001b[32m━━━━━━━━━━━━━━━━━━━━\u001b[0m\u001b[37m\u001b[0m \u001b[1m0s\u001b[0m 16ms/step - loss: 10.8873 - mae: 2.4070 - val_loss: 13.0497 - val_mae: 2.7408\n",
      "Epoch 46/100\n",
      "\u001b[1m11/11\u001b[0m \u001b[32m━━━━━━━━━━━━━━━━━━━━\u001b[0m\u001b[37m\u001b[0m \u001b[1m0s\u001b[0m 14ms/step - loss: 14.6114 - mae: 2.5774 - val_loss: 12.9150 - val_mae: 2.7068\n",
      "Epoch 47/100\n",
      "\u001b[1m11/11\u001b[0m \u001b[32m━━━━━━━━━━━━━━━━━━━━\u001b[0m\u001b[37m\u001b[0m \u001b[1m0s\u001b[0m 16ms/step - loss: 13.0965 - mae: 2.3551 - val_loss: 12.9180 - val_mae: 2.7412\n",
      "Epoch 48/100\n",
      "\u001b[1m11/11\u001b[0m \u001b[32m━━━━━━━━━━━━━━━━━━━━\u001b[0m\u001b[37m\u001b[0m \u001b[1m0s\u001b[0m 15ms/step - loss: 11.2204 - mae: 2.3260 - val_loss: 12.7297 - val_mae: 2.7064\n",
      "Epoch 49/100\n",
      "\u001b[1m11/11\u001b[0m \u001b[32m━━━━━━━━━━━━━━━━━━━━\u001b[0m\u001b[37m\u001b[0m \u001b[1m0s\u001b[0m 14ms/step - loss: 11.5763 - mae: 2.3602 - val_loss: 12.4014 - val_mae: 2.6258\n",
      "Epoch 50/100\n",
      "\u001b[1m11/11\u001b[0m \u001b[32m━━━━━━━━━━━━━━━━━━━━\u001b[0m\u001b[37m\u001b[0m \u001b[1m0s\u001b[0m 14ms/step - loss: 11.0909 - mae: 2.3685 - val_loss: 12.5848 - val_mae: 2.6638\n",
      "Epoch 51/100\n",
      "\u001b[1m11/11\u001b[0m \u001b[32m━━━━━━━━━━━━━━━━━━━━\u001b[0m\u001b[37m\u001b[0m \u001b[1m0s\u001b[0m 11ms/step - loss: 10.1923 - mae: 2.2769 - val_loss: 12.3174 - val_mae: 2.6165\n",
      "Epoch 52/100\n",
      "\u001b[1m11/11\u001b[0m \u001b[32m━━━━━━━━━━━━━━━━━━━━\u001b[0m\u001b[37m\u001b[0m \u001b[1m0s\u001b[0m 11ms/step - loss: 9.7716 - mae: 2.2699 - val_loss: 12.3091 - val_mae: 2.6226\n",
      "Epoch 53/100\n",
      "\u001b[1m11/11\u001b[0m \u001b[32m━━━━━━━━━━━━━━━━━━━━\u001b[0m\u001b[37m\u001b[0m \u001b[1m0s\u001b[0m 10ms/step - loss: 11.3039 - mae: 2.3742 - val_loss: 12.3394 - val_mae: 2.6358\n",
      "Epoch 54/100\n",
      "\u001b[1m11/11\u001b[0m \u001b[32m━━━━━━━━━━━━━━━━━━━━\u001b[0m\u001b[37m\u001b[0m \u001b[1m0s\u001b[0m 9ms/step - loss: 11.2289 - mae: 2.2243 - val_loss: 12.2594 - val_mae: 2.6073\n",
      "Epoch 55/100\n",
      "\u001b[1m11/11\u001b[0m \u001b[32m━━━━━━━━━━━━━━━━━━━━\u001b[0m\u001b[37m\u001b[0m \u001b[1m0s\u001b[0m 20ms/step - loss: 9.5192 - mae: 2.3273 - val_loss: 12.3372 - val_mae: 2.6414\n",
      "Epoch 56/100\n",
      "\u001b[1m11/11\u001b[0m \u001b[32m━━━━━━━━━━━━━━━━━━━━\u001b[0m\u001b[37m\u001b[0m \u001b[1m1s\u001b[0m 16ms/step - loss: 10.5304 - mae: 2.2225 - val_loss: 12.3849 - val_mae: 2.6268\n",
      "Epoch 57/100\n",
      "\u001b[1m11/11\u001b[0m \u001b[32m━━━━━━━━━━━━━━━━━━━━\u001b[0m\u001b[37m\u001b[0m \u001b[1m0s\u001b[0m 9ms/step - loss: 12.9304 - mae: 2.4327 - val_loss: 12.1021 - val_mae: 2.5331\n",
      "Epoch 58/100\n",
      "\u001b[1m11/11\u001b[0m \u001b[32m━━━━━━━━━━━━━━━━━━━━\u001b[0m\u001b[37m\u001b[0m \u001b[1m0s\u001b[0m 10ms/step - loss: 11.4629 - mae: 2.4172 - val_loss: 12.0077 - val_mae: 2.5301\n",
      "Epoch 59/100\n",
      "\u001b[1m11/11\u001b[0m \u001b[32m━━━━━━━━━━━━━━━━━━━━\u001b[0m\u001b[37m\u001b[0m \u001b[1m0s\u001b[0m 39ms/step - loss: 9.3822 - mae: 2.2803 - val_loss: 12.4101 - val_mae: 2.6346\n",
      "Epoch 60/100\n",
      "\u001b[1m11/11\u001b[0m \u001b[32m━━━━━━━━━━━━━━━━━━━━\u001b[0m\u001b[37m\u001b[0m \u001b[1m0s\u001b[0m 11ms/step - loss: 12.5030 - mae: 2.3974 - val_loss: 12.0180 - val_mae: 2.5738\n",
      "Epoch 61/100\n",
      "\u001b[1m11/11\u001b[0m \u001b[32m━━━━━━━━━━━━━━━━━━━━\u001b[0m\u001b[37m\u001b[0m \u001b[1m0s\u001b[0m 11ms/step - loss: 11.7488 - mae: 2.3377 - val_loss: 12.1287 - val_mae: 2.5298\n",
      "Epoch 62/100\n",
      "\u001b[1m11/11\u001b[0m \u001b[32m━━━━━━━━━━━━━━━━━━━━\u001b[0m\u001b[37m\u001b[0m \u001b[1m0s\u001b[0m 10ms/step - loss: 11.9189 - mae: 2.3876 - val_loss: 12.1563 - val_mae: 2.5581\n",
      "Epoch 63/100\n",
      "\u001b[1m11/11\u001b[0m \u001b[32m━━━━━━━━━━━━━━━━━━━━\u001b[0m\u001b[37m\u001b[0m \u001b[1m0s\u001b[0m 11ms/step - loss: 11.4714 - mae: 2.3690 - val_loss: 12.1734 - val_mae: 2.5797\n",
      "Epoch 64/100\n",
      "\u001b[1m11/11\u001b[0m \u001b[32m━━━━━━━━━━━━━━━━━━━━\u001b[0m\u001b[37m\u001b[0m \u001b[1m0s\u001b[0m 10ms/step - loss: 10.9168 - mae: 2.3231 - val_loss: 12.3299 - val_mae: 2.6194\n",
      "Epoch 65/100\n",
      "\u001b[1m11/11\u001b[0m \u001b[32m━━━━━━━━━━━━━━━━━━━━\u001b[0m\u001b[37m\u001b[0m \u001b[1m0s\u001b[0m 10ms/step - loss: 9.0738 - mae: 2.1533 - val_loss: 12.0808 - val_mae: 2.5555\n",
      "Epoch 66/100\n",
      "\u001b[1m11/11\u001b[0m \u001b[32m━━━━━━━━━━━━━━━━━━━━\u001b[0m\u001b[37m\u001b[0m \u001b[1m0s\u001b[0m 12ms/step - loss: 9.3074 - mae: 2.2358 - val_loss: 11.9542 - val_mae: 2.5177\n",
      "Epoch 67/100\n",
      "\u001b[1m11/11\u001b[0m \u001b[32m━━━━━━━━━━━━━━━━━━━━\u001b[0m\u001b[37m\u001b[0m \u001b[1m0s\u001b[0m 12ms/step - loss: 11.2404 - mae: 2.3548 - val_loss: 12.0123 - val_mae: 2.5121\n",
      "Epoch 68/100\n",
      "\u001b[1m11/11\u001b[0m \u001b[32m━━━━━━━━━━━━━━━━━━━━\u001b[0m\u001b[37m\u001b[0m \u001b[1m0s\u001b[0m 12ms/step - loss: 8.7244 - mae: 2.1162 - val_loss: 12.0466 - val_mae: 2.5671\n",
      "Epoch 69/100\n",
      "\u001b[1m11/11\u001b[0m \u001b[32m━━━━━━━━━━━━━━━━━━━━\u001b[0m\u001b[37m\u001b[0m \u001b[1m0s\u001b[0m 13ms/step - loss: 9.3556 - mae: 2.1499 - val_loss: 12.1948 - val_mae: 2.5410\n",
      "Epoch 70/100\n",
      "\u001b[1m11/11\u001b[0m \u001b[32m━━━━━━━━━━━━━━━━━━━━\u001b[0m\u001b[37m\u001b[0m \u001b[1m0s\u001b[0m 34ms/step - loss: 11.0870 - mae: 2.2720 - val_loss: 12.7707 - val_mae: 2.5932\n",
      "Epoch 71/100\n",
      "\u001b[1m11/11\u001b[0m \u001b[32m━━━━━━━━━━━━━━━━━━━━\u001b[0m\u001b[37m\u001b[0m \u001b[1m0s\u001b[0m 21ms/step - loss: 8.2811 - mae: 2.1430 - val_loss: 12.4626 - val_mae: 2.6138\n",
      "Epoch 72/100\n",
      "\u001b[1m11/11\u001b[0m \u001b[32m━━━━━━━━━━━━━━━━━━━━\u001b[0m\u001b[37m\u001b[0m \u001b[1m0s\u001b[0m 12ms/step - loss: 11.8386 - mae: 2.2377 - val_loss: 12.3934 - val_mae: 2.5868\n",
      "Epoch 73/100\n",
      "\u001b[1m11/11\u001b[0m \u001b[32m━━━━━━━━━━━━━━━━━━━━\u001b[0m\u001b[37m\u001b[0m \u001b[1m0s\u001b[0m 15ms/step - loss: 8.2771 - mae: 2.0485 - val_loss: 12.4021 - val_mae: 2.5445\n",
      "Epoch 74/100\n",
      "\u001b[1m11/11\u001b[0m \u001b[32m━━━━━━━━━━━━━━━━━━━━\u001b[0m\u001b[37m\u001b[0m \u001b[1m0s\u001b[0m 13ms/step - loss: 10.7105 - mae: 2.2963 - val_loss: 12.7195 - val_mae: 2.6144\n",
      "Epoch 75/100\n",
      "\u001b[1m11/11\u001b[0m \u001b[32m━━━━━━━━━━━━━━━━━━━━\u001b[0m\u001b[37m\u001b[0m \u001b[1m0s\u001b[0m 12ms/step - loss: 7.7068 - mae: 1.9986 - val_loss: 12.4965 - val_mae: 2.5965\n",
      "Epoch 76/100\n",
      "\u001b[1m11/11\u001b[0m \u001b[32m━━━━━━━━━━━━━━━━━━━━\u001b[0m\u001b[37m\u001b[0m \u001b[1m1s\u001b[0m 15ms/step - loss: 9.4096 - mae: 2.1790 - val_loss: 12.2474 - val_mae: 2.5488\n",
      "Epoch 77/100\n",
      "\u001b[1m11/11\u001b[0m \u001b[32m━━━━━━━━━━━━━━━━━━━━\u001b[0m\u001b[37m\u001b[0m \u001b[1m0s\u001b[0m 13ms/step - loss: 7.1307 - mae: 1.9507 - val_loss: 12.2312 - val_mae: 2.5108\n",
      "Epoch 78/100\n",
      "\u001b[1m11/11\u001b[0m \u001b[32m━━━━━━━━━━━━━━━━━━━━\u001b[0m\u001b[37m\u001b[0m \u001b[1m0s\u001b[0m 15ms/step - loss: 8.2869 - mae: 1.9434 - val_loss: 12.5926 - val_mae: 2.5543\n",
      "Epoch 79/100\n",
      "\u001b[1m11/11\u001b[0m \u001b[32m━━━━━━━━━━━━━━━━━━━━\u001b[0m\u001b[37m\u001b[0m \u001b[1m0s\u001b[0m 14ms/step - loss: 8.0742 - mae: 2.1203 - val_loss: 12.8254 - val_mae: 2.5865\n",
      "Epoch 80/100\n",
      "\u001b[1m11/11\u001b[0m \u001b[32m━━━━━━━━━━━━━━━━━━━━\u001b[0m\u001b[37m\u001b[0m \u001b[1m0s\u001b[0m 14ms/step - loss: 8.1499 - mae: 2.0019 - val_loss: 13.2020 - val_mae: 2.5678\n",
      "Epoch 81/100\n",
      "\u001b[1m11/11\u001b[0m \u001b[32m━━━━━━━━━━━━━━━━━━━━\u001b[0m\u001b[37m\u001b[0m \u001b[1m0s\u001b[0m 12ms/step - loss: 8.6518 - mae: 2.1464 - val_loss: 12.4818 - val_mae: 2.5125\n",
      "Epoch 82/100\n",
      "\u001b[1m11/11\u001b[0m \u001b[32m━━━━━━━━━━━━━━━━━━━━\u001b[0m\u001b[37m\u001b[0m \u001b[1m0s\u001b[0m 14ms/step - loss: 7.5080 - mae: 2.0387 - val_loss: 12.5511 - val_mae: 2.5446\n",
      "Epoch 83/100\n",
      "\u001b[1m11/11\u001b[0m \u001b[32m━━━━━━━━━━━━━━━━━━━━\u001b[0m\u001b[37m\u001b[0m \u001b[1m0s\u001b[0m 11ms/step - loss: 8.5806 - mae: 2.1153 - val_loss: 12.7101 - val_mae: 2.5199\n",
      "Epoch 84/100\n",
      "\u001b[1m11/11\u001b[0m \u001b[32m━━━━━━━━━━━━━━━━━━━━\u001b[0m\u001b[37m\u001b[0m \u001b[1m0s\u001b[0m 11ms/step - loss: 7.2645 - mae: 1.9727 - val_loss: 12.6344 - val_mae: 2.5241\n",
      "Epoch 85/100\n",
      "\u001b[1m11/11\u001b[0m \u001b[32m━━━━━━━━━━━━━━━━━━━━\u001b[0m\u001b[37m\u001b[0m \u001b[1m0s\u001b[0m 13ms/step - loss: 7.8781 - mae: 2.0575 - val_loss: 12.4723 - val_mae: 2.5453\n",
      "Epoch 86/100\n",
      "\u001b[1m11/11\u001b[0m \u001b[32m━━━━━━━━━━━━━━━━━━━━\u001b[0m\u001b[37m\u001b[0m \u001b[1m0s\u001b[0m 11ms/step - loss: 8.6024 - mae: 2.0639 - val_loss: 12.6165 - val_mae: 2.5286\n",
      "Epoch 87/100\n",
      "\u001b[1m11/11\u001b[0m \u001b[32m━━━━━━━━━━━━━━━━━━━━\u001b[0m\u001b[37m\u001b[0m \u001b[1m0s\u001b[0m 15ms/step - loss: 8.3519 - mae: 2.0567 - val_loss: 12.4523 - val_mae: 2.5435\n",
      "Epoch 88/100\n",
      "\u001b[1m11/11\u001b[0m \u001b[32m━━━━━━━━━━━━━━━━━━━━\u001b[0m\u001b[37m\u001b[0m \u001b[1m0s\u001b[0m 15ms/step - loss: 6.9474 - mae: 1.9789 - val_loss: 12.5744 - val_mae: 2.5206\n",
      "Epoch 89/100\n",
      "\u001b[1m11/11\u001b[0m \u001b[32m━━━━━━━━━━━━━━━━━━━━\u001b[0m\u001b[37m\u001b[0m \u001b[1m0s\u001b[0m 20ms/step - loss: 7.8742 - mae: 1.9902 - val_loss: 14.6380 - val_mae: 2.6350\n",
      "Epoch 90/100\n",
      "\u001b[1m11/11\u001b[0m \u001b[32m━━━━━━━━━━━━━━━━━━━━\u001b[0m\u001b[37m\u001b[0m \u001b[1m0s\u001b[0m 14ms/step - loss: 11.5759 - mae: 2.3923 - val_loss: 13.2221 - val_mae: 2.5749\n",
      "Epoch 91/100\n",
      "\u001b[1m11/11\u001b[0m \u001b[32m━━━━━━━━━━━━━━━━━━━━\u001b[0m\u001b[37m\u001b[0m \u001b[1m0s\u001b[0m 18ms/step - loss: 10.3153 - mae: 2.2216 - val_loss: 12.6009 - val_mae: 2.5945\n",
      "Epoch 92/100\n",
      "\u001b[1m11/11\u001b[0m \u001b[32m━━━━━━━━━━━━━━━━━━━━\u001b[0m\u001b[37m\u001b[0m \u001b[1m0s\u001b[0m 15ms/step - loss: 9.1570 - mae: 2.1285 - val_loss: 12.6779 - val_mae: 2.5966\n",
      "Epoch 93/100\n",
      "\u001b[1m11/11\u001b[0m \u001b[32m━━━━━━━━━━━━━━━━━━━━\u001b[0m\u001b[37m\u001b[0m \u001b[1m0s\u001b[0m 15ms/step - loss: 8.2716 - mae: 2.1053 - val_loss: 12.8512 - val_mae: 2.6347\n",
      "Epoch 94/100\n",
      "\u001b[1m11/11\u001b[0m \u001b[32m━━━━━━━━━━━━━━━━━━━━\u001b[0m\u001b[37m\u001b[0m \u001b[1m0s\u001b[0m 14ms/step - loss: 7.5451 - mae: 2.0282 - val_loss: 12.6812 - val_mae: 2.5632\n",
      "Epoch 95/100\n",
      "\u001b[1m11/11\u001b[0m \u001b[32m━━━━━━━━━━━━━━━━━━━━\u001b[0m\u001b[37m\u001b[0m \u001b[1m0s\u001b[0m 15ms/step - loss: 7.5603 - mae: 2.0248 - val_loss: 13.1104 - val_mae: 2.5591\n",
      "Epoch 96/100\n",
      "\u001b[1m11/11\u001b[0m \u001b[32m━━━━━━━━━━━━━━━━━━━━\u001b[0m\u001b[37m\u001b[0m \u001b[1m0s\u001b[0m 13ms/step - loss: 8.6189 - mae: 2.0966 - val_loss: 12.9525 - val_mae: 2.5498\n",
      "Epoch 97/100\n",
      "\u001b[1m11/11\u001b[0m \u001b[32m━━━━━━━━━━━━━━━━━━━━\u001b[0m\u001b[37m\u001b[0m \u001b[1m0s\u001b[0m 14ms/step - loss: 9.1569 - mae: 2.0785 - val_loss: 12.6547 - val_mae: 2.5339\n",
      "Epoch 98/100\n",
      "\u001b[1m11/11\u001b[0m \u001b[32m━━━━━━━━━━━━━━━━━━━━\u001b[0m\u001b[37m\u001b[0m \u001b[1m0s\u001b[0m 12ms/step - loss: 8.3166 - mae: 2.0582 - val_loss: 12.9845 - val_mae: 2.6288\n",
      "Epoch 99/100\n",
      "\u001b[1m11/11\u001b[0m \u001b[32m━━━━━━━━━━━━━━━━━━━━\u001b[0m\u001b[37m\u001b[0m \u001b[1m0s\u001b[0m 11ms/step - loss: 9.2905 - mae: 2.1315 - val_loss: 12.8268 - val_mae: 2.5956\n",
      "Epoch 100/100\n",
      "\u001b[1m11/11\u001b[0m \u001b[32m━━━━━━━━━━━━━━━━━━━━\u001b[0m\u001b[37m\u001b[0m \u001b[1m0s\u001b[0m 11ms/step - loss: 9.8502 - mae: 2.1964 - val_loss: 12.7050 - val_mae: 2.5219\n"
     ]
    }
   ],
   "source": [
    "# Train the model\n",
    "history = model.fit(X_train, y_train, epochs=100, batch_size=32, validation_split=0.2)\n"
   ]
  },
  {
   "cell_type": "code",
   "execution_count": 18,
   "id": "0a0e429e-49c2-47b9-ba8d-9c94c9ef77c8",
   "metadata": {
    "execution": {
     "iopub.execute_input": "2024-07-16T04:55:16.091930Z",
     "iopub.status.busy": "2024-07-16T04:55:16.091930Z",
     "iopub.status.idle": "2024-07-16T04:55:16.445152Z",
     "shell.execute_reply": "2024-07-16T04:55:16.443141Z",
     "shell.execute_reply.started": "2024-07-16T04:55:16.091930Z"
    }
   },
   "outputs": [
    {
     "name": "stdout",
     "output_type": "stream",
     "text": [
      "\u001b[1m4/4\u001b[0m \u001b[32m━━━━━━━━━━━━━━━━━━━━\u001b[0m\u001b[37m\u001b[0m \u001b[1m0s\u001b[0m 27ms/step\n"
     ]
    }
   ],
   "source": [
    "# Make predictions\n",
    "y_pred = model.predict(X_test)\n"
   ]
  },
  {
   "cell_type": "code",
   "execution_count": 20,
   "id": "a0ff0864-98cb-4cf8-a1c7-51d05fc20dcc",
   "metadata": {
    "execution": {
     "iopub.execute_input": "2024-07-16T04:55:18.151141Z",
     "iopub.status.busy": "2024-07-16T04:55:18.150156Z",
     "iopub.status.idle": "2024-07-16T04:55:18.167725Z",
     "shell.execute_reply": "2024-07-16T04:55:18.165715Z",
     "shell.execute_reply.started": "2024-07-16T04:55:18.151141Z"
    }
   },
   "outputs": [],
   "source": [
    "# Calculate regression metrics\n",
    "mse = mean_squared_error(y_test, y_pred)\n",
    "mae = mean_absolute_error(y_test, y_pred)\n",
    "r2 = r2_score(y_test, y_pred)"
   ]
  },
  {
   "cell_type": "code",
   "execution_count": 22,
   "id": "b84bcc40-7bd4-44bf-a9a5-aded2e6209e0",
   "metadata": {
    "execution": {
     "iopub.execute_input": "2024-07-16T04:55:21.575341Z",
     "iopub.status.busy": "2024-07-16T04:55:21.574340Z",
     "iopub.status.idle": "2024-07-16T04:55:21.585727Z",
     "shell.execute_reply": "2024-07-16T04:55:21.583715Z",
     "shell.execute_reply.started": "2024-07-16T04:55:21.575341Z"
    }
   },
   "outputs": [
    {
     "name": "stdout",
     "output_type": "stream",
     "text": [
      "Mean Squared Error (MSE): 25.286\n",
      "Mean Absolute Error (MAE): 3.176\n",
      "R-squared (R2): 0.696\n"
     ]
    }
   ],
   "source": [
    "print(f\"Mean Squared Error (MSE): {mse:.3f}\")\n",
    "print(f\"Mean Absolute Error (MAE): {mae:.3f}\")\n",
    "print(f\"R-squared (R2): {r2:.3f}\")\n"
   ]
  },
  {
   "cell_type": "code",
   "execution_count": 24,
   "id": "2847f4af-52b3-40e2-84b5-2c72887d9928",
   "metadata": {
    "execution": {
     "iopub.execute_input": "2024-07-16T04:55:27.887328Z",
     "iopub.status.busy": "2024-07-16T04:55:27.886330Z",
     "iopub.status.idle": "2024-07-16T04:55:27.900640Z",
     "shell.execute_reply": "2024-07-16T04:55:27.897627Z",
     "shell.execute_reply.started": "2024-07-16T04:55:27.887328Z"
    }
   },
   "outputs": [],
   "source": [
    "# Calculate entropy\n",
    "def calculate_entropy(values):\n",
    "    _, counts = np.unique(values, return_counts=True)\n",
    "    probabilities = counts / len(values)\n",
    "    entropy = -np.sum(probabilities * np.log2(probabilities))\n",
    "    return entropy\n"
   ]
  },
  {
   "cell_type": "code",
   "execution_count": 26,
   "id": "d8a7d4a6-f207-4bee-a191-bed91fe3a25e",
   "metadata": {
    "execution": {
     "iopub.execute_input": "2024-07-16T04:55:35.911425Z",
     "iopub.status.busy": "2024-07-16T04:55:35.910433Z",
     "iopub.status.idle": "2024-07-16T04:55:35.924563Z",
     "shell.execute_reply": "2024-07-16T04:55:35.921551Z",
     "shell.execute_reply.started": "2024-07-16T04:55:35.911425Z"
    }
   },
   "outputs": [],
   "source": [
    "# Calculate entropy and information gain based on residuals\n",
    "residuals = np.abs(y_test - y_pred.flatten())\n",
    "entropy_before = calculate_entropy(y_test)\n",
    "entropy_after = calculate_entropy(residuals)\n",
    "information_gain = entropy_before - entropy_after"
   ]
  },
  {
   "cell_type": "code",
   "execution_count": 28,
   "id": "6507023a-f093-46c5-a47d-f50e64eab044",
   "metadata": {
    "execution": {
     "iopub.execute_input": "2024-07-16T04:55:42.862350Z",
     "iopub.status.busy": "2024-07-16T04:55:42.860351Z",
     "iopub.status.idle": "2024-07-16T04:55:42.874191Z",
     "shell.execute_reply": "2024-07-16T04:55:42.872176Z",
     "shell.execute_reply.started": "2024-07-16T04:55:42.861351Z"
    }
   },
   "outputs": [
    {
     "name": "stdout",
     "output_type": "stream",
     "text": [
      "Entropy before: 6.187\n",
      "Entropy after: 6.672\n",
      "Information Gain: -0.485\n"
     ]
    }
   ],
   "source": [
    "\n",
    "print(f'Entropy before: {entropy_before:.3f}')\n",
    "print(f'Entropy after: {entropy_after:.3f}')\n",
    "print(f'Information Gain: {information_gain:.3f}')\n"
   ]
  },
  {
   "cell_type": "code",
   "execution_count": 30,
   "id": "d577d82c-7d59-4117-b090-697df6f8efa3",
   "metadata": {
    "execution": {
     "iopub.execute_input": "2024-07-16T04:55:49.837026Z",
     "iopub.status.busy": "2024-07-16T04:55:49.835534Z",
     "iopub.status.idle": "2024-07-16T04:55:50.654279Z",
     "shell.execute_reply": "2024-07-16T04:55:50.651257Z",
     "shell.execute_reply.started": "2024-07-16T04:55:49.837026Z"
    }
   },
   "outputs": [
    {
     "data": {
      "image/png": "[encoded data removed]",
      "text/plain": [
       "<Figure size 1000x600 with 1 Axes>"
      ]
     },
     "metadata": {},
     "output_type": "display_data"
    }
   ],
   "source": [
    "# Visualize residuals\n",
    "plt.figure(figsize=(10, 6))\n",
    "sns.histplot(residuals, bins=50, kde=True)\n",
    "plt.xlabel('Residuals')\n",
    "plt.ylabel('Frequency')\n",
    "plt.title('Residuals Distribution')\n",
    "plt.show()"
   ]
  },
  {
   "cell_type": "code",
   "execution_count": 32,
   "id": "93a664d8-580c-4c33-a191-ca63740a9e8c",
   "metadata": {
    "execution": {
     "iopub.execute_input": "2024-07-16T04:56:03.989991Z",
     "iopub.status.busy": "2024-07-16T04:56:03.988993Z",
     "iopub.status.idle": "2024-07-16T04:56:04.438152Z",
     "shell.execute_reply": "2024-07-16T04:56:04.436135Z",
     "shell.execute_reply.started": "2024-07-16T04:56:03.989991Z"
    }
   },
   "outputs": [
    {
     "data": {
      "image/png": "[encoded data removed]",
      "text/plain": [
       "<Figure size 1000x600 with 1 Axes>"
      ]
     },
     "metadata": {},
     "output_type": "display_data"
    }
   ],
   "source": [
    "# Plot true vs predicted values\n",
    "plt.figure(figsize=(10, 6))\n",
    "plt.scatter(y_test, y_pred, alpha=0.6)\n",
    "plt.plot([y_test.min(), y_test.max()], [y_test.min(), y_test.max()], 'r--')\n",
    "plt.xlabel('True Values')\n",
    "plt.ylabel('Predictions')\n",
    "plt.title('True vs Predicted Values')\n",
    "plt.show()"
   ]
  },
  {
   "cell_type": "code",
   "execution_count": 34,
   "id": "800cc07c-3153-4f49-a20e-4fa2b4b7e512",
   "metadata": {
    "execution": {
     "iopub.execute_input": "2024-07-16T04:56:14.916427Z",
     "iopub.status.busy": "2024-07-16T04:56:14.916427Z",
     "iopub.status.idle": "2024-07-16T04:56:14.929108Z",
     "shell.execute_reply": "2024-07-16T04:56:14.927092Z",
     "shell.execute_reply.started": "2024-07-16T04:56:14.916427Z"
    }
   },
   "outputs": [
    {
     "name": "stdout",
     "output_type": "stream",
     "text": [
      "First 10 predictions vs true values:\n",
      "True: 7.2, Predicted: 7.900519371032715\n",
      "True: 18.8, Predicted: 17.23892593383789\n",
      "True: 19.0, Predicted: 21.492341995239258\n",
      "True: 27.0, Predicted: 32.68899154663086\n",
      "True: 22.2, Predicted: 25.75341033935547\n",
      "True: 24.5, Predicted: 18.244640350341797\n",
      "True: 31.2, Predicted: 26.047847747802734\n",
      "True: 22.9, Predicted: 20.93539047241211\n",
      "True: 20.5, Predicted: 19.26573371887207\n",
      "True: 23.2, Predicted: 22.242107391357422\n"
     ]
    }
   ],
   "source": [
    "# Print first 10 predictions for comparison\n",
    "print(\"First 10 predictions vs true values:\")\n",
    "for i in range(10):\n",
    "    print(f\"True: {y_test[i]}, Predicted: {y_pred[i][0]}\")"
   ]
  },
  {
   "cell_type": "code",
   "execution_count": null,
   "id": "380ae3fd-e8af-4bf5-864d-eceb3e464b41",
   "metadata": {},
   "outputs": [],
   "source": []
  }
 ],
 "metadata": {
  "kernelspec": {
   "display_name": "Python 3 (ipykernel)",
   "language": "python",
   "name": "python3"
  },
  "language_info": {
   "codemirror_mode": {
    "name": "ipython",
    "version": 3
   },
   "file_extension": ".py",
   "mimetype": "text/x-python",
   "name": "python",
   "nbconvert_exporter": "python",
   "pygments_lexer": "ipython3",
   "version": "3.11.5"
  }
 },
 "nbformat": 4,
 "nbformat_minor": 5
}
