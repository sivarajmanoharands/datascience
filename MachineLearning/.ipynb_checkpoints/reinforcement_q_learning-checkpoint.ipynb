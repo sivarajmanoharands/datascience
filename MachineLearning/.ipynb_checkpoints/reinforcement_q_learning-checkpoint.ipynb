{
 "cells": [
  {
   "cell_type": "code",
   "execution_count": 150,
   "id": "5690ebb8-0766-4831-83ae-400bb9e402c9",
   "metadata": {
    "execution": {
     "iopub.execute_input": "2024-07-12T06:50:08.315622Z",
     "iopub.status.busy": "2024-07-12T06:50:08.314095Z",
     "iopub.status.idle": "2024-07-12T06:50:08.324409Z",
     "shell.execute_reply": "2024-07-12T06:50:08.322367Z",
     "shell.execute_reply.started": "2024-07-12T06:50:08.315622Z"
    }
   },
   "outputs": [],
   "source": [
    "import numpy as np"
   ]
  },
  {
   "cell_type": "code",
   "execution_count": 151,
   "id": "b9d2fe96-d293-49c2-bba0-ed72b35f10ac",
   "metadata": {
    "execution": {
     "iopub.execute_input": "2024-07-12T06:50:08.330558Z",
     "iopub.status.busy": "2024-07-12T06:50:08.329559Z",
     "iopub.status.idle": "2024-07-12T06:50:08.343471Z",
     "shell.execute_reply": "2024-07-12T06:50:08.340455Z",
     "shell.execute_reply.started": "2024-07-12T06:50:08.330558Z"
    }
   },
   "outputs": [],
   "source": [
    "R = np.matrix([[-1,-1,-1,-1,0,-1],\n",
    "              [-1,-1,-1,0,-1,100],\n",
    "              [-1,-1,-1,0,-1,-1],\n",
    "              [-1,0,0,-1,0,-1],\n",
    "              [-1,0,0,-1,-1,100],\n",
    "              [-1,0,-1,-1,0,100]])"
   ]
  },
  {
   "cell_type": "code",
   "execution_count": 152,
   "id": "e050aba0-ae94-4dce-ab52-fd803aa64edc",
   "metadata": {
    "execution": {
     "iopub.execute_input": "2024-07-12T06:50:08.346509Z",
     "iopub.status.busy": "2024-07-12T06:50:08.345508Z",
     "iopub.status.idle": "2024-07-12T06:50:08.355251Z",
     "shell.execute_reply": "2024-07-12T06:50:08.353593Z",
     "shell.execute_reply.started": "2024-07-12T06:50:08.346509Z"
    }
   },
   "outputs": [],
   "source": [
    "Q = np.matrix(np.zeros([6,6]))"
   ]
  },
  {
   "cell_type": "code",
   "execution_count": 153,
   "id": "48798980-550c-4023-b677-b5da605658c6",
   "metadata": {
    "execution": {
     "iopub.execute_input": "2024-07-12T06:50:08.358785Z",
     "iopub.status.busy": "2024-07-12T06:50:08.357263Z",
     "iopub.status.idle": "2024-07-12T06:50:08.366732Z",
     "shell.execute_reply": "2024-07-12T06:50:08.365722Z",
     "shell.execute_reply.started": "2024-07-12T06:50:08.358785Z"
    }
   },
   "outputs": [],
   "source": [
    "gamma = 0.8"
   ]
  },
  {
   "cell_type": "code",
   "execution_count": 154,
   "id": "18de1031-7db3-4362-ad1a-01ee8c171e33",
   "metadata": {
    "execution": {
     "iopub.execute_input": "2024-07-12T06:50:08.375457Z",
     "iopub.status.busy": "2024-07-12T06:50:08.374353Z",
     "iopub.status.idle": "2024-07-12T06:50:08.383455Z",
     "shell.execute_reply": "2024-07-12T06:50:08.381928Z",
     "shell.execute_reply.started": "2024-07-12T06:50:08.375457Z"
    }
   },
   "outputs": [],
   "source": [
    "initial_state = 2"
   ]
  },
  {
   "cell_type": "code",
   "execution_count": 155,
   "id": "39b3d6db-db23-4ee2-96a5-e5bcc64cfc06",
   "metadata": {
    "execution": {
     "iopub.execute_input": "2024-07-12T06:50:08.387007Z",
     "iopub.status.busy": "2024-07-12T06:50:08.386006Z",
     "iopub.status.idle": "2024-07-12T06:50:08.396812Z",
     "shell.execute_reply": "2024-07-12T06:50:08.394928Z",
     "shell.execute_reply.started": "2024-07-12T06:50:08.387007Z"
    }
   },
   "outputs": [],
   "source": [
    "def available_actions(state):\n",
    "    current_state_row = R[state,]\n",
    "    av_act = np.where(current_state_row >= 0)[1]\n",
    "    return av_act\n",
    "    "
   ]
  },
  {
   "cell_type": "code",
   "execution_count": 156,
   "id": "bb3ac6aa-1e25-400c-98f0-b11c9bfba1bd",
   "metadata": {
    "execution": {
     "iopub.execute_input": "2024-07-12T06:50:08.399814Z",
     "iopub.status.busy": "2024-07-12T06:50:08.399814Z",
     "iopub.status.idle": "2024-07-12T06:50:08.410710Z",
     "shell.execute_reply": "2024-07-12T06:50:08.408173Z",
     "shell.execute_reply.started": "2024-07-12T06:50:08.399814Z"
    }
   },
   "outputs": [],
   "source": [
    "available_act = available_actions(initial_state)\n"
   ]
  },
  {
   "cell_type": "code",
   "execution_count": 157,
   "id": "8d9b18fe-d25a-4560-afb9-e1ba71f5ef1e",
   "metadata": {
    "execution": {
     "iopub.execute_input": "2024-07-12T06:50:08.414260Z",
     "iopub.status.busy": "2024-07-12T06:50:08.413241Z",
     "iopub.status.idle": "2024-07-12T06:50:08.427326Z",
     "shell.execute_reply": "2024-07-12T06:50:08.425315Z",
     "shell.execute_reply.started": "2024-07-12T06:50:08.414260Z"
    }
   },
   "outputs": [],
   "source": [
    "def sample_next_action(availbale_actiona_range):\n",
    "    next_action = int(np.random.choice(available_act,1))\n",
    "    return next_action"
   ]
  },
  {
   "cell_type": "code",
   "execution_count": 158,
   "id": "5813a5e3-7a8e-4ca8-9418-01d1a597d851",
   "metadata": {
    "execution": {
     "iopub.execute_input": "2024-07-12T06:50:08.430841Z",
     "iopub.status.busy": "2024-07-12T06:50:08.429329Z",
     "iopub.status.idle": "2024-07-12T06:50:08.440060Z",
     "shell.execute_reply": "2024-07-12T06:50:08.439049Z",
     "shell.execute_reply.started": "2024-07-12T06:50:08.430841Z"
    }
   },
   "outputs": [
    {
     "name": "stderr",
     "output_type": "stream",
     "text": [
      "C:\\Users\\user\\AppData\\Local\\Temp\\ipykernel_24304\\387805920.py:2: DeprecationWarning: Conversion of an array with ndim > 0 to a scalar is deprecated, and will error in future. Ensure you extract a single element from your array before performing this operation. (Deprecated NumPy 1.25.)\n",
      "  next_action = int(np.random.choice(available_act,1))\n"
     ]
    }
   ],
   "source": [
    "action = sample_next_action(available_act)"
   ]
  },
  {
   "cell_type": "code",
   "execution_count": 159,
   "id": "3207ecb8-42e6-4814-b64e-68160a0bad77",
   "metadata": {
    "execution": {
     "iopub.execute_input": "2024-07-12T06:50:08.444160Z",
     "iopub.status.busy": "2024-07-12T06:50:08.443617Z",
     "iopub.status.idle": "2024-07-12T06:50:08.454786Z",
     "shell.execute_reply": "2024-07-12T06:50:08.453259Z",
     "shell.execute_reply.started": "2024-07-12T06:50:08.444160Z"
    }
   },
   "outputs": [],
   "source": [
    "# This Finction updates the Q Matrix according to the path selected and the Q\n",
    "# Learning algorithm\n",
    "def update(current_state,action,gamma):\n",
    "    max_index = np.where(Q[action,] ==np.max(Q[action,]))[1]\n",
    "    if max_index.shape[0] > 1:\n",
    "        max_index = int(np.random.choice(max_index,size = 1))\n",
    "    else:\n",
    "        max_index = int(max_index)\n",
    "\n",
    "    max_value = Q[action,max_index]\n",
    "\n",
    "    # Q learning formula\n",
    "    Q[current_state,action]= R[current_state,action]+ gamma * max_value\n"
   ]
  },
  {
   "cell_type": "code",
   "execution_count": 160,
   "id": "b35e9c8e-172e-4f32-8b6b-7029ccac12a0",
   "metadata": {
    "execution": {
     "iopub.execute_input": "2024-07-12T06:50:08.457802Z",
     "iopub.status.busy": "2024-07-12T06:50:08.456801Z",
     "iopub.status.idle": "2024-07-12T06:50:08.467516Z",
     "shell.execute_reply": "2024-07-12T06:50:08.465564Z",
     "shell.execute_reply.started": "2024-07-12T06:50:08.457802Z"
    }
   },
   "outputs": [
    {
     "name": "stderr",
     "output_type": "stream",
     "text": [
      "C:\\Users\\user\\AppData\\Local\\Temp\\ipykernel_24304\\4124433828.py:6: DeprecationWarning: Conversion of an array with ndim > 0 to a scalar is deprecated, and will error in future. Ensure you extract a single element from your array before performing this operation. (Deprecated NumPy 1.25.)\n",
      "  max_index = int(np.random.choice(max_index,size = 1))\n"
     ]
    }
   ],
   "source": [
    "update(initial_state,action,gamma)"
   ]
  },
  {
   "cell_type": "code",
   "execution_count": 161,
   "id": "9eb3ec05-120a-49c7-8b02-fa3575877b2b",
   "metadata": {
    "execution": {
     "iopub.execute_input": "2024-07-12T06:50:08.470518Z",
     "iopub.status.busy": "2024-07-12T06:50:08.469516Z",
     "iopub.status.idle": "2024-07-12T06:50:11.073553Z",
     "shell.execute_reply": "2024-07-12T06:50:11.071941Z",
     "shell.execute_reply.started": "2024-07-12T06:50:08.470518Z"
    }
   },
   "outputs": [
    {
     "name": "stderr",
     "output_type": "stream",
     "text": [
      "C:\\Users\\user\\AppData\\Local\\Temp\\ipykernel_24304\\387805920.py:2: DeprecationWarning: Conversion of an array with ndim > 0 to a scalar is deprecated, and will error in future. Ensure you extract a single element from your array before performing this operation. (Deprecated NumPy 1.25.)\n",
      "  next_action = int(np.random.choice(available_act,1))\n",
      "C:\\Users\\user\\AppData\\Local\\Temp\\ipykernel_24304\\4124433828.py:6: DeprecationWarning: Conversion of an array with ndim > 0 to a scalar is deprecated, and will error in future. Ensure you extract a single element from your array before performing this operation. (Deprecated NumPy 1.25.)\n",
      "  max_index = int(np.random.choice(max_index,size = 1))\n"
     ]
    }
   ],
   "source": [
    "for i in range(10000):\n",
    "    current_state = np.random.randint(0,int(Q.shape[0]))\n",
    "    available_Act = available_actions(current_state)\n",
    "    action = sample_next_action(available_act)\n",
    "    update(current_state,action,gamma)\n"
   ]
  },
  {
   "cell_type": "code",
   "execution_count": 162,
   "id": "05454049-b4d3-4f64-a54f-6fbd3f3b1ef9",
   "metadata": {
    "execution": {
     "iopub.execute_input": "2024-07-12T06:50:11.076603Z",
     "iopub.status.busy": "2024-07-12T06:50:11.076091Z",
     "iopub.status.idle": "2024-07-12T06:50:11.090312Z",
     "shell.execute_reply": "2024-07-12T06:50:11.087297Z",
     "shell.execute_reply.started": "2024-07-12T06:50:11.076603Z"
    }
   },
   "outputs": [
    {
     "name": "stdout",
     "output_type": "stream",
     "text": [
      "Trained Q matrix :\n",
      "[[ nan  nan  nan -inf  nan  nan]\n",
      " [ nan  nan  nan  nan  nan  nan]\n",
      " [ nan  nan  nan  nan  nan  nan]\n",
      " [ nan  nan  nan -inf  nan  nan]\n",
      " [ nan  nan  nan -inf  nan  nan]\n",
      " [ nan  nan  nan -inf  nan  nan]]\n"
     ]
    },
    {
     "name": "stderr",
     "output_type": "stream",
     "text": [
      "C:\\Users\\user\\AppData\\Local\\Temp\\ipykernel_24304\\964165410.py:2: RuntimeWarning: divide by zero encountered in divide\n",
      "  print(Q / np.max(Q) * 100)\n",
      "C:\\Users\\user\\AppData\\Local\\Temp\\ipykernel_24304\\964165410.py:2: RuntimeWarning: invalid value encountered in divide\n",
      "  print(Q / np.max(Q) * 100)\n"
     ]
    }
   ],
   "source": [
    "print(\"Trained Q matrix :\")\n",
    "print(Q / np.max(Q) * 100)"
   ]
  },
  {
   "cell_type": "code",
   "execution_count": 163,
   "id": "dd1e4f68-e00d-4317-8de5-e0128a24a714",
   "metadata": {
    "execution": {
     "iopub.execute_input": "2024-07-12T06:50:11.105195Z",
     "iopub.status.busy": "2024-07-12T06:50:11.104089Z",
     "iopub.status.idle": "2024-07-12T06:50:11.113232Z",
     "shell.execute_reply": "2024-07-12T06:50:11.110638Z",
     "shell.execute_reply.started": "2024-07-12T06:50:11.105195Z"
    }
   },
   "outputs": [],
   "source": [
    "# Testing\n",
    "# Goal state = 5\n",
    "# Best Sequence path starting from 2 -> 2,3,1,5"
   ]
  },
  {
   "cell_type": "code",
   "execution_count": 164,
   "id": "17f077e9-2316-4337-b9ed-dbffbc660b7c",
   "metadata": {
    "execution": {
     "iopub.execute_input": "2024-07-12T06:50:11.118349Z",
     "iopub.status.busy": "2024-07-12T06:50:11.117388Z",
     "iopub.status.idle": "2024-07-12T06:50:11.140966Z",
     "shell.execute_reply": "2024-07-12T06:50:11.138417Z",
     "shell.execute_reply.started": "2024-07-12T06:50:11.118349Z"
    }
   },
   "outputs": [
    {
     "name": "stderr",
     "output_type": "stream",
     "text": [
      "C:\\Users\\user\\AppData\\Local\\Temp\\ipykernel_24304\\143602811.py:6: DeprecationWarning: Conversion of an array with ndim > 0 to a scalar is deprecated, and will error in future. Ensure you extract a single element from your array before performing this operation. (Deprecated NumPy 1.25.)\n",
      "  next_step_index = int(np.random.choice(next_step_index,size = 1))\n"
     ]
    }
   ],
   "source": [
    "current_state = 1\n",
    "steps = [current_state]\n",
    "while current_state != 5:\n",
    "    next_step_index = np.where(Q[current_state,] == np.max(Q[current_state,]))[1]\n",
    "    if next_step_index.shape[0] > 1:\n",
    "        next_step_index = int(np.random.choice(next_step_index,size = 1))\n",
    "    else:\n",
    "        next_step_index = int(next_step_index)\n",
    "    steps.append(next_step_index)\n",
    "    current_state = next_step_index\n",
    "    "
   ]
  },
  {
   "cell_type": "code",
   "execution_count": 165,
   "id": "7746c3af-c4b3-4ea8-8e76-f210537da07e",
   "metadata": {
    "execution": {
     "iopub.execute_input": "2024-07-12T06:50:11.146029Z",
     "iopub.status.busy": "2024-07-12T06:50:11.143484Z",
     "iopub.status.idle": "2024-07-12T06:50:11.157425Z",
     "shell.execute_reply": "2024-07-12T06:50:11.155412Z",
     "shell.execute_reply.started": "2024-07-12T06:50:11.146029Z"
    }
   },
   "outputs": [
    {
     "name": "stdout",
     "output_type": "stream",
     "text": [
      "Selected Path : \n",
      "[1, 2, 4, 1, 4, 2, 1, 3, 1, 0, 5]\n"
     ]
    }
   ],
   "source": [
    "print(\"Selected Path : \")\n",
    "print(steps)"
   ]
  },
  {
   "cell_type": "code",
   "execution_count": null,
   "id": "f54b2882-1d38-4c29-95a3-1967901aa532",
   "metadata": {},
   "outputs": [],
   "source": []
  }
 ],
 "metadata": {
  "kernelspec": {
   "display_name": "Python 3 (ipykernel)",
   "language": "python",
   "name": "python3"
  },
  "language_info": {
   "codemirror_mode": {
    "name": "ipython",
    "version": 3
   },
   "file_extension": ".py",
   "mimetype": "text/x-python",
   "name": "python",
   "nbconvert_exporter": "python",
   "pygments_lexer": "ipython3",
   "version": "3.11.5"
  }
 },
 "nbformat": 4,
 "nbformat_minor": 5
}
