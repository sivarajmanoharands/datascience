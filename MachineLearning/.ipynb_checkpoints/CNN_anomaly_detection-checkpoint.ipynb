{
 "cells": [
  {
   "cell_type": "code",
   "execution_count": 170,
   "id": "63a2cb08-f386-4bfc-b861-a3ddbcfa610f",
   "metadata": {
    "execution": {
     "iopub.execute_input": "2024-07-16T04:26:06.214689Z",
     "iopub.status.busy": "2024-07-16T04:26:06.213691Z",
     "iopub.status.idle": "2024-07-16T04:26:06.225307Z",
     "shell.execute_reply": "2024-07-16T04:26:06.222291Z",
     "shell.execute_reply.started": "2024-07-16T04:26:06.214689Z"
    }
   },
   "outputs": [],
   "source": [
    "import numpy as np\n",
    "import tensorflow as tf\n",
    "from tensorflow import keras\n",
    "from sklearn.metrics import precision_score, recall_score, f1_score, classification_report, confusion_matrix\n",
    "from sklearn.model_selection import train_test_split\n",
    "import matplotlib.pyplot as plt\n",
    "import seaborn as sns"
   ]
  },
  {
   "cell_type": "code",
   "execution_count": 171,
   "id": "5b6d3baf-3960-4d78-a4ed-6041b9a6225d",
   "metadata": {
    "execution": {
     "iopub.execute_input": "2024-07-16T04:26:06.230847Z",
     "iopub.status.busy": "2024-07-16T04:26:06.229839Z",
     "iopub.status.idle": "2024-07-16T04:26:06.256161Z",
     "shell.execute_reply": "2024-07-16T04:26:06.254149Z",
     "shell.execute_reply.started": "2024-07-16T04:26:06.230847Z"
    }
   },
   "outputs": [],
   "source": [
    "#(X_train, y_train), (X_test, y_test) = keras.datasets.california_housing.load_data()"
   ]
  },
  {
   "cell_type": "code",
   "execution_count": 172,
   "id": "8cbeaae9-aaa2-4bd3-a1d4-1076c9edc417",
   "metadata": {
    "execution": {
     "iopub.execute_input": "2024-07-16T04:26:06.261696Z",
     "iopub.status.busy": "2024-07-16T04:26:06.259695Z",
     "iopub.status.idle": "2024-07-16T04:26:06.270866Z",
     "shell.execute_reply": "2024-07-16T04:26:06.268314Z",
     "shell.execute_reply.started": "2024-07-16T04:26:06.260693Z"
    }
   },
   "outputs": [],
   "source": [
    "# Load the dataset (e.g., MNIST)\n",
    "(X_train, y_train), (X_test, y_test) = keras.datasets.mnist.load_data()\n"
   ]
  },
  {
   "cell_type": "code",
   "execution_count": 173,
   "id": "ca047395-c951-4f5b-ab44-0d8ead0f74d3",
   "metadata": {
    "execution": {
     "iopub.execute_input": "2024-07-16T04:26:06.277860Z",
     "iopub.status.busy": "2024-07-16T04:26:06.276857Z",
     "iopub.status.idle": "2024-07-16T04:26:06.287845Z",
     "shell.execute_reply": "2024-07-16T04:26:06.284833Z",
     "shell.execute_reply.started": "2024-07-16T04:26:06.277860Z"
    }
   },
   "outputs": [],
   "source": [
    "# Reshape the data to 4D tensors (batch_size, height, width, channels)\n",
    "X_train = X_train.reshape(-1, 28, 28, 1)\n",
    "X_test = X_test.reshape(-1, 28, 28, 1)"
   ]
  },
  {
   "cell_type": "code",
   "execution_count": 174,
   "id": "fe7c8614-950f-45ba-977a-32ff30cc7296",
   "metadata": {
    "execution": {
     "iopub.execute_input": "2024-07-16T04:26:06.292333Z",
     "iopub.status.busy": "2024-07-16T04:26:06.291362Z",
     "iopub.status.idle": "2024-07-16T04:26:06.303715Z",
     "shell.execute_reply": "2024-07-16T04:26:06.301182Z",
     "shell.execute_reply.started": "2024-07-16T04:26:06.292333Z"
    }
   },
   "outputs": [],
   "source": [
    "# Normalize the data\n",
    "X_train = X_train.astype('float32') / 255\n",
    "X_test = X_test.astype('float32') / 255"
   ]
  },
  {
   "cell_type": "code",
   "execution_count": 175,
   "id": "d61dc9d8-9806-4aec-9518-632c7fc8ff19",
   "metadata": {
    "execution": {
     "iopub.execute_input": "2024-07-16T04:26:06.307715Z",
     "iopub.status.busy": "2024-07-16T04:26:06.305714Z",
     "iopub.status.idle": "2024-07-16T04:26:06.320707Z",
     "shell.execute_reply": "2024-07-16T04:26:06.318680Z",
     "shell.execute_reply.started": "2024-07-16T04:26:06.307715Z"
    }
   },
   "outputs": [],
   "source": [
    "# Split the data into training and validation sets\n",
    "X_train, X_val, y_train, y_val = train_test_split(X_train, y_train, test_size=0.2, random_state=42)"
   ]
  },
  {
   "cell_type": "code",
   "execution_count": 176,
   "id": "49b71147-0ea6-43fd-af26-411681a3e017",
   "metadata": {
    "execution": {
     "iopub.execute_input": "2024-07-16T04:26:06.323691Z",
     "iopub.status.busy": "2024-07-16T04:26:06.322694Z",
     "iopub.status.idle": "2024-07-16T04:26:06.491629Z",
     "shell.execute_reply": "2024-07-16T04:26:06.489614Z",
     "shell.execute_reply.started": "2024-07-16T04:26:06.322694Z"
    }
   },
   "outputs": [
    {
     "name": "stderr",
     "output_type": "stream",
     "text": [
      "C:\\Users\\user\\AppData\\Roaming\\Python\\Python311\\site-packages\\keras\\src\\layers\\convolutional\\base_conv.py:107: UserWarning: Do not pass an `input_shape`/`input_dim` argument to a layer. When using Sequential models, prefer using an `Input(shape)` object as the first layer in the model instead.\n",
      "  super().__init__(activity_regularizer=activity_regularizer, **kwargs)\n"
     ]
    }
   ],
   "source": [
    "# Define the CNN Autoencoder model\n",
    "model = keras.Sequential([\n",
    "    keras.layers.Conv2D(32, (3, 3), activation='relu', input_shape=(28, 28, 1)),\n",
    "    keras.layers.MaxPooling2D((2, 2)),\n",
    "    keras.layers.Conv2D(64, (3, 3), activation='relu'),\n",
    "    keras.layers.MaxPooling2D((2, 2)),\n",
    "    keras.layers.Conv2D(64, (3, 3), activation='relu'),\n",
    "    keras.layers.Flatten(),\n",
    "    keras.layers.Dense(128, activation='relu'),\n",
    "    keras.layers.Dense(7*7*64, activation='relu'),\n",
    "    keras.layers.Reshape((7, 7, 64)),\n",
    "    keras.layers.Conv2DTranspose(64, (3, 3), strides=2, padding='same', activation='relu'),\n",
    "    keras.layers.Conv2DTranspose(32, (3, 3), strides=2, padding='same', activation='relu'),\n",
    "    keras.layers.Conv2D(1, (3, 3), activation='sigmoid', padding='same')\n",
    "])"
   ]
  },
  {
   "cell_type": "code",
   "execution_count": 177,
   "id": "b139ebf2-5b66-49b9-b4b8-a6e40b592dc4",
   "metadata": {
    "execution": {
     "iopub.execute_input": "2024-07-16T04:26:06.494634Z",
     "iopub.status.busy": "2024-07-16T04:26:06.494634Z",
     "iopub.status.idle": "2024-07-16T04:26:06.512792Z",
     "shell.execute_reply": "2024-07-16T04:26:06.510765Z",
     "shell.execute_reply.started": "2024-07-16T04:26:06.494634Z"
    }
   },
   "outputs": [],
   "source": [
    "# Compile the model\n",
    "model.compile(optimizer='adam', loss='mean_squared_error')"
   ]
  },
  {
   "cell_type": "code",
   "execution_count": 178,
   "id": "942e2d81-7745-43dd-b3d8-6d963eb03f76",
   "metadata": {
    "execution": {
     "iopub.execute_input": "2024-07-16T04:26:06.516780Z",
     "iopub.status.busy": "2024-07-16T04:26:06.515781Z",
     "iopub.status.idle": "2024-07-16T04:26:07.567928Z",
     "shell.execute_reply": "2024-07-16T04:26:07.560376Z",
     "shell.execute_reply.started": "2024-07-16T04:26:06.516780Z"
    }
   },
   "outputs": [
    {
     "name": "stdout",
     "output_type": "stream",
     "text": [
      "Epoch 1/10\n"
     ]
    },
    {
     "ename": "ValueError",
     "evalue": "Exception encountered when calling Sequential.call().\n\n\u001b[1mInvalid input shape for input Tensor(\"data:0\", shape=(None, 8), dtype=float32). Expected shape (None, 28, 28, 1), but input has incompatible shape (None, 8)\u001b[0m\n\nArguments received by Sequential.call():\n  • inputs=tf.Tensor(shape=(None, 8), dtype=float32)\n  • training=True\n  • mask=None",
     "output_type": "error",
     "traceback": [
      "\u001b[1;31m---------------------------------------------------------------------------\u001b[0m",
      "\u001b[1;31mValueError\u001b[0m                                Traceback (most recent call last)",
      "Cell \u001b[1;32mIn[178], line 2\u001b[0m\n\u001b[0;32m      1\u001b[0m \u001b[38;5;66;03m# Train the model\u001b[39;00m\n\u001b[1;32m----> 2\u001b[0m history \u001b[38;5;241m=\u001b[39m model\u001b[38;5;241m.\u001b[39mfit(X_train, X_train, epochs\u001b[38;5;241m=\u001b[39m\u001b[38;5;241m10\u001b[39m, \n\u001b[0;32m      3\u001b[0m                     validation_data\u001b[38;5;241m=\u001b[39m(X_val, X_val), \n\u001b[0;32m      4\u001b[0m                     verbose\u001b[38;5;241m=\u001b[39m\u001b[38;5;241m2\u001b[39m)\n",
      "File \u001b[1;32m~\\AppData\\Roaming\\Python\\Python311\\site-packages\\keras\\src\\utils\\traceback_utils.py:122\u001b[0m, in \u001b[0;36mfilter_traceback.<locals>.error_handler\u001b[1;34m(*args, **kwargs)\u001b[0m\n\u001b[0;32m    119\u001b[0m     filtered_tb \u001b[38;5;241m=\u001b[39m _process_traceback_frames(e\u001b[38;5;241m.\u001b[39m__traceback__)\n\u001b[0;32m    120\u001b[0m     \u001b[38;5;66;03m# To get the full stack trace, call:\u001b[39;00m\n\u001b[0;32m    121\u001b[0m     \u001b[38;5;66;03m# `keras.config.disable_traceback_filtering()`\u001b[39;00m\n\u001b[1;32m--> 122\u001b[0m     \u001b[38;5;28;01mraise\u001b[39;00m e\u001b[38;5;241m.\u001b[39mwith_traceback(filtered_tb) \u001b[38;5;28;01mfrom\u001b[39;00m \u001b[38;5;28;01mNone\u001b[39;00m\n\u001b[0;32m    123\u001b[0m \u001b[38;5;28;01mfinally\u001b[39;00m:\n\u001b[0;32m    124\u001b[0m     \u001b[38;5;28;01mdel\u001b[39;00m filtered_tb\n",
      "File \u001b[1;32m~\\AppData\\Roaming\\Python\\Python311\\site-packages\\keras\\src\\models\\functional.py:244\u001b[0m, in \u001b[0;36mFunctional._adjust_input_rank\u001b[1;34m(self, flat_inputs)\u001b[0m\n\u001b[0;32m    242\u001b[0m             adjusted\u001b[38;5;241m.\u001b[39mappend(ops\u001b[38;5;241m.\u001b[39mexpand_dims(x, axis\u001b[38;5;241m=\u001b[39m\u001b[38;5;241m-\u001b[39m\u001b[38;5;241m1\u001b[39m))\n\u001b[0;32m    243\u001b[0m             \u001b[38;5;28;01mcontinue\u001b[39;00m\n\u001b[1;32m--> 244\u001b[0m     \u001b[38;5;28;01mraise\u001b[39;00m \u001b[38;5;167;01mValueError\u001b[39;00m(\n\u001b[0;32m    245\u001b[0m         \u001b[38;5;124mf\u001b[39m\u001b[38;5;124m\"\u001b[39m\u001b[38;5;124mInvalid input shape for input \u001b[39m\u001b[38;5;132;01m{\u001b[39;00mx\u001b[38;5;132;01m}\u001b[39;00m\u001b[38;5;124m. Expected shape \u001b[39m\u001b[38;5;124m\"\u001b[39m\n\u001b[0;32m    246\u001b[0m         \u001b[38;5;124mf\u001b[39m\u001b[38;5;124m\"\u001b[39m\u001b[38;5;132;01m{\u001b[39;00mref_shape\u001b[38;5;132;01m}\u001b[39;00m\u001b[38;5;124m, but input has incompatible shape \u001b[39m\u001b[38;5;132;01m{\u001b[39;00mx\u001b[38;5;241m.\u001b[39mshape\u001b[38;5;132;01m}\u001b[39;00m\u001b[38;5;124m\"\u001b[39m\n\u001b[0;32m    247\u001b[0m     )\n\u001b[0;32m    248\u001b[0m \u001b[38;5;66;03m# Add back metadata.\u001b[39;00m\n\u001b[0;32m    249\u001b[0m \u001b[38;5;28;01mfor\u001b[39;00m i \u001b[38;5;129;01min\u001b[39;00m \u001b[38;5;28mrange\u001b[39m(\u001b[38;5;28mlen\u001b[39m(flat_inputs)):\n",
      "\u001b[1;31mValueError\u001b[0m: Exception encountered when calling Sequential.call().\n\n\u001b[1mInvalid input shape for input Tensor(\"data:0\", shape=(None, 8), dtype=float32). Expected shape (None, 28, 28, 1), but input has incompatible shape (None, 8)\u001b[0m\n\nArguments received by Sequential.call():\n  • inputs=tf.Tensor(shape=(None, 8), dtype=float32)\n  • training=True\n  • mask=None"
     ]
    }
   ],
   "source": [
    "# Train the model\n",
    "history = model.fit(X_train, X_train, epochs=10, \n",
    "                    validation_data=(X_val, X_val), \n",
    "                    verbose=2)\n"
   ]
  },
  {
   "cell_type": "code",
   "execution_count": null,
   "id": "36981607-c81b-4a54-928c-2188fa0c5bff",
   "metadata": {
    "execution": {
     "iopub.status.busy": "2024-07-16T04:26:07.569918Z",
     "iopub.status.idle": "2024-07-16T04:26:07.571918Z",
     "shell.execute_reply": "2024-07-16T04:26:07.570917Z",
     "shell.execute_reply.started": "2024-07-16T04:26:07.570917Z"
    }
   },
   "outputs": [],
   "source": [
    "# Evaluate the model on the test set\n",
    "mse = model.evaluate(X_test, X_test)\n",
    "print(f'Test MSE: {mse:.3f}')\n"
   ]
  },
  {
   "cell_type": "code",
   "execution_count": null,
   "id": "fe360259-c09e-4aa4-ad64-b2b02861d307",
   "metadata": {
    "execution": {
     "iopub.status.busy": "2024-07-16T04:26:07.574443Z",
     "iopub.status.idle": "2024-07-16T04:26:07.577444Z",
     "shell.execute_reply": "2024-07-16T04:26:07.576447Z",
     "shell.execute_reply.started": "2024-07-16T04:26:07.576447Z"
    }
   },
   "outputs": [],
   "source": [
    "# Use the model to detect anomalies\n",
    "def detect_anomaly(x, threshold=0.02):\n",
    "    x_reconstructed = model.predict(x)\n",
    "    mse = np.mean(np.square(x - x_reconstructed), axis=(1, 2, 3))\n",
    "    return mse > threshold"
   ]
  },
  {
   "cell_type": "code",
   "execution_count": null,
   "id": "4f2fad20-ffde-4de2-b231-52289e31ad7f",
   "metadata": {
    "execution": {
     "iopub.status.busy": "2024-07-16T04:26:07.581443Z",
     "iopub.status.idle": "2024-07-16T04:26:07.583957Z",
     "shell.execute_reply": "2024-07-16T04:26:07.582445Z",
     "shell.execute_reply.started": "2024-07-16T04:26:07.582445Z"
    }
   },
   "outputs": [],
   "source": [
    "# Calculate entropy\n",
    "def calculate_entropy(labels):\n",
    "    _, counts = np.unique(labels, return_counts=True)\n",
    "    probabilities = counts / len(labels)\n",
    "    entropy = -np.sum(probabilities * np.log2(probabilities))\n",
    "    return entropy\n"
   ]
  },
  {
   "cell_type": "code",
   "execution_count": null,
   "id": "138dc597-8938-49c1-9b9a-6a9e13895782",
   "metadata": {
    "execution": {
     "iopub.status.busy": "2024-07-16T04:26:07.587985Z",
     "iopub.status.idle": "2024-07-16T04:26:07.588976Z",
     "shell.execute_reply": "2024-07-16T04:26:07.587985Z",
     "shell.execute_reply.started": "2024-07-16T04:26:07.587985Z"
    }
   },
   "outputs": [],
   "source": [
    "# Test the anomaly detection function\n",
    "X_anomaly = X_test[:10]  # select a few test images as anomalies\n",
    "y_pred = detect_anomaly(X_anomaly)\n",
    "print(y_pred)  # should output [True, True,..., True] if all are detected as anomalies\n"
   ]
  },
  {
   "cell_type": "code",
   "execution_count": null,
   "id": "d727f8c2-2f75-4112-8975-3b1b285b8139",
   "metadata": {
    "execution": {
     "iopub.status.busy": "2024-07-16T04:26:07.590982Z",
     "iopub.status.idle": "2024-07-16T04:26:07.590982Z",
     "shell.execute_reply": "2024-07-16T04:26:07.590982Z",
     "shell.execute_reply.started": "2024-07-16T04:26:07.590982Z"
    }
   },
   "outputs": [],
   "source": [
    "# Visualize the original and reconstructed images\n",
    "def visualize_reconstructions(original, reconstructed, num_images=9):\n",
    "    plt.figure(figsize=(10, 10))\n",
    "    for i in range(num_images):\n",
    "        # Original images\n",
    "        plt.subplot(3, 3, i + 1)\n",
    "        plt.imshow(original[i].reshape(28, 28), cmap='gray')\n",
    "        plt.title(f'Original {i + 1}')\n",
    "        plt.axis('off')\n",
    "\n",
    "    plt.figure(figsize=(10, 10))\n",
    "    for i in range(num_images):\n",
    "        # Reconstructed images\n",
    "        plt.subplot(3, 3, i + 1)\n",
    "        plt.imshow(reconstructed[i].reshape(28, 28), cmap='gray')\n",
    "        plt.title(f'Reconstructed {i + 1}')\n",
    "        plt.axis('off')\n",
    "    plt.show()\n"
   ]
  },
  {
   "cell_type": "code",
   "execution_count": null,
   "id": "193c1b22-919f-474d-956f-9898b63e6bdf",
   "metadata": {
    "execution": {
     "iopub.status.busy": "2024-07-16T04:26:07.593984Z",
     "iopub.status.idle": "2024-07-16T04:26:07.594513Z",
     "shell.execute_reply": "2024-07-16T04:26:07.594513Z",
     "shell.execute_reply.started": "2024-07-16T04:26:07.594513Z"
    }
   },
   "outputs": [],
   "source": [
    "reconstructed = model.predict(X_anomaly)"
   ]
  },
  {
   "cell_type": "code",
   "execution_count": null,
   "id": "d86bc694-dd9c-4fa6-a3bc-a4f76776d52b",
   "metadata": {
    "execution": {
     "iopub.status.busy": "2024-07-16T04:26:07.597525Z",
     "iopub.status.idle": "2024-07-16T04:26:07.598527Z",
     "shell.execute_reply": "2024-07-16T04:26:07.598527Z",
     "shell.execute_reply.started": "2024-07-16T04:26:07.598527Z"
    }
   },
   "outputs": [],
   "source": [
    "visualize_reconstructions(X_anomaly, reconstructed)"
   ]
  },
  {
   "cell_type": "code",
   "execution_count": null,
   "id": "e5d4dec7-82dc-4fe3-b765-fe68230cb16b",
   "metadata": {
    "execution": {
     "iopub.status.busy": "2024-07-16T04:26:07.600528Z",
     "iopub.status.idle": "2024-07-16T04:26:07.601526Z",
     "shell.execute_reply": "2024-07-16T04:26:07.601526Z",
     "shell.execute_reply.started": "2024-07-16T04:26:07.601526Z"
    }
   },
   "outputs": [],
   "source": [
    "# Use the model to detect anomalies\n",
    "def calculate_reconstruction_errors(model, data):\n",
    "    reconstructed_data = model.predict(data)\n",
    "    reconstruction_errors = np.mean(np.square(data - reconstructed_data), axis=(1, 2, 3))\n",
    "    return reconstruction_errors"
   ]
  },
  {
   "cell_type": "code",
   "execution_count": null,
   "id": "1e7b67a1-1546-4393-93d0-1175d76ab1f6",
   "metadata": {
    "execution": {
     "iopub.status.busy": "2024-07-16T04:26:07.606054Z",
     "iopub.status.idle": "2024-07-16T04:26:07.608056Z",
     "shell.execute_reply": "2024-07-16T04:26:07.607059Z",
     "shell.execute_reply.started": "2024-07-16T04:26:07.607059Z"
    }
   },
   "outputs": [],
   "source": [
    "# Calculate reconstruction errors\n",
    "reconstruction_errors = calculate_reconstruction_errors(model, X_test)"
   ]
  },
  {
   "cell_type": "code",
   "execution_count": null,
   "id": "3817139c-3932-417a-b7fa-11cb439d77df",
   "metadata": {
    "execution": {
     "iopub.status.busy": "2024-07-16T04:26:07.614053Z",
     "iopub.status.idle": "2024-07-16T04:26:07.615573Z",
     "shell.execute_reply": "2024-07-16T04:26:07.615573Z",
     "shell.execute_reply.started": "2024-07-16T04:26:07.615573Z"
    }
   },
   "outputs": [],
   "source": [
    "# Set a threshold for anomaly detection (for demonstration, using 95th percentile)\n",
    "threshold = np.percentile(reconstruction_errors, 95)\n",
    "simulated_y_pred = reconstruction_errors > threshold"
   ]
  },
  {
   "cell_type": "code",
   "execution_count": null,
   "id": "90ed6f00-bc8c-4fce-8b7a-8ac7012b6e2b",
   "metadata": {
    "execution": {
     "iopub.status.busy": "2024-07-16T04:26:07.618590Z",
     "iopub.status.idle": "2024-07-16T04:26:07.619589Z",
     "shell.execute_reply": "2024-07-16T04:26:07.619589Z",
     "shell.execute_reply.started": "2024-07-16T04:26:07.619589Z"
    }
   },
   "outputs": [],
   "source": [
    "# Calculate entropy before and after thresholding\n",
    "entropy_before = calculate_entropy(true_labels)\n",
    "entropy_after = calculate_entropy(simulated_y_pred)\n"
   ]
  },
  {
   "cell_type": "code",
   "execution_count": null,
   "id": "46a574ce-8adf-45c7-a498-0a123d4949d7",
   "metadata": {
    "execution": {
     "iopub.status.busy": "2024-07-16T04:26:07.624589Z",
     "iopub.status.idle": "2024-07-16T04:26:07.626099Z",
     "shell.execute_reply": "2024-07-16T04:26:07.626099Z",
     "shell.execute_reply.started": "2024-07-16T04:26:07.626099Z"
    }
   },
   "outputs": [],
   "source": [
    "# Calculate information gain\n",
    "information_gain = entropy_before - entropy_after"
   ]
  },
  {
   "cell_type": "code",
   "execution_count": null,
   "id": "667687c7-f1a0-4ee9-bc5e-3a4c006fc1db",
   "metadata": {
    "execution": {
     "iopub.status.busy": "2024-07-16T04:26:07.630114Z",
     "iopub.status.idle": "2024-07-16T04:26:07.631115Z",
     "shell.execute_reply": "2024-07-16T04:26:07.631115Z",
     "shell.execute_reply.started": "2024-07-16T04:26:07.631115Z"
    }
   },
   "outputs": [],
   "source": [
    "# Detect anomalies\n",
    "y_pred = reconstruction_errors > threshold\n"
   ]
  },
  {
   "cell_type": "code",
   "execution_count": null,
   "id": "edb638c9-0033-4463-ba1c-c85da75b2bf3",
   "metadata": {
    "execution": {
     "iopub.status.busy": "2024-07-16T04:26:07.635112Z",
     "iopub.status.idle": "2024-07-16T04:26:07.636116Z",
     "shell.execute_reply": "2024-07-16T04:26:07.636116Z",
     "shell.execute_reply.started": "2024-07-16T04:26:07.636116Z"
    }
   },
   "outputs": [],
   "source": [
    "# Since we don't have true labels for anomalies in MNIST, we'll simulate some anomalies\n",
    "# For demonstration, let's assume first 100 are normal (0) and next 100 are anomalies (1)\n",
    "true_labels = np.array([0] * 100 + [1] * 100)\n",
    "simulated_data = np.concatenate((X_test[:100], X_test[100:200]))\n"
   ]
  },
  {
   "cell_type": "code",
   "execution_count": null,
   "id": "63657990-a58a-4cc9-9fe9-71c4f473a45e",
   "metadata": {
    "execution": {
     "iopub.status.busy": "2024-07-16T04:26:07.642645Z",
     "iopub.status.idle": "2024-07-16T04:26:07.644159Z",
     "shell.execute_reply": "2024-07-16T04:26:07.644159Z",
     "shell.execute_reply.started": "2024-07-16T04:26:07.644159Z"
    }
   },
   "outputs": [],
   "source": [
    "# Calculate reconstruction errors for simulated data\n",
    "simulated_reconstruction_errors = calculate_reconstruction_errors(model, simulated_data)\n",
    "simulated_y_pred = simulated_reconstruction_errors > threshold\n"
   ]
  },
  {
   "cell_type": "code",
   "execution_count": null,
   "id": "bf8e767d-42ed-447f-aa47-922cce990a23",
   "metadata": {
    "execution": {
     "iopub.status.busy": "2024-07-16T04:26:07.647172Z",
     "iopub.status.idle": "2024-07-16T04:26:07.648172Z",
     "shell.execute_reply": "2024-07-16T04:26:07.647172Z",
     "shell.execute_reply.started": "2024-07-16T04:26:07.647172Z"
    }
   },
   "outputs": [],
   "source": [
    "# Calculate precision, recall, and F1-score\n",
    "precision = precision_score(true_labels, simulated_y_pred)\n",
    "recall = recall_score(true_labels, simulated_y_pred)\n",
    "f1 = f1_score(true_labels, simulated_y_pred)\n"
   ]
  },
  {
   "cell_type": "code",
   "execution_count": null,
   "id": "33bb9fe4-c3f7-4ff6-92c0-b55ddd9d6c4e",
   "metadata": {
    "execution": {
     "iopub.status.busy": "2024-07-16T04:26:07.653699Z",
     "iopub.status.idle": "2024-07-16T04:26:07.655700Z",
     "shell.execute_reply": "2024-07-16T04:26:07.654699Z",
     "shell.execute_reply.started": "2024-07-16T04:26:07.654699Z"
    }
   },
   "outputs": [],
   "source": [
    "print(f'Precision: {precision:.3f}')\n",
    "print(f'Recall: {recall:.3f}')\n",
    "print(f'F1-Score: {f1:.3f}')\n",
    "print('\\nClassification Report:')\n",
    "print(classification_report(true_labels, simulated_y_pred))\n",
    "print(f'Entropy before thresholding: {entropy_before:.3f}')\n",
    "print(f'Entropy after thresholding: {entropy_after:.3f}')\n",
    "print(f'Information Gain: {information_gain:.3f}')"
   ]
  },
  {
   "cell_type": "code",
   "execution_count": null,
   "id": "0462a2e0-4496-4215-b388-3eef30ed7457",
   "metadata": {
    "execution": {
     "iopub.status.busy": "2024-07-16T04:26:07.659237Z",
     "iopub.status.idle": "2024-07-16T04:26:07.660254Z",
     "shell.execute_reply": "2024-07-16T04:26:07.660254Z",
     "shell.execute_reply.started": "2024-07-16T04:26:07.660254Z"
    }
   },
   "outputs": [],
   "source": [
    "\n",
    "# Confusion Matrix\n",
    "conf_matrix = confusion_matrix(true_labels, simulated_y_pred)\n",
    "print('\\nConfusion Matrix:')\n",
    "print(conf_matrix)\n"
   ]
  },
  {
   "cell_type": "code",
   "execution_count": null,
   "id": "19bbac6e-b6cf-4264-9634-aadf93e15aba",
   "metadata": {
    "execution": {
     "iopub.status.busy": "2024-07-16T04:26:07.663254Z",
     "iopub.status.idle": "2024-07-16T04:26:07.664251Z",
     "shell.execute_reply": "2024-07-16T04:26:07.663254Z",
     "shell.execute_reply.started": "2024-07-16T04:26:07.663254Z"
    }
   },
   "outputs": [],
   "source": [
    "plt.figure(figsize=(8, 6))\n",
    "sns.heatmap(conf_matrix, annot=True, cmap=\"YlGnBu\", fmt=\"d\")\n",
    "plt.xlabel('Predicted')\n",
    "plt.ylabel('Actual')\n",
    "plt.title('Confusion Matrix Heatmap')\n",
    "plt.show()"
   ]
  },
  {
   "cell_type": "code",
   "execution_count": null,
   "id": "4bd5ace1-a432-490f-8d02-29ed003d8934",
   "metadata": {
    "collapsed": true,
    "jupyter": {
     "outputs_hidden": true
    }
   },
   "outputs": [],
   "source": []
  }
 ],
 "metadata": {
  "kernelspec": {
   "display_name": "Python 3 (ipykernel)",
   "language": "python",
   "name": "python3"
  },
  "language_info": {
   "codemirror_mode": {
    "name": "ipython",
    "version": 3
   },
   "file_extension": ".py",
   "mimetype": "text/x-python",
   "name": "python",
   "nbconvert_exporter": "python",
   "pygments_lexer": "ipython3",
   "version": "3.11.5"
  }
 },
 "nbformat": 4,
 "nbformat_minor": 5
}
