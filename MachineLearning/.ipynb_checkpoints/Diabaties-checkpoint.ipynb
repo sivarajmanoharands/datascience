{
 "cells": [
  {
   "cell_type": "code",
   "execution_count": 116,
   "id": "4c7ad6f9-eb99-4ff7-9172-4ce888dac6c0",
   "metadata": {
    "execution": {
     "iopub.execute_input": "2024-07-11T07:01:25.437281Z",
     "iopub.status.busy": "2024-07-11T07:01:25.435745Z",
     "iopub.status.idle": "2024-07-11T07:01:25.447686Z",
     "shell.execute_reply": "2024-07-11T07:01:25.445670Z",
     "shell.execute_reply.started": "2024-07-11T07:01:25.437281Z"
    }
   },
   "outputs": [],
   "source": [
    "import csv\n",
    "import math\n",
    "import random"
   ]
  },
  {
   "cell_type": "code",
   "execution_count": 117,
   "id": "d2fa9bd9-3b48-4ebe-9d4f-e8d2a8b0cfed",
   "metadata": {
    "execution": {
     "iopub.execute_input": "2024-07-11T07:01:25.454314Z",
     "iopub.status.busy": "2024-07-11T07:01:25.453314Z",
     "iopub.status.idle": "2024-07-11T07:01:25.468999Z",
     "shell.execute_reply": "2024-07-11T07:01:25.465571Z",
     "shell.execute_reply.started": "2024-07-11T07:01:25.454314Z"
    }
   },
   "outputs": [],
   "source": [
    "def load_csv(filename):\n",
    "    lines = csv.reader(open(r'diabetes.csv'))\n",
    "    diabatiesdf = list(lines)\n",
    "    diabatiesdf = diabatiesdf[1:]  # Removing the header from the dataset\n",
    "    for i in range(len(diabatiesdf)):\n",
    "        diabatiesdf[i]=[float(x) for x in diabatiesdf[i]]\n",
    "    return diabatiesdf"
   ]
  },
  {
   "cell_type": "code",
   "execution_count": 118,
   "id": "3eb46491-978c-4775-a323-0f7e9fe79acf",
   "metadata": {
    "execution": {
     "iopub.execute_input": "2024-07-11T07:01:25.474083Z",
     "iopub.status.busy": "2024-07-11T07:01:25.472067Z",
     "iopub.status.idle": "2024-07-11T07:01:25.484681Z",
     "shell.execute_reply": "2024-07-11T07:01:25.482120Z",
     "shell.execute_reply.started": "2024-07-11T07:01:25.473081Z"
    }
   },
   "outputs": [],
   "source": [
    "def splitDataset(dataset,splitRatio):\n",
    "    trainSize = int(len(dataset) * splitRatio)\n",
    "    trainSet = []\n",
    "    copy = list(dataset)\n",
    "    while len(trainSet) < trainSize:\n",
    "        index = random.randrange(len(copy))\n",
    "        trainSet.append(copy.pop(index))\n",
    "    return [trainSet,copy]"
   ]
  },
  {
   "cell_type": "code",
   "execution_count": 136,
   "id": "68cb0d24-96ca-455d-a648-dd1feab7f8e0",
   "metadata": {
    "execution": {
     "iopub.execute_input": "2024-07-11T07:02:31.504175Z",
     "iopub.status.busy": "2024-07-11T07:02:31.503174Z",
     "iopub.status.idle": "2024-07-11T07:02:31.518921Z",
     "shell.execute_reply": "2024-07-11T07:02:31.516375Z",
     "shell.execute_reply.started": "2024-07-11T07:02:31.504175Z"
    }
   },
   "outputs": [],
   "source": [
    "def seperateByClass(dataset):\n",
    "    seperated = {}\n",
    "    for i in range(len(dataset)):\n",
    "        vector = dataset[i]\n",
    "        if (vector[-1] not in seperated):\n",
    "            seperated[vector[-1]]=[]\n",
    "        seperated[vector[-1]].append(vector)\n",
    "    return seperated\n",
    "        "
   ]
  },
  {
   "cell_type": "code",
   "execution_count": 120,
   "id": "09ad6025-70a8-4a36-afc9-19db878b9f5c",
   "metadata": {
    "execution": {
     "iopub.execute_input": "2024-07-11T07:01:25.509722Z",
     "iopub.status.busy": "2024-07-11T07:01:25.508724Z",
     "iopub.status.idle": "2024-07-11T07:01:25.523036Z",
     "shell.execute_reply": "2024-07-11T07:01:25.520482Z",
     "shell.execute_reply.started": "2024-07-11T07:01:25.509722Z"
    }
   },
   "outputs": [],
   "source": [
    "def mean(numbers):\n",
    "    return sum(numbers)/float(len(numbers))\n",
    "    "
   ]
  },
  {
   "cell_type": "code",
   "execution_count": 144,
   "id": "64e44f16-ce11-44b6-be10-8afa18dff667",
   "metadata": {
    "execution": {
     "iopub.execute_input": "2024-07-11T07:05:24.516639Z",
     "iopub.status.busy": "2024-07-11T07:05:24.515624Z",
     "iopub.status.idle": "2024-07-11T07:05:24.530297Z",
     "shell.execute_reply": "2024-07-11T07:05:24.528243Z",
     "shell.execute_reply.started": "2024-07-11T07:05:24.516639Z"
    }
   },
   "outputs": [],
   "source": [
    "def stdev(numbers):\n",
    "    avg = mean(numbers)\n",
    "    variance = sum([pow(x-avg,2) for x in numbers])/float(len(numbers)-1)\n",
    "    return math.sqrt(variance)\n",
    "    "
   ]
  },
  {
   "cell_type": "code",
   "execution_count": 122,
   "id": "f59e57db-2551-4adc-b84d-88c973d19cc7",
   "metadata": {
    "execution": {
     "iopub.execute_input": "2024-07-11T07:01:25.545757Z",
     "iopub.status.busy": "2024-07-11T07:01:25.544246Z",
     "iopub.status.idle": "2024-07-11T07:01:25.559989Z",
     "shell.execute_reply": "2024-07-11T07:01:25.557974Z",
     "shell.execute_reply.started": "2024-07-11T07:01:25.545757Z"
    }
   },
   "outputs": [],
   "source": [
    "def summarize(dataset):\n",
    "    summaries = [(mean(attribute),stdev(attribute)) for attribute in zip(*dataset)]\n",
    "    del summaries[-1]\n",
    "    return summaries"
   ]
  },
  {
   "cell_type": "code",
   "execution_count": 140,
   "id": "e5fc8bfc-42f7-4b1c-a2ef-3d197a4b997c",
   "metadata": {
    "execution": {
     "iopub.execute_input": "2024-07-11T07:04:22.484041Z",
     "iopub.status.busy": "2024-07-11T07:04:22.481513Z",
     "iopub.status.idle": "2024-07-11T07:04:22.504489Z",
     "shell.execute_reply": "2024-07-11T07:04:22.500925Z",
     "shell.execute_reply.started": "2024-07-11T07:04:22.484041Z"
    }
   },
   "outputs": [],
   "source": [
    "def summarizeByClass(dataset):\n",
    "    seperated = seperateByClass(dataset)\n",
    "    summaries = {}\n",
    "    for classValue,instances in seperated.items():\n",
    "        summaries[classValue] = summarize(instances)\n",
    "        return summaries"
   ]
  },
  {
   "cell_type": "code",
   "execution_count": 124,
   "id": "5ed2a79a-46fd-4115-b98a-26861c7fe844",
   "metadata": {
    "execution": {
     "iopub.execute_input": "2024-07-11T07:01:25.581956Z",
     "iopub.status.busy": "2024-07-11T07:01:25.581956Z",
     "iopub.status.idle": "2024-07-11T07:01:25.596606Z",
     "shell.execute_reply": "2024-07-11T07:01:25.594058Z",
     "shell.execute_reply.started": "2024-07-11T07:01:25.581956Z"
    }
   },
   "outputs": [],
   "source": [
    "def calculateProbability(x,mean,stdev):\n",
    "    exponent = math.exp(-(math.pow(x-mean,2)/(2*math.pow(stdev,2))))\n",
    "    return (1/(math.sqrt(2*math.pi)*stdev))*exponent"
   ]
  },
  {
   "cell_type": "code",
   "execution_count": 154,
   "id": "9a50b540-1865-4d4a-8293-52a80deaec50",
   "metadata": {
    "execution": {
     "iopub.execute_input": "2024-07-11T07:06:44.678451Z",
     "iopub.status.busy": "2024-07-11T07:06:44.676936Z",
     "iopub.status.idle": "2024-07-11T07:06:44.694762Z",
     "shell.execute_reply": "2024-07-11T07:06:44.691752Z",
     "shell.execute_reply.started": "2024-07-11T07:06:44.678451Z"
    }
   },
   "outputs": [],
   "source": [
    "def calculateClassProbabilities(summaries,inputVector):\n",
    "    probabilities = {}\n",
    "    for classValue,classSummaries in summaries.items():\n",
    "        probabilities[classValue] = 1\n",
    "        for i in range(len(classSummaries)):\n",
    "            mean,stdev = classSummaries[i]\n",
    "            x = inputVector[i]\n",
    "            probabilities[classValue] *= calculateProbability(x,mean,stdev)\n",
    "        return probabilities"
   ]
  },
  {
   "cell_type": "code",
   "execution_count": 160,
   "id": "5b5971a6-73a0-46ec-b629-1feb33885f4f",
   "metadata": {
    "execution": {
     "iopub.execute_input": "2024-07-11T07:08:02.743978Z",
     "iopub.status.busy": "2024-07-11T07:08:02.742960Z",
     "iopub.status.idle": "2024-07-11T07:08:02.756800Z",
     "shell.execute_reply": "2024-07-11T07:08:02.753785Z",
     "shell.execute_reply.started": "2024-07-11T07:08:02.743978Z"
    }
   },
   "outputs": [],
   "source": [
    "def predict(summaries , inputVector):\n",
    "    probabilities = calculateClassProbabilities(summaries,inputVector)\n",
    "    bestLabel , bestProb = None, -1\n",
    "    for classValue,probability in probabilities.items():\n",
    "        if bestLabel is None or probability > bestProb:\n",
    "            bestProb = probability\n",
    "            bestLabel = classValue\n",
    "    return bestLabel"
   ]
  },
  {
   "cell_type": "code",
   "execution_count": 164,
   "id": "83ec9baf-9ce1-4032-adf4-122c68b1e2d8",
   "metadata": {
    "execution": {
     "iopub.execute_input": "2024-07-11T07:08:26.964006Z",
     "iopub.status.busy": "2024-07-11T07:08:26.962496Z",
     "iopub.status.idle": "2024-07-11T07:08:26.977104Z",
     "shell.execute_reply": "2024-07-11T07:08:26.974574Z",
     "shell.execute_reply.started": "2024-07-11T07:08:26.964006Z"
    }
   },
   "outputs": [],
   "source": [
    "def getPerdictions(summaries,testSet):\n",
    "    predictions = []\n",
    "    for i in range(len(testSet)):\n",
    "        result = predict(summaries,testSet[i])\n",
    "        predictions.append(result)\n",
    "    return predictions"
   ]
  },
  {
   "cell_type": "code",
   "execution_count": 168,
   "id": "162cda2d-d68a-4f6b-a236-c010bf612338",
   "metadata": {
    "execution": {
     "iopub.execute_input": "2024-07-11T07:08:42.255234Z",
     "iopub.status.busy": "2024-07-11T07:08:42.255234Z",
     "iopub.status.idle": "2024-07-11T07:08:42.267335Z",
     "shell.execute_reply": "2024-07-11T07:08:42.264319Z",
     "shell.execute_reply.started": "2024-07-11T07:08:42.255234Z"
    }
   },
   "outputs": [],
   "source": [
    "def getAccuracy(testSet,perdictions):\n",
    "    correct = 0\n",
    "    for x in range(len(testSet)):\n",
    "        if testSet[x][-1] == perdictions[x]:\n",
    "            correct += 1\n",
    "    return (correct/float(len(testSet)))*100.0"
   ]
  },
  {
   "cell_type": "code",
   "execution_count": 182,
   "id": "19c8d97a-f5ba-4fb3-9606-c06cbc3b6dc1",
   "metadata": {
    "execution": {
     "iopub.execute_input": "2024-07-11T07:09:57.922610Z",
     "iopub.status.busy": "2024-07-11T07:09:57.921609Z",
     "iopub.status.idle": "2024-07-11T07:09:57.983552Z",
     "shell.execute_reply": "2024-07-11T07:09:57.979970Z",
     "shell.execute_reply.started": "2024-07-11T07:09:57.922610Z"
    }
   },
   "outputs": [
    {
     "name": "stdout",
     "output_type": "stream",
     "text": [
      "split 768 rows into train = 506 and test = 262 rows\n",
      "Accuracy: 64.8854961832061%\n"
     ]
    }
   ],
   "source": [
    "def main():\n",
    "    filename = 'diabetes.csv'\n",
    "    splitRatio = 0.66\n",
    "    dataset = load_csv(filename)\n",
    "    trainingSet,testSet = splitDataset(dataset,splitRatio)\n",
    "    print('split {0} rows into train = {1} and test = {2} rows'.format(len(dataset),len(trainingSet),len(testSet)))\n",
    "    #prepare model\n",
    "    summaries = summarizeByClass(trainingSet)\n",
    "    #test model\n",
    "    predictions = getPerdictions(summaries,testSet)\n",
    "    accuracy = getAccuracy(testSet,predictions)\n",
    "    print('Accuracy: {0}%'.format(accuracy))\n",
    "\n",
    "main()    \n"
   ]
  },
  {
   "cell_type": "markdown",
   "id": "8e56b923-b8ec-4961-ac18-7366c3b0f4dd",
   "metadata": {},
   "source": [
    "# SciKit-Learn Naive Bayes"
   ]
  },
  {
   "cell_type": "code",
   "execution_count": 188,
   "id": "a6e26e7d-1acf-4cd9-a2e0-a0b782476ae4",
   "metadata": {
    "execution": {
     "iopub.execute_input": "2024-07-11T07:12:19.398413Z",
     "iopub.status.busy": "2024-07-11T07:12:19.398413Z",
     "iopub.status.idle": "2024-07-11T07:12:19.422645Z",
     "shell.execute_reply": "2024-07-11T07:12:19.420098Z",
     "shell.execute_reply.started": "2024-07-11T07:12:19.398413Z"
    }
   },
   "outputs": [],
   "source": [
    "from sklearn import datasets\n",
    "from sklearn import metrics\n",
    "from sklearn.naive_bayes import GaussianNB"
   ]
  },
  {
   "cell_type": "code",
   "execution_count": 192,
   "id": "ec436a33-8202-4f05-a19e-9e31c556215a",
   "metadata": {
    "execution": {
     "iopub.execute_input": "2024-07-11T07:12:54.822645Z",
     "iopub.status.busy": "2024-07-11T07:12:54.822127Z",
     "iopub.status.idle": "2024-07-11T07:12:54.873953Z",
     "shell.execute_reply": "2024-07-11T07:12:54.870367Z",
     "shell.execute_reply.started": "2024-07-11T07:12:54.822645Z"
    }
   },
   "outputs": [],
   "source": [
    "dataset = datasets.load_iris()"
   ]
  },
  {
   "cell_type": "code",
   "execution_count": 194,
   "id": "15ca95ad-4f8d-4faf-b6c4-17741459df2d",
   "metadata": {
    "execution": {
     "iopub.execute_input": "2024-07-11T07:13:21.786435Z",
     "iopub.status.busy": "2024-07-11T07:13:21.785434Z",
     "iopub.status.idle": "2024-07-11T07:13:21.833949Z",
     "shell.execute_reply": "2024-07-11T07:13:21.831934Z",
     "shell.execute_reply.started": "2024-07-11T07:13:21.786435Z"
    }
   },
   "outputs": [
    {
     "data": {
      "text/html": [
       "<style>#sk-container-id-1 {\n",
       "  /* Definition of color scheme common for light and dark mode */\n",
       "  --sklearn-color-text: black;\n",
       "  --sklearn-color-line: gray;\n",
       "  /* Definition of color scheme for unfitted estimators */\n",
       "  --sklearn-color-unfitted-level-0: #fff5e6;\n",
       "  --sklearn-color-unfitted-level-1: #f6e4d2;\n",
       "  --sklearn-color-unfitted-level-2: #ffe0b3;\n",
       "  --sklearn-color-unfitted-level-3: chocolate;\n",
       "  /* Definition of color scheme for fitted estimators */\n",
       "  --sklearn-color-fitted-level-0: #f0f8ff;\n",
       "  --sklearn-color-fitted-level-1: #d4ebff;\n",
       "  --sklearn-color-fitted-level-2: #b3dbfd;\n",
       "  --sklearn-color-fitted-level-3: cornflowerblue;\n",
       "\n",
       "  /* Specific color for light theme */\n",
       "  --sklearn-color-text-on-default-background: var(--sg-text-color, var(--theme-code-foreground, var(--jp-content-font-color1, black)));\n",
       "  --sklearn-color-background: var(--sg-background-color, var(--theme-background, var(--jp-layout-color0, white)));\n",
       "  --sklearn-color-border-box: var(--sg-text-color, var(--theme-code-foreground, var(--jp-content-font-color1, black)));\n",
       "  --sklearn-color-icon: #696969;\n",
       "\n",
       "  @media (prefers-color-scheme: dark) {\n",
       "    /* Redefinition of color scheme for dark theme */\n",
       "    --sklearn-color-text-on-default-background: var(--sg-text-color, var(--theme-code-foreground, var(--jp-content-font-color1, white)));\n",
       "    --sklearn-color-background: var(--sg-background-color, var(--theme-background, var(--jp-layout-color0, #111)));\n",
       "    --sklearn-color-border-box: var(--sg-text-color, var(--theme-code-foreground, var(--jp-content-font-color1, white)));\n",
       "    --sklearn-color-icon: #878787;\n",
       "  }\n",
       "}\n",
       "\n",
       "#sk-container-id-1 {\n",
       "  color: var(--sklearn-color-text);\n",
       "}\n",
       "\n",
       "#sk-container-id-1 pre {\n",
       "  padding: 0;\n",
       "}\n",
       "\n",
       "#sk-container-id-1 input.sk-hidden--visually {\n",
       "  border: 0;\n",
       "  clip: rect(1px 1px 1px 1px);\n",
       "  clip: rect(1px, 1px, 1px, 1px);\n",
       "  height: 1px;\n",
       "  margin: -1px;\n",
       "  overflow: hidden;\n",
       "  padding: 0;\n",
       "  position: absolute;\n",
       "  width: 1px;\n",
       "}\n",
       "\n",
       "#sk-container-id-1 div.sk-dashed-wrapped {\n",
       "  border: 1px dashed var(--sklearn-color-line);\n",
       "  margin: 0 0.4em 0.5em 0.4em;\n",
       "  box-sizing: border-box;\n",
       "  padding-bottom: 0.4em;\n",
       "  background-color: var(--sklearn-color-background);\n",
       "}\n",
       "\n",
       "#sk-container-id-1 div.sk-container {\n",
       "  /* jupyter's `normalize.less` sets `[hidden] { display: none; }`\n",
       "     but bootstrap.min.css set `[hidden] { display: none !important; }`\n",
       "     so we also need the `!important` here to be able to override the\n",
       "     default hidden behavior on the sphinx rendered scikit-learn.org.\n",
       "     See: https://github.com/scikit-learn/scikit-learn/issues/21755 */\n",
       "  display: inline-block !important;\n",
       "  position: relative;\n",
       "}\n",
       "\n",
       "#sk-container-id-1 div.sk-text-repr-fallback {\n",
       "  display: none;\n",
       "}\n",
       "\n",
       "div.sk-parallel-item,\n",
       "div.sk-serial,\n",
       "div.sk-item {\n",
       "  /* draw centered vertical line to link estimators */\n",
       "  background-image: linear-gradient(var(--sklearn-color-text-on-default-background), var(--sklearn-color-text-on-default-background));\n",
       "  background-size: 2px 100%;\n",
       "  background-repeat: no-repeat;\n",
       "  background-position: center center;\n",
       "}\n",
       "\n",
       "/* Parallel-specific style estimator block */\n",
       "\n",
       "#sk-container-id-1 div.sk-parallel-item::after {\n",
       "  content: \"\";\n",
       "  width: 100%;\n",
       "  border-bottom: 2px solid var(--sklearn-color-text-on-default-background);\n",
       "  flex-grow: 1;\n",
       "}\n",
       "\n",
       "#sk-container-id-1 div.sk-parallel {\n",
       "  display: flex;\n",
       "  align-items: stretch;\n",
       "  justify-content: center;\n",
       "  background-color: var(--sklearn-color-background);\n",
       "  position: relative;\n",
       "}\n",
       "\n",
       "#sk-container-id-1 div.sk-parallel-item {\n",
       "  display: flex;\n",
       "  flex-direction: column;\n",
       "}\n",
       "\n",
       "#sk-container-id-1 div.sk-parallel-item:first-child::after {\n",
       "  align-self: flex-end;\n",
       "  width: 50%;\n",
       "}\n",
       "\n",
       "#sk-container-id-1 div.sk-parallel-item:last-child::after {\n",
       "  align-self: flex-start;\n",
       "  width: 50%;\n",
       "}\n",
       "\n",
       "#sk-container-id-1 div.sk-parallel-item:only-child::after {\n",
       "  width: 0;\n",
       "}\n",
       "\n",
       "/* Serial-specific style estimator block */\n",
       "\n",
       "#sk-container-id-1 div.sk-serial {\n",
       "  display: flex;\n",
       "  flex-direction: column;\n",
       "  align-items: center;\n",
       "  background-color: var(--sklearn-color-background);\n",
       "  padding-right: 1em;\n",
       "  padding-left: 1em;\n",
       "}\n",
       "\n",
       "\n",
       "/* Toggleable style: style used for estimator/Pipeline/ColumnTransformer box that is\n",
       "clickable and can be expanded/collapsed.\n",
       "- Pipeline and ColumnTransformer use this feature and define the default style\n",
       "- Estimators will overwrite some part of the style using the `sk-estimator` class\n",
       "*/\n",
       "\n",
       "/* Pipeline and ColumnTransformer style (default) */\n",
       "\n",
       "#sk-container-id-1 div.sk-toggleable {\n",
       "  /* Default theme specific background. It is overwritten whether we have a\n",
       "  specific estimator or a Pipeline/ColumnTransformer */\n",
       "  background-color: var(--sklearn-color-background);\n",
       "}\n",
       "\n",
       "/* Toggleable label */\n",
       "#sk-container-id-1 label.sk-toggleable__label {\n",
       "  cursor: pointer;\n",
       "  display: block;\n",
       "  width: 100%;\n",
       "  margin-bottom: 0;\n",
       "  padding: 0.5em;\n",
       "  box-sizing: border-box;\n",
       "  text-align: center;\n",
       "}\n",
       "\n",
       "#sk-container-id-1 label.sk-toggleable__label-arrow:before {\n",
       "  /* Arrow on the left of the label */\n",
       "  content: \"▸\";\n",
       "  float: left;\n",
       "  margin-right: 0.25em;\n",
       "  color: var(--sklearn-color-icon);\n",
       "}\n",
       "\n",
       "#sk-container-id-1 label.sk-toggleable__label-arrow:hover:before {\n",
       "  color: var(--sklearn-color-text);\n",
       "}\n",
       "\n",
       "/* Toggleable content - dropdown */\n",
       "\n",
       "#sk-container-id-1 div.sk-toggleable__content {\n",
       "  max-height: 0;\n",
       "  max-width: 0;\n",
       "  overflow: hidden;\n",
       "  text-align: left;\n",
       "  /* unfitted */\n",
       "  background-color: var(--sklearn-color-unfitted-level-0);\n",
       "}\n",
       "\n",
       "#sk-container-id-1 div.sk-toggleable__content.fitted {\n",
       "  /* fitted */\n",
       "  background-color: var(--sklearn-color-fitted-level-0);\n",
       "}\n",
       "\n",
       "#sk-container-id-1 div.sk-toggleable__content pre {\n",
       "  margin: 0.2em;\n",
       "  border-radius: 0.25em;\n",
       "  color: var(--sklearn-color-text);\n",
       "  /* unfitted */\n",
       "  background-color: var(--sklearn-color-unfitted-level-0);\n",
       "}\n",
       "\n",
       "#sk-container-id-1 div.sk-toggleable__content.fitted pre {\n",
       "  /* unfitted */\n",
       "  background-color: var(--sklearn-color-fitted-level-0);\n",
       "}\n",
       "\n",
       "#sk-container-id-1 input.sk-toggleable__control:checked~div.sk-toggleable__content {\n",
       "  /* Expand drop-down */\n",
       "  max-height: 200px;\n",
       "  max-width: 100%;\n",
       "  overflow: auto;\n",
       "}\n",
       "\n",
       "#sk-container-id-1 input.sk-toggleable__control:checked~label.sk-toggleable__label-arrow:before {\n",
       "  content: \"▾\";\n",
       "}\n",
       "\n",
       "/* Pipeline/ColumnTransformer-specific style */\n",
       "\n",
       "#sk-container-id-1 div.sk-label input.sk-toggleable__control:checked~label.sk-toggleable__label {\n",
       "  color: var(--sklearn-color-text);\n",
       "  background-color: var(--sklearn-color-unfitted-level-2);\n",
       "}\n",
       "\n",
       "#sk-container-id-1 div.sk-label.fitted input.sk-toggleable__control:checked~label.sk-toggleable__label {\n",
       "  background-color: var(--sklearn-color-fitted-level-2);\n",
       "}\n",
       "\n",
       "/* Estimator-specific style */\n",
       "\n",
       "/* Colorize estimator box */\n",
       "#sk-container-id-1 div.sk-estimator input.sk-toggleable__control:checked~label.sk-toggleable__label {\n",
       "  /* unfitted */\n",
       "  background-color: var(--sklearn-color-unfitted-level-2);\n",
       "}\n",
       "\n",
       "#sk-container-id-1 div.sk-estimator.fitted input.sk-toggleable__control:checked~label.sk-toggleable__label {\n",
       "  /* fitted */\n",
       "  background-color: var(--sklearn-color-fitted-level-2);\n",
       "}\n",
       "\n",
       "#sk-container-id-1 div.sk-label label.sk-toggleable__label,\n",
       "#sk-container-id-1 div.sk-label label {\n",
       "  /* The background is the default theme color */\n",
       "  color: var(--sklearn-color-text-on-default-background);\n",
       "}\n",
       "\n",
       "/* On hover, darken the color of the background */\n",
       "#sk-container-id-1 div.sk-label:hover label.sk-toggleable__label {\n",
       "  color: var(--sklearn-color-text);\n",
       "  background-color: var(--sklearn-color-unfitted-level-2);\n",
       "}\n",
       "\n",
       "/* Label box, darken color on hover, fitted */\n",
       "#sk-container-id-1 div.sk-label.fitted:hover label.sk-toggleable__label.fitted {\n",
       "  color: var(--sklearn-color-text);\n",
       "  background-color: var(--sklearn-color-fitted-level-2);\n",
       "}\n",
       "\n",
       "/* Estimator label */\n",
       "\n",
       "#sk-container-id-1 div.sk-label label {\n",
       "  font-family: monospace;\n",
       "  font-weight: bold;\n",
       "  display: inline-block;\n",
       "  line-height: 1.2em;\n",
       "}\n",
       "\n",
       "#sk-container-id-1 div.sk-label-container {\n",
       "  text-align: center;\n",
       "}\n",
       "\n",
       "/* Estimator-specific */\n",
       "#sk-container-id-1 div.sk-estimator {\n",
       "  font-family: monospace;\n",
       "  border: 1px dotted var(--sklearn-color-border-box);\n",
       "  border-radius: 0.25em;\n",
       "  box-sizing: border-box;\n",
       "  margin-bottom: 0.5em;\n",
       "  /* unfitted */\n",
       "  background-color: var(--sklearn-color-unfitted-level-0);\n",
       "}\n",
       "\n",
       "#sk-container-id-1 div.sk-estimator.fitted {\n",
       "  /* fitted */\n",
       "  background-color: var(--sklearn-color-fitted-level-0);\n",
       "}\n",
       "\n",
       "/* on hover */\n",
       "#sk-container-id-1 div.sk-estimator:hover {\n",
       "  /* unfitted */\n",
       "  background-color: var(--sklearn-color-unfitted-level-2);\n",
       "}\n",
       "\n",
       "#sk-container-id-1 div.sk-estimator.fitted:hover {\n",
       "  /* fitted */\n",
       "  background-color: var(--sklearn-color-fitted-level-2);\n",
       "}\n",
       "\n",
       "/* Specification for estimator info (e.g. \"i\" and \"?\") */\n",
       "\n",
       "/* Common style for \"i\" and \"?\" */\n",
       "\n",
       ".sk-estimator-doc-link,\n",
       "a:link.sk-estimator-doc-link,\n",
       "a:visited.sk-estimator-doc-link {\n",
       "  float: right;\n",
       "  font-size: smaller;\n",
       "  line-height: 1em;\n",
       "  font-family: monospace;\n",
       "  background-color: var(--sklearn-color-background);\n",
       "  border-radius: 1em;\n",
       "  height: 1em;\n",
       "  width: 1em;\n",
       "  text-decoration: none !important;\n",
       "  margin-left: 1ex;\n",
       "  /* unfitted */\n",
       "  border: var(--sklearn-color-unfitted-level-1) 1pt solid;\n",
       "  color: var(--sklearn-color-unfitted-level-1);\n",
       "}\n",
       "\n",
       ".sk-estimator-doc-link.fitted,\n",
       "a:link.sk-estimator-doc-link.fitted,\n",
       "a:visited.sk-estimator-doc-link.fitted {\n",
       "  /* fitted */\n",
       "  border: var(--sklearn-color-fitted-level-1) 1pt solid;\n",
       "  color: var(--sklearn-color-fitted-level-1);\n",
       "}\n",
       "\n",
       "/* On hover */\n",
       "div.sk-estimator:hover .sk-estimator-doc-link:hover,\n",
       ".sk-estimator-doc-link:hover,\n",
       "div.sk-label-container:hover .sk-estimator-doc-link:hover,\n",
       ".sk-estimator-doc-link:hover {\n",
       "  /* unfitted */\n",
       "  background-color: var(--sklearn-color-unfitted-level-3);\n",
       "  color: var(--sklearn-color-background);\n",
       "  text-decoration: none;\n",
       "}\n",
       "\n",
       "div.sk-estimator.fitted:hover .sk-estimator-doc-link.fitted:hover,\n",
       ".sk-estimator-doc-link.fitted:hover,\n",
       "div.sk-label-container:hover .sk-estimator-doc-link.fitted:hover,\n",
       ".sk-estimator-doc-link.fitted:hover {\n",
       "  /* fitted */\n",
       "  background-color: var(--sklearn-color-fitted-level-3);\n",
       "  color: var(--sklearn-color-background);\n",
       "  text-decoration: none;\n",
       "}\n",
       "\n",
       "/* Span, style for the box shown on hovering the info icon */\n",
       ".sk-estimator-doc-link span {\n",
       "  display: none;\n",
       "  z-index: 9999;\n",
       "  position: relative;\n",
       "  font-weight: normal;\n",
       "  right: .2ex;\n",
       "  padding: .5ex;\n",
       "  margin: .5ex;\n",
       "  width: min-content;\n",
       "  min-width: 20ex;\n",
       "  max-width: 50ex;\n",
       "  color: var(--sklearn-color-text);\n",
       "  box-shadow: 2pt 2pt 4pt #999;\n",
       "  /* unfitted */\n",
       "  background: var(--sklearn-color-unfitted-level-0);\n",
       "  border: .5pt solid var(--sklearn-color-unfitted-level-3);\n",
       "}\n",
       "\n",
       ".sk-estimator-doc-link.fitted span {\n",
       "  /* fitted */\n",
       "  background: var(--sklearn-color-fitted-level-0);\n",
       "  border: var(--sklearn-color-fitted-level-3);\n",
       "}\n",
       "\n",
       ".sk-estimator-doc-link:hover span {\n",
       "  display: block;\n",
       "}\n",
       "\n",
       "/* \"?\"-specific style due to the `<a>` HTML tag */\n",
       "\n",
       "#sk-container-id-1 a.estimator_doc_link {\n",
       "  float: right;\n",
       "  font-size: 1rem;\n",
       "  line-height: 1em;\n",
       "  font-family: monospace;\n",
       "  background-color: var(--sklearn-color-background);\n",
       "  border-radius: 1rem;\n",
       "  height: 1rem;\n",
       "  width: 1rem;\n",
       "  text-decoration: none;\n",
       "  /* unfitted */\n",
       "  color: var(--sklearn-color-unfitted-level-1);\n",
       "  border: var(--sklearn-color-unfitted-level-1) 1pt solid;\n",
       "}\n",
       "\n",
       "#sk-container-id-1 a.estimator_doc_link.fitted {\n",
       "  /* fitted */\n",
       "  border: var(--sklearn-color-fitted-level-1) 1pt solid;\n",
       "  color: var(--sklearn-color-fitted-level-1);\n",
       "}\n",
       "\n",
       "/* On hover */\n",
       "#sk-container-id-1 a.estimator_doc_link:hover {\n",
       "  /* unfitted */\n",
       "  background-color: var(--sklearn-color-unfitted-level-3);\n",
       "  color: var(--sklearn-color-background);\n",
       "  text-decoration: none;\n",
       "}\n",
       "\n",
       "#sk-container-id-1 a.estimator_doc_link.fitted:hover {\n",
       "  /* fitted */\n",
       "  background-color: var(--sklearn-color-fitted-level-3);\n",
       "}\n",
       "</style><div id=\"sk-container-id-1\" class=\"sk-top-container\"><div class=\"sk-text-repr-fallback\"><pre>GaussianNB()</pre><b>In a Jupyter environment, please rerun this cell to show the HTML representation or trust the notebook. <br />On GitHub, the HTML representation is unable to render, please try loading this page with nbviewer.org.</b></div><div class=\"sk-container\" hidden><div class=\"sk-item\"><div class=\"sk-estimator fitted sk-toggleable\"><input class=\"sk-toggleable__control sk-hidden--visually\" id=\"sk-estimator-id-1\" type=\"checkbox\" checked><label for=\"sk-estimator-id-1\" class=\"sk-toggleable__label fitted sk-toggleable__label-arrow fitted\">&nbsp;&nbsp;GaussianNB<a class=\"sk-estimator-doc-link fitted\" rel=\"noreferrer\" target=\"_blank\" href=\"https://scikit-learn.org/1.4/modules/generated/sklearn.naive_bayes.GaussianNB.html\">?<span>Documentation for GaussianNB</span></a><span class=\"sk-estimator-doc-link fitted\">i<span>Fitted</span></span></label><div class=\"sk-toggleable__content fitted\"><pre>GaussianNB()</pre></div> </div></div></div></div>"
      ],
      "text/plain": [
       "GaussianNB()"
      ]
     },
     "execution_count": 194,
     "metadata": {},
     "output_type": "execute_result"
    }
   ],
   "source": [
    "model = GaussianNB()\n",
    "model.fit(dataset.data,dataset.target)"
   ]
  },
  {
   "cell_type": "code",
   "execution_count": 196,
   "id": "04473e1d-b531-4b7c-bd38-c6c93bd22d42",
   "metadata": {
    "execution": {
     "iopub.execute_input": "2024-07-11T07:13:28.273720Z",
     "iopub.status.busy": "2024-07-11T07:13:28.272720Z",
     "iopub.status.idle": "2024-07-11T07:13:28.287189Z",
     "shell.execute_reply": "2024-07-11T07:13:28.283624Z",
     "shell.execute_reply.started": "2024-07-11T07:13:28.273720Z"
    }
   },
   "outputs": [
    {
     "name": "stdout",
     "output_type": "stream",
     "text": [
      "GaussianNB()\n"
     ]
    }
   ],
   "source": [
    "print(model)"
   ]
  },
  {
   "cell_type": "code",
   "execution_count": 198,
   "id": "484f0d2b-954b-4b9b-b989-085c2cc2d495",
   "metadata": {
    "execution": {
     "iopub.execute_input": "2024-07-11T07:13:58.423734Z",
     "iopub.status.busy": "2024-07-11T07:13:58.422213Z",
     "iopub.status.idle": "2024-07-11T07:13:58.438093Z",
     "shell.execute_reply": "2024-07-11T07:13:58.436139Z",
     "shell.execute_reply.started": "2024-07-11T07:13:58.422213Z"
    }
   },
   "outputs": [],
   "source": [
    "expected = dataset.target\n",
    "predicted = model.predict(dataset.data)"
   ]
  },
  {
   "cell_type": "code",
   "execution_count": 202,
   "id": "ec32e6e9-79e7-479f-8ab8-a81e30f11828",
   "metadata": {
    "execution": {
     "iopub.execute_input": "2024-07-11T07:15:19.983318Z",
     "iopub.status.busy": "2024-07-11T07:15:19.981801Z",
     "iopub.status.idle": "2024-07-11T07:15:20.036392Z",
     "shell.execute_reply": "2024-07-11T07:15:20.033850Z",
     "shell.execute_reply.started": "2024-07-11T07:15:19.983318Z"
    }
   },
   "outputs": [
    {
     "name": "stdout",
     "output_type": "stream",
     "text": [
      "              precision    recall  f1-score   support\n",
      "\n",
      "           0       1.00      1.00      1.00        50\n",
      "           1       0.94      0.94      0.94        50\n",
      "           2       0.94      0.94      0.94        50\n",
      "\n",
      "    accuracy                           0.96       150\n",
      "   macro avg       0.96      0.96      0.96       150\n",
      "weighted avg       0.96      0.96      0.96       150\n",
      "\n",
      "[[50  0  0]\n",
      " [ 0 47  3]\n",
      " [ 0  3 47]]\n"
     ]
    }
   ],
   "source": [
    "print(metrics.classification_report(expected,predicted))\n",
    "print(metrics.confusion_matrix(expected,predicted))"
   ]
  },
  {
   "cell_type": "code",
   "execution_count": 212,
   "id": "aa2a292b-cc3a-41cf-a246-8c2e125437e2",
   "metadata": {
    "execution": {
     "iopub.execute_input": "2024-07-11T07:18:34.245316Z",
     "iopub.status.busy": "2024-07-11T07:18:34.244315Z",
     "iopub.status.idle": "2024-07-11T07:18:35.425242Z",
     "shell.execute_reply": "2024-07-11T07:18:35.423227Z",
     "shell.execute_reply.started": "2024-07-11T07:18:34.245316Z"
    }
   },
   "outputs": [
    {
     "data": {
      "image/png": "[encoded data removed]",
      "text/plain": [
       "<Figure size 800x600 with 2 Axes>"
      ]
     },
     "metadata": {},
     "output_type": "display_data"
    }
   ],
   "source": [
    "import matplotlib.pyplot as plt\n",
    "import seaborn as sns\n",
    "cnf_matrix = metrics.confusion_matrix(expected,predicted)\n",
    "plt.figure(figsize=(8, 6))\n",
    "sns.heatmap(cnf_matrix, annot=True, cmap=\"YlGnBu\", fmt=\"d\")\n",
    "plt.xlabel('Predicted')\n",
    "plt.ylabel('Actual')\n",
    "plt.title('Confusion Matrix Heatmap')\n",
    "plt.show()"
   ]
  },
  {
   "cell_type": "code",
   "execution_count": null,
   "id": "2061ef4c-6829-4aa3-a3b6-0277f1a4d128",
   "metadata": {},
   "outputs": [],
   "source": []
  }
 ],
 "metadata": {
  "kernelspec": {
   "display_name": "Python 3 (ipykernel)",
   "language": "python",
   "name": "python3"
  },
  "language_info": {
   "codemirror_mode": {
    "name": "ipython",
    "version": 3
   },
   "file_extension": ".py",
   "mimetype": "text/x-python",
   "name": "python",
   "nbconvert_exporter": "python",
   "pygments_lexer": "ipython3",
   "version": "3.11.5"
  }
 },
 "nbformat": 4,
 "nbformat_minor": 5
}
