{
 "cells": [
  {
   "cell_type": "code",
   "execution_count": 44,
   "id": "eebbe58d-2649-4505-80ce-420e1bffb95e",
   "metadata": {
    "execution": {
     "iopub.execute_input": "2024-07-16T05:15:19.966360Z",
     "iopub.status.busy": "2024-07-16T05:15:19.965360Z",
     "iopub.status.idle": "2024-07-16T05:15:19.982369Z",
     "shell.execute_reply": "2024-07-16T05:15:19.979827Z",
     "shell.execute_reply.started": "2024-07-16T05:15:19.966360Z"
    }
   },
   "outputs": [],
   "source": [
    "import numpy as np\n",
    "import pandas as pd\n",
    "import tensorflow as tf\n",
    "from tensorflow import keras\n",
    "from tensorflow.keras.models import Model\n",
    "from tensorflow.keras.layers import Input, Dense, Dropout, LayerNormalization, MultiHeadAttention, GlobalAveragePooling1D, Reshape\n",
    "from sklearn.metrics import mean_squared_error, mean_absolute_error, r2_score\n",
    "from sklearn.model_selection import train_test_split\n",
    "from sklearn.preprocessing import StandardScaler\n",
    "import matplotlib.pyplot as plt"
   ]
  },
  {
   "cell_type": "code",
   "execution_count": 45,
   "id": "4d0f2eef-045e-4896-a4dd-35b8d5c2b913",
   "metadata": {
    "execution": {
     "iopub.execute_input": "2024-07-16T05:15:19.986370Z",
     "iopub.status.busy": "2024-07-16T05:15:19.986370Z",
     "iopub.status.idle": "2024-07-16T05:15:20.015752Z",
     "shell.execute_reply": "2024-07-16T05:15:20.013739Z",
     "shell.execute_reply.started": "2024-07-16T05:15:19.986370Z"
    }
   },
   "outputs": [],
   "source": [
    "\n",
    "# Load the dataset\n",
    "file_path = 'dataset_final.csv'\n",
    "data = pd.read_csv(file_path)"
   ]
  },
  {
   "cell_type": "code",
   "execution_count": 71,
   "id": "c87d3192-b1f1-4a42-85f3-6d6dfbb4fde1",
   "metadata": {
    "execution": {
     "iopub.execute_input": "2024-07-16T05:17:37.393756Z",
     "iopub.status.busy": "2024-07-16T05:17:37.391753Z",
     "iopub.status.idle": "2024-07-16T05:17:37.422121Z",
     "shell.execute_reply": "2024-07-16T05:17:37.420101Z",
     "shell.execute_reply.started": "2024-07-16T05:17:37.393756Z"
    }
   },
   "outputs": [
    {
     "data": {
      "text/html": [
       "<div>\n",
       "<style scoped>\n",
       "    .dataframe tbody tr th:only-of-type {\n",
       "        vertical-align: middle;\n",
       "    }\n",
       "\n",
       "    .dataframe tbody tr th {\n",
       "        vertical-align: top;\n",
       "    }\n",
       "\n",
       "    .dataframe thead th {\n",
       "        text-align: right;\n",
       "    }\n",
       "</style>\n",
       "<table border=\"1\" class=\"dataframe\">\n",
       "  <thead>\n",
       "    <tr style=\"text-align: right;\">\n",
       "      <th></th>\n",
       "      <th>Time</th>\n",
       "      <th>Temperature</th>\n",
       "      <th>Humidity</th>\n",
       "      <th>Air Quality</th>\n",
       "      <th>Light</th>\n",
       "      <th>Loudness</th>\n",
       "    </tr>\n",
       "  </thead>\n",
       "  <tbody>\n",
       "    <tr>\n",
       "      <th>0</th>\n",
       "      <td>1623781306</td>\n",
       "      <td>37.94</td>\n",
       "      <td>28.94</td>\n",
       "      <td>75</td>\n",
       "      <td>644</td>\n",
       "      <td>106</td>\n",
       "    </tr>\n",
       "    <tr>\n",
       "      <th>1</th>\n",
       "      <td>1623781316</td>\n",
       "      <td>37.94</td>\n",
       "      <td>29.00</td>\n",
       "      <td>75</td>\n",
       "      <td>645</td>\n",
       "      <td>145</td>\n",
       "    </tr>\n",
       "    <tr>\n",
       "      <th>2</th>\n",
       "      <td>1623781326</td>\n",
       "      <td>37.88</td>\n",
       "      <td>28.88</td>\n",
       "      <td>75</td>\n",
       "      <td>644</td>\n",
       "      <td>146</td>\n",
       "    </tr>\n",
       "    <tr>\n",
       "      <th>3</th>\n",
       "      <td>1623781336</td>\n",
       "      <td>37.72</td>\n",
       "      <td>28.94</td>\n",
       "      <td>75</td>\n",
       "      <td>646</td>\n",
       "      <td>139</td>\n",
       "    </tr>\n",
       "    <tr>\n",
       "      <th>4</th>\n",
       "      <td>1623781346</td>\n",
       "      <td>37.69</td>\n",
       "      <td>29.19</td>\n",
       "      <td>75</td>\n",
       "      <td>644</td>\n",
       "      <td>155</td>\n",
       "    </tr>\n",
       "  </tbody>\n",
       "</table>\n",
       "</div>"
      ],
      "text/plain": [
       "         Time  Temperature  Humidity  Air Quality  Light  Loudness\n",
       "0  1623781306        37.94     28.94           75    644       106\n",
       "1  1623781316        37.94     29.00           75    645       145\n",
       "2  1623781326        37.88     28.88           75    644       146\n",
       "3  1623781336        37.72     28.94           75    646       139\n",
       "4  1623781346        37.69     29.19           75    644       155"
      ]
     },
     "execution_count": 71,
     "metadata": {},
     "output_type": "execute_result"
    }
   ],
   "source": [
    "data.head()"
   ]
  },
  {
   "cell_type": "code",
   "execution_count": 73,
   "id": "b9fede36-a405-4b06-804b-13abab53cdc4",
   "metadata": {
    "execution": {
     "iopub.execute_input": "2024-07-16T05:18:02.482971Z",
     "iopub.status.busy": "2024-07-16T05:18:02.481685Z",
     "iopub.status.idle": "2024-07-16T05:18:02.514161Z",
     "shell.execute_reply": "2024-07-16T05:18:02.511621Z",
     "shell.execute_reply.started": "2024-07-16T05:18:02.482971Z"
    }
   },
   "outputs": [
    {
     "name": "stdout",
     "output_type": "stream",
     "text": [
      "<class 'pandas.core.frame.DataFrame'>\n",
      "RangeIndex: 6558 entries, 0 to 6557\n",
      "Data columns (total 6 columns):\n",
      " #   Column       Non-Null Count  Dtype  \n",
      "---  ------       --------------  -----  \n",
      " 0   Time         6558 non-null   int64  \n",
      " 1   Temperature  6558 non-null   float64\n",
      " 2   Humidity     6558 non-null   float64\n",
      " 3   Air Quality  6558 non-null   int64  \n",
      " 4   Light        6558 non-null   int64  \n",
      " 5   Loudness     6558 non-null   int64  \n",
      "dtypes: float64(2), int64(4)\n",
      "memory usage: 307.5 KB\n"
     ]
    }
   ],
   "source": [
    "data.info()"
   ]
  },
  {
   "cell_type": "code",
   "execution_count": 75,
   "id": "b39f1d66-24d6-4f23-a65e-ab682f92f2ab",
   "metadata": {
    "execution": {
     "iopub.execute_input": "2024-07-16T05:18:14.687190Z",
     "iopub.status.busy": "2024-07-16T05:18:14.685546Z",
     "iopub.status.idle": "2024-07-16T05:18:14.736493Z",
     "shell.execute_reply": "2024-07-16T05:18:14.734972Z",
     "shell.execute_reply.started": "2024-07-16T05:18:14.687058Z"
    }
   },
   "outputs": [
    {
     "data": {
      "text/html": [
       "<div>\n",
       "<style scoped>\n",
       "    .dataframe tbody tr th:only-of-type {\n",
       "        vertical-align: middle;\n",
       "    }\n",
       "\n",
       "    .dataframe tbody tr th {\n",
       "        vertical-align: top;\n",
       "    }\n",
       "\n",
       "    .dataframe thead th {\n",
       "        text-align: right;\n",
       "    }\n",
       "</style>\n",
       "<table border=\"1\" class=\"dataframe\">\n",
       "  <thead>\n",
       "    <tr style=\"text-align: right;\">\n",
       "      <th></th>\n",
       "      <th>Time</th>\n",
       "      <th>Temperature</th>\n",
       "      <th>Humidity</th>\n",
       "      <th>Air Quality</th>\n",
       "      <th>Light</th>\n",
       "      <th>Loudness</th>\n",
       "    </tr>\n",
       "  </thead>\n",
       "  <tbody>\n",
       "    <tr>\n",
       "      <th>count</th>\n",
       "      <td>6.558000e+03</td>\n",
       "      <td>6558.000000</td>\n",
       "      <td>6558.000000</td>\n",
       "      <td>6558.0</td>\n",
       "      <td>6558.000000</td>\n",
       "      <td>6558.000000</td>\n",
       "    </tr>\n",
       "    <tr>\n",
       "      <th>mean</th>\n",
       "      <td>1.623814e+09</td>\n",
       "      <td>27.549703</td>\n",
       "      <td>55.144913</td>\n",
       "      <td>75.0</td>\n",
       "      <td>631.581885</td>\n",
       "      <td>153.990851</td>\n",
       "    </tr>\n",
       "    <tr>\n",
       "      <th>std</th>\n",
       "      <td>1.893276e+04</td>\n",
       "      <td>6.202954</td>\n",
       "      <td>12.115001</td>\n",
       "      <td>0.0</td>\n",
       "      <td>6.857017</td>\n",
       "      <td>30.629140</td>\n",
       "    </tr>\n",
       "    <tr>\n",
       "      <th>min</th>\n",
       "      <td>1.623781e+09</td>\n",
       "      <td>22.190000</td>\n",
       "      <td>1.940000</td>\n",
       "      <td>75.0</td>\n",
       "      <td>625.000000</td>\n",
       "      <td>31.000000</td>\n",
       "    </tr>\n",
       "    <tr>\n",
       "      <th>25%</th>\n",
       "      <td>1.623798e+09</td>\n",
       "      <td>24.090000</td>\n",
       "      <td>53.455000</td>\n",
       "      <td>75.0</td>\n",
       "      <td>627.000000</td>\n",
       "      <td>138.000000</td>\n",
       "    </tr>\n",
       "    <tr>\n",
       "      <th>50%</th>\n",
       "      <td>1.623814e+09</td>\n",
       "      <td>25.000000</td>\n",
       "      <td>60.120000</td>\n",
       "      <td>75.0</td>\n",
       "      <td>629.000000</td>\n",
       "      <td>150.000000</td>\n",
       "    </tr>\n",
       "    <tr>\n",
       "      <th>75%</th>\n",
       "      <td>1.623830e+09</td>\n",
       "      <td>28.250000</td>\n",
       "      <td>63.380000</td>\n",
       "      <td>75.0</td>\n",
       "      <td>633.000000</td>\n",
       "      <td>163.000000</td>\n",
       "    </tr>\n",
       "    <tr>\n",
       "      <th>max</th>\n",
       "      <td>1.623847e+09</td>\n",
       "      <td>72.280000</td>\n",
       "      <td>71.810000</td>\n",
       "      <td>75.0</td>\n",
       "      <td>675.000000</td>\n",
       "      <td>498.000000</td>\n",
       "    </tr>\n",
       "  </tbody>\n",
       "</table>\n",
       "</div>"
      ],
      "text/plain": [
       "               Time  Temperature     Humidity  Air Quality        Light  \\\n",
       "count  6.558000e+03  6558.000000  6558.000000       6558.0  6558.000000   \n",
       "mean   1.623814e+09    27.549703    55.144913         75.0   631.581885   \n",
       "std    1.893276e+04     6.202954    12.115001          0.0     6.857017   \n",
       "min    1.623781e+09    22.190000     1.940000         75.0   625.000000   \n",
       "25%    1.623798e+09    24.090000    53.455000         75.0   627.000000   \n",
       "50%    1.623814e+09    25.000000    60.120000         75.0   629.000000   \n",
       "75%    1.623830e+09    28.250000    63.380000         75.0   633.000000   \n",
       "max    1.623847e+09    72.280000    71.810000         75.0   675.000000   \n",
       "\n",
       "          Loudness  \n",
       "count  6558.000000  \n",
       "mean    153.990851  \n",
       "std      30.629140  \n",
       "min      31.000000  \n",
       "25%     138.000000  \n",
       "50%     150.000000  \n",
       "75%     163.000000  \n",
       "max     498.000000  "
      ]
     },
     "execution_count": 75,
     "metadata": {},
     "output_type": "execute_result"
    }
   ],
   "source": [
    "data.describe()"
   ]
  },
  {
   "cell_type": "code",
   "execution_count": 46,
   "id": "9db8ac9e-e5c2-40af-bf3c-ceb0dba6977e",
   "metadata": {
    "execution": {
     "iopub.execute_input": "2024-07-16T05:15:20.018753Z",
     "iopub.status.busy": "2024-07-16T05:15:20.017754Z",
     "iopub.status.idle": "2024-07-16T05:15:20.033125Z",
     "shell.execute_reply": "2024-07-16T05:15:20.031110Z",
     "shell.execute_reply.started": "2024-07-16T05:15:20.018753Z"
    }
   },
   "outputs": [
    {
     "name": "stdout",
     "output_type": "stream",
     "text": [
      "Time           0\n",
      "Temperature    0\n",
      "Humidity       0\n",
      "Air Quality    0\n",
      "Light          0\n",
      "Loudness       0\n",
      "dtype: int64\n"
     ]
    }
   ],
   "source": [
    "# Check for missing values\n",
    "print(data.isnull().sum())\n"
   ]
  },
  {
   "cell_type": "code",
   "execution_count": 47,
   "id": "895428d8-5a6d-48b9-83d0-022f56264b19",
   "metadata": {
    "execution": {
     "iopub.execute_input": "2024-07-16T05:15:20.036565Z",
     "iopub.status.busy": "2024-07-16T05:15:20.035575Z",
     "iopub.status.idle": "2024-07-16T05:15:20.047843Z",
     "shell.execute_reply": "2024-07-16T05:15:20.045828Z",
     "shell.execute_reply.started": "2024-07-16T05:15:20.036565Z"
    }
   },
   "outputs": [],
   "source": [
    "# Fill or drop missing values if any\n",
    "# For this example, let's assume there are no missing values\n",
    "\n",
    "# Split the dataset into features and target\n",
    "X = data.drop(columns=['Temperature']).values\n",
    "y = data['Temperature'].values\n"
   ]
  },
  {
   "cell_type": "code",
   "execution_count": 48,
   "id": "674d81b2-6d8e-40e9-8896-c4e93a2eacfe",
   "metadata": {
    "execution": {
     "iopub.execute_input": "2024-07-16T05:15:20.053839Z",
     "iopub.status.busy": "2024-07-16T05:15:20.053839Z",
     "iopub.status.idle": "2024-07-16T05:15:20.068889Z",
     "shell.execute_reply": "2024-07-16T05:15:20.066042Z",
     "shell.execute_reply.started": "2024-07-16T05:15:20.053839Z"
    }
   },
   "outputs": [],
   "source": [
    "# Split the data into training and test sets\n",
    "X_train, X_test, y_train, y_test = train_test_split(X, y, test_size=0.2, random_state=42)\n"
   ]
  },
  {
   "cell_type": "code",
   "execution_count": 49,
   "id": "239e4879-8072-450c-95db-e09d090e608f",
   "metadata": {
    "execution": {
     "iopub.execute_input": "2024-07-16T05:15:20.072907Z",
     "iopub.status.busy": "2024-07-16T05:15:20.070892Z",
     "iopub.status.idle": "2024-07-16T05:15:20.087420Z",
     "shell.execute_reply": "2024-07-16T05:15:20.084899Z",
     "shell.execute_reply.started": "2024-07-16T05:15:20.072907Z"
    }
   },
   "outputs": [],
   "source": [
    "# Normalize the data\n",
    "scaler = StandardScaler()\n",
    "X_train = scaler.fit_transform(X_train)\n",
    "X_test = scaler.transform(X_test)\n"
   ]
  },
  {
   "cell_type": "code",
   "execution_count": 50,
   "id": "c1e6c34a-6e49-469d-9ff1-fbfe17370cc4",
   "metadata": {
    "execution": {
     "iopub.execute_input": "2024-07-16T05:15:20.090440Z",
     "iopub.status.busy": "2024-07-16T05:15:20.089431Z",
     "iopub.status.idle": "2024-07-16T05:15:20.105340Z",
     "shell.execute_reply": "2024-07-16T05:15:20.103329Z",
     "shell.execute_reply.started": "2024-07-16T05:15:20.090440Z"
    }
   },
   "outputs": [],
   "source": [
    "# Define the MLP and Transformer model\n",
    "def create_model(input_shape):\n",
    "    inputs = Input(shape=input_shape)\n",
    "\n",
    "    # MLP part\n",
    "    x = Dense(128, activation='relu')(inputs)\n",
    "    x = Dropout(0.2)(x)\n",
    "    x = Dense(64, activation='relu')(x)\n",
    "    x = Dropout(0.2)(x)\n",
    "\n",
    "    # Reshape for transformer input\n",
    "    x = Reshape((x.shape[1], 1))(x)\n",
    "\n",
    "    # Transformer part\n",
    "    transformer_layer = MultiHeadAttention(num_heads=4, key_dim=2)\n",
    "    x = LayerNormalization(epsilon=1e-6)(x)\n",
    "    x = transformer_layer(x, x)\n",
    "    x = GlobalAveragePooling1D()(x)\n",
    "\n",
    "    # Output layer\n",
    "    outputs = Dense(1)(x)\n",
    "\n",
    "    model = Model(inputs, outputs)\n",
    "    return model\n"
   ]
  },
  {
   "cell_type": "code",
   "execution_count": 51,
   "id": "e4aab649-e47a-4990-babf-fe294468524b",
   "metadata": {
    "execution": {
     "iopub.execute_input": "2024-07-16T05:15:20.108667Z",
     "iopub.status.busy": "2024-07-16T05:15:20.107851Z",
     "iopub.status.idle": "2024-07-16T05:15:20.284997Z",
     "shell.execute_reply": "2024-07-16T05:15:20.282984Z",
     "shell.execute_reply.started": "2024-07-16T05:15:20.108667Z"
    }
   },
   "outputs": [],
   "source": [
    "# Create and compile the model\n",
    "input_shape = (X_train.shape[1],)\n",
    "model = create_model(input_shape)\n",
    "model.compile(optimizer='adam', loss='mean_squared_error')"
   ]
  },
  {
   "cell_type": "code",
   "execution_count": 52,
   "id": "af50abdc-1a7e-4ff9-aae5-68ee65236a8b",
   "metadata": {
    "execution": {
     "iopub.execute_input": "2024-07-16T05:15:20.290522Z",
     "iopub.status.busy": "2024-07-16T05:15:20.288524Z",
     "iopub.status.idle": "2024-07-16T05:17:00.204879Z",
     "shell.execute_reply": "2024-07-16T05:17:00.201865Z",
     "shell.execute_reply.started": "2024-07-16T05:15:20.289524Z"
    }
   },
   "outputs": [
    {
     "name": "stdout",
     "output_type": "stream",
     "text": [
      "Epoch 1/50\n",
      "\u001b[1m132/132\u001b[0m \u001b[32m━━━━━━━━━━━━━━━━━━━━\u001b[0m\u001b[37m\u001b[0m \u001b[1m9s\u001b[0m 17ms/step - loss: 783.1755 - val_loss: 723.9023\n",
      "Epoch 2/50\n",
      "\u001b[1m132/132\u001b[0m \u001b[32m━━━━━━━━━━━━━━━━━━━━\u001b[0m\u001b[37m\u001b[0m \u001b[1m2s\u001b[0m 12ms/step - loss: 661.8795 - val_loss: 487.6686\n",
      "Epoch 3/50\n",
      "\u001b[1m132/132\u001b[0m \u001b[32m━━━━━━━━━━━━━━━━━━━━\u001b[0m\u001b[37m\u001b[0m \u001b[1m2s\u001b[0m 13ms/step - loss: 392.2802 - val_loss: 174.1367\n",
      "Epoch 4/50\n",
      "\u001b[1m132/132\u001b[0m \u001b[32m━━━━━━━━━━━━━━━━━━━━\u001b[0m\u001b[37m\u001b[0m \u001b[1m2s\u001b[0m 13ms/step - loss: 116.9809 - val_loss: 47.9583\n",
      "Epoch 5/50\n",
      "\u001b[1m132/132\u001b[0m \u001b[32m━━━━━━━━━━━━━━━━━━━━\u001b[0m\u001b[37m\u001b[0m \u001b[1m2s\u001b[0m 12ms/step - loss: 38.7258 - val_loss: 39.8198\n",
      "Epoch 6/50\n",
      "\u001b[1m132/132\u001b[0m \u001b[32m━━━━━━━━━━━━━━━━━━━━\u001b[0m\u001b[37m\u001b[0m \u001b[1m2s\u001b[0m 16ms/step - loss: 37.4855 - val_loss: 39.7194\n",
      "Epoch 7/50\n",
      "\u001b[1m132/132\u001b[0m \u001b[32m━━━━━━━━━━━━━━━━━━━━\u001b[0m\u001b[37m\u001b[0m \u001b[1m2s\u001b[0m 12ms/step - loss: 37.6200 - val_loss: 39.6864\n",
      "Epoch 8/50\n",
      "\u001b[1m132/132\u001b[0m \u001b[32m━━━━━━━━━━━━━━━━━━━━\u001b[0m\u001b[37m\u001b[0m \u001b[1m2s\u001b[0m 13ms/step - loss: 37.1398 - val_loss: 39.7119\n",
      "Epoch 9/50\n",
      "\u001b[1m132/132\u001b[0m \u001b[32m━━━━━━━━━━━━━━━━━━━━\u001b[0m\u001b[37m\u001b[0m \u001b[1m2s\u001b[0m 14ms/step - loss: 38.7670 - val_loss: 39.6734\n",
      "Epoch 10/50\n",
      "\u001b[1m132/132\u001b[0m \u001b[32m━━━━━━━━━━━━━━━━━━━━\u001b[0m\u001b[37m\u001b[0m \u001b[1m2s\u001b[0m 12ms/step - loss: 38.0641 - val_loss: 39.6936\n",
      "Epoch 11/50\n",
      "\u001b[1m132/132\u001b[0m \u001b[32m━━━━━━━━━━━━━━━━━━━━\u001b[0m\u001b[37m\u001b[0m \u001b[1m2s\u001b[0m 13ms/step - loss: 38.4017 - val_loss: 39.7193\n",
      "Epoch 12/50\n",
      "\u001b[1m132/132\u001b[0m \u001b[32m━━━━━━━━━━━━━━━━━━━━\u001b[0m\u001b[37m\u001b[0m \u001b[1m2s\u001b[0m 13ms/step - loss: 37.2674 - val_loss: 39.7702\n",
      "Epoch 13/50\n",
      "\u001b[1m132/132\u001b[0m \u001b[32m━━━━━━━━━━━━━━━━━━━━\u001b[0m\u001b[37m\u001b[0m \u001b[1m2s\u001b[0m 12ms/step - loss: 36.7787 - val_loss: 39.7265\n",
      "Epoch 14/50\n",
      "\u001b[1m132/132\u001b[0m \u001b[32m━━━━━━━━━━━━━━━━━━━━\u001b[0m\u001b[37m\u001b[0m \u001b[1m2s\u001b[0m 12ms/step - loss: 35.5182 - val_loss: 39.7380\n",
      "Epoch 15/50\n",
      "\u001b[1m132/132\u001b[0m \u001b[32m━━━━━━━━━━━━━━━━━━━━\u001b[0m\u001b[37m\u001b[0m \u001b[1m2s\u001b[0m 14ms/step - loss: 39.6584 - val_loss: 39.6559\n",
      "Epoch 16/50\n",
      "\u001b[1m132/132\u001b[0m \u001b[32m━━━━━━━━━━━━━━━━━━━━\u001b[0m\u001b[37m\u001b[0m \u001b[1m2s\u001b[0m 15ms/step - loss: 36.2334 - val_loss: 39.7359\n",
      "Epoch 17/50\n",
      "\u001b[1m132/132\u001b[0m \u001b[32m━━━━━━━━━━━━━━━━━━━━\u001b[0m\u001b[37m\u001b[0m \u001b[1m2s\u001b[0m 14ms/step - loss: 39.9690 - val_loss: 39.8775\n",
      "Epoch 18/50\n",
      "\u001b[1m132/132\u001b[0m \u001b[32m━━━━━━━━━━━━━━━━━━━━\u001b[0m\u001b[37m\u001b[0m \u001b[1m2s\u001b[0m 13ms/step - loss: 37.6343 - val_loss: 39.7751\n",
      "Epoch 19/50\n",
      "\u001b[1m132/132\u001b[0m \u001b[32m━━━━━━━━━━━━━━━━━━━━\u001b[0m\u001b[37m\u001b[0m \u001b[1m2s\u001b[0m 15ms/step - loss: 36.4074 - val_loss: 39.6235\n",
      "Epoch 20/50\n",
      "\u001b[1m132/132\u001b[0m \u001b[32m━━━━━━━━━━━━━━━━━━━━\u001b[0m\u001b[37m\u001b[0m \u001b[1m3s\u001b[0m 14ms/step - loss: 37.1086 - val_loss: 39.7750\n",
      "Epoch 21/50\n",
      "\u001b[1m132/132\u001b[0m \u001b[32m━━━━━━━━━━━━━━━━━━━━\u001b[0m\u001b[37m\u001b[0m \u001b[1m2s\u001b[0m 13ms/step - loss: 40.0243 - val_loss: 39.7117\n",
      "Epoch 22/50\n",
      "\u001b[1m132/132\u001b[0m \u001b[32m━━━━━━━━━━━━━━━━━━━━\u001b[0m\u001b[37m\u001b[0m \u001b[1m2s\u001b[0m 13ms/step - loss: 38.3442 - val_loss: 39.8445\n",
      "Epoch 23/50\n",
      "\u001b[1m132/132\u001b[0m \u001b[32m━━━━━━━━━━━━━━━━━━━━\u001b[0m\u001b[37m\u001b[0m \u001b[1m2s\u001b[0m 14ms/step - loss: 38.4203 - val_loss: 39.9581\n",
      "Epoch 24/50\n",
      "\u001b[1m132/132\u001b[0m \u001b[32m━━━━━━━━━━━━━━━━━━━━\u001b[0m\u001b[37m\u001b[0m \u001b[1m2s\u001b[0m 14ms/step - loss: 36.3771 - val_loss: 39.7878\n",
      "Epoch 25/50\n",
      "\u001b[1m132/132\u001b[0m \u001b[32m━━━━━━━━━━━━━━━━━━━━\u001b[0m\u001b[37m\u001b[0m \u001b[1m2s\u001b[0m 13ms/step - loss: 36.8401 - val_loss: 39.6457\n",
      "Epoch 26/50\n",
      "\u001b[1m132/132\u001b[0m \u001b[32m━━━━━━━━━━━━━━━━━━━━\u001b[0m\u001b[37m\u001b[0m \u001b[1m2s\u001b[0m 13ms/step - loss: 36.2458 - val_loss: 39.6410\n",
      "Epoch 27/50\n",
      "\u001b[1m132/132\u001b[0m \u001b[32m━━━━━━━━━━━━━━━━━━━━\u001b[0m\u001b[37m\u001b[0m \u001b[1m2s\u001b[0m 13ms/step - loss: 36.0945 - val_loss: 39.7999\n",
      "Epoch 28/50\n",
      "\u001b[1m132/132\u001b[0m \u001b[32m━━━━━━━━━━━━━━━━━━━━\u001b[0m\u001b[37m\u001b[0m \u001b[1m2s\u001b[0m 13ms/step - loss: 38.2066 - val_loss: 39.9078\n",
      "Epoch 29/50\n",
      "\u001b[1m132/132\u001b[0m \u001b[32m━━━━━━━━━━━━━━━━━━━━\u001b[0m\u001b[37m\u001b[0m \u001b[1m2s\u001b[0m 14ms/step - loss: 37.0946 - val_loss: 39.7312\n",
      "Epoch 30/50\n",
      "\u001b[1m132/132\u001b[0m \u001b[32m━━━━━━━━━━━━━━━━━━━━\u001b[0m\u001b[37m\u001b[0m \u001b[1m2s\u001b[0m 13ms/step - loss: 36.1591 - val_loss: 39.5971\n",
      "Epoch 31/50\n",
      "\u001b[1m132/132\u001b[0m \u001b[32m━━━━━━━━━━━━━━━━━━━━\u001b[0m\u001b[37m\u001b[0m \u001b[1m2s\u001b[0m 13ms/step - loss: 37.7323 - val_loss: 39.7850\n",
      "Epoch 32/50\n",
      "\u001b[1m132/132\u001b[0m \u001b[32m━━━━━━━━━━━━━━━━━━━━\u001b[0m\u001b[37m\u001b[0m \u001b[1m2s\u001b[0m 13ms/step - loss: 38.3367 - val_loss: 39.8736\n",
      "Epoch 33/50\n",
      "\u001b[1m132/132\u001b[0m \u001b[32m━━━━━━━━━━━━━━━━━━━━\u001b[0m\u001b[37m\u001b[0m \u001b[1m2s\u001b[0m 12ms/step - loss: 35.9542 - val_loss: 39.6424\n",
      "Epoch 34/50\n",
      "\u001b[1m132/132\u001b[0m \u001b[32m━━━━━━━━━━━━━━━━━━━━\u001b[0m\u001b[37m\u001b[0m \u001b[1m2s\u001b[0m 14ms/step - loss: 37.1789 - val_loss: 39.6031\n",
      "Epoch 35/50\n",
      "\u001b[1m132/132\u001b[0m \u001b[32m━━━━━━━━━━━━━━━━━━━━\u001b[0m\u001b[37m\u001b[0m \u001b[1m2s\u001b[0m 15ms/step - loss: 37.6872 - val_loss: 39.6854\n",
      "Epoch 36/50\n",
      "\u001b[1m132/132\u001b[0m \u001b[32m━━━━━━━━━━━━━━━━━━━━\u001b[0m\u001b[37m\u001b[0m \u001b[1m2s\u001b[0m 13ms/step - loss: 34.4439 - val_loss: 39.6526\n",
      "Epoch 37/50\n",
      "\u001b[1m132/132\u001b[0m \u001b[32m━━━━━━━━━━━━━━━━━━━━\u001b[0m\u001b[37m\u001b[0m \u001b[1m2s\u001b[0m 13ms/step - loss: 35.9223 - val_loss: 39.6274\n",
      "Epoch 38/50\n",
      "\u001b[1m132/132\u001b[0m \u001b[32m━━━━━━━━━━━━━━━━━━━━\u001b[0m\u001b[37m\u001b[0m \u001b[1m2s\u001b[0m 14ms/step - loss: 39.6058 - val_loss: 39.9916\n",
      "Epoch 39/50\n",
      "\u001b[1m132/132\u001b[0m \u001b[32m━━━━━━━━━━━━━━━━━━━━\u001b[0m\u001b[37m\u001b[0m \u001b[1m2s\u001b[0m 12ms/step - loss: 39.3634 - val_loss: 39.7603\n",
      "Epoch 40/50\n",
      "\u001b[1m132/132\u001b[0m \u001b[32m━━━━━━━━━━━━━━━━━━━━\u001b[0m\u001b[37m\u001b[0m \u001b[1m2s\u001b[0m 12ms/step - loss: 39.6004 - val_loss: 39.8007\n",
      "Epoch 41/50\n",
      "\u001b[1m132/132\u001b[0m \u001b[32m━━━━━━━━━━━━━━━━━━━━\u001b[0m\u001b[37m\u001b[0m \u001b[1m2s\u001b[0m 12ms/step - loss: 38.2281 - val_loss: 39.6406\n",
      "Epoch 42/50\n",
      "\u001b[1m132/132\u001b[0m \u001b[32m━━━━━━━━━━━━━━━━━━━━\u001b[0m\u001b[37m\u001b[0m \u001b[1m2s\u001b[0m 13ms/step - loss: 38.4158 - val_loss: 39.5970\n",
      "Epoch 43/50\n",
      "\u001b[1m132/132\u001b[0m \u001b[32m━━━━━━━━━━━━━━━━━━━━\u001b[0m\u001b[37m\u001b[0m \u001b[1m2s\u001b[0m 13ms/step - loss: 34.6896 - val_loss: 39.6120\n",
      "Epoch 44/50\n",
      "\u001b[1m132/132\u001b[0m \u001b[32m━━━━━━━━━━━━━━━━━━━━\u001b[0m\u001b[37m\u001b[0m \u001b[1m2s\u001b[0m 13ms/step - loss: 37.4599 - val_loss: 39.8911\n",
      "Epoch 45/50\n",
      "\u001b[1m132/132\u001b[0m \u001b[32m━━━━━━━━━━━━━━━━━━━━\u001b[0m\u001b[37m\u001b[0m \u001b[1m2s\u001b[0m 13ms/step - loss: 37.1751 - val_loss: 39.9341\n",
      "Epoch 46/50\n",
      "\u001b[1m132/132\u001b[0m \u001b[32m━━━━━━━━━━━━━━━━━━━━\u001b[0m\u001b[37m\u001b[0m \u001b[1m3s\u001b[0m 14ms/step - loss: 41.0443 - val_loss: 39.8656\n",
      "Epoch 47/50\n",
      "\u001b[1m132/132\u001b[0m \u001b[32m━━━━━━━━━━━━━━━━━━━━\u001b[0m\u001b[37m\u001b[0m \u001b[1m2s\u001b[0m 13ms/step - loss: 38.5962 - val_loss: 39.7969\n",
      "Epoch 48/50\n",
      "\u001b[1m132/132\u001b[0m \u001b[32m━━━━━━━━━━━━━━━━━━━━\u001b[0m\u001b[37m\u001b[0m \u001b[1m2s\u001b[0m 13ms/step - loss: 36.1398 - val_loss: 39.5971\n",
      "Epoch 49/50\n",
      "\u001b[1m132/132\u001b[0m \u001b[32m━━━━━━━━━━━━━━━━━━━━\u001b[0m\u001b[37m\u001b[0m \u001b[1m2s\u001b[0m 13ms/step - loss: 35.4352 - val_loss: 39.6150\n",
      "Epoch 50/50\n",
      "\u001b[1m132/132\u001b[0m \u001b[32m━━━━━━━━━━━━━━━━━━━━\u001b[0m\u001b[37m\u001b[0m \u001b[1m2s\u001b[0m 13ms/step - loss: 38.1308 - val_loss: 39.8402\n"
     ]
    }
   ],
   "source": [
    "\n",
    "# Train the model\n",
    "history = model.fit(X_train, y_train, epochs=10, batch_size=32, validation_split=0.2)\n"
   ]
  },
  {
   "cell_type": "code",
   "execution_count": 53,
   "id": "5bf8d6d1-7b18-4047-b22f-54d4120b60b8",
   "metadata": {
    "execution": {
     "iopub.execute_input": "2024-07-16T05:17:00.209891Z",
     "iopub.status.busy": "2024-07-16T05:17:00.207877Z",
     "iopub.status.idle": "2024-07-16T05:17:01.323496Z",
     "shell.execute_reply": "2024-07-16T05:17:01.320946Z",
     "shell.execute_reply.started": "2024-07-16T05:17:00.209891Z"
    }
   },
   "outputs": [
    {
     "name": "stdout",
     "output_type": "stream",
     "text": [
      "\u001b[1m41/41\u001b[0m \u001b[32m━━━━━━━━━━━━━━━━━━━━\u001b[0m\u001b[37m\u001b[0m \u001b[1m1s\u001b[0m 8ms/step\n"
     ]
    }
   ],
   "source": [
    "# Make predictions\n",
    "y_pred = model.predict(X_test).flatten()\n"
   ]
  },
  {
   "cell_type": "code",
   "execution_count": 54,
   "id": "8d527786-e352-4852-9161-dcf42e9154ec",
   "metadata": {
    "execution": {
     "iopub.execute_input": "2024-07-16T05:17:01.329498Z",
     "iopub.status.busy": "2024-07-16T05:17:01.328519Z",
     "iopub.status.idle": "2024-07-16T05:17:01.350139Z",
     "shell.execute_reply": "2024-07-16T05:17:01.347124Z",
     "shell.execute_reply.started": "2024-07-16T05:17:01.329498Z"
    }
   },
   "outputs": [
    {
     "data": {
      "text/plain": [
       "array([27.291496, 27.291496, 27.291496, ..., 27.291496, 27.291496,\n",
       "       27.291496], dtype=float32)"
      ]
     },
     "execution_count": 54,
     "metadata": {},
     "output_type": "execute_result"
    }
   ],
   "source": [
    "y_pred"
   ]
  },
  {
   "cell_type": "code",
   "execution_count": 55,
   "id": "bed1fed0-e732-4dde-ad3c-3a0e8adf7b07",
   "metadata": {
    "execution": {
     "iopub.execute_input": "2024-07-16T05:17:01.356424Z",
     "iopub.status.busy": "2024-07-16T05:17:01.354654Z",
     "iopub.status.idle": "2024-07-16T05:17:01.383075Z",
     "shell.execute_reply": "2024-07-16T05:17:01.379061Z",
     "shell.execute_reply.started": "2024-07-16T05:17:01.356424Z"
    }
   },
   "outputs": [],
   "source": [
    "# Calculate regression metrics\n",
    "mse = mean_squared_error(y_test, y_pred)\n",
    "mae = mean_absolute_error(y_test, y_pred)\n",
    "r2 = r2_score(y_test, y_pred)"
   ]
  },
  {
   "cell_type": "code",
   "execution_count": 56,
   "id": "eb77fb30-e98a-4382-98a4-975a7985ecda",
   "metadata": {
    "execution": {
     "iopub.execute_input": "2024-07-16T05:17:01.390600Z",
     "iopub.status.busy": "2024-07-16T05:17:01.388603Z",
     "iopub.status.idle": "2024-07-16T05:17:01.405957Z",
     "shell.execute_reply": "2024-07-16T05:17:01.401944Z",
     "shell.execute_reply.started": "2024-07-16T05:17:01.390600Z"
    }
   },
   "outputs": [
    {
     "name": "stdout",
     "output_type": "stream",
     "text": [
      "Mean Squared Error (MSE): 41.567\n",
      "Mean Absolute Error (MAE): 4.261\n",
      "R-squared (R2): -0.003\n"
     ]
    }
   ],
   "source": [
    "print(f\"Mean Squared Error (MSE): {mse:.3f}\")\n",
    "print(f\"Mean Absolute Error (MAE): {mae:.3f}\")\n",
    "print(f\"R-squared (R2): {r2:.3f}\")\n"
   ]
  },
  {
   "cell_type": "code",
   "execution_count": 57,
   "id": "1a35073c-f0bf-4c9a-ba34-6503b10cfe40",
   "metadata": {
    "execution": {
     "iopub.execute_input": "2024-07-16T05:17:01.423589Z",
     "iopub.status.busy": "2024-07-16T05:17:01.419493Z",
     "iopub.status.idle": "2024-07-16T05:17:01.899697Z",
     "shell.execute_reply": "2024-07-16T05:17:01.897310Z",
     "shell.execute_reply.started": "2024-07-16T05:17:01.423589Z"
    }
   },
   "outputs": [
    {
     "data": {
      "image/png": "[encoded data removed]",
      "text/plain": [
       "<Figure size 1000x600 with 1 Axes>"
      ]
     },
     "metadata": {},
     "output_type": "display_data"
    }
   ],
   "source": [
    "# Visualize the true vs predicted values\n",
    "plt.figure(figsize=(10, 6))\n",
    "plt.scatter(y_test, y_pred, alpha=0.6)\n",
    "plt.plot([y_test.min(), y_test.max()], [y_test.min(), y_test.max()], 'r--')\n",
    "plt.xlabel('True Values')\n",
    "plt.ylabel('Predictions')\n",
    "plt.title('True vs Predicted Values')\n",
    "plt.show()"
   ]
  },
  {
   "cell_type": "code",
   "execution_count": 58,
   "id": "f3c60249-d866-44bc-a89d-1bb98f097c1b",
   "metadata": {
    "execution": {
     "iopub.execute_input": "2024-07-16T05:17:01.901698Z",
     "iopub.status.busy": "2024-07-16T05:17:01.901698Z",
     "iopub.status.idle": "2024-07-16T05:17:02.350179Z",
     "shell.execute_reply": "2024-07-16T05:17:02.347626Z",
     "shell.execute_reply.started": "2024-07-16T05:17:01.901698Z"
    }
   },
   "outputs": [
    {
     "data": {
      "image/png": "[encoded data removed]",
      "text/plain": [
       "<Figure size 1000x600 with 1 Axes>"
      ]
     },
     "metadata": {},
     "output_type": "display_data"
    }
   ],
   "source": [
    "# Plot the training history\n",
    "plt.figure(figsize=(10, 6))\n",
    "plt.plot(history.history['loss'], label='Train Loss')\n",
    "plt.plot(history.history['val_loss'], label='Validation Loss')\n",
    "plt.xlabel('Epochs')\n",
    "plt.ylabel('Loss')\n",
    "plt.legend()\n",
    "plt.title('Training History')\n",
    "plt.show()"
   ]
  },
  {
   "cell_type": "code",
   "execution_count": null,
   "id": "f89bd24c-e963-4ebd-b0e8-a21b38a38188",
   "metadata": {},
   "outputs": [],
   "source": []
  }
 ],
 "metadata": {
  "kernelspec": {
   "display_name": "Python 3 (ipykernel)",
   "language": "python",
   "name": "python3"
  },
  "language_info": {
   "codemirror_mode": {
    "name": "ipython",
    "version": 3
   },
   "file_extension": ".py",
   "mimetype": "text/x-python",
   "name": "python",
   "nbconvert_exporter": "python",
   "pygments_lexer": "ipython3",
   "version": "3.11.5"
  }
 },
 "nbformat": 4,
 "nbformat_minor": 5
}
