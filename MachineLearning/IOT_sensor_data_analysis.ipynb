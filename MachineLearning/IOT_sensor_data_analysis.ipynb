{
 "cells": [
  {
   "cell_type": "code",
   "execution_count": 79,
   "id": "eebbe58d-2649-4505-80ce-420e1bffb95e",
   "metadata": {
    "execution": {
     "iopub.execute_input": "2024-07-16T06:35:35.043043Z",
     "iopub.status.busy": "2024-07-16T06:35:35.043043Z",
     "iopub.status.idle": "2024-07-16T06:35:35.058995Z",
     "shell.execute_reply": "2024-07-16T06:35:35.056436Z",
     "shell.execute_reply.started": "2024-07-16T06:35:35.043043Z"
    }
   },
   "outputs": [],
   "source": [
    "import numpy as np\n",
    "import pandas as pd\n",
    "import tensorflow as tf\n",
    "from tensorflow import keras\n",
    "from tensorflow.keras.models import Model\n",
    "from tensorflow.keras.layers import Input, Dense, Dropout, LayerNormalization, MultiHeadAttention, GlobalAveragePooling1D, Reshape\n",
    "from sklearn.metrics import mean_squared_error, mean_absolute_error, r2_score\n",
    "from sklearn.model_selection import train_test_split\n",
    "from sklearn.preprocessing import StandardScaler\n",
    "import matplotlib.pyplot as plt"
   ]
  },
  {
   "cell_type": "code",
   "execution_count": 81,
   "id": "4d0f2eef-045e-4896-a4dd-35b8d5c2b913",
   "metadata": {
    "execution": {
     "iopub.execute_input": "2024-07-16T06:35:35.312265Z",
     "iopub.status.busy": "2024-07-16T06:35:35.311275Z",
     "iopub.status.idle": "2024-07-16T06:35:35.341924Z",
     "shell.execute_reply": "2024-07-16T06:35:35.339908Z",
     "shell.execute_reply.started": "2024-07-16T06:35:35.312265Z"
    }
   },
   "outputs": [],
   "source": [
    "\n",
    "# Load the dataset\n",
    "file_path = 'dataset_final.csv'\n",
    "data = pd.read_csv(file_path)"
   ]
  },
  {
   "cell_type": "code",
   "execution_count": 83,
   "id": "c87d3192-b1f1-4a42-85f3-6d6dfbb4fde1",
   "metadata": {
    "execution": {
     "iopub.execute_input": "2024-07-16T06:35:35.584656Z",
     "iopub.status.busy": "2024-07-16T06:35:35.583653Z",
     "iopub.status.idle": "2024-07-16T06:35:35.614606Z",
     "shell.execute_reply": "2024-07-16T06:35:35.611593Z",
     "shell.execute_reply.started": "2024-07-16T06:35:35.584656Z"
    }
   },
   "outputs": [
    {
     "data": {
      "text/html": [
       "<div>\n",
       "<style scoped>\n",
       "    .dataframe tbody tr th:only-of-type {\n",
       "        vertical-align: middle;\n",
       "    }\n",
       "\n",
       "    .dataframe tbody tr th {\n",
       "        vertical-align: top;\n",
       "    }\n",
       "\n",
       "    .dataframe thead th {\n",
       "        text-align: right;\n",
       "    }\n",
       "</style>\n",
       "<table border=\"1\" class=\"dataframe\">\n",
       "  <thead>\n",
       "    <tr style=\"text-align: right;\">\n",
       "      <th></th>\n",
       "      <th>Time</th>\n",
       "      <th>Temperature</th>\n",
       "      <th>Humidity</th>\n",
       "      <th>Air Quality</th>\n",
       "      <th>Light</th>\n",
       "      <th>Loudness</th>\n",
       "    </tr>\n",
       "  </thead>\n",
       "  <tbody>\n",
       "    <tr>\n",
       "      <th>0</th>\n",
       "      <td>1623781306</td>\n",
       "      <td>37.94</td>\n",
       "      <td>28.94</td>\n",
       "      <td>75</td>\n",
       "      <td>644</td>\n",
       "      <td>106</td>\n",
       "    </tr>\n",
       "    <tr>\n",
       "      <th>1</th>\n",
       "      <td>1623781316</td>\n",
       "      <td>37.94</td>\n",
       "      <td>29.00</td>\n",
       "      <td>75</td>\n",
       "      <td>645</td>\n",
       "      <td>145</td>\n",
       "    </tr>\n",
       "    <tr>\n",
       "      <th>2</th>\n",
       "      <td>1623781326</td>\n",
       "      <td>37.88</td>\n",
       "      <td>28.88</td>\n",
       "      <td>75</td>\n",
       "      <td>644</td>\n",
       "      <td>146</td>\n",
       "    </tr>\n",
       "    <tr>\n",
       "      <th>3</th>\n",
       "      <td>1623781336</td>\n",
       "      <td>37.72</td>\n",
       "      <td>28.94</td>\n",
       "      <td>75</td>\n",
       "      <td>646</td>\n",
       "      <td>139</td>\n",
       "    </tr>\n",
       "    <tr>\n",
       "      <th>4</th>\n",
       "      <td>1623781346</td>\n",
       "      <td>37.69</td>\n",
       "      <td>29.19</td>\n",
       "      <td>75</td>\n",
       "      <td>644</td>\n",
       "      <td>155</td>\n",
       "    </tr>\n",
       "  </tbody>\n",
       "</table>\n",
       "</div>"
      ],
      "text/plain": [
       "         Time  Temperature  Humidity  Air Quality  Light  Loudness\n",
       "0  1623781306        37.94     28.94           75    644       106\n",
       "1  1623781316        37.94     29.00           75    645       145\n",
       "2  1623781326        37.88     28.88           75    644       146\n",
       "3  1623781336        37.72     28.94           75    646       139\n",
       "4  1623781346        37.69     29.19           75    644       155"
      ]
     },
     "execution_count": 83,
     "metadata": {},
     "output_type": "execute_result"
    }
   ],
   "source": [
    "data.head()"
   ]
  },
  {
   "cell_type": "code",
   "execution_count": 85,
   "id": "b9fede36-a405-4b06-804b-13abab53cdc4",
   "metadata": {
    "execution": {
     "iopub.execute_input": "2024-07-16T06:35:35.853830Z",
     "iopub.status.busy": "2024-07-16T06:35:35.852831Z",
     "iopub.status.idle": "2024-07-16T06:35:35.876277Z",
     "shell.execute_reply": "2024-07-16T06:35:35.873264Z",
     "shell.execute_reply.started": "2024-07-16T06:35:35.853830Z"
    }
   },
   "outputs": [
    {
     "name": "stdout",
     "output_type": "stream",
     "text": [
      "<class 'pandas.core.frame.DataFrame'>\n",
      "RangeIndex: 6558 entries, 0 to 6557\n",
      "Data columns (total 6 columns):\n",
      " #   Column       Non-Null Count  Dtype  \n",
      "---  ------       --------------  -----  \n",
      " 0   Time         6558 non-null   int64  \n",
      " 1   Temperature  6558 non-null   float64\n",
      " 2   Humidity     6558 non-null   float64\n",
      " 3   Air Quality  6558 non-null   int64  \n",
      " 4   Light        6558 non-null   int64  \n",
      " 5   Loudness     6558 non-null   int64  \n",
      "dtypes: float64(2), int64(4)\n",
      "memory usage: 307.5 KB\n"
     ]
    }
   ],
   "source": [
    "data.info()"
   ]
  },
  {
   "cell_type": "code",
   "execution_count": 87,
   "id": "b39f1d66-24d6-4f23-a65e-ab682f92f2ab",
   "metadata": {
    "execution": {
     "iopub.execute_input": "2024-07-16T06:35:36.134815Z",
     "iopub.status.busy": "2024-07-16T06:35:36.134183Z",
     "iopub.status.idle": "2024-07-16T06:35:36.197099Z",
     "shell.execute_reply": "2024-07-16T06:35:36.195579Z",
     "shell.execute_reply.started": "2024-07-16T06:35:36.134815Z"
    }
   },
   "outputs": [
    {
     "data": {
      "text/html": [
       "<div>\n",
       "<style scoped>\n",
       "    .dataframe tbody tr th:only-of-type {\n",
       "        vertical-align: middle;\n",
       "    }\n",
       "\n",
       "    .dataframe tbody tr th {\n",
       "        vertical-align: top;\n",
       "    }\n",
       "\n",
       "    .dataframe thead th {\n",
       "        text-align: right;\n",
       "    }\n",
       "</style>\n",
       "<table border=\"1\" class=\"dataframe\">\n",
       "  <thead>\n",
       "    <tr style=\"text-align: right;\">\n",
       "      <th></th>\n",
       "      <th>Time</th>\n",
       "      <th>Temperature</th>\n",
       "      <th>Humidity</th>\n",
       "      <th>Air Quality</th>\n",
       "      <th>Light</th>\n",
       "      <th>Loudness</th>\n",
       "    </tr>\n",
       "  </thead>\n",
       "  <tbody>\n",
       "    <tr>\n",
       "      <th>count</th>\n",
       "      <td>6.558000e+03</td>\n",
       "      <td>6558.000000</td>\n",
       "      <td>6558.000000</td>\n",
       "      <td>6558.0</td>\n",
       "      <td>6558.000000</td>\n",
       "      <td>6558.000000</td>\n",
       "    </tr>\n",
       "    <tr>\n",
       "      <th>mean</th>\n",
       "      <td>1.623814e+09</td>\n",
       "      <td>27.549703</td>\n",
       "      <td>55.144913</td>\n",
       "      <td>75.0</td>\n",
       "      <td>631.581885</td>\n",
       "      <td>153.990851</td>\n",
       "    </tr>\n",
       "    <tr>\n",
       "      <th>std</th>\n",
       "      <td>1.893276e+04</td>\n",
       "      <td>6.202954</td>\n",
       "      <td>12.115001</td>\n",
       "      <td>0.0</td>\n",
       "      <td>6.857017</td>\n",
       "      <td>30.629140</td>\n",
       "    </tr>\n",
       "    <tr>\n",
       "      <th>min</th>\n",
       "      <td>1.623781e+09</td>\n",
       "      <td>22.190000</td>\n",
       "      <td>1.940000</td>\n",
       "      <td>75.0</td>\n",
       "      <td>625.000000</td>\n",
       "      <td>31.000000</td>\n",
       "    </tr>\n",
       "    <tr>\n",
       "      <th>25%</th>\n",
       "      <td>1.623798e+09</td>\n",
       "      <td>24.090000</td>\n",
       "      <td>53.455000</td>\n",
       "      <td>75.0</td>\n",
       "      <td>627.000000</td>\n",
       "      <td>138.000000</td>\n",
       "    </tr>\n",
       "    <tr>\n",
       "      <th>50%</th>\n",
       "      <td>1.623814e+09</td>\n",
       "      <td>25.000000</td>\n",
       "      <td>60.120000</td>\n",
       "      <td>75.0</td>\n",
       "      <td>629.000000</td>\n",
       "      <td>150.000000</td>\n",
       "    </tr>\n",
       "    <tr>\n",
       "      <th>75%</th>\n",
       "      <td>1.623830e+09</td>\n",
       "      <td>28.250000</td>\n",
       "      <td>63.380000</td>\n",
       "      <td>75.0</td>\n",
       "      <td>633.000000</td>\n",
       "      <td>163.000000</td>\n",
       "    </tr>\n",
       "    <tr>\n",
       "      <th>max</th>\n",
       "      <td>1.623847e+09</td>\n",
       "      <td>72.280000</td>\n",
       "      <td>71.810000</td>\n",
       "      <td>75.0</td>\n",
       "      <td>675.000000</td>\n",
       "      <td>498.000000</td>\n",
       "    </tr>\n",
       "  </tbody>\n",
       "</table>\n",
       "</div>"
      ],
      "text/plain": [
       "               Time  Temperature     Humidity  Air Quality        Light  \\\n",
       "count  6.558000e+03  6558.000000  6558.000000       6558.0  6558.000000   \n",
       "mean   1.623814e+09    27.549703    55.144913         75.0   631.581885   \n",
       "std    1.893276e+04     6.202954    12.115001          0.0     6.857017   \n",
       "min    1.623781e+09    22.190000     1.940000         75.0   625.000000   \n",
       "25%    1.623798e+09    24.090000    53.455000         75.0   627.000000   \n",
       "50%    1.623814e+09    25.000000    60.120000         75.0   629.000000   \n",
       "75%    1.623830e+09    28.250000    63.380000         75.0   633.000000   \n",
       "max    1.623847e+09    72.280000    71.810000         75.0   675.000000   \n",
       "\n",
       "          Loudness  \n",
       "count  6558.000000  \n",
       "mean    153.990851  \n",
       "std      30.629140  \n",
       "min      31.000000  \n",
       "25%     138.000000  \n",
       "50%     150.000000  \n",
       "75%     163.000000  \n",
       "max     498.000000  "
      ]
     },
     "execution_count": 87,
     "metadata": {},
     "output_type": "execute_result"
    }
   ],
   "source": [
    "data.describe()"
   ]
  },
  {
   "cell_type": "code",
   "execution_count": 89,
   "id": "9db8ac9e-e5c2-40af-bf3c-ceb0dba6977e",
   "metadata": {
    "execution": {
     "iopub.execute_input": "2024-07-16T06:35:36.989285Z",
     "iopub.status.busy": "2024-07-16T06:35:36.989285Z",
     "iopub.status.idle": "2024-07-16T06:35:37.005388Z",
     "shell.execute_reply": "2024-07-16T06:35:37.003373Z",
     "shell.execute_reply.started": "2024-07-16T06:35:36.989285Z"
    }
   },
   "outputs": [
    {
     "name": "stdout",
     "output_type": "stream",
     "text": [
      "Time           0\n",
      "Temperature    0\n",
      "Humidity       0\n",
      "Air Quality    0\n",
      "Light          0\n",
      "Loudness       0\n",
      "dtype: int64\n"
     ]
    }
   ],
   "source": [
    "# Check for missing values\n",
    "print(data.isnull().sum())\n"
   ]
  },
  {
   "cell_type": "code",
   "execution_count": 91,
   "id": "895428d8-5a6d-48b9-83d0-022f56264b19",
   "metadata": {
    "execution": {
     "iopub.execute_input": "2024-07-16T06:35:37.666585Z",
     "iopub.status.busy": "2024-07-16T06:35:37.664533Z",
     "iopub.status.idle": "2024-07-16T06:35:37.680650Z",
     "shell.execute_reply": "2024-07-16T06:35:37.678115Z",
     "shell.execute_reply.started": "2024-07-16T06:35:37.666585Z"
    }
   },
   "outputs": [],
   "source": [
    "# Fill or drop missing values if any\n",
    "# For this example, let's assume there are no missing values\n",
    "\n",
    "# Split the dataset into features and target\n",
    "X = data.drop(columns=['Temperature']).values\n",
    "y = data['Temperature'].values\n"
   ]
  },
  {
   "cell_type": "code",
   "execution_count": 93,
   "id": "674d81b2-6d8e-40e9-8896-c4e93a2eacfe",
   "metadata": {
    "execution": {
     "iopub.execute_input": "2024-07-16T06:35:38.800554Z",
     "iopub.status.busy": "2024-07-16T06:35:38.799540Z",
     "iopub.status.idle": "2024-07-16T06:35:38.814260Z",
     "shell.execute_reply": "2024-07-16T06:35:38.812247Z",
     "shell.execute_reply.started": "2024-07-16T06:35:38.800554Z"
    }
   },
   "outputs": [],
   "source": [
    "# Split the data into training and test sets\n",
    "X_train, X_test, y_train, y_test = train_test_split(X, y, test_size=0.2, random_state=42)\n"
   ]
  },
  {
   "cell_type": "code",
   "execution_count": 95,
   "id": "239e4879-8072-450c-95db-e09d090e608f",
   "metadata": {
    "execution": {
     "iopub.execute_input": "2024-07-16T06:35:39.381570Z",
     "iopub.status.busy": "2024-07-16T06:35:39.381570Z",
     "iopub.status.idle": "2024-07-16T06:35:39.397187Z",
     "shell.execute_reply": "2024-07-16T06:35:39.395172Z",
     "shell.execute_reply.started": "2024-07-16T06:35:39.381570Z"
    }
   },
   "outputs": [],
   "source": [
    "# Normalize the data\n",
    "scaler = StandardScaler()\n",
    "X_train = scaler.fit_transform(X_train)\n",
    "X_test = scaler.transform(X_test)\n"
   ]
  },
  {
   "cell_type": "code",
   "execution_count": 97,
   "id": "c1e6c34a-6e49-469d-9ff1-fbfe17370cc4",
   "metadata": {
    "execution": {
     "iopub.execute_input": "2024-07-16T06:35:40.506880Z",
     "iopub.status.busy": "2024-07-16T06:35:40.506880Z",
     "iopub.status.idle": "2024-07-16T06:35:40.519267Z",
     "shell.execute_reply": "2024-07-16T06:35:40.517249Z",
     "shell.execute_reply.started": "2024-07-16T06:35:40.506880Z"
    }
   },
   "outputs": [],
   "source": [
    "# Define the MLP and Transformer model\n",
    "def create_model(input_shape):\n",
    "    inputs = Input(shape=input_shape)\n",
    "\n",
    "    # MLP part\n",
    "    x = Dense(128, activation='relu')(inputs)\n",
    "    x = Dropout(0.2)(x)\n",
    "    x = Dense(64, activation='relu')(x)\n",
    "    x = Dropout(0.2)(x)\n",
    "\n",
    "    # Reshape for transformer input\n",
    "    x = Reshape((x.shape[1], 1))(x)\n",
    "\n",
    "    # Transformer part\n",
    "    transformer_layer = MultiHeadAttention(num_heads=4, key_dim=2)\n",
    "    x = LayerNormalization(epsilon=1e-6)(x)\n",
    "    x = transformer_layer(x, x)\n",
    "    x = GlobalAveragePooling1D()(x)\n",
    "\n",
    "    # Output layer\n",
    "    outputs = Dense(1)(x)\n",
    "\n",
    "    model = Model(inputs, outputs)\n",
    "    return model\n"
   ]
  },
  {
   "cell_type": "code",
   "execution_count": 99,
   "id": "e4aab649-e47a-4990-babf-fe294468524b",
   "metadata": {
    "execution": {
     "iopub.execute_input": "2024-07-16T06:35:41.319724Z",
     "iopub.status.busy": "2024-07-16T06:35:41.318710Z",
     "iopub.status.idle": "2024-07-16T06:35:41.493651Z",
     "shell.execute_reply": "2024-07-16T06:35:41.492131Z",
     "shell.execute_reply.started": "2024-07-16T06:35:41.319724Z"
    }
   },
   "outputs": [],
   "source": [
    "# Create and compile the model\n",
    "input_shape = (X_train.shape[1],)\n",
    "model = create_model(input_shape)\n",
    "model.compile(optimizer='adam', loss='mean_squared_error')"
   ]
  },
  {
   "cell_type": "code",
   "execution_count": 103,
   "id": "af50abdc-1a7e-4ff9-aae5-68ee65236a8b",
   "metadata": {
    "execution": {
     "iopub.execute_input": "2024-07-16T06:36:15.336085Z",
     "iopub.status.busy": "2024-07-16T06:36:15.335068Z",
     "iopub.status.idle": "2024-07-16T06:36:32.384061Z",
     "shell.execute_reply": "2024-07-16T06:36:32.381502Z",
     "shell.execute_reply.started": "2024-07-16T06:36:15.336085Z"
    }
   },
   "outputs": [
    {
     "name": "stdout",
     "output_type": "stream",
     "text": [
      "Epoch 1/10\n",
      "\u001b[1m123/123\u001b[0m \u001b[32m━━━━━━━━━━━━━━━━━━━━\u001b[0m\u001b[37m\u001b[0m \u001b[1m2s\u001b[0m 13ms/step - loss: 40.0613 - val_loss: 39.8335\n",
      "Epoch 2/10\n",
      "\u001b[1m123/123\u001b[0m \u001b[32m━━━━━━━━━━━━━━━━━━━━\u001b[0m\u001b[37m\u001b[0m \u001b[1m2s\u001b[0m 12ms/step - loss: 35.7988 - val_loss: 39.6159\n",
      "Epoch 3/10\n",
      "\u001b[1m123/123\u001b[0m \u001b[32m━━━━━━━━━━━━━━━━━━━━\u001b[0m\u001b[37m\u001b[0m \u001b[1m2s\u001b[0m 12ms/step - loss: 39.3178 - val_loss: 39.6708\n",
      "Epoch 4/10\n",
      "\u001b[1m123/123\u001b[0m \u001b[32m━━━━━━━━━━━━━━━━━━━━\u001b[0m\u001b[37m\u001b[0m \u001b[1m2s\u001b[0m 13ms/step - loss: 37.4476 - val_loss: 39.6491\n",
      "Epoch 5/10\n",
      "\u001b[1m123/123\u001b[0m \u001b[32m━━━━━━━━━━━━━━━━━━━━\u001b[0m\u001b[37m\u001b[0m \u001b[1m2s\u001b[0m 13ms/step - loss: 37.4006 - val_loss: 39.6244\n",
      "Epoch 6/10\n",
      "\u001b[1m123/123\u001b[0m \u001b[32m━━━━━━━━━━━━━━━━━━━━\u001b[0m\u001b[37m\u001b[0m \u001b[1m2s\u001b[0m 13ms/step - loss: 37.6197 - val_loss: 39.6910\n",
      "Epoch 7/10\n",
      "\u001b[1m123/123\u001b[0m \u001b[32m━━━━━━━━━━━━━━━━━━━━\u001b[0m\u001b[37m\u001b[0m \u001b[1m2s\u001b[0m 13ms/step - loss: 36.9343 - val_loss: 39.6837\n",
      "Epoch 8/10\n",
      "\u001b[1m123/123\u001b[0m \u001b[32m━━━━━━━━━━━━━━━━━━━━\u001b[0m\u001b[37m\u001b[0m \u001b[1m2s\u001b[0m 13ms/step - loss: 36.3428 - val_loss: 39.6250\n",
      "Epoch 9/10\n",
      "\u001b[1m123/123\u001b[0m \u001b[32m━━━━━━━━━━━━━━━━━━━━\u001b[0m\u001b[37m\u001b[0m \u001b[1m2s\u001b[0m 13ms/step - loss: 35.7732 - val_loss: 39.5718\n",
      "Epoch 10/10\n",
      "\u001b[1m123/123\u001b[0m \u001b[32m━━━━━━━━━━━━━━━━━━━━\u001b[0m\u001b[37m\u001b[0m \u001b[1m2s\u001b[0m 14ms/step - loss: 35.7011 - val_loss: 39.5249\n"
     ]
    }
   ],
   "source": [
    "\n",
    "# Train the model\n",
    "history = model.fit(X_train, y_train, epochs=10, batch_size=32, validation_split=0.25)\n"
   ]
  },
  {
   "cell_type": "code",
   "execution_count": 105,
   "id": "5bf8d6d1-7b18-4047-b22f-54d4120b60b8",
   "metadata": {
    "execution": {
     "iopub.execute_input": "2024-07-16T06:36:36.985389Z",
     "iopub.status.busy": "2024-07-16T06:36:36.983872Z",
     "iopub.status.idle": "2024-07-16T06:36:37.706214Z",
     "shell.execute_reply": "2024-07-16T06:36:37.704196Z",
     "shell.execute_reply.started": "2024-07-16T06:36:36.985389Z"
    }
   },
   "outputs": [
    {
     "name": "stdout",
     "output_type": "stream",
     "text": [
      "\u001b[1m41/41\u001b[0m \u001b[32m━━━━━━━━━━━━━━━━━━━━\u001b[0m\u001b[37m\u001b[0m \u001b[1m1s\u001b[0m 6ms/step\n"
     ]
    }
   ],
   "source": [
    "# Make predictions\n",
    "y_pred = model.predict(X_test).flatten()\n"
   ]
  },
  {
   "cell_type": "code",
   "execution_count": 107,
   "id": "8d527786-e352-4852-9161-dcf42e9154ec",
   "metadata": {
    "execution": {
     "iopub.execute_input": "2024-07-16T06:36:38.187652Z",
     "iopub.status.busy": "2024-07-16T06:36:38.186122Z",
     "iopub.status.idle": "2024-07-16T06:36:38.202168Z",
     "shell.execute_reply": "2024-07-16T06:36:38.200154Z",
     "shell.execute_reply.started": "2024-07-16T06:36:38.187652Z"
    }
   },
   "outputs": [
    {
     "data": {
      "text/plain": [
       "array([27.66057, 27.66057, 27.66057, ..., 27.66057, 27.66057, 27.66057],\n",
       "      dtype=float32)"
      ]
     },
     "execution_count": 107,
     "metadata": {},
     "output_type": "execute_result"
    }
   ],
   "source": [
    "y_pred"
   ]
  },
  {
   "cell_type": "code",
   "execution_count": 109,
   "id": "bed1fed0-e732-4dde-ad3c-3a0e8adf7b07",
   "metadata": {
    "execution": {
     "iopub.execute_input": "2024-07-16T06:36:39.040074Z",
     "iopub.status.busy": "2024-07-16T06:36:39.040074Z",
     "iopub.status.idle": "2024-07-16T06:36:39.058187Z",
     "shell.execute_reply": "2024-07-16T06:36:39.055623Z",
     "shell.execute_reply.started": "2024-07-16T06:36:39.040074Z"
    }
   },
   "outputs": [],
   "source": [
    "# Calculate regression metrics\n",
    "mse = mean_squared_error(y_test, y_pred)\n",
    "mae = mean_absolute_error(y_test, y_pred)\n",
    "r2 = r2_score(y_test, y_pred)"
   ]
  },
  {
   "cell_type": "code",
   "execution_count": 111,
   "id": "eb77fb30-e98a-4382-98a4-975a7985ecda",
   "metadata": {
    "execution": {
     "iopub.execute_input": "2024-07-16T06:36:39.810117Z",
     "iopub.status.busy": "2024-07-16T06:36:39.808608Z",
     "iopub.status.idle": "2024-07-16T06:36:39.822546Z",
     "shell.execute_reply": "2024-07-16T06:36:39.820534Z",
     "shell.execute_reply.started": "2024-07-16T06:36:39.810117Z"
    }
   },
   "outputs": [
    {
     "name": "stdout",
     "output_type": "stream",
     "text": [
      "Mean Squared Error (MSE): 41.425\n",
      "Mean Absolute Error (MAE): 4.409\n",
      "R-squared (R2): -0.000\n"
     ]
    }
   ],
   "source": [
    "print(f\"Mean Squared Error (MSE): {mse:.3f}\")\n",
    "print(f\"Mean Absolute Error (MAE): {mae:.3f}\")\n",
    "print(f\"R-squared (R2): {r2:.3f}\")\n"
   ]
  },
  {
   "cell_type": "code",
   "execution_count": 113,
   "id": "1a35073c-f0bf-4c9a-ba34-6503b10cfe40",
   "metadata": {
    "execution": {
     "iopub.execute_input": "2024-07-16T06:36:41.094299Z",
     "iopub.status.busy": "2024-07-16T06:36:41.093267Z",
     "iopub.status.idle": "2024-07-16T06:36:41.654223Z",
     "shell.execute_reply": "2024-07-16T06:36:41.652213Z",
     "shell.execute_reply.started": "2024-07-16T06:36:41.094299Z"
    }
   },
   "outputs": [
    {
     "data": {
      "image/png": "[encoded data removed]",
      "text/plain": [
       "<Figure size 1000x600 with 1 Axes>"
      ]
     },
     "metadata": {},
     "output_type": "display_data"
    }
   ],
   "source": [
    "# Visualize the true vs predicted values\n",
    "plt.figure(figsize=(10, 6))\n",
    "plt.scatter(y_test, y_pred, alpha=0.6)\n",
    "plt.plot([y_test.min(), y_test.max()], [y_test.min(), y_test.max()], 'r--')\n",
    "plt.xlabel('True Values')\n",
    "plt.ylabel('Predictions')\n",
    "plt.title('True vs Predicted Values')\n",
    "plt.show()"
   ]
  },
  {
   "cell_type": "code",
   "execution_count": 115,
   "id": "f3c60249-d866-44bc-a89d-1bb98f097c1b",
   "metadata": {
    "execution": {
     "iopub.execute_input": "2024-07-16T06:36:47.381633Z",
     "iopub.status.busy": "2024-07-16T06:36:47.381633Z",
     "iopub.status.idle": "2024-07-16T06:36:47.897538Z",
     "shell.execute_reply": "2024-07-16T06:36:47.895111Z",
     "shell.execute_reply.started": "2024-07-16T06:36:47.381633Z"
    }
   },
   "outputs": [
    {
     "data": {
      "image/png": "[encoded data removed]",
      "text/plain": [
       "<Figure size 1000x600 with 1 Axes>"
      ]
     },
     "metadata": {},
     "output_type": "display_data"
    }
   ],
   "source": [
    "# Plot the training history\n",
    "plt.figure(figsize=(10, 6))\n",
    "plt.plot(history.history['loss'], label='Train Loss')\n",
    "plt.plot(history.history['val_loss'], label='Validation Loss')\n",
    "plt.xlabel('Epochs')\n",
    "plt.ylabel('Loss')\n",
    "plt.legend()\n",
    "plt.title('Training History')\n",
    "plt.show()"
   ]
  },
  {
   "cell_type": "code",
   "execution_count": 117,
   "id": "f89bd24c-e963-4ebd-b0e8-a21b38a38188",
   "metadata": {
    "execution": {
     "iopub.execute_input": "2024-07-16T06:37:17.201549Z",
     "iopub.status.busy": "2024-07-16T06:37:17.200525Z",
     "iopub.status.idle": "2024-07-16T06:37:17.213738Z",
     "shell.execute_reply": "2024-07-16T06:37:17.211726Z",
     "shell.execute_reply.started": "2024-07-16T06:37:17.201549Z"
    }
   },
   "outputs": [],
   "source": [
    "import numpy as np\n",
    "from sklearn.model_selection import train_test_split\n",
    "from sklearn.metrics import mean_squared_error, mean_absolute_error, r2_score\n",
    "from hyperopt import hp, fmin, tpe, Trials\n"
   ]
  },
  {
   "cell_type": "code",
   "execution_count": 119,
   "id": "46690a37-8cae-49bc-9a97-2d2be8885b85",
   "metadata": {
    "execution": {
     "iopub.execute_input": "2024-07-16T06:37:20.302833Z",
     "iopub.status.busy": "2024-07-16T06:37:20.301817Z",
     "iopub.status.idle": "2024-07-16T06:37:20.315508Z",
     "shell.execute_reply": "2024-07-16T06:37:20.313413Z",
     "shell.execute_reply.started": "2024-07-16T06:37:20.301817Z"
    }
   },
   "outputs": [],
   "source": [
    "# Define the search space for hyperparameters\n",
    "space = {\n",
    "    'learning_rate': hp.loguniform('learning_rate', -5, 0),\n",
    "    'batch_size': hp.quniform('batch_size', 16, 128, 16),\n",
    "    'epochs': hp.quniform('epochs', 10, 50, 10),\n",
    "    'dropout_rate': hp.uniform('dropout_rate', 0, 0.5),\n",
    "    'optimizer': hp.choice('optimizer', ['adam', 'sgd', 'rmsprop'])\n",
    "}"
   ]
  },
  {
   "cell_type": "code",
   "execution_count": 54,
   "id": "e29b0125-3a22-4c46-b382-34ba88f99724",
   "metadata": {
    "execution": {
     "iopub.execute_input": "2024-07-16T06:25:14.127195Z",
     "iopub.status.busy": "2024-07-16T06:25:14.113671Z",
     "iopub.status.idle": "2024-07-16T06:25:14.148176Z",
     "shell.execute_reply": "2024-07-16T06:25:14.146161Z",
     "shell.execute_reply.started": "2024-07-16T06:25:14.127195Z"
    }
   },
   "outputs": [],
   "source": [
    "from keras.models import Sequential\n",
    "from keras.layers import Dense\n",
    "\n",
    "class MLP:\n",
    "    def __init__(self, hidden_layers, dropout_rate):\n",
    "        self.hidden_layers = hidden_layers\n",
    "        self.dropout_rate = dropout_rate\n",
    "\n",
    "    def build_model(self, input_shape):\n",
    "        model = Sequential()\n",
    "        for neurons in self.hidden_layers:\n",
    "            model.add(Dense(neurons, activation='relu', input_shape=input_shape))\n",
    "            model.add(Dropout(self.dropout_rate))\n",
    "        model.add(Dense(1))  # output layer\n",
    "        model.compile(optimizer='adam', loss='mean_squared_error')\n",
    "        return model"
   ]
  },
  {
   "cell_type": "code",
   "execution_count": 55,
   "id": "dabea2a8-9ab8-42f7-933a-8b37c79c5a65",
   "metadata": {
    "execution": {
     "iopub.execute_input": "2024-07-16T06:25:14.152700Z",
     "iopub.status.busy": "2024-07-16T06:25:14.151686Z",
     "iopub.status.idle": "2024-07-16T06:25:14.203814Z",
     "shell.execute_reply": "2024-07-16T06:25:14.200848Z",
     "shell.execute_reply.started": "2024-07-16T06:25:14.152700Z"
    }
   },
   "outputs": [],
   "source": [
    "import tensorflow.keras as keras\n",
    "class CNN:\n",
    "    def __init__(self, filters=[32, 64, 64], dense_units=128):\n",
    "        super(CNNAutoencoder, self).__init__()\n",
    "        self.encoder = keras.Sequential([\n",
    "            keras.layers.Conv2D(filters[0], (3, 3), activation='relu', input_shape=(28, 28, 1)),\n",
    "            keras.layers.MaxPooling2D((2, 2)),\n",
    "            keras.layers.Conv2D(filters[1], (3, 3), activation='relu'),\n",
    "            keras.layers.MaxPooling2D((2, 2)),\n",
    "            keras.layers.Conv2D(filters[2], (3, 3), activation='relu')\n",
    "        ])\n",
    "        self.flatten = keras.layers.Flatten()\n",
    "        self.dense1 = keras.layers.Dense(dense_units, activation='relu')\n",
    "        self.dense2 = keras.layers.Dense(7 * 7 * filters[-1], activation='relu')\n",
    "        self.reshape = keras.layers.Reshape((7, 7, filters[-1]))\n",
    "        self.decoder = keras.Sequential([\n",
    "            keras.layers.Conv2DTranspose(filters[-1], (3, 3), strides=2, padding='same', activation='relu'),\n",
    "            keras.layers.Conv2DTranspose(filters[0], (3, 3), strides=2, padding='same', activation='relu'),\n",
    "            keras.layers.Conv2D(1, (3, 3), activation='sigmoid', padding='same')\n",
    "        ])\n",
    "\n",
    "    def call(self, inputs):\n",
    "        x = self.encoder(inputs)\n",
    "        x = self.flatten(x)\n",
    "        x = self.dense1(x)\n",
    "        x = self.dense2(x)\n",
    "        x = self.reshape(x)\n",
    "        return self.decoder(x)"
   ]
  },
  {
   "cell_type": "code",
   "execution_count": 56,
   "id": "907f44a6-cbf0-4281-b923-7f520e91f345",
   "metadata": {
    "execution": {
     "iopub.execute_input": "2024-07-16T06:25:14.209400Z",
     "iopub.status.busy": "2024-07-16T06:25:14.208357Z",
     "iopub.status.idle": "2024-07-16T06:25:14.237350Z",
     "shell.execute_reply": "2024-07-16T06:25:14.235336Z",
     "shell.execute_reply.started": "2024-07-16T06:25:14.209400Z"
    }
   },
   "outputs": [],
   "source": [
    "class RNN:\n",
    "    def __init__(self, units, num_classes):\n",
    "        super(SimpleRNN, self).__init__()\n",
    "        self.units = units\n",
    "        self.embedding = keras.layers.Embedding(input_dim=num_classes, output_dim=units)\n",
    "        self.rnn = keras.layers.SimpleRNN(units=self.units, return_sequences=False)\n",
    "        self.fc = keras.layers.Dense(num_classes, activation='softmax')\n",
    "\n",
    "    def call(self, inputs):\n",
    "        x = self.embedding(inputs)\n",
    "        x = self.rnn(x)\n",
    "        return self.fc(x)"
   ]
  },
  {
   "cell_type": "code",
   "execution_count": 57,
   "id": "7a18d7b4-3fe0-4592-b228-ea0d477af5e2",
   "metadata": {
    "execution": {
     "iopub.execute_input": "2024-07-16T06:25:14.243460Z",
     "iopub.status.busy": "2024-07-16T06:25:14.241887Z",
     "iopub.status.idle": "2024-07-16T06:25:14.324342Z",
     "shell.execute_reply": "2024-07-16T06:25:14.318792Z",
     "shell.execute_reply.started": "2024-07-16T06:25:14.243460Z"
    }
   },
   "outputs": [],
   "source": [
    "import tensorflow as tf\n",
    "from tensorflow.keras.layers import Layer, Dense, Dropout, LayerNormalization, MultiHeadAttention\n",
    "\n",
    "class MultiHeadSelfAttention(Layer):\n",
    "    def __init__(self, embed_dim, num_heads):\n",
    "        super(MultiHeadSelfAttention, self).__init__()\n",
    "        self.embed_dim = embed_dim\n",
    "        self.num_heads = num_heads\n",
    "        assert embed_dim % num_heads == 0\n",
    "        self.projection_dim = embed_dim // num_heads\n",
    "        self.query_dense = Dense(embed_dim)\n",
    "        self.key_dense = Dense(embed_dim)\n",
    "        self.value_dense = Dense(embed_dim)\n",
    "        self.combine_heads = Dense(embed_dim)\n",
    "\n",
    "    def attention(self, query, key, value):\n",
    "        score = tf.matmul(query, key, transpose_b=True)\n",
    "        dim_key = tf.cast(tf.shape(key)[-1], tf.float32)\n",
    "        scaled_score = score / tf.math.sqrt(dim_key)\n",
    "        weights = tf.nn.softmax(scaled_score, axis=-1)\n",
    "        output = tf.matmul(weights, value)\n",
    "        return output, weights\n",
    "\n",
    "    def separate_heads(self, x, batch_size):\n",
    "        x = tf.reshape(x, (batch_size, -1, self.num_heads, self.projection_dim))\n",
    "        return tf.transpose(x, perm=[0, 2, 1, 3])\n",
    "\n",
    "    def call(self, inputs):\n",
    "        batch_size = tf.shape(inputs)[0]\n",
    "        query = self.query_dense(inputs)\n",
    "        key = self.key_dense(inputs)\n",
    "        value = self.value_dense(inputs)\n",
    "        query = self.separate_heads(query, batch_size)\n",
    "        key = self.separate_heads(key, batch_size)\n",
    "        value = self.separate_heads(value, batch_size)\n",
    "        attention, weights = self.attention(query, key, value)\n",
    "        attention = tf.transpose(attention, perm=[0, 2, 1, 3])\n",
    "        concat_attention = tf.reshape(attention, (batch_size, -1, self.embed_dim))\n",
    "        output = self.combine_heads(concat_attention)\n",
    "        return output\n",
    "\n",
    "class TransformerBlock(Layer):\n",
    "    def __init__(self, embed_dim, num_heads, ff_dim, rate=0.1):\n",
    "        super(TransformerBlock, self).__init__()\n",
    "        self.att = MultiHeadSelfAttention(embed_dim, num_heads)\n",
    "        self.ffn = tf.keras.Sequential(\n",
    "            [Dense(ff_dim, activation=\"relu\"), Dense(embed_dim),]\n",
    "        )\n",
    "        self.layernorm1 = LayerNormalization(epsilon=1e-6)\n",
    "        self.layernorm2 = LayerNormalization(epsilon=1e-6)\n",
    "        self.dropout1 = Dropout(rate)\n",
    "        self.dropout2 = Dropout(rate)\n",
    "\n",
    "    def call(self, inputs, training):\n",
    "        attn_output = self.att(inputs)\n",
    "        attn_output = self.dropout1(attn_output, training=training)\n",
    "        out1 = self.layernorm1(inputs + attn_output)\n",
    "        ffn_output = self.ffn(out1)\n",
    "        ffn_output = self.dropout2(ffn_output, training=training)\n",
    "        return self.layernorm2(out1 + ffn_output)\n",
    "\n",
    "class Transformer(tf.keras.Model):\n",
    "    def __init__(self, num_layers, embed_dim, num_heads, ff_dim, input_vocab_size, target_vocab_size, rate=0.1):\n",
    "        super(Transformer, self).__init__()\n",
    "        self.encoder = tf.keras.layers.Embedding(input_vocab_size, embed_dim)\n",
    "        self.decoder = tf.keras.layers.Embedding(target_vocab_size, embed_dim)\n",
    "        self.transformer_blocks = [TransformerBlock(embed_dim, num_heads, ff_dim, rate) for _ in range(num_layers)]\n",
    "        self.flatten = tf.keras.layers.Flatten()\n",
    "        self.fc = tf.keras.layers.Dense(target_vocab_size, activation='softmax')\n",
    "\n",
    "    def call(self, inputs, training):\n",
    "        input_seq, target_seq = inputs\n",
    "        input_seq = self.encoder(input_seq)\n",
    "        target_seq = self.decoder(target_seq)\n",
    "        for transformer_block in self.transformer_blocks:\n",
    "            input_seq = transformer_block(input_seq, training)\n",
    "            target_seq = transformer_block(target_seq, training)\n",
    "        output_seq = self.flatten(target_seq)\n",
    "        return self.fc(output_seq)\n"
   ]
  },
  {
   "cell_type": "code",
   "execution_count": 65,
   "id": "450cfecc-2a53-4dd2-bc72-e37e479e95b4",
   "metadata": {
    "execution": {
     "iopub.execute_input": "2024-07-16T06:30:31.880279Z",
     "iopub.status.busy": "2024-07-16T06:30:31.878765Z",
     "iopub.status.idle": "2024-07-16T06:30:31.891041Z",
     "shell.execute_reply": "2024-07-16T06:30:31.888508Z",
     "shell.execute_reply.started": "2024-07-16T06:30:31.880279Z"
    }
   },
   "outputs": [],
   "source": [
    "from tensorflow.keras.layers import Layer, LSTM, GRU, Dense\n",
    "# Define the models to compare\n",
    "# models = [\n",
    "#    {'model': MLP, 'params': {'hidden_layers': [128, 64], 'dropout_rate': 0.2}},\n",
    "#    {'model': CNN, 'params': {'filter_sizes': [32, 64], 'pool_size': 2}},\n",
    "#    {'model': RNN, 'params': {'recurrent_layers': [LSTM, GRU], 'dropout_rate': 0.2}},\n",
    "#    {'model': Transformer, 'params': {'num_heads': 4, 'hidden_size': 128}}\n",
    "#]\n",
    "\n",
    "models = [\n",
    "    {'model': MLP,},\n",
    "    {'model': CNN,},\n",
    "    {'model': RNN, },\n",
    "    {'model': Transformer,},\n",
    "]"
   ]
  },
  {
   "cell_type": "code",
   "execution_count": 67,
   "id": "5349c875-5ad0-4def-b4ec-f2e876b6b89b",
   "metadata": {
    "execution": {
     "iopub.execute_input": "2024-07-16T06:30:33.775437Z",
     "iopub.status.busy": "2024-07-16T06:30:33.774439Z",
     "iopub.status.idle": "2024-07-16T06:30:33.785025Z",
     "shell.execute_reply": "2024-07-16T06:30:33.783010Z",
     "shell.execute_reply.started": "2024-07-16T06:30:33.775437Z"
    }
   },
   "outputs": [],
   "source": [
    "# Perform hyperparameter tuning and cross-validation\n",
    "trials = Trials()\n",
    "best_model = None\n",
    "best_score = float('inf')"
   ]
  },
  {
   "cell_type": "code",
   "execution_count": 75,
   "id": "04f8859e-2765-4800-b902-b54550d15e8d",
   "metadata": {
    "execution": {
     "iopub.execute_input": "2024-07-16T06:34:43.681941Z",
     "iopub.status.busy": "2024-07-16T06:34:43.680940Z",
     "iopub.status.idle": "2024-07-16T06:34:44.549476Z",
     "shell.execute_reply": "2024-07-16T06:34:44.546460Z",
     "shell.execute_reply.started": "2024-07-16T06:34:43.680940Z"
    }
   },
   "outputs": [
    {
     "name": "stdout",
     "output_type": "stream",
     "text": [
      "  0%|          | 0/50 [00:00<?, ?trial/s, best loss=?]"
     ]
    },
    {
     "name": "stderr",
     "output_type": "stream",
     "text": [
      "job exception: type object 'MLP' has no attribute 'compile'\n",
      "\n"
     ]
    },
    {
     "name": "stdout",
     "output_type": "stream",
     "text": [
      "  0%|          | 0/50 [00:00<?, ?trial/s, best loss=?]\n"
     ]
    },
    {
     "ename": "AttributeError",
     "evalue": "type object 'MLP' has no attribute 'compile'",
     "output_type": "error",
     "traceback": [
      "\u001b[1;31m---------------------------------------------------------------------------\u001b[0m",
      "\u001b[1;31mAttributeError\u001b[0m                            Traceback (most recent call last)",
      "Cell \u001b[1;32mIn[75], line 14\u001b[0m\n\u001b[0;32m     11\u001b[0m     score \u001b[38;5;241m=\u001b[39m mean_squared_error(y_val, model_instance\u001b[38;5;241m.\u001b[39mpredict(X_val))\n\u001b[0;32m     12\u001b[0m     \u001b[38;5;28;01mreturn\u001b[39;00m {\u001b[38;5;124m'\u001b[39m\u001b[38;5;124mloss\u001b[39m\u001b[38;5;124m'\u001b[39m: score, \u001b[38;5;124m'\u001b[39m\u001b[38;5;124mstatus\u001b[39m\u001b[38;5;124m'\u001b[39m: STATUS_OK}\n\u001b[1;32m---> 14\u001b[0m best_params \u001b[38;5;241m=\u001b[39m fmin(objective, space, algo\u001b[38;5;241m=\u001b[39mtpe\u001b[38;5;241m.\u001b[39msuggest, trials\u001b[38;5;241m=\u001b[39mtrials, max_evals\u001b[38;5;241m=\u001b[39m\u001b[38;5;241m50\u001b[39m)\n\u001b[0;32m     15\u001b[0m score \u001b[38;5;241m=\u001b[39m objective(best_params)[\u001b[38;5;124m'\u001b[39m\u001b[38;5;124mloss\u001b[39m\u001b[38;5;124m'\u001b[39m]\n\u001b[0;32m     16\u001b[0m \u001b[38;5;28;01mif\u001b[39;00m score \u001b[38;5;241m<\u001b[39m best_score:\n",
      "File \u001b[1;32m~\\AppData\\Roaming\\Python\\Python311\\site-packages\\hyperopt\\fmin.py:540\u001b[0m, in \u001b[0;36mfmin\u001b[1;34m(fn, space, algo, max_evals, timeout, loss_threshold, trials, rstate, allow_trials_fmin, pass_expr_memo_ctrl, catch_eval_exceptions, verbose, return_argmin, points_to_evaluate, max_queue_len, show_progressbar, early_stop_fn, trials_save_file)\u001b[0m\n\u001b[0;32m    537\u001b[0m     fn \u001b[38;5;241m=\u001b[39m __objective_fmin_wrapper(fn)\n\u001b[0;32m    539\u001b[0m \u001b[38;5;28;01mif\u001b[39;00m allow_trials_fmin \u001b[38;5;129;01mand\u001b[39;00m \u001b[38;5;28mhasattr\u001b[39m(trials, \u001b[38;5;124m\"\u001b[39m\u001b[38;5;124mfmin\u001b[39m\u001b[38;5;124m\"\u001b[39m):\n\u001b[1;32m--> 540\u001b[0m     \u001b[38;5;28;01mreturn\u001b[39;00m trials\u001b[38;5;241m.\u001b[39mfmin(\n\u001b[0;32m    541\u001b[0m         fn,\n\u001b[0;32m    542\u001b[0m         space,\n\u001b[0;32m    543\u001b[0m         algo\u001b[38;5;241m=\u001b[39malgo,\n\u001b[0;32m    544\u001b[0m         max_evals\u001b[38;5;241m=\u001b[39mmax_evals,\n\u001b[0;32m    545\u001b[0m         timeout\u001b[38;5;241m=\u001b[39mtimeout,\n\u001b[0;32m    546\u001b[0m         loss_threshold\u001b[38;5;241m=\u001b[39mloss_threshold,\n\u001b[0;32m    547\u001b[0m         max_queue_len\u001b[38;5;241m=\u001b[39mmax_queue_len,\n\u001b[0;32m    548\u001b[0m         rstate\u001b[38;5;241m=\u001b[39mrstate,\n\u001b[0;32m    549\u001b[0m         pass_expr_memo_ctrl\u001b[38;5;241m=\u001b[39mpass_expr_memo_ctrl,\n\u001b[0;32m    550\u001b[0m         verbose\u001b[38;5;241m=\u001b[39mverbose,\n\u001b[0;32m    551\u001b[0m         catch_eval_exceptions\u001b[38;5;241m=\u001b[39mcatch_eval_exceptions,\n\u001b[0;32m    552\u001b[0m         return_argmin\u001b[38;5;241m=\u001b[39mreturn_argmin,\n\u001b[0;32m    553\u001b[0m         show_progressbar\u001b[38;5;241m=\u001b[39mshow_progressbar,\n\u001b[0;32m    554\u001b[0m         early_stop_fn\u001b[38;5;241m=\u001b[39mearly_stop_fn,\n\u001b[0;32m    555\u001b[0m         trials_save_file\u001b[38;5;241m=\u001b[39mtrials_save_file,\n\u001b[0;32m    556\u001b[0m     )\n\u001b[0;32m    558\u001b[0m \u001b[38;5;28;01mif\u001b[39;00m trials \u001b[38;5;129;01mis\u001b[39;00m \u001b[38;5;28;01mNone\u001b[39;00m:\n\u001b[0;32m    559\u001b[0m     \u001b[38;5;28;01mif\u001b[39;00m os\u001b[38;5;241m.\u001b[39mpath\u001b[38;5;241m.\u001b[39mexists(trials_save_file):\n",
      "File \u001b[1;32m~\\AppData\\Roaming\\Python\\Python311\\site-packages\\hyperopt\\base.py:671\u001b[0m, in \u001b[0;36mTrials.fmin\u001b[1;34m(self, fn, space, algo, max_evals, timeout, loss_threshold, max_queue_len, rstate, verbose, pass_expr_memo_ctrl, catch_eval_exceptions, return_argmin, show_progressbar, early_stop_fn, trials_save_file)\u001b[0m\n\u001b[0;32m    666\u001b[0m \u001b[38;5;66;03m# -- Stop-gap implementation!\u001b[39;00m\n\u001b[0;32m    667\u001b[0m \u001b[38;5;66;03m#    fmin should have been a Trials method in the first place\u001b[39;00m\n\u001b[0;32m    668\u001b[0m \u001b[38;5;66;03m#    but for now it's still sitting in another file.\u001b[39;00m\n\u001b[0;32m    669\u001b[0m \u001b[38;5;28;01mfrom\u001b[39;00m \u001b[38;5;21;01m.\u001b[39;00m\u001b[38;5;21;01mfmin\u001b[39;00m \u001b[38;5;28;01mimport\u001b[39;00m fmin\n\u001b[1;32m--> 671\u001b[0m \u001b[38;5;28;01mreturn\u001b[39;00m fmin(\n\u001b[0;32m    672\u001b[0m     fn,\n\u001b[0;32m    673\u001b[0m     space,\n\u001b[0;32m    674\u001b[0m     algo\u001b[38;5;241m=\u001b[39malgo,\n\u001b[0;32m    675\u001b[0m     max_evals\u001b[38;5;241m=\u001b[39mmax_evals,\n\u001b[0;32m    676\u001b[0m     timeout\u001b[38;5;241m=\u001b[39mtimeout,\n\u001b[0;32m    677\u001b[0m     loss_threshold\u001b[38;5;241m=\u001b[39mloss_threshold,\n\u001b[0;32m    678\u001b[0m     trials\u001b[38;5;241m=\u001b[39m\u001b[38;5;28mself\u001b[39m,\n\u001b[0;32m    679\u001b[0m     rstate\u001b[38;5;241m=\u001b[39mrstate,\n\u001b[0;32m    680\u001b[0m     verbose\u001b[38;5;241m=\u001b[39mverbose,\n\u001b[0;32m    681\u001b[0m     max_queue_len\u001b[38;5;241m=\u001b[39mmax_queue_len,\n\u001b[0;32m    682\u001b[0m     allow_trials_fmin\u001b[38;5;241m=\u001b[39m\u001b[38;5;28;01mFalse\u001b[39;00m,  \u001b[38;5;66;03m# -- prevent recursion\u001b[39;00m\n\u001b[0;32m    683\u001b[0m     pass_expr_memo_ctrl\u001b[38;5;241m=\u001b[39mpass_expr_memo_ctrl,\n\u001b[0;32m    684\u001b[0m     catch_eval_exceptions\u001b[38;5;241m=\u001b[39mcatch_eval_exceptions,\n\u001b[0;32m    685\u001b[0m     return_argmin\u001b[38;5;241m=\u001b[39mreturn_argmin,\n\u001b[0;32m    686\u001b[0m     show_progressbar\u001b[38;5;241m=\u001b[39mshow_progressbar,\n\u001b[0;32m    687\u001b[0m     early_stop_fn\u001b[38;5;241m=\u001b[39mearly_stop_fn,\n\u001b[0;32m    688\u001b[0m     trials_save_file\u001b[38;5;241m=\u001b[39mtrials_save_file,\n\u001b[0;32m    689\u001b[0m )\n",
      "File \u001b[1;32m~\\AppData\\Roaming\\Python\\Python311\\site-packages\\hyperopt\\fmin.py:586\u001b[0m, in \u001b[0;36mfmin\u001b[1;34m(fn, space, algo, max_evals, timeout, loss_threshold, trials, rstate, allow_trials_fmin, pass_expr_memo_ctrl, catch_eval_exceptions, verbose, return_argmin, points_to_evaluate, max_queue_len, show_progressbar, early_stop_fn, trials_save_file)\u001b[0m\n\u001b[0;32m    583\u001b[0m rval\u001b[38;5;241m.\u001b[39mcatch_eval_exceptions \u001b[38;5;241m=\u001b[39m catch_eval_exceptions\n\u001b[0;32m    585\u001b[0m \u001b[38;5;66;03m# next line is where the fmin is actually executed\u001b[39;00m\n\u001b[1;32m--> 586\u001b[0m rval\u001b[38;5;241m.\u001b[39mexhaust()\n\u001b[0;32m    588\u001b[0m \u001b[38;5;28;01mif\u001b[39;00m return_argmin:\n\u001b[0;32m    589\u001b[0m     \u001b[38;5;28;01mif\u001b[39;00m \u001b[38;5;28mlen\u001b[39m(trials\u001b[38;5;241m.\u001b[39mtrials) \u001b[38;5;241m==\u001b[39m \u001b[38;5;241m0\u001b[39m:\n",
      "File \u001b[1;32m~\\AppData\\Roaming\\Python\\Python311\\site-packages\\hyperopt\\fmin.py:364\u001b[0m, in \u001b[0;36mFMinIter.exhaust\u001b[1;34m(self)\u001b[0m\n\u001b[0;32m    362\u001b[0m \u001b[38;5;28;01mdef\u001b[39;00m \u001b[38;5;21mexhaust\u001b[39m(\u001b[38;5;28mself\u001b[39m):\n\u001b[0;32m    363\u001b[0m     n_done \u001b[38;5;241m=\u001b[39m \u001b[38;5;28mlen\u001b[39m(\u001b[38;5;28mself\u001b[39m\u001b[38;5;241m.\u001b[39mtrials)\n\u001b[1;32m--> 364\u001b[0m     \u001b[38;5;28mself\u001b[39m\u001b[38;5;241m.\u001b[39mrun(\u001b[38;5;28mself\u001b[39m\u001b[38;5;241m.\u001b[39mmax_evals \u001b[38;5;241m-\u001b[39m n_done, block_until_done\u001b[38;5;241m=\u001b[39m\u001b[38;5;28mself\u001b[39m\u001b[38;5;241m.\u001b[39masynchronous)\n\u001b[0;32m    365\u001b[0m     \u001b[38;5;28mself\u001b[39m\u001b[38;5;241m.\u001b[39mtrials\u001b[38;5;241m.\u001b[39mrefresh()\n\u001b[0;32m    366\u001b[0m     \u001b[38;5;28;01mreturn\u001b[39;00m \u001b[38;5;28mself\u001b[39m\n",
      "File \u001b[1;32m~\\AppData\\Roaming\\Python\\Python311\\site-packages\\hyperopt\\fmin.py:300\u001b[0m, in \u001b[0;36mFMinIter.run\u001b[1;34m(self, N, block_until_done)\u001b[0m\n\u001b[0;32m    297\u001b[0m     time\u001b[38;5;241m.\u001b[39msleep(\u001b[38;5;28mself\u001b[39m\u001b[38;5;241m.\u001b[39mpoll_interval_secs)\n\u001b[0;32m    298\u001b[0m \u001b[38;5;28;01melse\u001b[39;00m:\n\u001b[0;32m    299\u001b[0m     \u001b[38;5;66;03m# -- loop over trials and do the jobs directly\u001b[39;00m\n\u001b[1;32m--> 300\u001b[0m     \u001b[38;5;28mself\u001b[39m\u001b[38;5;241m.\u001b[39mserial_evaluate()\n\u001b[0;32m    302\u001b[0m \u001b[38;5;28mself\u001b[39m\u001b[38;5;241m.\u001b[39mtrials\u001b[38;5;241m.\u001b[39mrefresh()\n\u001b[0;32m    303\u001b[0m \u001b[38;5;28;01mif\u001b[39;00m \u001b[38;5;28mself\u001b[39m\u001b[38;5;241m.\u001b[39mtrials_save_file \u001b[38;5;241m!=\u001b[39m \u001b[38;5;124m\"\u001b[39m\u001b[38;5;124m\"\u001b[39m:\n",
      "File \u001b[1;32m~\\AppData\\Roaming\\Python\\Python311\\site-packages\\hyperopt\\fmin.py:178\u001b[0m, in \u001b[0;36mFMinIter.serial_evaluate\u001b[1;34m(self, N)\u001b[0m\n\u001b[0;32m    176\u001b[0m ctrl \u001b[38;5;241m=\u001b[39m base\u001b[38;5;241m.\u001b[39mCtrl(\u001b[38;5;28mself\u001b[39m\u001b[38;5;241m.\u001b[39mtrials, current_trial\u001b[38;5;241m=\u001b[39mtrial)\n\u001b[0;32m    177\u001b[0m \u001b[38;5;28;01mtry\u001b[39;00m:\n\u001b[1;32m--> 178\u001b[0m     result \u001b[38;5;241m=\u001b[39m \u001b[38;5;28mself\u001b[39m\u001b[38;5;241m.\u001b[39mdomain\u001b[38;5;241m.\u001b[39mevaluate(spec, ctrl)\n\u001b[0;32m    179\u001b[0m \u001b[38;5;28;01mexcept\u001b[39;00m \u001b[38;5;167;01mException\u001b[39;00m \u001b[38;5;28;01mas\u001b[39;00m e:\n\u001b[0;32m    180\u001b[0m     logger\u001b[38;5;241m.\u001b[39merror(\u001b[38;5;124m\"\u001b[39m\u001b[38;5;124mjob exception: \u001b[39m\u001b[38;5;132;01m%s\u001b[39;00m\u001b[38;5;124m\"\u001b[39m \u001b[38;5;241m%\u001b[39m \u001b[38;5;28mstr\u001b[39m(e))\n",
      "File \u001b[1;32m~\\AppData\\Roaming\\Python\\Python311\\site-packages\\hyperopt\\base.py:892\u001b[0m, in \u001b[0;36mDomain.evaluate\u001b[1;34m(self, config, ctrl, attach_attachments)\u001b[0m\n\u001b[0;32m    883\u001b[0m \u001b[38;5;28;01melse\u001b[39;00m:\n\u001b[0;32m    884\u001b[0m     \u001b[38;5;66;03m# -- the \"work\" of evaluating `config` can be written\u001b[39;00m\n\u001b[0;32m    885\u001b[0m     \u001b[38;5;66;03m#    either into the pyll part (self.expr)\u001b[39;00m\n\u001b[0;32m    886\u001b[0m     \u001b[38;5;66;03m#    or the normal Python part (self.fn)\u001b[39;00m\n\u001b[0;32m    887\u001b[0m     pyll_rval \u001b[38;5;241m=\u001b[39m pyll\u001b[38;5;241m.\u001b[39mrec_eval(\n\u001b[0;32m    888\u001b[0m         \u001b[38;5;28mself\u001b[39m\u001b[38;5;241m.\u001b[39mexpr,\n\u001b[0;32m    889\u001b[0m         memo\u001b[38;5;241m=\u001b[39mmemo,\n\u001b[0;32m    890\u001b[0m         print_node_on_error\u001b[38;5;241m=\u001b[39m\u001b[38;5;28mself\u001b[39m\u001b[38;5;241m.\u001b[39mrec_eval_print_node_on_error,\n\u001b[0;32m    891\u001b[0m     )\n\u001b[1;32m--> 892\u001b[0m     rval \u001b[38;5;241m=\u001b[39m \u001b[38;5;28mself\u001b[39m\u001b[38;5;241m.\u001b[39mfn(pyll_rval)\n\u001b[0;32m    894\u001b[0m \u001b[38;5;28;01mif\u001b[39;00m \u001b[38;5;28misinstance\u001b[39m(rval, (\u001b[38;5;28mfloat\u001b[39m, \u001b[38;5;28mint\u001b[39m, np\u001b[38;5;241m.\u001b[39mnumber)):\n\u001b[0;32m    895\u001b[0m     dict_rval \u001b[38;5;241m=\u001b[39m {\u001b[38;5;124m\"\u001b[39m\u001b[38;5;124mloss\u001b[39m\u001b[38;5;124m\"\u001b[39m: \u001b[38;5;28mfloat\u001b[39m(rval), \u001b[38;5;124m\"\u001b[39m\u001b[38;5;124mstatus\u001b[39m\u001b[38;5;124m\"\u001b[39m: STATUS_OK}\n",
      "Cell \u001b[1;32mIn[75], line 8\u001b[0m, in \u001b[0;36mobjective\u001b[1;34m(params)\u001b[0m\n\u001b[0;32m      6\u001b[0m model_instance \u001b[38;5;241m=\u001b[39m model[\u001b[38;5;124m'\u001b[39m\u001b[38;5;124mmodel\u001b[39m\u001b[38;5;124m'\u001b[39m]\n\u001b[0;32m      7\u001b[0m \u001b[38;5;66;03m# Compile and fit the model\u001b[39;00m\n\u001b[1;32m----> 8\u001b[0m model_instance\u001b[38;5;241m.\u001b[39mcompile(optimizer\u001b[38;5;241m=\u001b[39m\u001b[38;5;124m'\u001b[39m\u001b[38;5;124madam\u001b[39m\u001b[38;5;124m'\u001b[39m, loss\u001b[38;5;241m=\u001b[39m\u001b[38;5;124m'\u001b[39m\u001b[38;5;124msparse_categorical_crossentropy\u001b[39m\u001b[38;5;124m'\u001b[39m, metrics\u001b[38;5;241m=\u001b[39m[\u001b[38;5;124m'\u001b[39m\u001b[38;5;124maccuracy\u001b[39m\u001b[38;5;124m'\u001b[39m])\n\u001b[0;32m     10\u001b[0m history \u001b[38;5;241m=\u001b[39m model_instance\u001b[38;5;241m.\u001b[39mfit(X_train, y_train, epochs\u001b[38;5;241m=\u001b[39mparams[\u001b[38;5;124m'\u001b[39m\u001b[38;5;124mepochs\u001b[39m\u001b[38;5;124m'\u001b[39m], batch_size\u001b[38;5;241m=\u001b[39mparams[\u001b[38;5;124m'\u001b[39m\u001b[38;5;124mbatch_size\u001b[39m\u001b[38;5;124m'\u001b[39m], validation_data\u001b[38;5;241m=\u001b[39m(X_val, y_val))\n\u001b[0;32m     11\u001b[0m score \u001b[38;5;241m=\u001b[39m mean_squared_error(y_val, model_instance\u001b[38;5;241m.\u001b[39mpredict(X_val))\n",
      "\u001b[1;31mAttributeError\u001b[0m: type object 'MLP' has no attribute 'compile'"
     ]
    }
   ],
   "source": [
    "from tensorflow.keras import Sequential\n",
    "for model in models:\n",
    "    def objective(params):\n",
    "        X_train, X_val, y_train, y_val = train_test_split(X, y, test_size=0.2, random_state=42)\n",
    "#        model_instance = model['model'](**model['params'], **params)\n",
    "        model_instance = model['model']\n",
    "        # Compile and fit the model\n",
    "        model_instance.compile(optimizer='adam', loss='sparse_categorical_crossentropy', metrics=['accuracy'])\n",
    "\n",
    "        history = model_instance.fit(X_train, y_train, epochs=params['epochs'], batch_size=params['batch_size'], validation_data=(X_val, y_val))\n",
    "        score = mean_squared_error(y_val, model_instance.predict(X_val))\n",
    "        return {'loss': score, 'status': STATUS_OK}\n",
    "\n",
    "    best_params = fmin(objective, space, algo=tpe.suggest, trials=trials, max_evals=50)\n",
    "    score = objective(best_params)['loss']\n",
    "    if score < best_score:\n",
    "        best_model = model\n",
    "        best_score = score"
   ]
  },
  {
   "cell_type": "code",
   "execution_count": null,
   "id": "87cd2502-bc0f-48f1-ada4-de7db5e75a9d",
   "metadata": {
    "execution": {
     "iopub.status.busy": "2024-07-16T06:25:15.110563Z",
     "iopub.status.idle": "2024-07-16T06:25:15.112591Z",
     "shell.execute_reply": "2024-07-16T06:25:15.111591Z",
     "shell.execute_reply.started": "2024-07-16T06:25:15.111591Z"
    }
   },
   "outputs": [],
   "source": [
    "print(f'Best model: {best_model[\"model\"].__name__} with score: {best_score:.4f}')"
   ]
  }
 ],
 "metadata": {
  "kernelspec": {
   "display_name": "Python 3 (ipykernel)",
   "language": "python",
   "name": "python3"
  },
  "language_info": {
   "codemirror_mode": {
    "name": "ipython",
    "version": 3
   },
   "file_extension": ".py",
   "mimetype": "text/x-python",
   "name": "python",
   "nbconvert_exporter": "python",
   "pygments_lexer": "ipython3",
   "version": "3.11.5"
  }
 },
 "nbformat": 4,
 "nbformat_minor": 5
}
