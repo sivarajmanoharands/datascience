{
 "cells": [
  {
   "cell_type": "code",
   "execution_count": 4,
   "id": "41cc6448-1040-42e2-af15-d287d54c535b",
   "metadata": {
    "execution": {
     "iopub.execute_input": "2024-07-14T06:59:31.121539Z",
     "iopub.status.busy": "2024-07-14T06:59:31.121539Z",
     "iopub.status.idle": "2024-07-14T06:59:31.136550Z",
     "shell.execute_reply": "2024-07-14T06:59:31.134023Z",
     "shell.execute_reply.started": "2024-07-14T06:59:31.121539Z"
    }
   },
   "outputs": [],
   "source": [
    "import numpy as np\n",
    "import pandas as pd\n",
    "import matplotlib.pyplot as plt\n",
    "\n",
    "from sklearn.tree import DecisionTreeClassifier\n",
    "from sklearn.ensemble import RandomForestClassifier\n",
    "from sklearn.metrics import classification_report\n",
    "from sklearn.model_selection import train_test_split"
   ]
  },
  {
   "cell_type": "code",
   "execution_count": 6,
   "id": "87618a3d-76bc-4c65-a952-40cd848de1cc",
   "metadata": {
    "execution": {
     "iopub.execute_input": "2024-07-14T07:00:36.652735Z",
     "iopub.status.busy": "2024-07-14T07:00:36.651741Z",
     "iopub.status.idle": "2024-07-14T07:00:36.686628Z",
     "shell.execute_reply": "2024-07-14T07:00:36.685613Z",
     "shell.execute_reply.started": "2024-07-14T07:00:36.652735Z"
    }
   },
   "outputs": [],
   "source": [
    "df = pd.read_csv(\"balance-scale.data\",sep = ',')"
   ]
  },
  {
   "cell_type": "code",
   "execution_count": 8,
   "id": "86eed53c-99c2-4706-85b8-d959cf32b0c7",
   "metadata": {
    "execution": {
     "iopub.execute_input": "2024-07-14T07:00:53.667000Z",
     "iopub.status.busy": "2024-07-14T07:00:53.665503Z",
     "iopub.status.idle": "2024-07-14T07:00:53.698115Z",
     "shell.execute_reply": "2024-07-14T07:00:53.696837Z",
     "shell.execute_reply.started": "2024-07-14T07:00:53.667000Z"
    }
   },
   "outputs": [
    {
     "data": {
      "text/html": [
       "<div>\n",
       "<style scoped>\n",
       "    .dataframe tbody tr th:only-of-type {\n",
       "        vertical-align: middle;\n",
       "    }\n",
       "\n",
       "    .dataframe tbody tr th {\n",
       "        vertical-align: top;\n",
       "    }\n",
       "\n",
       "    .dataframe thead th {\n",
       "        text-align: right;\n",
       "    }\n",
       "</style>\n",
       "<table border=\"1\" class=\"dataframe\">\n",
       "  <thead>\n",
       "    <tr style=\"text-align: right;\">\n",
       "      <th></th>\n",
       "      <th>Class Name</th>\n",
       "      <th>Left weight</th>\n",
       "      <th>Left distance</th>\n",
       "      <th>Right weight</th>\n",
       "      <th>Right distance</th>\n",
       "    </tr>\n",
       "  </thead>\n",
       "  <tbody>\n",
       "    <tr>\n",
       "      <th>0</th>\n",
       "      <td>B</td>\n",
       "      <td>1</td>\n",
       "      <td>1</td>\n",
       "      <td>1</td>\n",
       "      <td>1</td>\n",
       "    </tr>\n",
       "    <tr>\n",
       "      <th>1</th>\n",
       "      <td>R</td>\n",
       "      <td>1</td>\n",
       "      <td>1</td>\n",
       "      <td>1</td>\n",
       "      <td>2</td>\n",
       "    </tr>\n",
       "    <tr>\n",
       "      <th>2</th>\n",
       "      <td>R</td>\n",
       "      <td>1</td>\n",
       "      <td>1</td>\n",
       "      <td>1</td>\n",
       "      <td>3</td>\n",
       "    </tr>\n",
       "    <tr>\n",
       "      <th>3</th>\n",
       "      <td>R</td>\n",
       "      <td>1</td>\n",
       "      <td>1</td>\n",
       "      <td>1</td>\n",
       "      <td>4</td>\n",
       "    </tr>\n",
       "    <tr>\n",
       "      <th>4</th>\n",
       "      <td>R</td>\n",
       "      <td>1</td>\n",
       "      <td>1</td>\n",
       "      <td>1</td>\n",
       "      <td>5</td>\n",
       "    </tr>\n",
       "  </tbody>\n",
       "</table>\n",
       "</div>"
      ],
      "text/plain": [
       "  Class Name  Left weight  Left distance  Right weight  Right distance\n",
       "0          B            1              1             1               1\n",
       "1          R            1              1             1               2\n",
       "2          R            1              1             1               3\n",
       "3          R            1              1             1               4\n",
       "4          R            1              1             1               5"
      ]
     },
     "execution_count": 8,
     "metadata": {},
     "output_type": "execute_result"
    }
   ],
   "source": [
    "df.head()"
   ]
  },
  {
   "cell_type": "code",
   "execution_count": 10,
   "id": "c0850ab7-104d-413a-bfa7-f734b6905d30",
   "metadata": {
    "execution": {
     "iopub.execute_input": "2024-07-14T07:01:22.805850Z",
     "iopub.status.busy": "2024-07-14T07:01:22.804850Z",
     "iopub.status.idle": "2024-07-14T07:01:22.838645Z",
     "shell.execute_reply": "2024-07-14T07:01:22.836621Z",
     "shell.execute_reply.started": "2024-07-14T07:01:22.805850Z"
    }
   },
   "outputs": [
    {
     "name": "stdout",
     "output_type": "stream",
     "text": [
      "<class 'pandas.core.frame.DataFrame'>\n",
      "RangeIndex: 625 entries, 0 to 624\n",
      "Data columns (total 5 columns):\n",
      " #   Column          Non-Null Count  Dtype \n",
      "---  ------          --------------  ----- \n",
      " 0   Class Name      625 non-null    object\n",
      " 1   Left weight     625 non-null    int64 \n",
      " 2   Left distance   625 non-null    int64 \n",
      " 3   Right weight    625 non-null    int64 \n",
      " 4   Right distance  625 non-null    int64 \n",
      "dtypes: int64(4), object(1)\n",
      "memory usage: 24.5+ KB\n"
     ]
    }
   ],
   "source": [
    "df.info()"
   ]
  },
  {
   "cell_type": "code",
   "execution_count": 14,
   "id": "99f09870-9087-4484-b681-7daf5c4f58c1",
   "metadata": {
    "execution": {
     "iopub.execute_input": "2024-07-14T07:02:47.147755Z",
     "iopub.status.busy": "2024-07-14T07:02:47.147755Z",
     "iopub.status.idle": "2024-07-14T07:02:47.159933Z",
     "shell.execute_reply": "2024-07-14T07:02:47.157917Z",
     "shell.execute_reply.started": "2024-07-14T07:02:47.147755Z"
    }
   },
   "outputs": [],
   "source": [
    "X = df.drop(columns = ['Class Name'])\n",
    "y = df['Class Name']"
   ]
  },
  {
   "cell_type": "code",
   "execution_count": 16,
   "id": "4c487f0a-62c6-4fc9-a27b-0a4b3e6b70cb",
   "metadata": {
    "execution": {
     "iopub.execute_input": "2024-07-14T07:03:44.444975Z",
     "iopub.status.busy": "2024-07-14T07:03:44.443977Z",
     "iopub.status.idle": "2024-07-14T07:03:44.467668Z",
     "shell.execute_reply": "2024-07-14T07:03:44.464177Z",
     "shell.execute_reply.started": "2024-07-14T07:03:44.444975Z"
    }
   },
   "outputs": [],
   "source": [
    "X_train, X_test, y_train, y_test = train_test_split(X, y, test_size=0.25, random_state=25)"
   ]
  },
  {
   "cell_type": "code",
   "execution_count": 18,
   "id": "8e915d41-21f8-4bb5-9a5b-89a3e4fb67de",
   "metadata": {
    "execution": {
     "iopub.execute_input": "2024-07-14T07:04:47.604001Z",
     "iopub.status.busy": "2024-07-14T07:04:47.600455Z",
     "iopub.status.idle": "2024-07-14T07:04:47.616854Z",
     "shell.execute_reply": "2024-07-14T07:04:47.614251Z",
     "shell.execute_reply.started": "2024-07-14T07:04:47.604001Z"
    }
   },
   "outputs": [],
   "source": [
    "dtc = DecisionTreeClassifier(criterion = 'gini',max_depth = 3, random_state = 25)"
   ]
  },
  {
   "cell_type": "code",
   "execution_count": 20,
   "id": "d351f7fa-f3b7-4517-bf68-ad6b72da1751",
   "metadata": {
    "execution": {
     "iopub.execute_input": "2024-07-14T07:05:02.742467Z",
     "iopub.status.busy": "2024-07-14T07:05:02.741468Z",
     "iopub.status.idle": "2024-07-14T07:05:02.779087Z",
     "shell.execute_reply": "2024-07-14T07:05:02.776563Z",
     "shell.execute_reply.started": "2024-07-14T07:05:02.742467Z"
    }
   },
   "outputs": [
    {
     "data": {
      "text/html": [
       "<style>#sk-container-id-1 {\n",
       "  /* Definition of color scheme common for light and dark mode */\n",
       "  --sklearn-color-text: black;\n",
       "  --sklearn-color-line: gray;\n",
       "  /* Definition of color scheme for unfitted estimators */\n",
       "  --sklearn-color-unfitted-level-0: #fff5e6;\n",
       "  --sklearn-color-unfitted-level-1: #f6e4d2;\n",
       "  --sklearn-color-unfitted-level-2: #ffe0b3;\n",
       "  --sklearn-color-unfitted-level-3: chocolate;\n",
       "  /* Definition of color scheme for fitted estimators */\n",
       "  --sklearn-color-fitted-level-0: #f0f8ff;\n",
       "  --sklearn-color-fitted-level-1: #d4ebff;\n",
       "  --sklearn-color-fitted-level-2: #b3dbfd;\n",
       "  --sklearn-color-fitted-level-3: cornflowerblue;\n",
       "\n",
       "  /* Specific color for light theme */\n",
       "  --sklearn-color-text-on-default-background: var(--sg-text-color, var(--theme-code-foreground, var(--jp-content-font-color1, black)));\n",
       "  --sklearn-color-background: var(--sg-background-color, var(--theme-background, var(--jp-layout-color0, white)));\n",
       "  --sklearn-color-border-box: var(--sg-text-color, var(--theme-code-foreground, var(--jp-content-font-color1, black)));\n",
       "  --sklearn-color-icon: #696969;\n",
       "\n",
       "  @media (prefers-color-scheme: dark) {\n",
       "    /* Redefinition of color scheme for dark theme */\n",
       "    --sklearn-color-text-on-default-background: var(--sg-text-color, var(--theme-code-foreground, var(--jp-content-font-color1, white)));\n",
       "    --sklearn-color-background: var(--sg-background-color, var(--theme-background, var(--jp-layout-color0, #111)));\n",
       "    --sklearn-color-border-box: var(--sg-text-color, var(--theme-code-foreground, var(--jp-content-font-color1, white)));\n",
       "    --sklearn-color-icon: #878787;\n",
       "  }\n",
       "}\n",
       "\n",
       "#sk-container-id-1 {\n",
       "  color: var(--sklearn-color-text);\n",
       "}\n",
       "\n",
       "#sk-container-id-1 pre {\n",
       "  padding: 0;\n",
       "}\n",
       "\n",
       "#sk-container-id-1 input.sk-hidden--visually {\n",
       "  border: 0;\n",
       "  clip: rect(1px 1px 1px 1px);\n",
       "  clip: rect(1px, 1px, 1px, 1px);\n",
       "  height: 1px;\n",
       "  margin: -1px;\n",
       "  overflow: hidden;\n",
       "  padding: 0;\n",
       "  position: absolute;\n",
       "  width: 1px;\n",
       "}\n",
       "\n",
       "#sk-container-id-1 div.sk-dashed-wrapped {\n",
       "  border: 1px dashed var(--sklearn-color-line);\n",
       "  margin: 0 0.4em 0.5em 0.4em;\n",
       "  box-sizing: border-box;\n",
       "  padding-bottom: 0.4em;\n",
       "  background-color: var(--sklearn-color-background);\n",
       "}\n",
       "\n",
       "#sk-container-id-1 div.sk-container {\n",
       "  /* jupyter's `normalize.less` sets `[hidden] { display: none; }`\n",
       "     but bootstrap.min.css set `[hidden] { display: none !important; }`\n",
       "     so we also need the `!important` here to be able to override the\n",
       "     default hidden behavior on the sphinx rendered scikit-learn.org.\n",
       "     See: https://github.com/scikit-learn/scikit-learn/issues/21755 */\n",
       "  display: inline-block !important;\n",
       "  position: relative;\n",
       "}\n",
       "\n",
       "#sk-container-id-1 div.sk-text-repr-fallback {\n",
       "  display: none;\n",
       "}\n",
       "\n",
       "div.sk-parallel-item,\n",
       "div.sk-serial,\n",
       "div.sk-item {\n",
       "  /* draw centered vertical line to link estimators */\n",
       "  background-image: linear-gradient(var(--sklearn-color-text-on-default-background), var(--sklearn-color-text-on-default-background));\n",
       "  background-size: 2px 100%;\n",
       "  background-repeat: no-repeat;\n",
       "  background-position: center center;\n",
       "}\n",
       "\n",
       "/* Parallel-specific style estimator block */\n",
       "\n",
       "#sk-container-id-1 div.sk-parallel-item::after {\n",
       "  content: \"\";\n",
       "  width: 100%;\n",
       "  border-bottom: 2px solid var(--sklearn-color-text-on-default-background);\n",
       "  flex-grow: 1;\n",
       "}\n",
       "\n",
       "#sk-container-id-1 div.sk-parallel {\n",
       "  display: flex;\n",
       "  align-items: stretch;\n",
       "  justify-content: center;\n",
       "  background-color: var(--sklearn-color-background);\n",
       "  position: relative;\n",
       "}\n",
       "\n",
       "#sk-container-id-1 div.sk-parallel-item {\n",
       "  display: flex;\n",
       "  flex-direction: column;\n",
       "}\n",
       "\n",
       "#sk-container-id-1 div.sk-parallel-item:first-child::after {\n",
       "  align-self: flex-end;\n",
       "  width: 50%;\n",
       "}\n",
       "\n",
       "#sk-container-id-1 div.sk-parallel-item:last-child::after {\n",
       "  align-self: flex-start;\n",
       "  width: 50%;\n",
       "}\n",
       "\n",
       "#sk-container-id-1 div.sk-parallel-item:only-child::after {\n",
       "  width: 0;\n",
       "}\n",
       "\n",
       "/* Serial-specific style estimator block */\n",
       "\n",
       "#sk-container-id-1 div.sk-serial {\n",
       "  display: flex;\n",
       "  flex-direction: column;\n",
       "  align-items: center;\n",
       "  background-color: var(--sklearn-color-background);\n",
       "  padding-right: 1em;\n",
       "  padding-left: 1em;\n",
       "}\n",
       "\n",
       "\n",
       "/* Toggleable style: style used for estimator/Pipeline/ColumnTransformer box that is\n",
       "clickable and can be expanded/collapsed.\n",
       "- Pipeline and ColumnTransformer use this feature and define the default style\n",
       "- Estimators will overwrite some part of the style using the `sk-estimator` class\n",
       "*/\n",
       "\n",
       "/* Pipeline and ColumnTransformer style (default) */\n",
       "\n",
       "#sk-container-id-1 div.sk-toggleable {\n",
       "  /* Default theme specific background. It is overwritten whether we have a\n",
       "  specific estimator or a Pipeline/ColumnTransformer */\n",
       "  background-color: var(--sklearn-color-background);\n",
       "}\n",
       "\n",
       "/* Toggleable label */\n",
       "#sk-container-id-1 label.sk-toggleable__label {\n",
       "  cursor: pointer;\n",
       "  display: block;\n",
       "  width: 100%;\n",
       "  margin-bottom: 0;\n",
       "  padding: 0.5em;\n",
       "  box-sizing: border-box;\n",
       "  text-align: center;\n",
       "}\n",
       "\n",
       "#sk-container-id-1 label.sk-toggleable__label-arrow:before {\n",
       "  /* Arrow on the left of the label */\n",
       "  content: \"▸\";\n",
       "  float: left;\n",
       "  margin-right: 0.25em;\n",
       "  color: var(--sklearn-color-icon);\n",
       "}\n",
       "\n",
       "#sk-container-id-1 label.sk-toggleable__label-arrow:hover:before {\n",
       "  color: var(--sklearn-color-text);\n",
       "}\n",
       "\n",
       "/* Toggleable content - dropdown */\n",
       "\n",
       "#sk-container-id-1 div.sk-toggleable__content {\n",
       "  max-height: 0;\n",
       "  max-width: 0;\n",
       "  overflow: hidden;\n",
       "  text-align: left;\n",
       "  /* unfitted */\n",
       "  background-color: var(--sklearn-color-unfitted-level-0);\n",
       "}\n",
       "\n",
       "#sk-container-id-1 div.sk-toggleable__content.fitted {\n",
       "  /* fitted */\n",
       "  background-color: var(--sklearn-color-fitted-level-0);\n",
       "}\n",
       "\n",
       "#sk-container-id-1 div.sk-toggleable__content pre {\n",
       "  margin: 0.2em;\n",
       "  border-radius: 0.25em;\n",
       "  color: var(--sklearn-color-text);\n",
       "  /* unfitted */\n",
       "  background-color: var(--sklearn-color-unfitted-level-0);\n",
       "}\n",
       "\n",
       "#sk-container-id-1 div.sk-toggleable__content.fitted pre {\n",
       "  /* unfitted */\n",
       "  background-color: var(--sklearn-color-fitted-level-0);\n",
       "}\n",
       "\n",
       "#sk-container-id-1 input.sk-toggleable__control:checked~div.sk-toggleable__content {\n",
       "  /* Expand drop-down */\n",
       "  max-height: 200px;\n",
       "  max-width: 100%;\n",
       "  overflow: auto;\n",
       "}\n",
       "\n",
       "#sk-container-id-1 input.sk-toggleable__control:checked~label.sk-toggleable__label-arrow:before {\n",
       "  content: \"▾\";\n",
       "}\n",
       "\n",
       "/* Pipeline/ColumnTransformer-specific style */\n",
       "\n",
       "#sk-container-id-1 div.sk-label input.sk-toggleable__control:checked~label.sk-toggleable__label {\n",
       "  color: var(--sklearn-color-text);\n",
       "  background-color: var(--sklearn-color-unfitted-level-2);\n",
       "}\n",
       "\n",
       "#sk-container-id-1 div.sk-label.fitted input.sk-toggleable__control:checked~label.sk-toggleable__label {\n",
       "  background-color: var(--sklearn-color-fitted-level-2);\n",
       "}\n",
       "\n",
       "/* Estimator-specific style */\n",
       "\n",
       "/* Colorize estimator box */\n",
       "#sk-container-id-1 div.sk-estimator input.sk-toggleable__control:checked~label.sk-toggleable__label {\n",
       "  /* unfitted */\n",
       "  background-color: var(--sklearn-color-unfitted-level-2);\n",
       "}\n",
       "\n",
       "#sk-container-id-1 div.sk-estimator.fitted input.sk-toggleable__control:checked~label.sk-toggleable__label {\n",
       "  /* fitted */\n",
       "  background-color: var(--sklearn-color-fitted-level-2);\n",
       "}\n",
       "\n",
       "#sk-container-id-1 div.sk-label label.sk-toggleable__label,\n",
       "#sk-container-id-1 div.sk-label label {\n",
       "  /* The background is the default theme color */\n",
       "  color: var(--sklearn-color-text-on-default-background);\n",
       "}\n",
       "\n",
       "/* On hover, darken the color of the background */\n",
       "#sk-container-id-1 div.sk-label:hover label.sk-toggleable__label {\n",
       "  color: var(--sklearn-color-text);\n",
       "  background-color: var(--sklearn-color-unfitted-level-2);\n",
       "}\n",
       "\n",
       "/* Label box, darken color on hover, fitted */\n",
       "#sk-container-id-1 div.sk-label.fitted:hover label.sk-toggleable__label.fitted {\n",
       "  color: var(--sklearn-color-text);\n",
       "  background-color: var(--sklearn-color-fitted-level-2);\n",
       "}\n",
       "\n",
       "/* Estimator label */\n",
       "\n",
       "#sk-container-id-1 div.sk-label label {\n",
       "  font-family: monospace;\n",
       "  font-weight: bold;\n",
       "  display: inline-block;\n",
       "  line-height: 1.2em;\n",
       "}\n",
       "\n",
       "#sk-container-id-1 div.sk-label-container {\n",
       "  text-align: center;\n",
       "}\n",
       "\n",
       "/* Estimator-specific */\n",
       "#sk-container-id-1 div.sk-estimator {\n",
       "  font-family: monospace;\n",
       "  border: 1px dotted var(--sklearn-color-border-box);\n",
       "  border-radius: 0.25em;\n",
       "  box-sizing: border-box;\n",
       "  margin-bottom: 0.5em;\n",
       "  /* unfitted */\n",
       "  background-color: var(--sklearn-color-unfitted-level-0);\n",
       "}\n",
       "\n",
       "#sk-container-id-1 div.sk-estimator.fitted {\n",
       "  /* fitted */\n",
       "  background-color: var(--sklearn-color-fitted-level-0);\n",
       "}\n",
       "\n",
       "/* on hover */\n",
       "#sk-container-id-1 div.sk-estimator:hover {\n",
       "  /* unfitted */\n",
       "  background-color: var(--sklearn-color-unfitted-level-2);\n",
       "}\n",
       "\n",
       "#sk-container-id-1 div.sk-estimator.fitted:hover {\n",
       "  /* fitted */\n",
       "  background-color: var(--sklearn-color-fitted-level-2);\n",
       "}\n",
       "\n",
       "/* Specification for estimator info (e.g. \"i\" and \"?\") */\n",
       "\n",
       "/* Common style for \"i\" and \"?\" */\n",
       "\n",
       ".sk-estimator-doc-link,\n",
       "a:link.sk-estimator-doc-link,\n",
       "a:visited.sk-estimator-doc-link {\n",
       "  float: right;\n",
       "  font-size: smaller;\n",
       "  line-height: 1em;\n",
       "  font-family: monospace;\n",
       "  background-color: var(--sklearn-color-background);\n",
       "  border-radius: 1em;\n",
       "  height: 1em;\n",
       "  width: 1em;\n",
       "  text-decoration: none !important;\n",
       "  margin-left: 1ex;\n",
       "  /* unfitted */\n",
       "  border: var(--sklearn-color-unfitted-level-1) 1pt solid;\n",
       "  color: var(--sklearn-color-unfitted-level-1);\n",
       "}\n",
       "\n",
       ".sk-estimator-doc-link.fitted,\n",
       "a:link.sk-estimator-doc-link.fitted,\n",
       "a:visited.sk-estimator-doc-link.fitted {\n",
       "  /* fitted */\n",
       "  border: var(--sklearn-color-fitted-level-1) 1pt solid;\n",
       "  color: var(--sklearn-color-fitted-level-1);\n",
       "}\n",
       "\n",
       "/* On hover */\n",
       "div.sk-estimator:hover .sk-estimator-doc-link:hover,\n",
       ".sk-estimator-doc-link:hover,\n",
       "div.sk-label-container:hover .sk-estimator-doc-link:hover,\n",
       ".sk-estimator-doc-link:hover {\n",
       "  /* unfitted */\n",
       "  background-color: var(--sklearn-color-unfitted-level-3);\n",
       "  color: var(--sklearn-color-background);\n",
       "  text-decoration: none;\n",
       "}\n",
       "\n",
       "div.sk-estimator.fitted:hover .sk-estimator-doc-link.fitted:hover,\n",
       ".sk-estimator-doc-link.fitted:hover,\n",
       "div.sk-label-container:hover .sk-estimator-doc-link.fitted:hover,\n",
       ".sk-estimator-doc-link.fitted:hover {\n",
       "  /* fitted */\n",
       "  background-color: var(--sklearn-color-fitted-level-3);\n",
       "  color: var(--sklearn-color-background);\n",
       "  text-decoration: none;\n",
       "}\n",
       "\n",
       "/* Span, style for the box shown on hovering the info icon */\n",
       ".sk-estimator-doc-link span {\n",
       "  display: none;\n",
       "  z-index: 9999;\n",
       "  position: relative;\n",
       "  font-weight: normal;\n",
       "  right: .2ex;\n",
       "  padding: .5ex;\n",
       "  margin: .5ex;\n",
       "  width: min-content;\n",
       "  min-width: 20ex;\n",
       "  max-width: 50ex;\n",
       "  color: var(--sklearn-color-text);\n",
       "  box-shadow: 2pt 2pt 4pt #999;\n",
       "  /* unfitted */\n",
       "  background: var(--sklearn-color-unfitted-level-0);\n",
       "  border: .5pt solid var(--sklearn-color-unfitted-level-3);\n",
       "}\n",
       "\n",
       ".sk-estimator-doc-link.fitted span {\n",
       "  /* fitted */\n",
       "  background: var(--sklearn-color-fitted-level-0);\n",
       "  border: var(--sklearn-color-fitted-level-3);\n",
       "}\n",
       "\n",
       ".sk-estimator-doc-link:hover span {\n",
       "  display: block;\n",
       "}\n",
       "\n",
       "/* \"?\"-specific style due to the `<a>` HTML tag */\n",
       "\n",
       "#sk-container-id-1 a.estimator_doc_link {\n",
       "  float: right;\n",
       "  font-size: 1rem;\n",
       "  line-height: 1em;\n",
       "  font-family: monospace;\n",
       "  background-color: var(--sklearn-color-background);\n",
       "  border-radius: 1rem;\n",
       "  height: 1rem;\n",
       "  width: 1rem;\n",
       "  text-decoration: none;\n",
       "  /* unfitted */\n",
       "  color: var(--sklearn-color-unfitted-level-1);\n",
       "  border: var(--sklearn-color-unfitted-level-1) 1pt solid;\n",
       "}\n",
       "\n",
       "#sk-container-id-1 a.estimator_doc_link.fitted {\n",
       "  /* fitted */\n",
       "  border: var(--sklearn-color-fitted-level-1) 1pt solid;\n",
       "  color: var(--sklearn-color-fitted-level-1);\n",
       "}\n",
       "\n",
       "/* On hover */\n",
       "#sk-container-id-1 a.estimator_doc_link:hover {\n",
       "  /* unfitted */\n",
       "  background-color: var(--sklearn-color-unfitted-level-3);\n",
       "  color: var(--sklearn-color-background);\n",
       "  text-decoration: none;\n",
       "}\n",
       "\n",
       "#sk-container-id-1 a.estimator_doc_link.fitted:hover {\n",
       "  /* fitted */\n",
       "  background-color: var(--sklearn-color-fitted-level-3);\n",
       "}\n",
       "</style><div id=\"sk-container-id-1\" class=\"sk-top-container\"><div class=\"sk-text-repr-fallback\"><pre>DecisionTreeClassifier(max_depth=3, random_state=25)</pre><b>In a Jupyter environment, please rerun this cell to show the HTML representation or trust the notebook. <br />On GitHub, the HTML representation is unable to render, please try loading this page with nbviewer.org.</b></div><div class=\"sk-container\" hidden><div class=\"sk-item\"><div class=\"sk-estimator fitted sk-toggleable\"><input class=\"sk-toggleable__control sk-hidden--visually\" id=\"sk-estimator-id-1\" type=\"checkbox\" checked><label for=\"sk-estimator-id-1\" class=\"sk-toggleable__label fitted sk-toggleable__label-arrow fitted\">&nbsp;&nbsp;DecisionTreeClassifier<a class=\"sk-estimator-doc-link fitted\" rel=\"noreferrer\" target=\"_blank\" href=\"https://scikit-learn.org/1.4/modules/generated/sklearn.tree.DecisionTreeClassifier.html\">?<span>Documentation for DecisionTreeClassifier</span></a><span class=\"sk-estimator-doc-link fitted\">i<span>Fitted</span></span></label><div class=\"sk-toggleable__content fitted\"><pre>DecisionTreeClassifier(max_depth=3, random_state=25)</pre></div> </div></div></div></div>"
      ],
      "text/plain": [
       "DecisionTreeClassifier(max_depth=3, random_state=25)"
      ]
     },
     "execution_count": 20,
     "metadata": {},
     "output_type": "execute_result"
    }
   ],
   "source": [
    "dtc.fit(X_train,y_train)"
   ]
  },
  {
   "cell_type": "code",
   "execution_count": 24,
   "id": "a70c25a4-6d34-4cf3-9931-474dcc7a5158",
   "metadata": {
    "execution": {
     "iopub.execute_input": "2024-07-14T07:06:16.319985Z",
     "iopub.status.busy": "2024-07-14T07:06:16.317985Z",
     "iopub.status.idle": "2024-07-14T07:06:16.389377Z",
     "shell.execute_reply": "2024-07-14T07:06:16.385834Z",
     "shell.execute_reply.started": "2024-07-14T07:06:16.319985Z"
    }
   },
   "outputs": [
    {
     "name": "stdout",
     "output_type": "stream",
     "text": [
      "              precision    recall  f1-score   support\n",
      "\n",
      "           B       0.00      0.00      0.00        10\n",
      "           L       0.79      0.64      0.71        76\n",
      "           R       0.65      0.87      0.75        71\n",
      "\n",
      "    accuracy                           0.71       157\n",
      "   macro avg       0.48      0.51      0.49       157\n",
      "weighted avg       0.68      0.71      0.68       157\n",
      "\n"
     ]
    },
    {
     "name": "stderr",
     "output_type": "stream",
     "text": [
      "C:\\ProgramData\\anaconda3\\Lib\\site-packages\\sklearn\\metrics\\_classification.py:1509: UndefinedMetricWarning: Precision is ill-defined and being set to 0.0 in labels with no predicted samples. Use `zero_division` parameter to control this behavior.\n",
      "  _warn_prf(average, modifier, f\"{metric.capitalize()} is\", len(result))\n",
      "C:\\ProgramData\\anaconda3\\Lib\\site-packages\\sklearn\\metrics\\_classification.py:1509: UndefinedMetricWarning: Precision is ill-defined and being set to 0.0 in labels with no predicted samples. Use `zero_division` parameter to control this behavior.\n",
      "  _warn_prf(average, modifier, f\"{metric.capitalize()} is\", len(result))\n",
      "C:\\ProgramData\\anaconda3\\Lib\\site-packages\\sklearn\\metrics\\_classification.py:1509: UndefinedMetricWarning: Precision is ill-defined and being set to 0.0 in labels with no predicted samples. Use `zero_division` parameter to control this behavior.\n",
      "  _warn_prf(average, modifier, f\"{metric.capitalize()} is\", len(result))\n"
     ]
    }
   ],
   "source": [
    "predictions = dtc.predict(X_test)\n",
    "print(classification_report(y_test,predictions))"
   ]
  },
  {
   "cell_type": "code",
   "execution_count": 26,
   "id": "669860b2-8590-4f07-8d2f-117fe4385de6",
   "metadata": {
    "execution": {
     "iopub.execute_input": "2024-07-14T07:07:57.512897Z",
     "iopub.status.busy": "2024-07-14T07:07:57.512897Z",
     "iopub.status.idle": "2024-07-14T07:07:57.573104Z",
     "shell.execute_reply": "2024-07-14T07:07:57.569613Z",
     "shell.execute_reply.started": "2024-07-14T07:07:57.512897Z"
    }
   },
   "outputs": [
    {
     "name": "stdout",
     "output_type": "stream",
     "text": [
      "              precision    recall  f1-score   support\n",
      "\n",
      "           B       0.00      0.00      0.00        10\n",
      "           L       0.75      0.75      0.75        76\n",
      "           R       0.69      0.79      0.74        71\n",
      "\n",
      "    accuracy                           0.72       157\n",
      "   macro avg       0.48      0.51      0.50       157\n",
      "weighted avg       0.68      0.72      0.70       157\n",
      "\n"
     ]
    },
    {
     "name": "stderr",
     "output_type": "stream",
     "text": [
      "C:\\ProgramData\\anaconda3\\Lib\\site-packages\\sklearn\\metrics\\_classification.py:1509: UndefinedMetricWarning: Precision is ill-defined and being set to 0.0 in labels with no predicted samples. Use `zero_division` parameter to control this behavior.\n",
      "  _warn_prf(average, modifier, f\"{metric.capitalize()} is\", len(result))\n",
      "C:\\ProgramData\\anaconda3\\Lib\\site-packages\\sklearn\\metrics\\_classification.py:1509: UndefinedMetricWarning: Precision is ill-defined and being set to 0.0 in labels with no predicted samples. Use `zero_division` parameter to control this behavior.\n",
      "  _warn_prf(average, modifier, f\"{metric.capitalize()} is\", len(result))\n",
      "C:\\ProgramData\\anaconda3\\Lib\\site-packages\\sklearn\\metrics\\_classification.py:1509: UndefinedMetricWarning: Precision is ill-defined and being set to 0.0 in labels with no predicted samples. Use `zero_division` parameter to control this behavior.\n",
      "  _warn_prf(average, modifier, f\"{metric.capitalize()} is\", len(result))\n"
     ]
    }
   ],
   "source": [
    "dtc_e = DecisionTreeClassifier(criterion = 'entropy',max_depth = 3, random_state = 25)\n",
    "dtc_e.fit(X_train,y_train)\n",
    "predictions = dtc_e.predict(X_test)\n",
    "print(classification_report(y_test,predictions))"
   ]
  },
  {
   "cell_type": "code",
   "execution_count": 28,
   "id": "01d25c78-1517-4947-80b5-70fe30924a10",
   "metadata": {
    "execution": {
     "iopub.execute_input": "2024-07-14T07:11:34.459113Z",
     "iopub.status.busy": "2024-07-14T07:11:34.458109Z",
     "iopub.status.idle": "2024-07-14T07:11:34.487407Z",
     "shell.execute_reply": "2024-07-14T07:11:34.484837Z",
     "shell.execute_reply.started": "2024-07-14T07:11:34.459113Z"
    }
   },
   "outputs": [
    {
     "data": {
      "text/plain": [
       "array([[ 0,  4,  6],\n",
       "       [ 0, 57, 19],\n",
       "       [ 0, 15, 56]], dtype=int64)"
      ]
     },
     "execution_count": 28,
     "metadata": {},
     "output_type": "execute_result"
    }
   ],
   "source": [
    "from sklearn.metrics import confusion_matrix\n",
    "cnf = confusion_matrix(y_test,predictions)\n",
    "cnf"
   ]
  },
  {
   "cell_type": "code",
   "execution_count": 35,
   "id": "213cbfa0-31b2-45ed-93fb-eff5bdbe8a19",
   "metadata": {
    "execution": {
     "iopub.execute_input": "2024-07-14T07:13:19.460090Z",
     "iopub.status.busy": "2024-07-14T07:13:19.459078Z",
     "iopub.status.idle": "2024-07-14T07:13:19.917744Z",
     "shell.execute_reply": "2024-07-14T07:13:19.916176Z",
     "shell.execute_reply.started": "2024-07-14T07:13:19.460090Z"
    }
   },
   "outputs": [
    {
     "name": "stderr",
     "output_type": "stream",
     "text": [
      "No artists with labels found to put in legend.  Note that artists whose label start with an underscore are ignored when legend() is called with no argument.\n"
     ]
    },
    {
     "data": {
      "image/png": "[encoded data removed]",
      "text/plain": [
       "<Figure size 800x600 with 2 Axes>"
      ]
     },
     "metadata": {},
     "output_type": "display_data"
    }
   ],
   "source": [
    "import seaborn as sns\n",
    "import matplotlib.pyplot as plt\n",
    "%matplotlib inline\n",
    "import math\n",
    "plt.figure(figsize=(8, 6))\n",
    "sns.heatmap(cnf, annot=True, cmap=\"YlGnBu\", fmt=\"d\")\n",
    "plt.xlabel('Predicted')\n",
    "plt.ylabel('Actual')\n",
    "plt.title('Confusion Matrix Heatmap')\n",
    "plt.legend()\n",
    "plt.show()"
   ]
  },
  {
   "cell_type": "code",
   "execution_count": 37,
   "id": "d79bb7a7-bb2f-47d8-86dd-eb49da5161d7",
   "metadata": {
    "execution": {
     "iopub.execute_input": "2024-07-14T07:14:01.929051Z",
     "iopub.status.busy": "2024-07-14T07:14:01.927037Z",
     "iopub.status.idle": "2024-07-14T07:14:01.949651Z",
     "shell.execute_reply": "2024-07-14T07:14:01.947106Z",
     "shell.execute_reply.started": "2024-07-14T07:14:01.929051Z"
    }
   },
   "outputs": [
    {
     "data": {
      "text/plain": [
       "R    288\n",
       "L    288\n",
       "B     49\n",
       "Name: Class Name, dtype: int64"
      ]
     },
     "execution_count": 37,
     "metadata": {},
     "output_type": "execute_result"
    }
   ],
   "source": [
    "pd.Series(y).value_counts()"
   ]
  },
  {
   "cell_type": "code",
   "execution_count": 41,
   "id": "631706b6-2807-4146-a9e8-3fecf1034b32",
   "metadata": {
    "execution": {
     "iopub.execute_input": "2024-07-14T07:19:39.105615Z",
     "iopub.status.busy": "2024-07-14T07:19:39.104614Z",
     "iopub.status.idle": "2024-07-14T07:19:39.122364Z",
     "shell.execute_reply": "2024-07-14T07:19:39.121350Z",
     "shell.execute_reply.started": "2024-07-14T07:19:39.105615Z"
    }
   },
   "outputs": [
    {
     "name": "stdout",
     "output_type": "stream",
     "text": [
      "|--- Right weight <= 2.50\n",
      "|   |--- Left weight <= 1.50\n",
      "|   |   |--- Right distance <= 2.50\n",
      "|   |   |   |--- class: L\n",
      "|   |   |--- Right distance >  2.50\n",
      "|   |   |   |--- class: R\n",
      "|   |--- Left weight >  1.50\n",
      "|   |   |--- Left distance <= 1.50\n",
      "|   |   |   |--- class: R\n",
      "|   |   |--- Left distance >  1.50\n",
      "|   |   |   |--- class: L\n",
      "|--- Right weight >  2.50\n",
      "|   |--- Right distance <= 1.50\n",
      "|   |   |--- Left weight <= 1.50\n",
      "|   |   |   |--- class: R\n",
      "|   |   |--- Left weight >  1.50\n",
      "|   |   |   |--- class: L\n",
      "|   |--- Right distance >  1.50\n",
      "|   |   |--- Left weight <= 3.50\n",
      "|   |   |   |--- class: R\n",
      "|   |   |--- Left weight >  3.50\n",
      "|   |   |   |--- class: R\n",
      "\n"
     ]
    }
   ],
   "source": [
    "target = list(df['Class Name'].unique())\n",
    "feature_names = list(X.columns)\n",
    "from sklearn.tree import export_text,plot_tree\n",
    "r = export_text(dtc,feature_names = feature_names)\n",
    "print(r)"
   ]
  },
  {
   "cell_type": "code",
   "execution_count": 55,
   "id": "56573c97-9af1-4d10-af9c-3e622cedbf69",
   "metadata": {
    "execution": {
     "iopub.execute_input": "2024-07-14T07:25:26.504536Z",
     "iopub.status.busy": "2024-07-14T07:25:26.503538Z",
     "iopub.status.idle": "2024-07-14T07:25:27.991920Z",
     "shell.execute_reply": "2024-07-14T07:25:27.988877Z",
     "shell.execute_reply.started": "2024-07-14T07:25:26.504536Z"
    }
   },
   "outputs": [
    {
     "data": {
      "text/plain": [
       "[Text(0.5, 0.875, 'x[2] <= 2.5\\ngini = 0.573\\nsamples = 468\\nvalue = [39, 212, 217]'),\n",
       " Text(0.25, 0.625, 'x[0] <= 1.5\\ngini = 0.479\\nsamples = 184\\nvalue = [18, 125, 41]'),\n",
       " Text(0.125, 0.375, 'x[3] <= 2.5\\ngini = 0.586\\nsamples = 38\\nvalue = [6.0, 11.0, 21.0]'),\n",
       " Text(0.0625, 0.125, 'gini = 0.56\\nsamples = 15\\nvalue = [3, 9, 3]'),\n",
       " Text(0.1875, 0.125, 'gini = 0.363\\nsamples = 23\\nvalue = [3, 2, 18]'),\n",
       " Text(0.375, 0.375, 'x[1] <= 1.5\\ngini = 0.365\\nsamples = 146\\nvalue = [12, 114, 20]'),\n",
       " Text(0.3125, 0.125, 'gini = 0.618\\nsamples = 29\\nvalue = [5, 10, 14]'),\n",
       " Text(0.4375, 0.125, 'gini = 0.204\\nsamples = 117\\nvalue = [7, 104, 6]'),\n",
       " Text(0.75, 0.625, 'x[3] <= 1.5\\ngini = 0.517\\nsamples = 284\\nvalue = [21, 87, 176]'),\n",
       " Text(0.625, 0.375, 'x[0] <= 1.5\\ngini = 0.423\\nsamples = 58\\nvalue = [3, 42, 13]'),\n",
       " Text(0.5625, 0.125, 'gini = 0.486\\nsamples = 12\\nvalue = [1, 3, 8]'),\n",
       " Text(0.6875, 0.125, 'gini = 0.267\\nsamples = 46\\nvalue = [2, 39, 5]'),\n",
       " Text(0.875, 0.375, 'x[0] <= 3.5\\ngini = 0.434\\nsamples = 226\\nvalue = [18, 45, 163]'),\n",
       " Text(0.8125, 0.125, 'gini = 0.204\\nsamples = 135\\nvalue = [8, 7, 120]'),\n",
       " Text(0.9375, 0.125, 'gini = 0.59\\nsamples = 91\\nvalue = [10, 38, 43]')]"
      ]
     },
     "execution_count": 55,
     "metadata": {},
     "output_type": "execute_result"
    },
    {
     "data": {
      "image/png": "[encoded data removed]",
      "text/plain": [
       "<Figure size 640x480 with 1 Axes>"
      ]
     },
     "metadata": {},
     "output_type": "display_data"
    }
   ],
   "source": [
    "plot_tree(dtc)"
   ]
  },
  {
   "cell_type": "code",
   "execution_count": 53,
   "id": "47c76de2-a185-47e6-872b-f9ee66b64388",
   "metadata": {
    "execution": {
     "iopub.execute_input": "2024-07-14T07:23:17.193637Z",
     "iopub.status.busy": "2024-07-14T07:23:17.193637Z",
     "iopub.status.idle": "2024-07-14T07:23:17.672907Z",
     "shell.execute_reply": "2024-07-14T07:23:17.669368Z",
     "shell.execute_reply.started": "2024-07-14T07:23:17.193637Z"
    }
   },
   "outputs": [
    {
     "name": "stdout",
     "output_type": "stream",
     "text": [
      "              precision    recall  f1-score   support\n",
      "\n",
      "           B       0.00      0.00      0.00        10\n",
      "           L       0.90      0.91      0.90        76\n",
      "           R       0.92      0.86      0.89        71\n",
      "\n",
      "    accuracy                           0.83       157\n",
      "   macro avg       0.61      0.59      0.60       157\n",
      "weighted avg       0.85      0.83      0.84       157\n",
      "\n"
     ]
    }
   ],
   "source": [
    "rfc = RandomForestClassifier(n_estimators = 100)\n",
    "rfc.fit(X_train,y_train)\n",
    "predictions = rfc.predict(X_test)\n",
    "print(classification_report(y_test,predictions))"
   ]
  },
  {
   "cell_type": "code",
   "execution_count": null,
   "id": "86e0b1ac-83da-4d37-8a05-1e8964daf908",
   "metadata": {},
   "outputs": [],
   "source": []
  }
 ],
 "metadata": {
  "kernelspec": {
   "display_name": "Python 3 (ipykernel)",
   "language": "python",
   "name": "python3"
  },
  "language_info": {
   "codemirror_mode": {
    "name": "ipython",
    "version": 3
   },
   "file_extension": ".py",
   "mimetype": "text/x-python",
   "name": "python",
   "nbconvert_exporter": "python",
   "pygments_lexer": "ipython3",
   "version": "3.11.5"
  }
 },
 "nbformat": 4,
 "nbformat_minor": 5
}
