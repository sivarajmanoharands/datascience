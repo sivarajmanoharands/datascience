{
 "cells": [
  {
   "cell_type": "code",
   "execution_count": 190,
   "id": "63a2cb08-f386-4bfc-b861-a3ddbcfa610f",
   "metadata": {
    "execution": {
     "iopub.execute_input": "2024-07-16T04:28:48.358812Z",
     "iopub.status.busy": "2024-07-16T04:28:48.357813Z",
     "iopub.status.idle": "2024-07-16T04:28:48.371119Z",
     "shell.execute_reply": "2024-07-16T04:28:48.369102Z",
     "shell.execute_reply.started": "2024-07-16T04:28:48.358812Z"
    }
   },
   "outputs": [],
   "source": [
    "import numpy as np\n",
    "import tensorflow as tf\n",
    "from tensorflow import keras\n",
    "from sklearn.metrics import precision_score, recall_score, f1_score, classification_report, confusion_matrix\n",
    "from sklearn.model_selection import train_test_split\n",
    "import matplotlib.pyplot as plt\n",
    "import seaborn as sns"
   ]
  },
  {
   "cell_type": "code",
   "execution_count": 191,
   "id": "5b6d3baf-3960-4d78-a4ed-6041b9a6225d",
   "metadata": {
    "execution": {
     "iopub.execute_input": "2024-07-16T04:28:48.376604Z",
     "iopub.status.busy": "2024-07-16T04:28:48.375590Z",
     "iopub.status.idle": "2024-07-16T04:28:48.386243Z",
     "shell.execute_reply": "2024-07-16T04:28:48.384247Z",
     "shell.execute_reply.started": "2024-07-16T04:28:48.376604Z"
    }
   },
   "outputs": [],
   "source": [
    "#(X_train, y_train), (X_test, y_test) = keras.datasets.california_housing.load_data()"
   ]
  },
  {
   "cell_type": "code",
   "execution_count": 192,
   "id": "8cbeaae9-aaa2-4bd3-a1d4-1076c9edc417",
   "metadata": {
    "execution": {
     "iopub.execute_input": "2024-07-16T04:28:48.389800Z",
     "iopub.status.busy": "2024-07-16T04:28:48.388801Z",
     "iopub.status.idle": "2024-07-16T04:28:49.042939Z",
     "shell.execute_reply": "2024-07-16T04:28:49.040396Z",
     "shell.execute_reply.started": "2024-07-16T04:28:48.389800Z"
    }
   },
   "outputs": [],
   "source": [
    "# Load the dataset (e.g., MNIST)\n",
    "(X_train, y_train), (X_test, y_test) = keras.datasets.mnist.load_data()\n"
   ]
  },
  {
   "cell_type": "code",
   "execution_count": 193,
   "id": "ca047395-c951-4f5b-ab44-0d8ead0f74d3",
   "metadata": {
    "execution": {
     "iopub.execute_input": "2024-07-16T04:28:49.052562Z",
     "iopub.status.busy": "2024-07-16T04:28:49.050940Z",
     "iopub.status.idle": "2024-07-16T04:28:49.066540Z",
     "shell.execute_reply": "2024-07-16T04:28:49.062987Z",
     "shell.execute_reply.started": "2024-07-16T04:28:49.052562Z"
    }
   },
   "outputs": [],
   "source": [
    "# Reshape the data to 4D tensors (batch_size, height, width, channels)\n",
    "X_train = X_train.reshape(-1, 28, 28, 1)\n",
    "X_test = X_test.reshape(-1, 28, 28, 1)"
   ]
  },
  {
   "cell_type": "code",
   "execution_count": 194,
   "id": "fe7c8614-950f-45ba-977a-32ff30cc7296",
   "metadata": {
    "execution": {
     "iopub.execute_input": "2024-07-16T04:28:49.071538Z",
     "iopub.status.busy": "2024-07-16T04:28:49.069540Z",
     "iopub.status.idle": "2024-07-16T04:28:49.678835Z",
     "shell.execute_reply": "2024-07-16T04:28:49.676823Z",
     "shell.execute_reply.started": "2024-07-16T04:28:49.071538Z"
    }
   },
   "outputs": [],
   "source": [
    "# Normalize the data\n",
    "X_train = X_train.astype('float32') / 255\n",
    "X_test = X_test.astype('float32') / 255"
   ]
  },
  {
   "cell_type": "code",
   "execution_count": 195,
   "id": "d61dc9d8-9806-4aec-9518-632c7fc8ff19",
   "metadata": {
    "execution": {
     "iopub.execute_input": "2024-07-16T04:28:49.683838Z",
     "iopub.status.busy": "2024-07-16T04:28:49.682837Z",
     "iopub.status.idle": "2024-07-16T04:28:49.904242Z",
     "shell.execute_reply": "2024-07-16T04:28:49.901217Z",
     "shell.execute_reply.started": "2024-07-16T04:28:49.683838Z"
    }
   },
   "outputs": [],
   "source": [
    "# Split the data into training and validation sets\n",
    "X_train, X_val, y_train, y_val = train_test_split(X_train, y_train, test_size=0.2, random_state=42)"
   ]
  },
  {
   "cell_type": "code",
   "execution_count": 196,
   "id": "49b71147-0ea6-43fd-af26-411681a3e017",
   "metadata": {
    "execution": {
     "iopub.execute_input": "2024-07-16T04:28:49.908761Z",
     "iopub.status.busy": "2024-07-16T04:28:49.907759Z",
     "iopub.status.idle": "2024-07-16T04:28:50.191827Z",
     "shell.execute_reply": "2024-07-16T04:28:50.189799Z",
     "shell.execute_reply.started": "2024-07-16T04:28:49.908761Z"
    }
   },
   "outputs": [],
   "source": [
    "# Define the CNN Autoencoder model\n",
    "model = keras.Sequential([\n",
    "    keras.layers.Conv2D(32, (3, 3), activation='relu', input_shape=(28, 28, 1)),\n",
    "    keras.layers.MaxPooling2D((2, 2)),\n",
    "    keras.layers.Conv2D(64, (3, 3), activation='relu'),\n",
    "    keras.layers.MaxPooling2D((2, 2)),\n",
    "    keras.layers.Conv2D(64, (3, 3), activation='relu'),\n",
    "    keras.layers.Flatten(),\n",
    "    keras.layers.Dense(128, activation='relu'),\n",
    "    keras.layers.Dense(7*7*64, activation='relu'),\n",
    "    keras.layers.Reshape((7, 7, 64)),\n",
    "    keras.layers.Conv2DTranspose(64, (3, 3), strides=2, padding='same', activation='relu'),\n",
    "    keras.layers.Conv2DTranspose(32, (3, 3), strides=2, padding='same', activation='relu'),\n",
    "    keras.layers.Conv2D(1, (3, 3), activation='sigmoid', padding='same')\n",
    "])"
   ]
  },
  {
   "cell_type": "code",
   "execution_count": 197,
   "id": "b139ebf2-5b66-49b9-b4b8-a6e40b592dc4",
   "metadata": {
    "execution": {
     "iopub.execute_input": "2024-07-16T04:28:50.196818Z",
     "iopub.status.busy": "2024-07-16T04:28:50.195811Z",
     "iopub.status.idle": "2024-07-16T04:28:50.223439Z",
     "shell.execute_reply": "2024-07-16T04:28:50.219535Z",
     "shell.execute_reply.started": "2024-07-16T04:28:50.196818Z"
    }
   },
   "outputs": [],
   "source": [
    "# Compile the model\n",
    "model.compile(optimizer='adam', loss='mean_squared_error')"
   ]
  },
  {
   "cell_type": "code",
   "execution_count": 198,
   "id": "942e2d81-7745-43dd-b3d8-6d963eb03f76",
   "metadata": {
    "execution": {
     "iopub.execute_input": "2024-07-16T04:28:50.227442Z",
     "iopub.status.busy": "2024-07-16T04:28:50.226441Z",
     "iopub.status.idle": "2024-07-16T04:40:41.337452Z",
     "shell.execute_reply": "2024-07-16T04:40:41.334822Z",
     "shell.execute_reply.started": "2024-07-16T04:28:50.227442Z"
    }
   },
   "outputs": [
    {
     "name": "stdout",
     "output_type": "stream",
     "text": [
      "Epoch 1/10\n",
      "1500/1500 - 71s - 47ms/step - loss: 0.0198 - val_loss: 0.0080\n",
      "Epoch 2/10\n",
      "1500/1500 - 67s - 45ms/step - loss: 0.0062 - val_loss: 0.0054\n",
      "Epoch 3/10\n",
      "1500/1500 - 64s - 43ms/step - loss: 0.0048 - val_loss: 0.0044\n",
      "Epoch 4/10\n",
      "1500/1500 - 80s - 54ms/step - loss: 0.0041 - val_loss: 0.0038\n",
      "Epoch 5/10\n",
      "1500/1500 - 67s - 45ms/step - loss: 0.0037 - val_loss: 0.0035\n",
      "Epoch 6/10\n",
      "1500/1500 - 70s - 46ms/step - loss: 0.0034 - val_loss: 0.0033\n",
      "Epoch 7/10\n",
      "1500/1500 - 73s - 49ms/step - loss: 0.0031 - val_loss: 0.0031\n",
      "Epoch 8/10\n",
      "1500/1500 - 77s - 52ms/step - loss: 0.0030 - val_loss: 0.0031\n",
      "Epoch 9/10\n",
      "1500/1500 - 76s - 51ms/step - loss: 0.0028 - val_loss: 0.0029\n",
      "Epoch 10/10\n",
      "1500/1500 - 65s - 43ms/step - loss: 0.0027 - val_loss: 0.0029\n"
     ]
    }
   ],
   "source": [
    "# Train the model\n",
    "history = model.fit(X_train, X_train, epochs=10, \n",
    "                    validation_data=(X_val, X_val), \n",
    "                    verbose=2)\n"
   ]
  },
  {
   "cell_type": "code",
   "execution_count": 199,
   "id": "36981607-c81b-4a54-928c-2188fa0c5bff",
   "metadata": {
    "execution": {
     "iopub.execute_input": "2024-07-16T04:40:41.355899Z",
     "iopub.status.busy": "2024-07-16T04:40:41.350895Z",
     "iopub.status.idle": "2024-07-16T04:40:48.431246Z",
     "shell.execute_reply": "2024-07-16T04:40:48.428658Z",
     "shell.execute_reply.started": "2024-07-16T04:40:41.355899Z"
    }
   },
   "outputs": [
    {
     "name": "stdout",
     "output_type": "stream",
     "text": [
      "\u001b[1m313/313\u001b[0m \u001b[32m━━━━━━━━━━━━━━━━━━━━\u001b[0m\u001b[37m\u001b[0m \u001b[1m7s\u001b[0m 19ms/step - loss: 0.0028\n",
      "Test MSE: 0.003\n"
     ]
    }
   ],
   "source": [
    "# Evaluate the model on the test set\n",
    "mse = model.evaluate(X_test, X_test)\n",
    "print(f'Test MSE: {mse:.3f}')\n"
   ]
  },
  {
   "cell_type": "code",
   "execution_count": 200,
   "id": "fe360259-c09e-4aa4-ad64-b2b02861d307",
   "metadata": {
    "execution": {
     "iopub.execute_input": "2024-07-16T04:40:48.435228Z",
     "iopub.status.busy": "2024-07-16T04:40:48.433224Z",
     "iopub.status.idle": "2024-07-16T04:40:48.450297Z",
     "shell.execute_reply": "2024-07-16T04:40:48.447284Z",
     "shell.execute_reply.started": "2024-07-16T04:40:48.435228Z"
    }
   },
   "outputs": [],
   "source": [
    "# Use the model to detect anomalies\n",
    "def detect_anomaly(x, threshold=0.02):\n",
    "    x_reconstructed = model.predict(x)\n",
    "    mse = np.mean(np.square(x - x_reconstructed), axis=(1, 2, 3))\n",
    "    return mse > threshold"
   ]
  },
  {
   "cell_type": "code",
   "execution_count": 201,
   "id": "4f2fad20-ffde-4de2-b231-52289e31ad7f",
   "metadata": {
    "execution": {
     "iopub.execute_input": "2024-07-16T04:40:48.454841Z",
     "iopub.status.busy": "2024-07-16T04:40:48.453845Z",
     "iopub.status.idle": "2024-07-16T04:40:48.469955Z",
     "shell.execute_reply": "2024-07-16T04:40:48.466939Z",
     "shell.execute_reply.started": "2024-07-16T04:40:48.454841Z"
    }
   },
   "outputs": [],
   "source": [
    "# Calculate entropy\n",
    "def calculate_entropy(labels):\n",
    "    _, counts = np.unique(labels, return_counts=True)\n",
    "    probabilities = counts / len(labels)\n",
    "    entropy = -np.sum(probabilities * np.log2(probabilities))\n",
    "    return entropy\n"
   ]
  },
  {
   "cell_type": "code",
   "execution_count": 202,
   "id": "138dc597-8938-49c1-9b9a-6a9e13895782",
   "metadata": {
    "execution": {
     "iopub.execute_input": "2024-07-16T04:40:48.475497Z",
     "iopub.status.busy": "2024-07-16T04:40:48.474482Z",
     "iopub.status.idle": "2024-07-16T04:40:49.227729Z",
     "shell.execute_reply": "2024-07-16T04:40:49.225712Z",
     "shell.execute_reply.started": "2024-07-16T04:40:48.475497Z"
    }
   },
   "outputs": [
    {
     "name": "stdout",
     "output_type": "stream",
     "text": [
      "\u001b[1m1/1\u001b[0m \u001b[32m━━━━━━━━━━━━━━━━━━━━\u001b[0m\u001b[37m\u001b[0m \u001b[1m1s\u001b[0m 532ms/step\n",
      "[False False False False False False False False False False]\n"
     ]
    }
   ],
   "source": [
    "# Test the anomaly detection function\n",
    "X_anomaly = X_test[:10]  # select a few test images as anomalies\n",
    "y_pred = detect_anomaly(X_anomaly)\n",
    "print(y_pred)  # should output [True, True,..., True] if all are detected as anomalies\n"
   ]
  },
  {
   "cell_type": "code",
   "execution_count": 203,
   "id": "d727f8c2-2f75-4112-8975-3b1b285b8139",
   "metadata": {
    "execution": {
     "iopub.execute_input": "2024-07-16T04:40:49.232728Z",
     "iopub.status.busy": "2024-07-16T04:40:49.231729Z",
     "iopub.status.idle": "2024-07-16T04:40:49.254509Z",
     "shell.execute_reply": "2024-07-16T04:40:49.252495Z",
     "shell.execute_reply.started": "2024-07-16T04:40:49.232728Z"
    }
   },
   "outputs": [],
   "source": [
    "# Visualize the original and reconstructed images\n",
    "def visualize_reconstructions(original, reconstructed, num_images=9):\n",
    "    plt.figure(figsize=(10, 10))\n",
    "    for i in range(num_images):\n",
    "        # Original images\n",
    "        plt.subplot(3, 3, i + 1)\n",
    "        plt.imshow(original[i].reshape(28, 28), cmap='gray')\n",
    "        plt.title(f'Original {i + 1}')\n",
    "        plt.axis('off')\n",
    "\n",
    "    plt.figure(figsize=(10, 10))\n",
    "    for i in range(num_images):\n",
    "        # Reconstructed images\n",
    "        plt.subplot(3, 3, i + 1)\n",
    "        plt.imshow(reconstructed[i].reshape(28, 28), cmap='gray')\n",
    "        plt.title(f'Reconstructed {i + 1}')\n",
    "        plt.axis('off')\n",
    "    plt.show()\n"
   ]
  },
  {
   "cell_type": "code",
   "execution_count": 204,
   "id": "193c1b22-919f-474d-956f-9898b63e6bdf",
   "metadata": {
    "execution": {
     "iopub.execute_input": "2024-07-16T04:40:49.260039Z",
     "iopub.status.busy": "2024-07-16T04:40:49.258040Z",
     "iopub.status.idle": "2024-07-16T04:40:49.549860Z",
     "shell.execute_reply": "2024-07-16T04:40:49.546842Z",
     "shell.execute_reply.started": "2024-07-16T04:40:49.260039Z"
    }
   },
   "outputs": [
    {
     "name": "stdout",
     "output_type": "stream",
     "text": [
      "\u001b[1m1/1\u001b[0m \u001b[32m━━━━━━━━━━━━━━━━━━━━\u001b[0m\u001b[37m\u001b[0m \u001b[1m0s\u001b[0m 115ms/step\n"
     ]
    }
   ],
   "source": [
    "reconstructed = model.predict(X_anomaly)"
   ]
  },
  {
   "cell_type": "code",
   "execution_count": 205,
   "id": "d86bc694-dd9c-4fa6-a3bc-a4f76776d52b",
   "metadata": {
    "execution": {
     "iopub.execute_input": "2024-07-16T04:40:49.556801Z",
     "iopub.status.busy": "2024-07-16T04:40:49.554386Z",
     "iopub.status.idle": "2024-07-16T04:40:53.393716Z",
     "shell.execute_reply": "2024-07-16T04:40:53.391704Z",
     "shell.execute_reply.started": "2024-07-16T04:40:49.556801Z"
    }
   },
   "outputs": [
    {
     "data": {
      "image/png": "[encoded data removed]",
      "text/plain": [
       "<Figure size 1000x1000 with 9 Axes>"
      ]
     },
     "metadata": {},
     "output_type": "display_data"
    },
    {
     "data": {
      "image/png": "[encoded data removed]",
      "text/plain": [
       "<Figure size 1000x1000 with 9 Axes>"
      ]
     },
     "metadata": {},
     "output_type": "display_data"
    }
   ],
   "source": [
    "visualize_reconstructions(X_anomaly, reconstructed)"
   ]
  },
  {
   "cell_type": "code",
   "execution_count": 206,
   "id": "e5d4dec7-82dc-4fe3-b765-fe68230cb16b",
   "metadata": {
    "execution": {
     "iopub.execute_input": "2024-07-16T04:40:53.398717Z",
     "iopub.status.busy": "2024-07-16T04:40:53.397719Z",
     "iopub.status.idle": "2024-07-16T04:40:53.412796Z",
     "shell.execute_reply": "2024-07-16T04:40:53.410271Z",
     "shell.execute_reply.started": "2024-07-16T04:40:53.398717Z"
    }
   },
   "outputs": [],
   "source": [
    "# Use the model to detect anomalies\n",
    "def calculate_reconstruction_errors(model, data):\n",
    "    reconstructed_data = model.predict(data)\n",
    "    reconstruction_errors = np.mean(np.square(data - reconstructed_data), axis=(1, 2, 3))\n",
    "    return reconstruction_errors"
   ]
  },
  {
   "cell_type": "code",
   "execution_count": 207,
   "id": "1e7b67a1-1546-4393-93d0-1175d76ab1f6",
   "metadata": {
    "execution": {
     "iopub.execute_input": "2024-07-16T04:40:53.417798Z",
     "iopub.status.busy": "2024-07-16T04:40:53.416796Z",
     "iopub.status.idle": "2024-07-16T04:40:59.615361Z",
     "shell.execute_reply": "2024-07-16T04:40:59.611882Z",
     "shell.execute_reply.started": "2024-07-16T04:40:53.417798Z"
    }
   },
   "outputs": [
    {
     "name": "stdout",
     "output_type": "stream",
     "text": [
      "\u001b[1m313/313\u001b[0m \u001b[32m━━━━━━━━━━━━━━━━━━━━\u001b[0m\u001b[37m\u001b[0m \u001b[1m6s\u001b[0m 17ms/step\n"
     ]
    }
   ],
   "source": [
    "# Calculate reconstruction errors\n",
    "reconstruction_errors = calculate_reconstruction_errors(model, X_test)"
   ]
  },
  {
   "cell_type": "code",
   "execution_count": 208,
   "id": "3817139c-3932-417a-b7fa-11cb439d77df",
   "metadata": {
    "execution": {
     "iopub.execute_input": "2024-07-16T04:40:59.619361Z",
     "iopub.status.busy": "2024-07-16T04:40:59.618363Z",
     "iopub.status.idle": "2024-07-16T04:40:59.631885Z",
     "shell.execute_reply": "2024-07-16T04:40:59.628871Z",
     "shell.execute_reply.started": "2024-07-16T04:40:59.619361Z"
    }
   },
   "outputs": [],
   "source": [
    "# Set a threshold for anomaly detection (for demonstration, using 95th percentile)\n",
    "threshold = np.percentile(reconstruction_errors, 95)\n",
    "simulated_y_pred = reconstruction_errors > threshold"
   ]
  },
  {
   "cell_type": "code",
   "execution_count": 209,
   "id": "90ed6f00-bc8c-4fce-8b7a-8ac7012b6e2b",
   "metadata": {
    "execution": {
     "iopub.execute_input": "2024-07-16T04:40:59.636400Z",
     "iopub.status.busy": "2024-07-16T04:40:59.634886Z",
     "iopub.status.idle": "2024-07-16T04:40:59.648215Z",
     "shell.execute_reply": "2024-07-16T04:40:59.645665Z",
     "shell.execute_reply.started": "2024-07-16T04:40:59.636400Z"
    }
   },
   "outputs": [],
   "source": [
    "# Calculate entropy before and after thresholding\n",
    "entropy_before = calculate_entropy(true_labels)\n",
    "entropy_after = calculate_entropy(simulated_y_pred)\n"
   ]
  },
  {
   "cell_type": "code",
   "execution_count": 210,
   "id": "46a574ce-8adf-45c7-a498-0a123d4949d7",
   "metadata": {
    "execution": {
     "iopub.execute_input": "2024-07-16T04:40:59.652216Z",
     "iopub.status.busy": "2024-07-16T04:40:59.651217Z",
     "iopub.status.idle": "2024-07-16T04:40:59.663077Z",
     "shell.execute_reply": "2024-07-16T04:40:59.660063Z",
     "shell.execute_reply.started": "2024-07-16T04:40:59.652216Z"
    }
   },
   "outputs": [],
   "source": [
    "# Calculate information gain\n",
    "information_gain = entropy_before - entropy_after"
   ]
  },
  {
   "cell_type": "code",
   "execution_count": 211,
   "id": "667687c7-f1a0-4ee9-bc5e-3a4c006fc1db",
   "metadata": {
    "execution": {
     "iopub.execute_input": "2024-07-16T04:40:59.667081Z",
     "iopub.status.busy": "2024-07-16T04:40:59.667081Z",
     "iopub.status.idle": "2024-07-16T04:40:59.677149Z",
     "shell.execute_reply": "2024-07-16T04:40:59.675138Z",
     "shell.execute_reply.started": "2024-07-16T04:40:59.667081Z"
    }
   },
   "outputs": [],
   "source": [
    "# Detect anomalies\n",
    "y_pred = reconstruction_errors > threshold\n"
   ]
  },
  {
   "cell_type": "code",
   "execution_count": 212,
   "id": "edb638c9-0033-4463-ba1c-c85da75b2bf3",
   "metadata": {
    "execution": {
     "iopub.execute_input": "2024-07-16T04:40:59.680310Z",
     "iopub.status.busy": "2024-07-16T04:40:59.679158Z",
     "iopub.status.idle": "2024-07-16T04:40:59.695411Z",
     "shell.execute_reply": "2024-07-16T04:40:59.693397Z",
     "shell.execute_reply.started": "2024-07-16T04:40:59.680310Z"
    }
   },
   "outputs": [],
   "source": [
    "# Since we don't have true labels for anomalies in MNIST, we'll simulate some anomalies\n",
    "# For demonstration, let's assume first 100 are normal (0) and next 100 are anomalies (1)\n",
    "true_labels = np.array([0] * 100 + [1] * 100)\n",
    "simulated_data = np.concatenate((X_test[:100], X_test[100:200]))\n"
   ]
  },
  {
   "cell_type": "code",
   "execution_count": 213,
   "id": "63657990-a58a-4cc9-9fe9-71c4f473a45e",
   "metadata": {
    "execution": {
     "iopub.execute_input": "2024-07-16T04:40:59.700415Z",
     "iopub.status.busy": "2024-07-16T04:40:59.699415Z",
     "iopub.status.idle": "2024-07-16T04:41:00.159132Z",
     "shell.execute_reply": "2024-07-16T04:41:00.156119Z",
     "shell.execute_reply.started": "2024-07-16T04:40:59.700415Z"
    }
   },
   "outputs": [
    {
     "name": "stdout",
     "output_type": "stream",
     "text": [
      "\u001b[1m7/7\u001b[0m \u001b[32m━━━━━━━━━━━━━━━━━━━━\u001b[0m\u001b[37m\u001b[0m \u001b[1m0s\u001b[0m 26ms/step\n"
     ]
    }
   ],
   "source": [
    "# Calculate reconstruction errors for simulated data\n",
    "simulated_reconstruction_errors = calculate_reconstruction_errors(model, simulated_data)\n",
    "simulated_y_pred = simulated_reconstruction_errors > threshold\n"
   ]
  },
  {
   "cell_type": "code",
   "execution_count": 214,
   "id": "bf8e767d-42ed-447f-aa47-922cce990a23",
   "metadata": {
    "execution": {
     "iopub.execute_input": "2024-07-16T04:41:00.165942Z",
     "iopub.status.busy": "2024-07-16T04:41:00.162660Z",
     "iopub.status.idle": "2024-07-16T04:41:00.214429Z",
     "shell.execute_reply": "2024-07-16T04:41:00.211412Z",
     "shell.execute_reply.started": "2024-07-16T04:41:00.165942Z"
    }
   },
   "outputs": [],
   "source": [
    "# Calculate precision, recall, and F1-score\n",
    "precision = precision_score(true_labels, simulated_y_pred)\n",
    "recall = recall_score(true_labels, simulated_y_pred)\n",
    "f1 = f1_score(true_labels, simulated_y_pred)\n"
   ]
  },
  {
   "cell_type": "code",
   "execution_count": 215,
   "id": "33bb9fe4-c3f7-4ff6-92c0-b55ddd9d6c4e",
   "metadata": {
    "execution": {
     "iopub.execute_input": "2024-07-16T04:41:00.218945Z",
     "iopub.status.busy": "2024-07-16T04:41:00.217429Z",
     "iopub.status.idle": "2024-07-16T04:41:00.266198Z",
     "shell.execute_reply": "2024-07-16T04:41:00.263182Z",
     "shell.execute_reply.started": "2024-07-16T04:41:00.218945Z"
    }
   },
   "outputs": [
    {
     "name": "stdout",
     "output_type": "stream",
     "text": [
      "Precision: 0.556\n",
      "Recall: 0.050\n",
      "F1-Score: 0.092\n",
      "\n",
      "Classification Report:\n",
      "              precision    recall  f1-score   support\n",
      "\n",
      "           0       0.50      0.96      0.66       100\n",
      "           1       0.56      0.05      0.09       100\n",
      "\n",
      "    accuracy                           0.51       200\n",
      "   macro avg       0.53      0.51      0.38       200\n",
      "weighted avg       0.53      0.51      0.38       200\n",
      "\n",
      "Entropy before thresholding: 1.000\n",
      "Entropy after thresholding: 0.286\n",
      "Information Gain: 0.714\n"
     ]
    }
   ],
   "source": [
    "print(f'Precision: {precision:.3f}')\n",
    "print(f'Recall: {recall:.3f}')\n",
    "print(f'F1-Score: {f1:.3f}')\n",
    "print('\\nClassification Report:')\n",
    "print(classification_report(true_labels, simulated_y_pred))\n",
    "print(f'Entropy before thresholding: {entropy_before:.3f}')\n",
    "print(f'Entropy after thresholding: {entropy_after:.3f}')\n",
    "print(f'Information Gain: {information_gain:.3f}')"
   ]
  },
  {
   "cell_type": "code",
   "execution_count": 216,
   "id": "0462a2e0-4496-4215-b388-3eef30ed7457",
   "metadata": {
    "execution": {
     "iopub.execute_input": "2024-07-16T04:41:00.270201Z",
     "iopub.status.busy": "2024-07-16T04:41:00.269200Z",
     "iopub.status.idle": "2024-07-16T04:41:00.288703Z",
     "shell.execute_reply": "2024-07-16T04:41:00.285683Z",
     "shell.execute_reply.started": "2024-07-16T04:41:00.270201Z"
    }
   },
   "outputs": [
    {
     "name": "stdout",
     "output_type": "stream",
     "text": [
      "\n",
      "Confusion Matrix:\n",
      "[[96  4]\n",
      " [95  5]]\n"
     ]
    }
   ],
   "source": [
    "\n",
    "# Confusion Matrix\n",
    "conf_matrix = confusion_matrix(true_labels, simulated_y_pred)\n",
    "print('\\nConfusion Matrix:')\n",
    "print(conf_matrix)\n"
   ]
  },
  {
   "cell_type": "code",
   "execution_count": 217,
   "id": "19bbac6e-b6cf-4264-9634-aadf93e15aba",
   "metadata": {
    "execution": {
     "iopub.execute_input": "2024-07-16T04:41:00.306947Z",
     "iopub.status.busy": "2024-07-16T04:41:00.305949Z",
     "iopub.status.idle": "2024-07-16T04:41:01.172944Z",
     "shell.execute_reply": "2024-07-16T04:41:01.168387Z",
     "shell.execute_reply.started": "2024-07-16T04:41:00.306947Z"
    }
   },
   "outputs": [
    {
     "data": {
      "image/png": "[encoded data removed]",
      "text/plain": [
       "<Figure size 800x600 with 2 Axes>"
      ]
     },
     "metadata": {},
     "output_type": "display_data"
    }
   ],
   "source": [
    "plt.figure(figsize=(8, 6))\n",
    "sns.heatmap(conf_matrix, annot=True, cmap=\"YlGnBu\", fmt=\"d\")\n",
    "plt.xlabel('Predicted')\n",
    "plt.ylabel('Actual')\n",
    "plt.title('Confusion Matrix Heatmap')\n",
    "plt.show()"
   ]
  },
  {
   "cell_type": "code",
   "execution_count": null,
   "id": "4bd5ace1-a432-490f-8d02-29ed003d8934",
   "metadata": {
    "collapsed": true,
    "jupyter": {
     "outputs_hidden": true
    }
   },
   "outputs": [],
   "source": []
  }
 ],
 "metadata": {
  "kernelspec": {
   "display_name": "Python 3 (ipykernel)",
   "language": "python",
   "name": "python3"
  },
  "language_info": {
   "codemirror_mode": {
    "name": "ipython",
    "version": 3
   },
   "file_extension": ".py",
   "mimetype": "text/x-python",
   "name": "python",
   "nbconvert_exporter": "python",
   "pygments_lexer": "ipython3",
   "version": "3.11.5"
  }
 },
 "nbformat": 4,
 "nbformat_minor": 5
}
