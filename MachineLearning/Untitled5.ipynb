{
 "cells": [
  {
   "cell_type": "code",
   "execution_count": 1,
   "id": "e21070c3-66be-45d9-ab30-1e30f56fb798",
   "metadata": {
    "execution": {
     "iopub.execute_input": "2024-07-12T08:55:21.804314Z",
     "iopub.status.busy": "2024-07-12T08:55:21.803314Z",
     "iopub.status.idle": "2024-07-12T08:55:22.406684Z",
     "shell.execute_reply": "2024-07-12T08:55:22.405141Z",
     "shell.execute_reply.started": "2024-07-12T08:55:21.804314Z"
    }
   },
   "outputs": [
    {
     "name": "stdout",
     "output_type": "stream",
     "text": [
      "Current location: L1\n",
      "Current location: L2\n",
      "Current location: L3\n",
      "Detected a loop, breaking.\n",
      "['L1', 'L2', 'L3']\n"
     ]
    }
   ],
   "source": [
    "import numpy as np\n",
    "\n",
    "gamma = 0.75\n",
    "alpha = 0.9\n",
    "\n",
    "location_to_state = {\n",
    "    'L1': 0,\n",
    "    'L2': 1,\n",
    "    'L3': 2,\n",
    "    'L4': 3,\n",
    "    'L5': 4,\n",
    "    'L6': 5,\n",
    "    'L7': 6,\n",
    "    'L8': 7,\n",
    "    'L9': 8\n",
    "}\n",
    "\n",
    "actions = [0, 1, 2, 3, 4, 5, 6, 7, 8]\n",
    "\n",
    "rewards = np.array([\n",
    "    [0, 1, 0, 0, 0, 0, 0, 0, 0],\n",
    "    [1, 0, 1, 0, 0, 0, 0, 0, 0],\n",
    "    [0, 1, 0, 0, 1, 0, 0, 0, 0],\n",
    "    [0, 0, 0, 0, 0, 1, 0, 0, 0],\n",
    "    [0, 1, 0, 0, 0, 0, 1, 0, 0],\n",
    "    [0, 0, 1, 0, 0, 0, 0, 0, 0],\n",
    "    [0, 0, 0, 1, 0, 0, 1, 0, 0],\n",
    "    [0, 0, 0, 0, 1, 0, 1, 0, 1],\n",
    "    [0, 0, 0, 0, 0, 0, 0, 1, 0]\n",
    "])\n",
    "\n",
    "state_to_location = {state: location for location, state in location_to_state.items()}\n",
    "\n",
    "def get_optimal_route(start_location, end_location):\n",
    "    rewards_new = np.copy(rewards)\n",
    "    ending_state = location_to_state[end_location]\n",
    "    rewards_new[ending_state, ending_state] = 999\n",
    "    Q = np.zeros([9, 9])\n",
    "    \n",
    "    for i in range(1000):\n",
    "        current_state = np.random.randint(0, 9)\n",
    "        playable_actions = [j for j in range(9) if rewards_new[current_state, j] > 0]\n",
    "        next_state = np.random.choice(playable_actions)\n",
    "        TD = rewards_new[current_state, next_state] + gamma * Q[next_state, np.argmax(Q[next_state,])] - Q[current_state, next_state]\n",
    "        Q[current_state, next_state] += alpha * TD\n",
    "    \n",
    "    route = [start_location]\n",
    "    next_location = start_location\n",
    "    \n",
    "    while next_location != end_location:\n",
    "        print(f\"Current location: {next_location}\")\n",
    "        starting_state = location_to_state[next_location]\n",
    "        next_state = np.argmax(Q[starting_state,])\n",
    "        next_location = state_to_location[next_state]\n",
    "        if next_location in route:\n",
    "            print(\"Detected a loop, breaking.\")\n",
    "            break\n",
    "        route.append(next_location)\n",
    "    \n",
    "    return route\n",
    "\n",
    "print(get_optimal_route('L1', 'L9'))\n"
   ]
  },
  {
   "cell_type": "code",
   "execution_count": null,
   "id": "5805cfcd-4b29-4ab6-a265-0df6f5873b21",
   "metadata": {},
   "outputs": [],
   "source": []
  }
 ],
 "metadata": {
  "kernelspec": {
   "display_name": "Python 3 (ipykernel)",
   "language": "python",
   "name": "python3"
  },
  "language_info": {
   "codemirror_mode": {
    "name": "ipython",
    "version": 3
   },
   "file_extension": ".py",
   "mimetype": "text/x-python",
   "name": "python",
   "nbconvert_exporter": "python",
   "pygments_lexer": "ipython3",
   "version": "3.11.5"
  }
 },
 "nbformat": 4,
 "nbformat_minor": 5
}
