{
 "cells": [
  {
   "cell_type": "code",
   "execution_count": 2,
   "id": "33e8db77-06f9-4810-beb6-cc6b869a9f77",
   "metadata": {
    "execution": {
     "iopub.execute_input": "2024-07-16T17:05:39.731190Z",
     "iopub.status.busy": "2024-07-16T17:05:39.722242Z",
     "iopub.status.idle": "2024-07-16T17:05:39.785957Z",
     "shell.execute_reply": "2024-07-16T17:05:39.779051Z",
     "shell.execute_reply.started": "2024-07-16T17:05:39.731190Z"
    }
   },
   "outputs": [],
   "source": [
    "list1 = [3, 1, 4, 1, 5, 9, 2, 6, 5, 3, 5]"
   ]
  },
  {
   "cell_type": "code",
   "execution_count": 4,
   "id": "0e4ca440-245f-44d7-a7e3-13086f8028fb",
   "metadata": {
    "execution": {
     "iopub.execute_input": "2024-07-16T17:05:48.331633Z",
     "iopub.status.busy": "2024-07-16T17:05:48.330631Z",
     "iopub.status.idle": "2024-07-16T17:05:48.345809Z",
     "shell.execute_reply": "2024-07-16T17:05:48.343309Z",
     "shell.execute_reply.started": "2024-07-16T17:05:48.331633Z"
    }
   },
   "outputs": [
    {
     "name": "stdout",
     "output_type": "stream",
     "text": [
      "The minimum value is: 1\n"
     ]
    }
   ],
   "source": [
    "min_value = min(list1)\n"
   ]
  },
  {
   "cell_type": "code",
   "execution_count": 6,
   "id": "14dbe228-e995-4f5e-82f8-d54198cab7df",
   "metadata": {
    "execution": {
     "iopub.execute_input": "2024-07-16T17:05:55.411841Z",
     "iopub.status.busy": "2024-07-16T17:05:55.411841Z",
     "iopub.status.idle": "2024-07-16T17:05:55.430038Z",
     "shell.execute_reply": "2024-07-16T17:05:55.427027Z",
     "shell.execute_reply.started": "2024-07-16T17:05:55.411841Z"
    }
   },
   "outputs": [
    {
     "data": {
      "text/plain": [
       "1"
      ]
     },
     "execution_count": 6,
     "metadata": {},
     "output_type": "execute_result"
    }
   ],
   "source": [
    "min(numbers)"
   ]
  },
  {
   "cell_type": "code",
   "execution_count": 10,
   "id": "df3720c4-0352-40f8-92af-f0c42220eda4",
   "metadata": {
    "execution": {
     "iopub.execute_input": "2024-07-16T17:09:54.154205Z",
     "iopub.status.busy": "2024-07-16T17:09:54.152204Z",
     "iopub.status.idle": "2024-07-16T17:09:54.169124Z",
     "shell.execute_reply": "2024-07-16T17:09:54.165632Z",
     "shell.execute_reply.started": "2024-07-16T17:09:54.154205Z"
    }
   },
   "outputs": [],
   "source": [
    "set1 = {10,20,30,40,50}\n",
    "set2 = {30,40,50,60,70}\n",
    "unique_values = set1.symmetric_difference(set2)"
   ]
  },
  {
   "cell_type": "code",
   "execution_count": 12,
   "id": "3e8a7f4d-7e31-49cb-ba2a-4f8c4351ce07",
   "metadata": {
    "execution": {
     "iopub.execute_input": "2024-07-16T17:09:59.989289Z",
     "iopub.status.busy": "2024-07-16T17:09:59.988341Z",
     "iopub.status.idle": "2024-07-16T17:10:00.017489Z",
     "shell.execute_reply": "2024-07-16T17:10:00.012920Z",
     "shell.execute_reply.started": "2024-07-16T17:09:59.989289Z"
    }
   },
   "outputs": [
    {
     "data": {
      "text/plain": [
       "{10, 20, 60, 70}"
      ]
     },
     "execution_count": 12,
     "metadata": {},
     "output_type": "execute_result"
    }
   ],
   "source": [
    "unique_values"
   ]
  },
  {
   "cell_type": "code",
   "execution_count": 14,
   "id": "d6ec2582-7325-4455-9a0c-bfd4bad5331d",
   "metadata": {
    "execution": {
     "iopub.execute_input": "2024-07-16T17:10:51.134981Z",
     "iopub.status.busy": "2024-07-16T17:10:51.132925Z",
     "iopub.status.idle": "2024-07-16T17:10:51.159431Z",
     "shell.execute_reply": "2024-07-16T17:10:51.155478Z",
     "shell.execute_reply.started": "2024-07-16T17:10:51.134981Z"
    }
   },
   "outputs": [
    {
     "data": {
      "text/plain": [
       "{10, 20, 30, 40, 50, 60, 70}"
      ]
     },
     "execution_count": 14,
     "metadata": {},
     "output_type": "execute_result"
    }
   ],
   "source": [
    "set1.union(set2)"
   ]
  },
  {
   "cell_type": "code",
   "execution_count": null,
   "id": "5edab1b4-7308-4481-aa65-21c03e3ba8e5",
   "metadata": {},
   "outputs": [],
   "source": []
  }
 ],
 "metadata": {
  "kernelspec": {
   "display_name": "Python 3 (ipykernel)",
   "language": "python",
   "name": "python3"
  },
  "language_info": {
   "codemirror_mode": {
    "name": "ipython",
    "version": 3
   },
   "file_extension": ".py",
   "mimetype": "text/x-python",
   "name": "python",
   "nbconvert_exporter": "python",
   "pygments_lexer": "ipython3",
   "version": "3.11.5"
  }
 },
 "nbformat": 4,
 "nbformat_minor": 5
}
