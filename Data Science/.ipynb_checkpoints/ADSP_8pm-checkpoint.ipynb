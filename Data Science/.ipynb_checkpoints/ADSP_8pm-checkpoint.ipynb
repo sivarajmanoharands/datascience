{
 "cells": [
  {
   "cell_type": "markdown",
   "id": "59a6f387",
   "metadata": {},
   "source": [
    "#### Internal data types in Python:"
   ]
  },
  {
   "cell_type": "markdown",
   "id": "61eeae67",
   "metadata": {},
   "source": [
    "* String---Aggregate\n",
    "* List----- Aggregate\n",
    "* Tuples----Aggregate\n",
    "* Dictionaries---Aggregate\n",
    "* Sets-------Aggregate\n",
    "* Integer---Scaler\n",
    "* Float----- Scaler\n",
    "* Complex---Scaler\n",
    "* Boolean---Scaler\n"
   ]
  },
  {
   "cell_type": "code",
   "execution_count": 4,
   "id": "a9194b7f",
   "metadata": {},
   "outputs": [
    {
     "data": {
      "text/plain": [
       "int"
      ]
     },
     "execution_count": 4,
     "metadata": {},
     "output_type": "execute_result"
    }
   ],
   "source": [
    "x=10\n",
    "type(x)"
   ]
  },
  {
   "cell_type": "code",
   "execution_count": 6,
   "id": "93a16967",
   "metadata": {},
   "outputs": [],
   "source": [
    "z=40.5\n",
    "m=5+1j\n",
    "n=True"
   ]
  },
  {
   "cell_type": "code",
   "execution_count": 8,
   "id": "ea249120",
   "metadata": {},
   "outputs": [
    {
     "name": "stdout",
     "output_type": "stream",
     "text": [
      "<class 'float'>\n",
      "<class 'complex'>\n",
      "<class 'bool'>\n"
     ]
    }
   ],
   "source": [
    "print(type(z))\n",
    "print(type(m))\n",
    "print(type(n))"
   ]
  },
  {
   "cell_type": "markdown",
   "id": "8cfe84ab",
   "metadata": {},
   "source": [
    "#### Lists: Lists are an ordered collection of elements,lists are mutable(changeable). Lists are created with [] brackets or a list constructor."
   ]
  },
  {
   "cell_type": "code",
   "execution_count": 9,
   "id": "9970a321",
   "metadata": {},
   "outputs": [
    {
     "data": {
      "text/plain": [
       "[9.6, 11, 'text', True, (4+2j), None]"
      ]
     },
     "execution_count": 9,
     "metadata": {},
     "output_type": "execute_result"
    }
   ],
   "source": [
    "list1=[9.6,11,'text',True,4+2j,None]\n",
    "list1"
   ]
  },
  {
   "cell_type": "code",
   "execution_count": 10,
   "id": "7a9099d9",
   "metadata": {},
   "outputs": [
    {
     "data": {
      "text/plain": [
       "[9.6, 11, 'text', True, (4+2j), None]"
      ]
     },
     "execution_count": 10,
     "metadata": {},
     "output_type": "execute_result"
    }
   ],
   "source": [
    "list2=list([9.6,11,'text',True,4+2j,None])\n",
    "list2"
   ]
  },
  {
   "cell_type": "code",
   "execution_count": 11,
   "id": "d9d757d3",
   "metadata": {},
   "outputs": [
    {
     "name": "stdout",
     "output_type": "stream",
     "text": [
      "<class 'list'>\n",
      "<class 'list'>\n"
     ]
    }
   ],
   "source": [
    "print(type(list1))\n",
    "print(type(list2))"
   ]
  },
  {
   "cell_type": "code",
   "execution_count": 12,
   "id": "874dfad3",
   "metadata": {},
   "outputs": [
    {
     "data": {
      "text/plain": [
       "'text'"
      ]
     },
     "execution_count": 12,
     "metadata": {},
     "output_type": "execute_result"
    }
   ],
   "source": [
    "###slicing:\n",
    "list1[2]"
   ]
  },
  {
   "cell_type": "code",
   "execution_count": 13,
   "id": "4abb0d84",
   "metadata": {},
   "outputs": [
    {
     "data": {
      "text/plain": [
       "'text'"
      ]
     },
     "execution_count": 13,
     "metadata": {},
     "output_type": "execute_result"
    }
   ],
   "source": [
    "list1[-4]"
   ]
  },
  {
   "cell_type": "code",
   "execution_count": 14,
   "id": "fb547e77",
   "metadata": {},
   "outputs": [],
   "source": [
    "list1[2]='string'"
   ]
  },
  {
   "cell_type": "code",
   "execution_count": 15,
   "id": "c03086e6",
   "metadata": {},
   "outputs": [
    {
     "data": {
      "text/plain": [
       "[9.6, 11, 'string', True, (4+2j), None]"
      ]
     },
     "execution_count": 15,
     "metadata": {},
     "output_type": "execute_result"
    }
   ],
   "source": [
    "list1"
   ]
  },
  {
   "cell_type": "code",
   "execution_count": 16,
   "id": "82e8287f",
   "metadata": {},
   "outputs": [],
   "source": [
    "list1.append('new')"
   ]
  },
  {
   "cell_type": "code",
   "execution_count": 17,
   "id": "f46e23b2",
   "metadata": {},
   "outputs": [
    {
     "data": {
      "text/plain": [
       "[9.6, 11, 'string', True, (4+2j), None, 'new']"
      ]
     },
     "execution_count": 17,
     "metadata": {},
     "output_type": "execute_result"
    }
   ],
   "source": [
    "list1"
   ]
  },
  {
   "cell_type": "code",
   "execution_count": 18,
   "id": "e165f81f",
   "metadata": {},
   "outputs": [],
   "source": [
    "#Q) insert a value of 50 in the second position in list1"
   ]
  },
  {
   "cell_type": "code",
   "execution_count": 19,
   "id": "94d89ff8",
   "metadata": {},
   "outputs": [
    {
     "data": {
      "text/plain": [
       "'string'"
      ]
     },
     "execution_count": 19,
     "metadata": {},
     "output_type": "execute_result"
    }
   ],
   "source": [
    "#pop function removes an element for the list:\n",
    "list1.pop(2)"
   ]
  },
  {
   "cell_type": "code",
   "execution_count": 20,
   "id": "dccf94ae",
   "metadata": {},
   "outputs": [
    {
     "data": {
      "text/plain": [
       "[9.6, 11, True, (4+2j), None, 'new']"
      ]
     },
     "execution_count": 20,
     "metadata": {},
     "output_type": "execute_result"
    }
   ],
   "source": [
    "list1"
   ]
  },
  {
   "cell_type": "markdown",
   "id": "4b795e8c",
   "metadata": {},
   "source": [
    "#### Tuples are ordered collection of elements like lists,but they are immutable. It is created with () or the tuple constructor:"
   ]
  },
  {
   "cell_type": "code",
   "execution_count": 21,
   "id": "c2046ac1",
   "metadata": {},
   "outputs": [],
   "source": [
    "t1=(9.6, 11, 'string', True, (4+2j), None, 'new')"
   ]
  },
  {
   "cell_type": "code",
   "execution_count": 22,
   "id": "e0f66c9a",
   "metadata": {},
   "outputs": [
    {
     "data": {
      "text/plain": [
       "tuple"
      ]
     },
     "execution_count": 22,
     "metadata": {},
     "output_type": "execute_result"
    }
   ],
   "source": [
    "type(t1)"
   ]
  },
  {
   "cell_type": "code",
   "execution_count": 23,
   "id": "c35278b2",
   "metadata": {},
   "outputs": [],
   "source": [
    "t2=tuple((9.6, 11, 'string', True, (4+2j), None, 'new'))"
   ]
  },
  {
   "cell_type": "code",
   "execution_count": 24,
   "id": "5491ba54",
   "metadata": {},
   "outputs": [
    {
     "data": {
      "text/plain": [
       "tuple"
      ]
     },
     "execution_count": 24,
     "metadata": {},
     "output_type": "execute_result"
    }
   ],
   "source": [
    "type(t2)"
   ]
  },
  {
   "cell_type": "code",
   "execution_count": 25,
   "id": "a4f757d7",
   "metadata": {},
   "outputs": [
    {
     "ename": "TypeError",
     "evalue": "'tuple' object does not support item assignment",
     "output_type": "error",
     "traceback": [
      "\u001b[1;31m---------------------------------------------------------------------------\u001b[0m",
      "\u001b[1;31mTypeError\u001b[0m                                 Traceback (most recent call last)",
      "Cell \u001b[1;32mIn[25], line 1\u001b[0m\n\u001b[1;32m----> 1\u001b[0m t1[\u001b[38;5;241m2\u001b[39m]\u001b[38;5;241m=\u001b[39m\u001b[38;5;124m'\u001b[39m\u001b[38;5;124mtext\u001b[39m\u001b[38;5;124m'\u001b[39m\n",
      "\u001b[1;31mTypeError\u001b[0m: 'tuple' object does not support item assignment"
     ]
    }
   ],
   "source": [
    "t1[2]='text'"
   ]
  },
  {
   "cell_type": "markdown",
   "id": "19324273",
   "metadata": {},
   "source": [
    "### Sets are unordered collection of elements. Sets do not allow duplicates,and are created with curly brackets."
   ]
  },
  {
   "cell_type": "code",
   "execution_count": 26,
   "id": "0f6fb0b2",
   "metadata": {},
   "outputs": [
    {
     "data": {
      "text/plain": [
       "set"
      ]
     },
     "execution_count": 26,
     "metadata": {},
     "output_type": "execute_result"
    }
   ],
   "source": [
    "set1={9.6, 11, 'string', True, (4+2j), None, 'new'}\n",
    "type(set1)"
   ]
  },
  {
   "cell_type": "code",
   "execution_count": 27,
   "id": "fcab8391",
   "metadata": {},
   "outputs": [
    {
     "data": {
      "text/plain": [
       "set"
      ]
     },
     "execution_count": 27,
     "metadata": {},
     "output_type": "execute_result"
    }
   ],
   "source": [
    "set2=set([9.6, 11, 'string', True, (4+2j), None, 'new'])\n",
    "type(set2)"
   ]
  },
  {
   "cell_type": "code",
   "execution_count": 28,
   "id": "77b211c6",
   "metadata": {},
   "outputs": [
    {
     "data": {
      "text/plain": [
       "{(4+2j), 11, 9.6, None, True, 'new', 'string'}"
      ]
     },
     "execution_count": 28,
     "metadata": {},
     "output_type": "execute_result"
    }
   ],
   "source": [
    "set1"
   ]
  },
  {
   "cell_type": "code",
   "execution_count": 29,
   "id": "59e29233",
   "metadata": {},
   "outputs": [
    {
     "ename": "TypeError",
     "evalue": "'set' object does not support item assignment",
     "output_type": "error",
     "traceback": [
      "\u001b[1;31m---------------------------------------------------------------------------\u001b[0m",
      "\u001b[1;31mTypeError\u001b[0m                                 Traceback (most recent call last)",
      "Cell \u001b[1;32mIn[29], line 1\u001b[0m\n\u001b[1;32m----> 1\u001b[0m set1[\u001b[38;5;241m2\u001b[39m]\u001b[38;5;241m=\u001b[39m\u001b[38;5;124m'\u001b[39m\u001b[38;5;124mtext\u001b[39m\u001b[38;5;124m'\u001b[39m\n",
      "\u001b[1;31mTypeError\u001b[0m: 'set' object does not support item assignment"
     ]
    }
   ],
   "source": [
    "set1[2]='text'"
   ]
  },
  {
   "cell_type": "code",
   "execution_count": 30,
   "id": "5cb277fc",
   "metadata": {},
   "outputs": [],
   "source": [
    "#removing values from a set\n",
    "set1.remove('string')"
   ]
  },
  {
   "cell_type": "code",
   "execution_count": 31,
   "id": "ad10263b",
   "metadata": {},
   "outputs": [
    {
     "data": {
      "text/plain": [
       "{(4+2j), 11, 9.6, None, True, 'new'}"
      ]
     },
     "execution_count": 31,
     "metadata": {},
     "output_type": "execute_result"
    }
   ],
   "source": [
    "set1"
   ]
  },
  {
   "cell_type": "code",
   "execution_count": 32,
   "id": "b05665a9",
   "metadata": {},
   "outputs": [],
   "source": [
    "#add elements to a set:\n",
    "set1.add(83)"
   ]
  },
  {
   "cell_type": "code",
   "execution_count": 33,
   "id": "4527494d",
   "metadata": {},
   "outputs": [
    {
     "data": {
      "text/plain": [
       "{(4+2j), 11, 83, 9.6, None, True, 'new'}"
      ]
     },
     "execution_count": 33,
     "metadata": {},
     "output_type": "execute_result"
    }
   ],
   "source": [
    "set1"
   ]
  },
  {
   "cell_type": "code",
   "execution_count": 34,
   "id": "2f7f23c7",
   "metadata": {},
   "outputs": [],
   "source": [
    "#Q) what is the difference between add and update functions on sets?"
   ]
  },
  {
   "cell_type": "markdown",
   "id": "c1d4062d",
   "metadata": {},
   "source": [
    "##### Dictionaries: Dictionaries are key-values. Dictionaries are mutable,and are created using curly brackets or dict function."
   ]
  },
  {
   "cell_type": "code",
   "execution_count": 35,
   "id": "ec6d1318",
   "metadata": {},
   "outputs": [],
   "source": [
    "dict1={'Name':'Python',2:'second','Third':3,'summer':'mangoes'}"
   ]
  },
  {
   "cell_type": "code",
   "execution_count": 36,
   "id": "03375266",
   "metadata": {},
   "outputs": [
    {
     "data": {
      "text/plain": [
       "dict"
      ]
     },
     "execution_count": 36,
     "metadata": {},
     "output_type": "execute_result"
    }
   ],
   "source": [
    "type(dict1)"
   ]
  },
  {
   "cell_type": "code",
   "execution_count": 37,
   "id": "40f36ef3",
   "metadata": {},
   "outputs": [
    {
     "data": {
      "text/plain": [
       "dict_keys(['Name', 2, 'Third', 'summer'])"
      ]
     },
     "execution_count": 37,
     "metadata": {},
     "output_type": "execute_result"
    }
   ],
   "source": [
    "dict1.keys()"
   ]
  },
  {
   "cell_type": "code",
   "execution_count": 39,
   "id": "eb82eb83",
   "metadata": {},
   "outputs": [
    {
     "data": {
      "text/plain": [
       "dict_values(['Python', 'second', 3, 'mangoes'])"
      ]
     },
     "execution_count": 39,
     "metadata": {},
     "output_type": "execute_result"
    }
   ],
   "source": [
    "dict1.values()"
   ]
  },
  {
   "cell_type": "code",
   "execution_count": 40,
   "id": "880ad35a",
   "metadata": {},
   "outputs": [],
   "source": [
    "dict2=dict({'Name':'Python',2:'second','Third':3,'summer':'mangoes'})"
   ]
  },
  {
   "cell_type": "code",
   "execution_count": 41,
   "id": "9bde5bab",
   "metadata": {},
   "outputs": [
    {
     "data": {
      "text/plain": [
       "dict"
      ]
     },
     "execution_count": 41,
     "metadata": {},
     "output_type": "execute_result"
    }
   ],
   "source": [
    "type(dict2)"
   ]
  },
  {
   "cell_type": "code",
   "execution_count": 42,
   "id": "f4343a17",
   "metadata": {},
   "outputs": [
    {
     "data": {
      "text/plain": [
       "'second'"
      ]
     },
     "execution_count": 42,
     "metadata": {},
     "output_type": "execute_result"
    }
   ],
   "source": [
    "dict2[2]"
   ]
  },
  {
   "cell_type": "code",
   "execution_count": 43,
   "id": "f3595b29",
   "metadata": {},
   "outputs": [],
   "source": [
    "dict2['Third']=30"
   ]
  },
  {
   "cell_type": "code",
   "execution_count": 44,
   "id": "c3db1bef",
   "metadata": {},
   "outputs": [
    {
     "data": {
      "text/plain": [
       "{'Name': 'Python', 2: 'second', 'Third': 30, 'summer': 'mangoes'}"
      ]
     },
     "execution_count": 44,
     "metadata": {},
     "output_type": "execute_result"
    }
   ],
   "source": [
    "dict2"
   ]
  },
  {
   "cell_type": "code",
   "execution_count": 45,
   "id": "2a47b7cd",
   "metadata": {},
   "outputs": [],
   "source": [
    "del dict2['summer']"
   ]
  },
  {
   "cell_type": "code",
   "execution_count": 46,
   "id": "b404a988",
   "metadata": {},
   "outputs": [
    {
     "data": {
      "text/plain": [
       "{'Name': 'Python', 2: 'second', 'Third': 30}"
      ]
     },
     "execution_count": 46,
     "metadata": {},
     "output_type": "execute_result"
    }
   ],
   "source": [
    "dict2"
   ]
  },
  {
   "cell_type": "code",
   "execution_count": 47,
   "id": "dbbc6d70",
   "metadata": {},
   "outputs": [],
   "source": [
    "#Q) Find the smallest element in list1 which contains the values 22,12,78,15"
   ]
  },
  {
   "cell_type": "code",
   "execution_count": 48,
   "id": "cd364e21",
   "metadata": {},
   "outputs": [],
   "source": [
    "#Q) Find all the positive numbers in the above list"
   ]
  },
  {
   "cell_type": "code",
   "execution_count": 49,
   "id": "72d7490e",
   "metadata": {},
   "outputs": [],
   "source": [
    "# Q) get unique items from the below sets:\n",
    " #set1={10,20,30,40,50}\n",
    " #set2={30,40,50,60,70}"
   ]
  },
  {
   "cell_type": "code",
   "execution_count": 50,
   "id": "73e8d2aa",
   "metadata": {},
   "outputs": [],
   "source": [
    "#Q) get the key of the min value from the below dictionary:\n",
    "#test_dict={'Maths':77,'English':88,'Economics':92}"
   ]
  },
  {
   "cell_type": "code",
   "execution_count": null,
   "id": "0fff3fcd",
   "metadata": {},
   "outputs": [],
   "source": []
  }
 ],
 "metadata": {
  "kernelspec": {
   "display_name": "Python 3 (ipykernel)",
   "language": "python",
   "name": "python3"
  },
  "language_info": {
   "codemirror_mode": {
    "name": "ipython",
    "version": 3
   },
   "file_extension": ".py",
   "mimetype": "text/x-python",
   "name": "python",
   "nbconvert_exporter": "python",
   "pygments_lexer": "ipython3",
   "version": "3.11.4"
  }
 },
 "nbformat": 4,
 "nbformat_minor": 5
}
