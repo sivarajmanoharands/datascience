{
 "cells": [
  {
   "cell_type": "markdown",
   "id": "296fae85-4fa9-4bb5-a79a-dd4bc857d67c",
   "metadata": {
    "execution": {
     "iopub.execute_input": "2024-07-17T16:24:50.542263Z",
     "iopub.status.busy": "2024-07-17T16:24:50.541123Z",
     "iopub.status.idle": "2024-07-17T16:24:50.550960Z",
     "shell.execute_reply": "2024-07-17T16:24:50.548340Z",
     "shell.execute_reply.started": "2024-07-17T16:24:50.542137Z"
    }
   },
   "source": [
    "###### Measures of Central Tendancy "
   ]
  },
  {
   "cell_type": "code",
   "execution_count": 12,
   "id": "8b3ed71c-c774-478b-b741-13e946e0fa84",
   "metadata": {
    "execution": {
     "iopub.execute_input": "2024-07-17T16:30:37.146217Z",
     "iopub.status.busy": "2024-07-17T16:30:37.146217Z",
     "iopub.status.idle": "2024-07-17T16:30:37.156423Z",
     "shell.execute_reply": "2024-07-17T16:30:37.154397Z",
     "shell.execute_reply.started": "2024-07-17T16:30:37.146217Z"
    }
   },
   "outputs": [],
   "source": [
    "import statistics as st"
   ]
  },
  {
   "cell_type": "code",
   "execution_count": 20,
   "id": "27e28b42-faf7-422b-b487-fba17bc6dbda",
   "metadata": {
    "execution": {
     "iopub.execute_input": "2024-07-17T16:32:05.165848Z",
     "iopub.status.busy": "2024-07-17T16:32:05.164848Z",
     "iopub.status.idle": "2024-07-17T16:32:05.177211Z",
     "shell.execute_reply": "2024-07-17T16:32:05.174673Z",
     "shell.execute_reply.started": "2024-07-17T16:32:05.165848Z"
    }
   },
   "outputs": [],
   "source": [
    "weight = [30,24,35,46,13,45,67,48,30,56,36,150]"
   ]
  },
  {
   "cell_type": "code",
   "execution_count": 22,
   "id": "b4d8b69e-3e32-4ffa-9aa9-a2c6483af724",
   "metadata": {
    "execution": {
     "iopub.execute_input": "2024-07-17T16:32:06.761704Z",
     "iopub.status.busy": "2024-07-17T16:32:06.760176Z",
     "iopub.status.idle": "2024-07-17T16:32:06.774784Z",
     "shell.execute_reply": "2024-07-17T16:32:06.773247Z",
     "shell.execute_reply.started": "2024-07-17T16:32:06.761704Z"
    }
   },
   "outputs": [
    {
     "data": {
      "text/plain": [
       "48.333333333333336"
      ]
     },
     "execution_count": 22,
     "metadata": {},
     "output_type": "execute_result"
    }
   ],
   "source": [
    "statistics.mean(weight)"
   ]
  },
  {
   "cell_type": "code",
   "execution_count": 24,
   "id": "1c000e7e-6290-4f2e-b8da-cf89323bda73",
   "metadata": {
    "execution": {
     "iopub.execute_input": "2024-07-17T16:32:09.716879Z",
     "iopub.status.busy": "2024-07-17T16:32:09.713262Z",
     "iopub.status.idle": "2024-07-17T16:32:09.737209Z",
     "shell.execute_reply": "2024-07-17T16:32:09.734193Z",
     "shell.execute_reply.started": "2024-07-17T16:32:09.716277Z"
    }
   },
   "outputs": [
    {
     "data": {
      "text/plain": [
       "40.5"
      ]
     },
     "execution_count": 24,
     "metadata": {},
     "output_type": "execute_result"
    }
   ],
   "source": [
    "st.median(weight)"
   ]
  },
  {
   "cell_type": "code",
   "execution_count": 26,
   "id": "24c9bcd4-40b3-428a-90cf-ba1607c7135b",
   "metadata": {
    "execution": {
     "iopub.execute_input": "2024-07-17T16:32:10.563791Z",
     "iopub.status.busy": "2024-07-17T16:32:10.562797Z",
     "iopub.status.idle": "2024-07-17T16:32:10.577659Z",
     "shell.execute_reply": "2024-07-17T16:32:10.575646Z",
     "shell.execute_reply.started": "2024-07-17T16:32:10.563791Z"
    }
   },
   "outputs": [
    {
     "data": {
      "text/plain": [
       "30"
      ]
     },
     "execution_count": 26,
     "metadata": {},
     "output_type": "execute_result"
    }
   ],
   "source": [
    "st.mode(weight)"
   ]
  },
  {
   "cell_type": "code",
   "execution_count": 28,
   "id": "c93e0e26-5ee9-400c-9244-7b5e8f1ccc1f",
   "metadata": {
    "execution": {
     "iopub.execute_input": "2024-07-17T16:32:11.272638Z",
     "iopub.status.busy": "2024-07-17T16:32:11.272638Z",
     "iopub.status.idle": "2024-07-17T16:32:11.285770Z",
     "shell.execute_reply": "2024-07-17T16:32:11.283496Z",
     "shell.execute_reply.started": "2024-07-17T16:32:11.272638Z"
    }
   },
   "outputs": [
    {
     "data": {
      "text/plain": [
       "[30.0, 40.5, 54.0]"
      ]
     },
     "execution_count": 28,
     "metadata": {},
     "output_type": "execute_result"
    }
   ],
   "source": [
    "st.quantiles(weight)"
   ]
  },
  {
   "cell_type": "code",
   "execution_count": 36,
   "id": "ee9a7f82-f03b-4310-a6b7-d05abeae04dd",
   "metadata": {
    "execution": {
     "iopub.execute_input": "2024-07-17T16:36:15.094844Z",
     "iopub.status.busy": "2024-07-17T16:36:15.093845Z",
     "iopub.status.idle": "2024-07-17T16:36:19.966613Z",
     "shell.execute_reply": "2024-07-17T16:36:19.964600Z",
     "shell.execute_reply.started": "2024-07-17T16:36:15.094844Z"
    }
   },
   "outputs": [],
   "source": [
    "import matplotlib.pyplot as plt\n",
    "import seaborn as sns"
   ]
  },
  {
   "cell_type": "code",
   "execution_count": 48,
   "id": "8acad18f-abf8-474a-99fd-a43d5c854304",
   "metadata": {
    "execution": {
     "iopub.execute_input": "2024-07-17T16:38:51.708189Z",
     "iopub.status.busy": "2024-07-17T16:38:51.706609Z",
     "iopub.status.idle": "2024-07-17T16:38:52.012435Z",
     "shell.execute_reply": "2024-07-17T16:38:52.009388Z",
     "shell.execute_reply.started": "2024-07-17T16:38:51.708189Z"
    }
   },
   "outputs": [
    {
     "data": {
      "image/png": "[encoded data removed]",
      "text/plain": [
       "<Figure size 640x480 with 1 Axes>"
      ]
     },
     "metadata": {},
     "output_type": "display_data"
    }
   ],
   "source": [
    "sns.boxplot(weight)\n",
    "plt.show()\n"
   ]
  },
  {
   "cell_type": "code",
   "execution_count": 52,
   "id": "68245165-acf5-4bc4-a4a2-f1a8515dc9d8",
   "metadata": {
    "execution": {
     "iopub.execute_input": "2024-07-17T16:50:44.725004Z",
     "iopub.status.busy": "2024-07-17T16:50:44.724014Z",
     "iopub.status.idle": "2024-07-17T16:50:44.737179Z",
     "shell.execute_reply": "2024-07-17T16:50:44.735166Z",
     "shell.execute_reply.started": "2024-07-17T16:50:44.725004Z"
    }
   },
   "outputs": [],
   "source": [
    "# 5 Number Summary\n",
    "import numpy as np\n",
    "q1,q3 = np.percentile(weight,[25,75])"
   ]
  },
  {
   "cell_type": "code",
   "execution_count": 54,
   "id": "b51075d0-85ad-40a9-bd6b-83ccd3e7a116",
   "metadata": {
    "execution": {
     "iopub.execute_input": "2024-07-17T16:50:56.089141Z",
     "iopub.status.busy": "2024-07-17T16:50:56.088152Z",
     "iopub.status.idle": "2024-07-17T16:50:56.098548Z",
     "shell.execute_reply": "2024-07-17T16:50:56.096536Z",
     "shell.execute_reply.started": "2024-07-17T16:50:56.089141Z"
    }
   },
   "outputs": [
    {
     "name": "stdout",
     "output_type": "stream",
     "text": [
      "30.0 50.0\n"
     ]
    }
   ],
   "source": [
    "print(q1,q3)"
   ]
  },
  {
   "cell_type": "code",
   "execution_count": 64,
   "id": "602b6fec-1e80-4cc8-8e32-508a17d05daf",
   "metadata": {
    "execution": {
     "iopub.execute_input": "2024-07-17T16:55:09.026659Z",
     "iopub.status.busy": "2024-07-17T16:55:09.025646Z",
     "iopub.status.idle": "2024-07-17T16:55:09.035869Z",
     "shell.execute_reply": "2024-07-17T16:55:09.034336Z",
     "shell.execute_reply.started": "2024-07-17T16:55:09.026659Z"
    }
   },
   "outputs": [],
   "source": [
    "# To check the range of the extreme value(outlier)\n",
    "IQR = q3-q1\n",
    "lower_fence = q1 - 1.5 * IQR\n",
    "higher_fence = q3 + 1.5 * IQR"
   ]
  },
  {
   "cell_type": "code",
   "execution_count": 66,
   "id": "dfe93768-f1ed-468c-a9ca-647c179cd160",
   "metadata": {
    "execution": {
     "iopub.execute_input": "2024-07-17T16:55:09.290428Z",
     "iopub.status.busy": "2024-07-17T16:55:09.288409Z",
     "iopub.status.idle": "2024-07-17T16:55:09.305088Z",
     "shell.execute_reply": "2024-07-17T16:55:09.299488Z",
     "shell.execute_reply.started": "2024-07-17T16:55:09.290428Z"
    }
   },
   "outputs": [
    {
     "name": "stdout",
     "output_type": "stream",
     "text": [
      "20.0 0.0 80.0\n"
     ]
    }
   ],
   "source": [
    "print(IQR,lower_fence,higher_fence)"
   ]
  },
  {
   "cell_type": "code",
   "execution_count": null,
   "id": "ec952b57-f0ad-4fcb-ae9a-e0d479ae4ad8",
   "metadata": {},
   "outputs": [],
   "source": [
    "import pandas as pd\n",
    "data = pd.read_csv('Iris.csv')\n",
    "data"
   ]
  }
 ],
 "metadata": {
  "kernelspec": {
   "display_name": "Python 3 (ipykernel)",
   "language": "python",
   "name": "python3"
  },
  "language_info": {
   "codemirror_mode": {
    "name": "ipython",
    "version": 3
   },
   "file_extension": ".py",
   "mimetype": "text/x-python",
   "name": "python",
   "nbconvert_exporter": "python",
   "pygments_lexer": "ipython3",
   "version": "3.11.5"
  }
 },
 "nbformat": 4,
 "nbformat_minor": 5
}
