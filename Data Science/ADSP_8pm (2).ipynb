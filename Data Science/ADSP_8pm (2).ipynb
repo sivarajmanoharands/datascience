{
 "cells": [
  {
   "cell_type": "markdown",
   "id": "e07fe54f",
   "metadata": {},
   "source": [
    "#### Internal data types in Python:"
   ]
  },
  {
   "cell_type": "markdown",
   "id": "8d050cdf",
   "metadata": {},
   "source": [
    "* String---Aggregate\n",
    "* List----- Aggregate\n",
    "* Tuples----Aggregate\n",
    "* Dictionaries---Aggregate\n",
    "* Sets-------Aggregate\n",
    "* Integer---Scaler\n",
    "* Float----- Scaler\n",
    "* Complex---Scaler\n",
    "* Boolean---Scaler\n"
   ]
  },
  {
   "cell_type": "code",
   "execution_count": 4,
   "id": "15d3675b",
   "metadata": {},
   "outputs": [
    {
     "data": {
      "text/plain": [
       "int"
      ]
     },
     "execution_count": 4,
     "metadata": {},
     "output_type": "execute_result"
    }
   ],
   "source": [
    "x=10\n",
    "type(x)"
   ]
  },
  {
   "cell_type": "code",
   "execution_count": 6,
   "id": "33f704d6",
   "metadata": {},
   "outputs": [],
   "source": [
    "z=40.5\n",
    "m=5+1j\n",
    "n=True"
   ]
  },
  {
   "cell_type": "code",
   "execution_count": 8,
   "id": "2259ccac",
   "metadata": {},
   "outputs": [
    {
     "name": "stdout",
     "output_type": "stream",
     "text": [
      "<class 'float'>\n",
      "<class 'complex'>\n",
      "<class 'bool'>\n"
     ]
    }
   ],
   "source": [
    "print(type(z))\n",
    "print(type(m))\n",
    "print(type(n))"
   ]
  },
  {
   "cell_type": "markdown",
   "id": "20cb04de",
   "metadata": {},
   "source": [
    "#### Lists: Lists are an ordered collection of elements,lists are mutable(changeable). Lists are created with [] brackets or a list constructor."
   ]
  },
  {
   "cell_type": "code",
   "execution_count": 9,
   "id": "fee6f8ed",
   "metadata": {},
   "outputs": [
    {
     "data": {
      "text/plain": [
       "[9.6, 11, 'text', True, (4+2j), None]"
      ]
     },
     "execution_count": 9,
     "metadata": {},
     "output_type": "execute_result"
    }
   ],
   "source": [
    "list1=[9.6,11,'text',True,4+2j,None]\n",
    "list1"
   ]
  },
  {
   "cell_type": "code",
   "execution_count": 10,
   "id": "92c49c5f",
   "metadata": {},
   "outputs": [
    {
     "data": {
      "text/plain": [
       "[9.6, 11, 'text', True, (4+2j), None]"
      ]
     },
     "execution_count": 10,
     "metadata": {},
     "output_type": "execute_result"
    }
   ],
   "source": [
    "list2=list([9.6,11,'text',True,4+2j,None])\n",
    "list2"
   ]
  },
  {
   "cell_type": "code",
   "execution_count": 11,
   "id": "86c212f8",
   "metadata": {},
   "outputs": [
    {
     "name": "stdout",
     "output_type": "stream",
     "text": [
      "<class 'list'>\n",
      "<class 'list'>\n"
     ]
    }
   ],
   "source": [
    "print(type(list1))\n",
    "print(type(list2))"
   ]
  },
  {
   "cell_type": "code",
   "execution_count": 12,
   "id": "4931ecaf",
   "metadata": {},
   "outputs": [
    {
     "data": {
      "text/plain": [
       "'text'"
      ]
     },
     "execution_count": 12,
     "metadata": {},
     "output_type": "execute_result"
    }
   ],
   "source": [
    "###slicing:\n",
    "list1[2]"
   ]
  },
  {
   "cell_type": "code",
   "execution_count": 13,
   "id": "af8faab3",
   "metadata": {},
   "outputs": [
    {
     "data": {
      "text/plain": [
       "'text'"
      ]
     },
     "execution_count": 13,
     "metadata": {},
     "output_type": "execute_result"
    }
   ],
   "source": [
    "list1[-4]"
   ]
  },
  {
   "cell_type": "code",
   "execution_count": 14,
   "id": "7b894a43",
   "metadata": {},
   "outputs": [],
   "source": [
    "list1[2]='string'"
   ]
  },
  {
   "cell_type": "code",
   "execution_count": 15,
   "id": "e384b3c0",
   "metadata": {},
   "outputs": [
    {
     "data": {
      "text/plain": [
       "[9.6, 11, 'string', True, (4+2j), None]"
      ]
     },
     "execution_count": 15,
     "metadata": {},
     "output_type": "execute_result"
    }
   ],
   "source": [
    "list1"
   ]
  },
  {
   "cell_type": "code",
   "execution_count": 16,
   "id": "0edd3fb2",
   "metadata": {},
   "outputs": [],
   "source": [
    "list1.append('new')"
   ]
  },
  {
   "cell_type": "code",
   "execution_count": 17,
   "id": "d3518b90",
   "metadata": {},
   "outputs": [
    {
     "data": {
      "text/plain": [
       "[9.6, 11, 'string', True, (4+2j), None, 'new']"
      ]
     },
     "execution_count": 17,
     "metadata": {},
     "output_type": "execute_result"
    }
   ],
   "source": [
    "list1"
   ]
  },
  {
   "cell_type": "code",
   "execution_count": 18,
   "id": "6cecfc71",
   "metadata": {},
   "outputs": [],
   "source": [
    "#Q) insert a value of 50 in the second position in list1"
   ]
  },
  {
   "cell_type": "code",
   "execution_count": 51,
   "id": "2cbcbd69",
   "metadata": {},
   "outputs": [],
   "source": [
    "list1.insert(1,50) "
   ]
  },
  {
   "cell_type": "code",
   "execution_count": 52,
   "id": "dae4f3fc",
   "metadata": {},
   "outputs": [
    {
     "data": {
      "text/plain": [
       "[9.6, 50, 11, True, (4+2j), None, 'new']"
      ]
     },
     "execution_count": 52,
     "metadata": {},
     "output_type": "execute_result"
    }
   ],
   "source": [
    "list1"
   ]
  },
  {
   "cell_type": "code",
   "execution_count": 19,
   "id": "45880b59",
   "metadata": {},
   "outputs": [
    {
     "data": {
      "text/plain": [
       "'string'"
      ]
     },
     "execution_count": 19,
     "metadata": {},
     "output_type": "execute_result"
    }
   ],
   "source": [
    "#pop function removes an element for the list:\n",
    "list1.pop(2)"
   ]
  },
  {
   "cell_type": "code",
   "execution_count": 20,
   "id": "cd89187a",
   "metadata": {},
   "outputs": [
    {
     "data": {
      "text/plain": [
       "[9.6, 11, True, (4+2j), None, 'new']"
      ]
     },
     "execution_count": 20,
     "metadata": {},
     "output_type": "execute_result"
    }
   ],
   "source": [
    "list1"
   ]
  },
  {
   "cell_type": "markdown",
   "id": "4b065404",
   "metadata": {},
   "source": [
    "#### Tuples are ordered collection of elements like lists,but they are immutable. It is created with () or the tuple constructor:"
   ]
  },
  {
   "cell_type": "code",
   "execution_count": 21,
   "id": "432ee144",
   "metadata": {},
   "outputs": [],
   "source": [
    "t1=(9.6, 11, 'string', True, (4+2j), None, 'new')"
   ]
  },
  {
   "cell_type": "code",
   "execution_count": 22,
   "id": "a034d3cf",
   "metadata": {},
   "outputs": [
    {
     "data": {
      "text/plain": [
       "tuple"
      ]
     },
     "execution_count": 22,
     "metadata": {},
     "output_type": "execute_result"
    }
   ],
   "source": [
    "type(t1)"
   ]
  },
  {
   "cell_type": "code",
   "execution_count": 23,
   "id": "657bc506",
   "metadata": {},
   "outputs": [],
   "source": [
    "t2=tuple((9.6, 11, 'string', True, (4+2j), None, 'new'))"
   ]
  },
  {
   "cell_type": "code",
   "execution_count": 24,
   "id": "2ea61b7a",
   "metadata": {},
   "outputs": [
    {
     "data": {
      "text/plain": [
       "tuple"
      ]
     },
     "execution_count": 24,
     "metadata": {},
     "output_type": "execute_result"
    }
   ],
   "source": [
    "type(t2)"
   ]
  },
  {
   "cell_type": "code",
   "execution_count": 25,
   "id": "0ac194ca",
   "metadata": {},
   "outputs": [
    {
     "ename": "TypeError",
     "evalue": "'tuple' object does not support item assignment",
     "output_type": "error",
     "traceback": [
      "\u001b[1;31m---------------------------------------------------------------------------\u001b[0m",
      "\u001b[1;31mTypeError\u001b[0m                                 Traceback (most recent call last)",
      "Cell \u001b[1;32mIn[25], line 1\u001b[0m\n\u001b[1;32m----> 1\u001b[0m t1[\u001b[38;5;241m2\u001b[39m]\u001b[38;5;241m=\u001b[39m\u001b[38;5;124m'\u001b[39m\u001b[38;5;124mtext\u001b[39m\u001b[38;5;124m'\u001b[39m\n",
      "\u001b[1;31mTypeError\u001b[0m: 'tuple' object does not support item assignment"
     ]
    }
   ],
   "source": [
    "t1[2]='text'"
   ]
  },
  {
   "cell_type": "markdown",
   "id": "1837d89c",
   "metadata": {},
   "source": [
    "### Sets are unordered collection of elements. Sets do not allow duplicates,and are created with curly brackets."
   ]
  },
  {
   "cell_type": "code",
   "execution_count": 26,
   "id": "c2432604",
   "metadata": {},
   "outputs": [
    {
     "data": {
      "text/plain": [
       "set"
      ]
     },
     "execution_count": 26,
     "metadata": {},
     "output_type": "execute_result"
    }
   ],
   "source": [
    "set1={9.6, 11, 'string', True, (4+2j), None, 'new'}\n",
    "type(set1)"
   ]
  },
  {
   "cell_type": "code",
   "execution_count": 27,
   "id": "f428571a",
   "metadata": {},
   "outputs": [
    {
     "data": {
      "text/plain": [
       "set"
      ]
     },
     "execution_count": 27,
     "metadata": {},
     "output_type": "execute_result"
    }
   ],
   "source": [
    "set2=set([9.6, 11, 'string', True, (4+2j), None, 'new'])\n",
    "type(set2)"
   ]
  },
  {
   "cell_type": "code",
   "execution_count": 28,
   "id": "cc1823c9",
   "metadata": {},
   "outputs": [
    {
     "data": {
      "text/plain": [
       "{(4+2j), 11, 9.6, None, True, 'new', 'string'}"
      ]
     },
     "execution_count": 28,
     "metadata": {},
     "output_type": "execute_result"
    }
   ],
   "source": [
    "set1"
   ]
  },
  {
   "cell_type": "code",
   "execution_count": 29,
   "id": "61be9044",
   "metadata": {},
   "outputs": [
    {
     "ename": "TypeError",
     "evalue": "'set' object does not support item assignment",
     "output_type": "error",
     "traceback": [
      "\u001b[1;31m---------------------------------------------------------------------------\u001b[0m",
      "\u001b[1;31mTypeError\u001b[0m                                 Traceback (most recent call last)",
      "Cell \u001b[1;32mIn[29], line 1\u001b[0m\n\u001b[1;32m----> 1\u001b[0m set1[\u001b[38;5;241m2\u001b[39m]\u001b[38;5;241m=\u001b[39m\u001b[38;5;124m'\u001b[39m\u001b[38;5;124mtext\u001b[39m\u001b[38;5;124m'\u001b[39m\n",
      "\u001b[1;31mTypeError\u001b[0m: 'set' object does not support item assignment"
     ]
    }
   ],
   "source": [
    "set1[2]='text'"
   ]
  },
  {
   "cell_type": "code",
   "execution_count": 30,
   "id": "59835fda",
   "metadata": {},
   "outputs": [],
   "source": [
    "#removing values from a set\n",
    "set1.remove('string')"
   ]
  },
  {
   "cell_type": "code",
   "execution_count": 31,
   "id": "a38474b6",
   "metadata": {},
   "outputs": [
    {
     "data": {
      "text/plain": [
       "{(4+2j), 11, 9.6, None, True, 'new'}"
      ]
     },
     "execution_count": 31,
     "metadata": {},
     "output_type": "execute_result"
    }
   ],
   "source": [
    "set1"
   ]
  },
  {
   "cell_type": "code",
   "execution_count": 32,
   "id": "7dc71983",
   "metadata": {},
   "outputs": [],
   "source": [
    "#add elements to a set:\n",
    "set1.add(83)"
   ]
  },
  {
   "cell_type": "code",
   "execution_count": 33,
   "id": "30426a22",
   "metadata": {},
   "outputs": [
    {
     "data": {
      "text/plain": [
       "{(4+2j), 11, 83, 9.6, None, True, 'new'}"
      ]
     },
     "execution_count": 33,
     "metadata": {},
     "output_type": "execute_result"
    }
   ],
   "source": [
    "set1"
   ]
  },
  {
   "cell_type": "code",
   "execution_count": 34,
   "id": "c6b42ebf",
   "metadata": {},
   "outputs": [],
   "source": [
    "#Q) what is the difference between add and update functions on sets?"
   ]
  },
  {
   "cell_type": "code",
   "execution_count": 53,
   "id": "613a0f76",
   "metadata": {},
   "outputs": [],
   "source": [
    "###add function is used to include a single element in a set,and update function is used to include a collection\n",
    "### of values to a set"
   ]
  },
  {
   "cell_type": "markdown",
   "id": "956afc52",
   "metadata": {},
   "source": [
    "##### Dictionaries: Dictionaries are key-values. Dictionaries are mutable,and are created using curly brackets or dict function."
   ]
  },
  {
   "cell_type": "code",
   "execution_count": 35,
   "id": "64604605",
   "metadata": {},
   "outputs": [],
   "source": [
    "dict1={'Name':'Python',2:'second','Third':3,'summer':'mangoes'}"
   ]
  },
  {
   "cell_type": "code",
   "execution_count": 36,
   "id": "3f864105",
   "metadata": {},
   "outputs": [
    {
     "data": {
      "text/plain": [
       "dict"
      ]
     },
     "execution_count": 36,
     "metadata": {},
     "output_type": "execute_result"
    }
   ],
   "source": [
    "type(dict1)"
   ]
  },
  {
   "cell_type": "code",
   "execution_count": 37,
   "id": "6e347890",
   "metadata": {},
   "outputs": [
    {
     "data": {
      "text/plain": [
       "dict_keys(['Name', 2, 'Third', 'summer'])"
      ]
     },
     "execution_count": 37,
     "metadata": {},
     "output_type": "execute_result"
    }
   ],
   "source": [
    "dict1.keys()"
   ]
  },
  {
   "cell_type": "code",
   "execution_count": 39,
   "id": "9f8eb963",
   "metadata": {},
   "outputs": [
    {
     "data": {
      "text/plain": [
       "dict_values(['Python', 'second', 3, 'mangoes'])"
      ]
     },
     "execution_count": 39,
     "metadata": {},
     "output_type": "execute_result"
    }
   ],
   "source": [
    "dict1.values()"
   ]
  },
  {
   "cell_type": "code",
   "execution_count": 40,
   "id": "1bf36fd6",
   "metadata": {},
   "outputs": [],
   "source": [
    "dict2=dict({'Name':'Python',2:'second','Third':3,'summer':'mangoes'})"
   ]
  },
  {
   "cell_type": "code",
   "execution_count": 41,
   "id": "0649b648",
   "metadata": {},
   "outputs": [
    {
     "data": {
      "text/plain": [
       "dict"
      ]
     },
     "execution_count": 41,
     "metadata": {},
     "output_type": "execute_result"
    }
   ],
   "source": [
    "type(dict2)"
   ]
  },
  {
   "cell_type": "code",
   "execution_count": 42,
   "id": "cb895a43",
   "metadata": {},
   "outputs": [
    {
     "data": {
      "text/plain": [
       "'second'"
      ]
     },
     "execution_count": 42,
     "metadata": {},
     "output_type": "execute_result"
    }
   ],
   "source": [
    "dict2[2]"
   ]
  },
  {
   "cell_type": "code",
   "execution_count": 43,
   "id": "6dd5e476",
   "metadata": {},
   "outputs": [],
   "source": [
    "dict2['Third']=30"
   ]
  },
  {
   "cell_type": "code",
   "execution_count": 44,
   "id": "79e68e05",
   "metadata": {},
   "outputs": [
    {
     "data": {
      "text/plain": [
       "{'Name': 'Python', 2: 'second', 'Third': 30, 'summer': 'mangoes'}"
      ]
     },
     "execution_count": 44,
     "metadata": {},
     "output_type": "execute_result"
    }
   ],
   "source": [
    "dict2"
   ]
  },
  {
   "cell_type": "code",
   "execution_count": 45,
   "id": "f600a4df",
   "metadata": {},
   "outputs": [],
   "source": [
    "del dict2['summer']"
   ]
  },
  {
   "cell_type": "code",
   "execution_count": 46,
   "id": "3e5307b3",
   "metadata": {},
   "outputs": [
    {
     "data": {
      "text/plain": [
       "{'Name': 'Python', 2: 'second', 'Third': 30}"
      ]
     },
     "execution_count": 46,
     "metadata": {},
     "output_type": "execute_result"
    }
   ],
   "source": [
    "dict2"
   ]
  },
  {
   "cell_type": "code",
   "execution_count": 47,
   "id": "d1fbe8e0",
   "metadata": {},
   "outputs": [],
   "source": [
    "#Q) Find the smallest element in list1 which contains the values 22,12,78,15"
   ]
  },
  {
   "cell_type": "code",
   "execution_count": 57,
   "id": "56d26547",
   "metadata": {},
   "outputs": [
    {
     "name": "stdout",
     "output_type": "stream",
     "text": [
      "The smallest number post the sort: 12\n"
     ]
    }
   ],
   "source": [
    "list_new=[22,12,78,15]\n",
    "list_new.sort()\n",
    "\n",
    "print('The smallest number post the sort:',list_new[0])"
   ]
  },
  {
   "cell_type": "code",
   "execution_count": 48,
   "id": "82eb753f",
   "metadata": {},
   "outputs": [],
   "source": [
    "#Q) Find all the positive numbers in the above list"
   ]
  },
  {
   "cell_type": "code",
   "execution_count": 60,
   "id": "0bd2b1c6",
   "metadata": {},
   "outputs": [
    {
     "name": "stdout",
     "output_type": "stream",
     "text": [
      "12\n",
      "15\n",
      "22\n",
      "78\n"
     ]
    }
   ],
   "source": [
    "for x in list_new:\n",
    "    if x>0:\n",
    "        print(x)"
   ]
  },
  {
   "cell_type": "code",
   "execution_count": 61,
   "id": "053ce75f",
   "metadata": {},
   "outputs": [],
   "source": [
    "# Q) get unique items from the below sets:\n",
    "set1={10,20,30,40,50}\n",
    "set2={30,40,50,60,70}"
   ]
  },
  {
   "cell_type": "code",
   "execution_count": 63,
   "id": "500582a0",
   "metadata": {},
   "outputs": [
    {
     "data": {
      "text/plain": [
       "{10, 20, 30, 40, 50, 60, 70}"
      ]
     },
     "execution_count": 63,
     "metadata": {},
     "output_type": "execute_result"
    }
   ],
   "source": [
    "set1.union(set2)"
   ]
  },
  {
   "cell_type": "code",
   "execution_count": 64,
   "id": "fc0b5149",
   "metadata": {},
   "outputs": [],
   "source": [
    "#Q) get the key of the min value from the below dictionary:\n",
    "test_dict={'Maths':77,'English':88,'Economics':92}"
   ]
  },
  {
   "cell_type": "code",
   "execution_count": 66,
   "id": "2e4f8441",
   "metadata": {},
   "outputs": [
    {
     "name": "stdout",
     "output_type": "stream",
     "text": [
      "Maths\n"
     ]
    }
   ],
   "source": [
    "print(min(test_dict,key=test_dict.get))"
   ]
  },
  {
   "cell_type": "code",
   "execution_count": null,
   "id": "6980f127",
   "metadata": {},
   "outputs": [],
   "source": [
    "list1 = [22, 12, 78, 15]\n",
    "list1.sort()\n",
    "print(\"Smallest element is:\", list1[0])"
   ]
  },
  {
   "cell_type": "code",
   "execution_count": null,
   "id": "ce2637a4",
   "metadata": {},
   "outputs": [],
   "source": [
    "list1 = [-1, 65, 49, 13, -27]\n",
    "smallest_number = min(list1)\n",
    "print(\"The smallest number in the given list is\", smallest_number)\n"
   ]
  },
  {
   "cell_type": "code",
   "execution_count": null,
   "id": "0776f66b",
   "metadata": {},
   "outputs": [],
   "source": []
  },
  {
   "cell_type": "code",
   "execution_count": null,
   "id": "d44e3160",
   "metadata": {},
   "outputs": [],
   "source": [
    "test_dict={'maths':77, 'english':88, 'economics':92}\n",
    "print(min(test_dict))"
   ]
  },
  {
   "cell_type": "code",
   "execution_count": null,
   "id": "ff73a408",
   "metadata": {},
   "outputs": [],
   "source": [
    "#for finding all the positive values                                        \n",
    "  list1= [22, 12, 78,15]                                                                        \n",
    "   for num in list1:\n",
    "    if num >= 0:\n",
    "        print(num, end=\" \")"
   ]
  },
  {
   "cell_type": "code",
   "execution_count": null,
   "id": "5852a797",
   "metadata": {},
   "outputs": [],
   "source": [
    "test_dict={'Maths':77,'English':88,'Economics':92}\n",
    "min(test_dict, key=test_dict.get)"
   ]
  },
  {
   "cell_type": "markdown",
   "id": "f391562d",
   "metadata": {},
   "source": [
    "##### Measures of Central Tendency-:\n",
    "* Mean\n",
    "* Median\n",
    "* Mode"
   ]
  },
  {
   "cell_type": "code",
   "execution_count": 4,
   "id": "22a9f723",
   "metadata": {},
   "outputs": [],
   "source": [
    "import statistics as st"
   ]
  },
  {
   "cell_type": "code",
   "execution_count": 14,
   "id": "2ae1ac5e",
   "metadata": {},
   "outputs": [],
   "source": [
    "weight=[32,24,35,46,13,45,67,48,30,56,36,150]"
   ]
  },
  {
   "cell_type": "code",
   "execution_count": 15,
   "id": "376526b0",
   "metadata": {},
   "outputs": [
    {
     "data": {
      "text/plain": [
       "48.5"
      ]
     },
     "execution_count": 15,
     "metadata": {},
     "output_type": "execute_result"
    }
   ],
   "source": [
    "st.mean(weight)"
   ]
  },
  {
   "cell_type": "code",
   "execution_count": 16,
   "id": "af736a79",
   "metadata": {},
   "outputs": [
    {
     "data": {
      "text/plain": [
       "40.5"
      ]
     },
     "execution_count": 16,
     "metadata": {},
     "output_type": "execute_result"
    }
   ],
   "source": [
    "st.median(weight)"
   ]
  },
  {
   "cell_type": "code",
   "execution_count": 17,
   "id": "c84e3561",
   "metadata": {},
   "outputs": [
    {
     "data": {
      "text/plain": [
       "32"
      ]
     },
     "execution_count": 17,
     "metadata": {},
     "output_type": "execute_result"
    }
   ],
   "source": [
    "st.mode(weight)"
   ]
  },
  {
   "cell_type": "code",
   "execution_count": 18,
   "id": "43f2eb2c",
   "metadata": {},
   "outputs": [],
   "source": [
    "from matplotlib import pyplot as plt\n",
    "import seaborn as sns"
   ]
  },
  {
   "cell_type": "code",
   "execution_count": 19,
   "id": "a22a1d21",
   "metadata": {},
   "outputs": [
    {
     "data": {
      "image/png": "[encoded data removed]",
      "text/plain": [
       "<Figure size 640x480 with 1 Axes>"
      ]
     },
     "metadata": {},
     "output_type": "display_data"
    }
   ],
   "source": [
    "###boxplots are used to detect outliers:\n",
    "sns.boxplot(weight)\n",
    "plt.show()"
   ]
  },
  {
   "cell_type": "code",
   "execution_count": 20,
   "id": "3f5e7cca",
   "metadata": {},
   "outputs": [],
   "source": [
    "#5 number summary-:\n",
    "import numpy as np\n",
    "q1,q3=np.percentile(weight,[25,75])"
   ]
  },
  {
   "cell_type": "code",
   "execution_count": 21,
   "id": "6eef44ac",
   "metadata": {},
   "outputs": [
    {
     "name": "stdout",
     "output_type": "stream",
     "text": [
      "31.5 50.0\n"
     ]
    }
   ],
   "source": [
    "print(q1,q3)"
   ]
  },
  {
   "cell_type": "code",
   "execution_count": 22,
   "id": "34fea2a0",
   "metadata": {},
   "outputs": [
    {
     "name": "stdout",
     "output_type": "stream",
     "text": [
      "3.75 77.75\n"
     ]
    }
   ],
   "source": [
    "#to check the range of the extreme value(outlier)\n",
    "IQR=q3-q1\n",
    "lower_fence=q1-1.5*(IQR)\n",
    "upper_fence=q3+1.5*(IQR)\n",
    "print(lower_fence,upper_fence)"
   ]
  },
  {
   "cell_type": "code",
   "execution_count": 23,
   "id": "1ba74962",
   "metadata": {},
   "outputs": [],
   "source": [
    "#any value lower than 3.75 is my negetive outlier\n",
    "# any value which is greater thsan 77.75 is my positive outlier"
   ]
  },
  {
   "cell_type": "code",
   "execution_count": 2,
   "id": "31c9ddf7",
   "metadata": {
    "execution": {
     "iopub.execute_input": "2024-07-17T17:19:19.302547Z",
     "iopub.status.busy": "2024-07-17T17:19:19.302547Z",
     "iopub.status.idle": "2024-07-17T17:19:19.400080Z",
     "shell.execute_reply": "2024-07-17T17:19:19.397535Z",
     "shell.execute_reply.started": "2024-07-17T17:19:19.302547Z"
    }
   },
   "outputs": [
    {
     "data": {
      "text/html": [
       "<div>\n",
       "<style scoped>\n",
       "    .dataframe tbody tr th:only-of-type {\n",
       "        vertical-align: middle;\n",
       "    }\n",
       "\n",
       "    .dataframe tbody tr th {\n",
       "        vertical-align: top;\n",
       "    }\n",
       "\n",
       "    .dataframe thead th {\n",
       "        text-align: right;\n",
       "    }\n",
       "</style>\n",
       "<table border=\"1\" class=\"dataframe\">\n",
       "  <thead>\n",
       "    <tr style=\"text-align: right;\">\n",
       "      <th></th>\n",
       "      <th>sepal_length</th>\n",
       "      <th>sepal_width</th>\n",
       "      <th>petal_length</th>\n",
       "      <th>petal_width</th>\n",
       "      <th>species</th>\n",
       "    </tr>\n",
       "  </thead>\n",
       "  <tbody>\n",
       "    <tr>\n",
       "      <th>0</th>\n",
       "      <td>5.1</td>\n",
       "      <td>3.5</td>\n",
       "      <td>1.4</td>\n",
       "      <td>0.2</td>\n",
       "      <td>setosa</td>\n",
       "    </tr>\n",
       "    <tr>\n",
       "      <th>1</th>\n",
       "      <td>4.9</td>\n",
       "      <td>3.0</td>\n",
       "      <td>1.4</td>\n",
       "      <td>0.2</td>\n",
       "      <td>setosa</td>\n",
       "    </tr>\n",
       "    <tr>\n",
       "      <th>2</th>\n",
       "      <td>4.7</td>\n",
       "      <td>3.2</td>\n",
       "      <td>1.3</td>\n",
       "      <td>0.2</td>\n",
       "      <td>setosa</td>\n",
       "    </tr>\n",
       "    <tr>\n",
       "      <th>3</th>\n",
       "      <td>4.6</td>\n",
       "      <td>3.1</td>\n",
       "      <td>1.5</td>\n",
       "      <td>0.2</td>\n",
       "      <td>setosa</td>\n",
       "    </tr>\n",
       "    <tr>\n",
       "      <th>4</th>\n",
       "      <td>5.0</td>\n",
       "      <td>3.6</td>\n",
       "      <td>1.4</td>\n",
       "      <td>0.2</td>\n",
       "      <td>setosa</td>\n",
       "    </tr>\n",
       "    <tr>\n",
       "      <th>...</th>\n",
       "      <td>...</td>\n",
       "      <td>...</td>\n",
       "      <td>...</td>\n",
       "      <td>...</td>\n",
       "      <td>...</td>\n",
       "    </tr>\n",
       "    <tr>\n",
       "      <th>145</th>\n",
       "      <td>6.7</td>\n",
       "      <td>3.0</td>\n",
       "      <td>5.2</td>\n",
       "      <td>2.3</td>\n",
       "      <td>virginica</td>\n",
       "    </tr>\n",
       "    <tr>\n",
       "      <th>146</th>\n",
       "      <td>6.3</td>\n",
       "      <td>2.5</td>\n",
       "      <td>5.0</td>\n",
       "      <td>1.9</td>\n",
       "      <td>virginica</td>\n",
       "    </tr>\n",
       "    <tr>\n",
       "      <th>147</th>\n",
       "      <td>6.5</td>\n",
       "      <td>3.0</td>\n",
       "      <td>5.2</td>\n",
       "      <td>2.0</td>\n",
       "      <td>virginica</td>\n",
       "    </tr>\n",
       "    <tr>\n",
       "      <th>148</th>\n",
       "      <td>6.2</td>\n",
       "      <td>3.4</td>\n",
       "      <td>5.4</td>\n",
       "      <td>2.3</td>\n",
       "      <td>virginica</td>\n",
       "    </tr>\n",
       "    <tr>\n",
       "      <th>149</th>\n",
       "      <td>5.9</td>\n",
       "      <td>3.0</td>\n",
       "      <td>5.1</td>\n",
       "      <td>1.8</td>\n",
       "      <td>virginica</td>\n",
       "    </tr>\n",
       "  </tbody>\n",
       "</table>\n",
       "<p>150 rows × 5 columns</p>\n",
       "</div>"
      ],
      "text/plain": [
       "     sepal_length  sepal_width  petal_length  petal_width    species\n",
       "0             5.1          3.5           1.4          0.2     setosa\n",
       "1             4.9          3.0           1.4          0.2     setosa\n",
       "2             4.7          3.2           1.3          0.2     setosa\n",
       "3             4.6          3.1           1.5          0.2     setosa\n",
       "4             5.0          3.6           1.4          0.2     setosa\n",
       "..            ...          ...           ...          ...        ...\n",
       "145           6.7          3.0           5.2          2.3  virginica\n",
       "146           6.3          2.5           5.0          1.9  virginica\n",
       "147           6.5          3.0           5.2          2.0  virginica\n",
       "148           6.2          3.4           5.4          2.3  virginica\n",
       "149           5.9          3.0           5.1          1.8  virginica\n",
       "\n",
       "[150 rows x 5 columns]"
      ]
     },
     "execution_count": 2,
     "metadata": {},
     "output_type": "execute_result"
    }
   ],
   "source": [
    "import pandas as pd\n",
    "data=pd.read_csv('Iris.csv')\n",
    "data"
   ]
  },
  {
   "cell_type": "code",
   "execution_count": 25,
   "id": "413517b2",
   "metadata": {},
   "outputs": [
    {
     "data": {
      "text/html": [
       "<div>\n",
       "<style scoped>\n",
       "    .dataframe tbody tr th:only-of-type {\n",
       "        vertical-align: middle;\n",
       "    }\n",
       "\n",
       "    .dataframe tbody tr th {\n",
       "        vertical-align: top;\n",
       "    }\n",
       "\n",
       "    .dataframe thead th {\n",
       "        text-align: right;\n",
       "    }\n",
       "</style>\n",
       "<table border=\"1\" class=\"dataframe\">\n",
       "  <thead>\n",
       "    <tr style=\"text-align: right;\">\n",
       "      <th></th>\n",
       "      <th>sepal_length</th>\n",
       "      <th>sepal_width</th>\n",
       "      <th>petal_length</th>\n",
       "      <th>petal_width</th>\n",
       "    </tr>\n",
       "  </thead>\n",
       "  <tbody>\n",
       "    <tr>\n",
       "      <th>count</th>\n",
       "      <td>150.000000</td>\n",
       "      <td>150.000000</td>\n",
       "      <td>150.000000</td>\n",
       "      <td>150.000000</td>\n",
       "    </tr>\n",
       "    <tr>\n",
       "      <th>mean</th>\n",
       "      <td>5.843333</td>\n",
       "      <td>3.054000</td>\n",
       "      <td>3.758667</td>\n",
       "      <td>1.198667</td>\n",
       "    </tr>\n",
       "    <tr>\n",
       "      <th>std</th>\n",
       "      <td>0.828066</td>\n",
       "      <td>0.433594</td>\n",
       "      <td>1.764420</td>\n",
       "      <td>0.763161</td>\n",
       "    </tr>\n",
       "    <tr>\n",
       "      <th>min</th>\n",
       "      <td>4.300000</td>\n",
       "      <td>2.000000</td>\n",
       "      <td>1.000000</td>\n",
       "      <td>0.100000</td>\n",
       "    </tr>\n",
       "    <tr>\n",
       "      <th>25%</th>\n",
       "      <td>5.100000</td>\n",
       "      <td>2.800000</td>\n",
       "      <td>1.600000</td>\n",
       "      <td>0.300000</td>\n",
       "    </tr>\n",
       "    <tr>\n",
       "      <th>50%</th>\n",
       "      <td>5.800000</td>\n",
       "      <td>3.000000</td>\n",
       "      <td>4.350000</td>\n",
       "      <td>1.300000</td>\n",
       "    </tr>\n",
       "    <tr>\n",
       "      <th>75%</th>\n",
       "      <td>6.400000</td>\n",
       "      <td>3.300000</td>\n",
       "      <td>5.100000</td>\n",
       "      <td>1.800000</td>\n",
       "    </tr>\n",
       "    <tr>\n",
       "      <th>max</th>\n",
       "      <td>7.900000</td>\n",
       "      <td>4.400000</td>\n",
       "      <td>6.900000</td>\n",
       "      <td>2.500000</td>\n",
       "    </tr>\n",
       "  </tbody>\n",
       "</table>\n",
       "</div>"
      ],
      "text/plain": [
       "       sepal_length  sepal_width  petal_length  petal_width\n",
       "count    150.000000   150.000000    150.000000   150.000000\n",
       "mean       5.843333     3.054000      3.758667     1.198667\n",
       "std        0.828066     0.433594      1.764420     0.763161\n",
       "min        4.300000     2.000000      1.000000     0.100000\n",
       "25%        5.100000     2.800000      1.600000     0.300000\n",
       "50%        5.800000     3.000000      4.350000     1.300000\n",
       "75%        6.400000     3.300000      5.100000     1.800000\n",
       "max        7.900000     4.400000      6.900000     2.500000"
      ]
     },
     "execution_count": 25,
     "metadata": {},
     "output_type": "execute_result"
    }
   ],
   "source": [
    "data.describe()"
   ]
  },
  {
   "cell_type": "code",
   "execution_count": 26,
   "id": "9cee8f20",
   "metadata": {},
   "outputs": [
    {
     "data": {
      "text/plain": [
       "1230.2727272727273"
      ]
     },
     "execution_count": 26,
     "metadata": {},
     "output_type": "execute_result"
    }
   ],
   "source": [
    "st.variance(weight)"
   ]
  },
  {
   "cell_type": "code",
   "execution_count": 28,
   "id": "b7dd80b4",
   "metadata": {},
   "outputs": [
    {
     "data": {
      "image/png": "[encoded data removed]",
      "text/plain": [
       "<Figure size 640x480 with 1 Axes>"
      ]
     },
     "metadata": {},
     "output_type": "display_data"
    }
   ],
   "source": [
    "sns.histplot(weight,kde=True)\n",
    "plt.show()"
   ]
  },
  {
   "cell_type": "code",
   "execution_count": 29,
   "id": "d9638ef6",
   "metadata": {},
   "outputs": [
    {
     "data": {
      "text/plain": [
       "setosa        50\n",
       "versicolor    50\n",
       "virginica     50\n",
       "Name: species, dtype: int64"
      ]
     },
     "execution_count": 29,
     "metadata": {},
     "output_type": "execute_result"
    }
   ],
   "source": [
    "data.species.value_counts()"
   ]
  },
  {
   "cell_type": "code",
   "execution_count": 30,
   "id": "56156b6f",
   "metadata": {},
   "outputs": [
    {
     "data": {
      "image/png": "[encoded data removed]",
      "text/plain": [
       "<Figure size 640x480 with 1 Axes>"
      ]
     },
     "metadata": {},
     "output_type": "display_data"
    }
   ],
   "source": [
    "sns.boxplot(data['sepal_width'])\n",
    "plt.show()"
   ]
  },
  {
   "cell_type": "code",
   "execution_count": null,
   "id": "d402c925",
   "metadata": {},
   "outputs": [],
   "source": []
  }
 ],
 "metadata": {
  "kernelspec": {
   "display_name": "Python 3 (ipykernel)",
   "language": "python",
   "name": "python3"
  },
  "language_info": {
   "codemirror_mode": {
    "name": "ipython",
    "version": 3
   },
   "file_extension": ".py",
   "mimetype": "text/x-python",
   "name": "python",
   "nbconvert_exporter": "python",
   "pygments_lexer": "ipython3",
   "version": "3.11.5"
  }
 },
 "nbformat": 4,
 "nbformat_minor": 5
}
